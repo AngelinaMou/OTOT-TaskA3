{
 "cells": [
  {
   "cell_type": "code",
   "execution_count": 14,
   "metadata": {},
   "outputs": [],
   "source": [
    "import pandas as pd\n",
    "import numpy as np\n",
    "import scipy.stats as st\n",
    "import matplotlib.pyplot as plt\n",
    "import seaborn as sns\n",
    "import glob\n",
    "import os"
   ]
  },
  {
   "cell_type": "code",
   "execution_count": 15,
   "metadata": {},
   "outputs": [
    {
     "name": "stdout",
     "output_type": "stream",
     "text": [
      "/Users/angelinamou/Desktop/data-vis-OTOT/TaskA3-2的副本\n",
      "<class 'pathlib.PosixPath'>\n"
     ]
    }
   ],
   "source": [
    "import pathlib\n",
    "path=pathlib.Path().resolve()\n",
    "print(path)\n",
    "print(type(path))"
   ]
  },
  {
   "cell_type": "code",
   "execution_count": 16,
   "metadata": {},
   "outputs": [
    {
     "data": {
      "text/html": [
       "<div>\n",
       "<style scoped>\n",
       "    .dataframe tbody tr th:only-of-type {\n",
       "        vertical-align: middle;\n",
       "    }\n",
       "\n",
       "    .dataframe tbody tr th {\n",
       "        vertical-align: top;\n",
       "    }\n",
       "\n",
       "    .dataframe thead th {\n",
       "        text-align: right;\n",
       "    }\n",
       "</style>\n",
       "<table border=\"1\" class=\"dataframe\">\n",
       "  <thead>\n",
       "    <tr style=\"text-align: right;\">\n",
       "      <th></th>\n",
       "      <th>Continent ID</th>\n",
       "      <th>Continent</th>\n",
       "      <th>Country ID</th>\n",
       "      <th>Country</th>\n",
       "      <th>ISO 3</th>\n",
       "      <th>Year</th>\n",
       "      <th>Trade Value</th>\n",
       "      <th>Trade Value Growth</th>\n",
       "      <th>Trade Value Growth Value</th>\n",
       "      <th>Trade Value Current</th>\n",
       "      <th>Trade Value Previous</th>\n",
       "      <th>currYearShare</th>\n",
       "      <th>prevYearShare</th>\n",
       "      <th>shareDelta</th>\n",
       "    </tr>\n",
       "  </thead>\n",
       "  <tbody>\n",
       "    <tr>\n",
       "      <th>0</th>\n",
       "      <td>af</td>\n",
       "      <td>Africa</td>\n",
       "      <td>afago</td>\n",
       "      <td>Angola</td>\n",
       "      <td>ago</td>\n",
       "      <td>2013</td>\n",
       "      <td>1.523403e+09</td>\n",
       "      <td>-68.274012</td>\n",
       "      <td>-1.040088e+09</td>\n",
       "      <td>483314603.0</td>\n",
       "      <td>1.523403e+09</td>\n",
       "      <td>0.000297</td>\n",
       "      <td>0.001037</td>\n",
       "      <td>-0.000740</td>\n",
       "    </tr>\n",
       "    <tr>\n",
       "      <th>1</th>\n",
       "      <td>af</td>\n",
       "      <td>Africa</td>\n",
       "      <td>afbdi</td>\n",
       "      <td>Burundi</td>\n",
       "      <td>bdi</td>\n",
       "      <td>2013</td>\n",
       "      <td>2.909509e+07</td>\n",
       "      <td>-61.737648</td>\n",
       "      <td>-1.796262e+07</td>\n",
       "      <td>11132466.0</td>\n",
       "      <td>2.909509e+07</td>\n",
       "      <td>0.000007</td>\n",
       "      <td>0.000020</td>\n",
       "      <td>-0.000013</td>\n",
       "    </tr>\n",
       "    <tr>\n",
       "      <th>2</th>\n",
       "      <td>af</td>\n",
       "      <td>Africa</td>\n",
       "      <td>afben</td>\n",
       "      <td>Benin</td>\n",
       "      <td>ben</td>\n",
       "      <td>2013</td>\n",
       "      <td>6.673417e+08</td>\n",
       "      <td>-52.538773</td>\n",
       "      <td>-3.506131e+08</td>\n",
       "      <td>316728533.0</td>\n",
       "      <td>6.673417e+08</td>\n",
       "      <td>0.000195</td>\n",
       "      <td>0.000454</td>\n",
       "      <td>-0.000260</td>\n",
       "    </tr>\n",
       "    <tr>\n",
       "      <th>3</th>\n",
       "      <td>af</td>\n",
       "      <td>Africa</td>\n",
       "      <td>afbfa</td>\n",
       "      <td>Burkina Faso</td>\n",
       "      <td>bfa</td>\n",
       "      <td>2013</td>\n",
       "      <td>1.836897e+08</td>\n",
       "      <td>41.558219</td>\n",
       "      <td>7.633815e+07</td>\n",
       "      <td>260027822.0</td>\n",
       "      <td>1.836897e+08</td>\n",
       "      <td>0.000160</td>\n",
       "      <td>0.000125</td>\n",
       "      <td>0.000035</td>\n",
       "    </tr>\n",
       "    <tr>\n",
       "      <th>4</th>\n",
       "      <td>af</td>\n",
       "      <td>Africa</td>\n",
       "      <td>afbwa</td>\n",
       "      <td>Botswana</td>\n",
       "      <td>bwa</td>\n",
       "      <td>2013</td>\n",
       "      <td>1.541968e+08</td>\n",
       "      <td>-69.271845</td>\n",
       "      <td>-1.068150e+08</td>\n",
       "      <td>47381826.0</td>\n",
       "      <td>1.541968e+08</td>\n",
       "      <td>0.000029</td>\n",
       "      <td>0.000105</td>\n",
       "      <td>-0.000076</td>\n",
       "    </tr>\n",
       "  </tbody>\n",
       "</table>\n",
       "</div>"
      ],
      "text/plain": [
       "  Continent ID Continent Country ID       Country ISO 3  Year   Trade Value  \\\n",
       "0           af    Africa      afago        Angola   ago  2013  1.523403e+09   \n",
       "1           af    Africa      afbdi       Burundi   bdi  2013  2.909509e+07   \n",
       "2           af    Africa      afben         Benin   ben  2013  6.673417e+08   \n",
       "3           af    Africa      afbfa  Burkina Faso   bfa  2013  1.836897e+08   \n",
       "4           af    Africa      afbwa      Botswana   bwa  2013  1.541968e+08   \n",
       "\n",
       "   Trade Value Growth  Trade Value Growth Value  Trade Value Current  \\\n",
       "0          -68.274012             -1.040088e+09          483314603.0   \n",
       "1          -61.737648             -1.796262e+07           11132466.0   \n",
       "2          -52.538773             -3.506131e+08          316728533.0   \n",
       "3           41.558219              7.633815e+07          260027822.0   \n",
       "4          -69.271845             -1.068150e+08           47381826.0   \n",
       "\n",
       "   Trade Value Previous  currYearShare  prevYearShare  shareDelta  \n",
       "0          1.523403e+09       0.000297       0.001037   -0.000740  \n",
       "1          2.909509e+07       0.000007       0.000020   -0.000013  \n",
       "2          6.673417e+08       0.000195       0.000454   -0.000260  \n",
       "3          1.836897e+08       0.000160       0.000125    0.000035  \n",
       "4          1.541968e+08       0.000029       0.000105   -0.000076  "
      ]
     },
     "execution_count": 16,
     "metadata": {},
     "output_type": "execute_result"
    }
   ],
   "source": [
    "files = glob.glob('Total-Export-Growth-by-Market-*-Full.{}'.format('csv'))\n",
    "#concat files\n",
    "df_concat = pd.concat([pd.read_csv(f) for f in files ])\n",
    "df_concat.head()\n"
   ]
  },
  {
   "cell_type": "code",
   "execution_count": 17,
   "metadata": {},
   "outputs": [],
   "source": [
    "export_2020=pd.read_csv('Total-Export-Growth-by-Market-2020.csv')\n"
   ]
  },
  {
   "cell_type": "code",
   "execution_count": 18,
   "metadata": {},
   "outputs": [],
   "source": [
    "# \n",
    "\n",
    "# df = export_2020\n",
    "# df['ISO 3'] = df['ISO 3'].str.upper()\n",
    "\n",
    "# fig = px.choropleth(df, locations=\"ISO 3\",\n",
    "#                     color=\"Trade Value Growth\", # lifeExp is a column of gapminder\n",
    "#                     hover_name=\"Country\", # column to add to hover information\n",
    "#                     color_continuous_scale=px.colors.sequential.Plasma)\n",
    "# fig.show()"
   ]
  },
  {
   "cell_type": "code",
   "execution_count": 19,
   "metadata": {},
   "outputs": [
    {
     "data": {
      "application/vnd.plotly.v1+json": {
       "config": {
        "plotlyServerURL": "https://plot.ly"
       },
       "data": [
        {
         "coloraxis": "coloraxis",
         "customdata": [
          [
           348868000000,
           2011
          ],
          [
           25606857,
           2011
          ],
          [
           40958941168,
           2011
          ],
          [
           4205234237,
           2011
          ],
          [
           3349193405,
           2011
          ],
          [
           1487835142,
           2011
          ],
          [
           1036016405,
           2011
          ],
          [
           8842260969,
           2011
          ],
          [
           1881566,
           2011
          ],
          [
           214650950,
           2011
          ],
          [
           460872441,
           2011
          ],
          [
           835715206,
           2011
          ],
          [
           5220153329,
           2011
          ],
          [
           2234223348,
           2011
          ],
          [
           745695000,
           2011
          ],
          [
           26505363,
           2011
          ],
          [
           157788162,
           2011
          ],
          [
           3261245303,
           2011
          ],
          [
           354881934,
           2011
          ],
          [
           570135207,
           2011
          ],
          [
           510018055,
           2011
          ],
          [
           250223000000,
           2011
          ],
          [
           7007204348,
           2011
          ],
          [
           359756496,
           2011
          ],
          [
           860311747,
           2011
          ],
          [
           456153555,
           2011
          ],
          [
           71402535,
           2011
          ],
          [
           328167405,
           2011
          ],
          [
           3713767595,
           2011
          ],
          [
           24455789361,
           2011
          ],
          [
           289446308,
           2011
          ],
          [
           298205484,
           2011
          ],
          [
           371058351,
           2011
          ],
          [
           21246809472,
           2011
          ],
          [
           2110333740,
           2011
          ],
          [
           51362213318,
           2011
          ],
          [
           2291392297,
           2011
          ],
          [
           12837350373,
           2011
          ],
          [
           370069622,
           2011
          ],
          [
           2705737075,
           2011
          ],
          [
           30430933983,
           2011
          ],
          [
           46623750989,
           2011
          ],
          [
           2279401619,
           2011
          ],
          [
           1205997352,
           2011
          ],
          [
           522502106,
           2011
          ],
          [
           1766507472,
           2011
          ],
          [
           11526210217,
           2011
          ],
          [
           548976925,
           2011
          ],
          [
           16679865330,
           2011
          ],
          [
           979492354,
           2011
          ],
          [
           1391971763,
           2011
          ],
          [
           78954986,
           2011
          ],
          [
           62585661,
           2011
          ],
          [
           7317641415,
           2011
          ],
          [
           101011528,
           2011
          ],
          [
           3957144793,
           2011
          ],
          [
           35807077,
           2011
          ],
          [
           334845694,
           2011
          ],
          [
           162940276,
           2011
          ],
          [
           5624555,
           2011
          ],
          [
           22714516,
           2011
          ],
          [
           685884,
           2011
          ],
          [
           5760647,
           2011
          ],
          [
           323512,
           2011
          ],
          [
           36416392,
           2011
          ],
          [
           8556801984,
           2011
          ],
          [
           745595203,
           2011
          ],
          [
           36440601719,
           2011
          ],
          [
           15071714113,
           2011
          ],
          [
           14212061494,
           2011
          ],
          [
           6235286938,
           2011
          ],
          [
           3354388,
           2011
          ],
          [
           398572629,
           2011
          ],
          [
           7736503869,
           2011
          ],
          [
           1416680013,
           2011
          ],
          [
           527971452,
           2011
          ],
          [
           1191046548,
           2011
          ],
          [
           12209258358,
           2011
          ],
          [
           467747,
           2011
          ],
          [
           674542,
           2011
          ],
          [
           951633,
           2011
          ],
          [
           140050461,
           2011
          ],
          [
           17291729,
           2011
          ],
          [
           6280749748,
           2011
          ],
          [
           5827386710,
           2011
          ],
          [
           754278615,
           2011
          ],
          [
           2022471972,
           2011
          ],
          [
           140491764,
           2011
          ],
          [
           353207182,
           2011
          ],
          [
           376874392,
           2011
          ],
          [
           187083000000,
           2011
          ],
          [
           19235203,
           2011
          ],
          [
           1031023795,
           2011
          ],
          [
           14094410,
           2011
          ],
          [
           7640984299,
           2011
          ],
          [
           109213,
           2011
          ],
          [
           156000891,
           2011
          ],
          [
           2637159837,
           2011
          ],
          [
           118925028,
           2011
          ],
          [
           131757507,
           2011
          ],
          [
           25829931983,
           2011
          ],
          [
           4183368,
           2011
          ],
          [
           97012106,
           2011
          ],
          [
           70229256,
           2011
          ],
          [
           16659022,
           2011
          ],
          [
           130130475,
           2011
          ],
          [
           3414991858,
           2011
          ],
          [
           81408903,
           2011
          ],
          [
           455689027,
           2011
          ],
          [
           24952926066,
           2011
          ],
          [
           72351286,
           2011
          ],
          [
           87730845,
           2011
          ],
          [
           501732148,
           2011
          ],
          [
           268513671,
           2011
          ],
          [
           92991313,
           2011
          ],
          [
           111937313,
           2011
          ],
          [
           129273072,
           2011
          ],
          [
           90652632,
           2011
          ],
          [
           4932353650,
           2011
          ],
          [
           53213933,
           2011
          ],
          [
           139935761,
           2011
          ],
          [
           340491454,
           2011
          ],
          [
           1855374,
           2011
          ],
          [
           96146760,
           2011
          ],
          [
           5395572,
           2011
          ],
          [
           11441524,
           2011
          ],
          [
           29471448,
           2011
          ],
          [
           27392242,
           2011
          ],
          [
           33860817,
           2011
          ],
          [
           222849852,
           2011
          ],
          [
           737732637,
           2011
          ],
          [
           298835579,
           2011
          ],
          [
           134006466,
           2011
          ],
          [
           3439761370,
           2011
          ],
          [
           9742534,
           2011
          ],
          [
           301766649,
           2011
          ],
          [
           184751679,
           2011
          ],
          [
           807894328,
           2011
          ],
          [
           46060035,
           2011
          ],
          [
           623970108,
           2011
          ],
          [
           108983877,
           2011
          ],
          [
           151346437,
           2011
          ],
          [
           13339796,
           2011
          ],
          [
           157582920,
           2011
          ],
          [
           234525940,
           2011
          ],
          [
           158237709,
           2011
          ],
          [
           229561870,
           2011
          ],
          [
           1014781,
           2011
          ],
          [
           8208742399,
           2011
          ],
          [
           15749267,
           2011
          ],
          [
           1500253521,
           2011
          ],
          [
           6990769409,
           2011
          ],
          [
           3917411,
           2011
          ],
          [
           434475795,
           2011
          ],
          [
           199437849,
           2011
          ],
          [
           1337606823,
           2011
          ],
          [
           229973602,
           2011
          ],
          [
           30644554,
           2011
          ],
          [
           11238135,
           2011
          ],
          [
           278444702,
           2011
          ],
          [
           356617047,
           2011
          ],
          [
           121284484,
           2011
          ],
          [
           133552116,
           2011
          ],
          [
           1385694384,
           2011
          ],
          [
           4605269130,
           2011
          ],
          [
           32533078,
           2011
          ],
          [
           2060765165,
           2011
          ],
          [
           301037289,
           2011
          ],
          [
           232709517,
           2011
          ],
          [
           40449744,
           2011
          ],
          [
           185930838,
           2011
          ],
          [
           309407687,
           2011
          ],
          [
           12237976039,
           2011
          ],
          [
           61378768,
           2011
          ],
          [
           1993473226,
           2011
          ],
          [
           7144947656,
           2011
          ],
          [
           40067656,
           2011
          ],
          [
           1858485603,
           2011
          ],
          [
           13447306296,
           2011
          ],
          [
           29469043089,
           2011
          ],
          [
           228561100,
           2011
          ],
          [
           11392227475,
           2011
          ],
          [
           12595694,
           2011
          ],
          [
           59749382,
           2011
          ],
          [
           7966432,
           2011
          ],
          [
           14716853847,
           2011
          ],
          [
           66218299,
           2011
          ],
          [
           447360153,
           2011
          ],
          [
           2792603238,
           2011
          ],
          [
           41986311852,
           2011
          ],
          [
           1404350573,
           2011
          ],
          [
           155888325,
           2011
          ],
          [
           231837276,
           2011
          ],
          [
           2589133846,
           2011
          ],
          [
           12102392381,
           2011
          ],
          [
           120457174,
           2011
          ],
          [
           630207354,
           2011
          ],
          [
           1268732652,
           2011
          ],
          [
           865242639,
           2011
          ],
          [
           4100980,
           2011
          ],
          [
           897989,
           2011
          ],
          [
           100536000000,
           2011
          ],
          [
           1281723,
           2011
          ],
          [
           223676109,
           2011
          ],
          [
           242856408,
           2011
          ],
          [
           782755,
           2011
          ],
          [
           432412683,
           2011
          ],
          [
           65864878196,
           2011
          ],
          [
           1529490127,
           2011
          ],
          [
           11041932192,
           2011
          ],
          [
           2259897452,
           2011
          ],
          [
           1370129059,
           2011
          ],
          [
           1657392,
           2011
          ],
          [
           21402372813,
           2011
          ],
          [
           9124578783,
           2011
          ],
          [
           33672977421,
           2011
          ],
          [
           252776879,
           2011
          ]
         ],
         "geo": "geo",
         "hovertemplate": "<b>%{hovertext}</b><br><br>Year=%{customdata[1]}<br>ISO 3=%{location}<br>Trade Value=%{z}<extra></extra>",
         "hovertext": [
          "United States",
          "Montenegro",
          "Netherlands",
          "Norway",
          "Poland",
          "Portugal",
          "Romania",
          "Russia",
          "San Marino",
          "Serbia",
          "Slovakia",
          "Slovenia",
          "Sweden",
          "Ukraine",
          "Aruba",
          "Anguilla",
          "Antigua and Barbuda",
          "Bahamas",
          "Belize",
          "Bermuda",
          "Barbados",
          "Canada",
          "Costa Rica",
          "Cuba",
          "Malta",
          "Curaçao",
          "North Macedonia",
          "Latvia",
          "Austria",
          "Belgium",
          "Bulgaria",
          "Bosnia and Herzegovina",
          "Belarus",
          "Switzerland",
          "Czechia",
          "Germany",
          "Denmark",
          "Spain",
          "Estonia",
          "Finland",
          "France",
          "United Kingdom",
          "Gibraltar",
          "Greece",
          "Croatia",
          "Hungary",
          "Ireland",
          "Iceland",
          "Italy",
          "Lithuania",
          "Luxembourg",
          "Moldova",
          "Dominica",
          "Dominican Republic",
          "Grenada",
          "New Zealand",
          "Palau",
          "Papua New Guinea",
          "French Polynesia",
          "Solomon Islands",
          "Tonga",
          "Tuvalu",
          "Vanuatu",
          "Wallis and Futuna",
          "Samoa",
          "Argentina",
          "Bolivia",
          "Brazil",
          "Chile",
          "Colombia",
          "Ecuador",
          "Falkland Islands",
          "Guyana",
          "Peru",
          "Paraguay",
          "Suriname",
          "Uruguay",
          "Venezuela",
          "Nauru",
          "Niue",
          "Norfolk Island",
          "New Caledonia",
          "Greenland",
          "Guatemala",
          "Honduras",
          "Haiti",
          "Jamaica",
          "Saint Kitts and Nevis",
          "Saint Lucia",
          "Saint Martin",
          "Mexico",
          "Montserrat",
          "Nicaragua",
          "Andorra",
          "Panama",
          "Saint Pierre and Miquelon",
          "Turks and Caicos Islands",
          "Trinidad and Tobago",
          "Saint Vincent and the Grenadines",
          "British Virgin Islands",
          "Australia",
          "Cook Islands",
          "Fiji",
          "Micronesia",
          "Kiribati",
          "Marshall Islands",
          "El Salvador",
          "Albania",
          "Cayman Islands",
          "Chinese Taipei",
          "Madagascar",
          "Mali",
          "Mozambique",
          "Mauritania",
          "Mauritius",
          "Malawi",
          "Namibia",
          "Niger",
          "Nigeria",
          "Rwanda",
          "Sudan",
          "Senegal",
          "Saint Helena",
          "Sierra Leone",
          "Somalia",
          "Sao Tome and Principe",
          "Eswatini",
          "Seychelles",
          "Chad",
          "Togo",
          "Tunisia",
          "Tanzania",
          "Uganda",
          "Morocco",
          "Lesotho",
          "Libya",
          "Liberia",
          "Yemen",
          "Burundi",
          "Benin",
          "Burkina Faso",
          "Botswana",
          "Central African Republic",
          "Cote d'Ivoire",
          "Cameroon",
          "Democratic Republic of the Congo",
          "Republic of the Congo",
          "Comoros",
          "South Africa",
          "Cape Verde",
          "Algeria",
          "Egypt",
          "Eritrea",
          "Ethiopia",
          "Gabon",
          "Ghana",
          "Guinea",
          "Gambia",
          "Guinea-Bissau",
          "Equatorial Guinea",
          "Kenya",
          "Djibouti",
          "Zambia",
          "Angola",
          "Vietnam",
          "Laos",
          "Lebanon",
          "Sri Lanka",
          "Macau",
          "Maldives",
          "Burma",
          "Mongolia",
          "Malaysia",
          "Nepal",
          "Pakistan",
          "Philippines",
          "Palestine",
          "Qatar",
          "Saudi Arabia",
          "Singapore",
          "Syria",
          "Thailand",
          "Tajikistan",
          "Turkmenistan",
          "Timor-Leste",
          "Turkey",
          "Uzbekistan",
          "Zimbabwe",
          "Kuwait",
          "South Korea",
          "Oman",
          "Kyrgyzstan",
          "Cambodia",
          "Afghanistan",
          "United Arab Emirates",
          "Armenia",
          "Azerbaijan",
          "Bangladesh",
          "Bahrain",
          "Bhutan",
          "Cocos (Keeling) Islands",
          "China",
          "Christmas Island",
          "Cyprus",
          "Brunei",
          "French South Antarctic Territory",
          "Georgia",
          "Japan",
          "Jordan",
          "Israel",
          "Iraq",
          "Kazakhstan",
          "British Indian Ocean Territory",
          "India",
          "Indonesia",
          "Hong Kong",
          "Iran"
         ],
         "locations": [
          "USA",
          "MNE",
          "NLD",
          "NOR",
          "POL",
          "PRT",
          "ROU",
          "RUS",
          "SMR",
          "SRB",
          "SVK",
          "SVN",
          "SWE",
          "UKR",
          "ABW",
          "AIA",
          "ATG",
          "BHS",
          "BLZ",
          "BMU",
          "BRB",
          "CAN",
          "CRI",
          "CUB",
          "MLT",
          "CUW",
          "MKD",
          "LVA",
          "AUT",
          "BEL",
          "BGR",
          "BIH",
          "BLR",
          "CHE",
          "CZE",
          "DEU",
          "DNK",
          "ESP",
          "EST",
          "FIN",
          "FRA",
          "GBR",
          "GIB",
          "GRC",
          "HRV",
          "HUN",
          "IRL",
          "ISL",
          "ITA",
          "LTU",
          "LUX",
          "MDA",
          "DMA",
          "DOM",
          "GRD",
          "NZL",
          "PLW",
          "PNG",
          "PYF",
          "SLB",
          "TON",
          "TUV",
          "VUT",
          "WLF",
          "WSM",
          "ARG",
          "BOL",
          "BRA",
          "CHL",
          "COL",
          "ECU",
          "FLK",
          "GUY",
          "PER",
          "PRY",
          "SUR",
          "URY",
          "VEN",
          "NRU",
          "NIU",
          "NFK",
          "NCL",
          "GRL",
          "GTM",
          "HND",
          "HTI",
          "JAM",
          "KNA",
          "LCA",
          "MAF",
          "MEX",
          "MSR",
          "NIC",
          "AND",
          "PAN",
          "SPM",
          "TCA",
          "TTO",
          "VCT",
          "VGB",
          "AUS",
          "COK",
          "FJI",
          "FSM",
          "KIR",
          "MHL",
          "SLV",
          "ALB",
          "CYM",
          null,
          "MDG",
          "MLI",
          "MOZ",
          "MRT",
          "MUS",
          "MWI",
          "NAM",
          "NER",
          "NGA",
          "RWA",
          "SDN",
          "SEN",
          "SHN",
          "SLE",
          "SOM",
          "STP",
          "SWZ",
          "SYC",
          "TCD",
          "TGO",
          "TUN",
          "TZA",
          "UGA",
          "MAR",
          "LSO",
          "LBY",
          "LBR",
          "YEM",
          "BDI",
          "BEN",
          "BFA",
          "BWA",
          "CAF",
          "CIV",
          "CMR",
          "COD",
          "COG",
          "COM",
          "ZAF",
          "CPV",
          "DZA",
          "EGY",
          "ERI",
          "ETH",
          "GAB",
          "GHA",
          "GIN",
          "GMB",
          "GNB",
          "GNQ",
          "KEN",
          "DJI",
          "ZMB",
          "AGO",
          "VNM",
          "LAO",
          "LBN",
          "LKA",
          "MAC",
          "MDV",
          "MMR",
          "MNG",
          "MYS",
          "NPL",
          "PAK",
          "PHL",
          "PSE",
          "QAT",
          "SAU",
          "SGP",
          "SYR",
          "THA",
          "TJK",
          "TKM",
          "TLS",
          "TUR",
          "UZB",
          "ZWE",
          "KWT",
          "KOR",
          "OMN",
          "KGZ",
          "KHM",
          "AFG",
          "ARE",
          "ARM",
          "AZE",
          "BGD",
          "BHR",
          "BTN",
          "CCK",
          "CHN",
          "CXR",
          "CYP",
          "BRN",
          "ATF",
          "GEO",
          "JPN",
          "JOR",
          "ISR",
          "IRQ",
          "KAZ",
          "IOT",
          "IND",
          "IDN",
          "HKG",
          "IRN"
         ],
         "name": "",
         "type": "choropleth",
         "z": [
          348868000000,
          25606857,
          40958941168,
          4205234237,
          3349193405,
          1487835142,
          1036016405,
          8842260969,
          1881566,
          214650950,
          460872441,
          835715206,
          5220153329,
          2234223348,
          745695000,
          26505363,
          157788162,
          3261245303,
          354881934,
          570135207,
          510018055,
          250223000000,
          7007204348,
          359756496,
          860311747,
          456153555,
          71402535,
          328167405,
          3713767595,
          24455789361,
          289446308,
          298205484,
          371058351,
          21246809472,
          2110333740,
          51362213318,
          2291392297,
          12837350373,
          370069622,
          2705737075,
          30430933983,
          46623750989,
          2279401619,
          1205997352,
          522502106,
          1766507472,
          11526210217,
          548976925,
          16679865330,
          979492354,
          1391971763,
          78954986,
          62585661,
          7317641415,
          101011528,
          3957144793,
          35807077,
          334845694,
          162940276,
          5624555,
          22714516,
          685884,
          5760647,
          323512,
          36416392,
          8556801984,
          745595203,
          36440601719,
          15071714113,
          14212061494,
          6235286938,
          3354388,
          398572629,
          7736503869,
          1416680013,
          527971452,
          1191046548,
          12209258358,
          467747,
          674542,
          951633,
          140050461,
          17291729,
          6280749748,
          5827386710,
          754278615,
          2022471972,
          140491764,
          353207182,
          376874392,
          187083000000,
          19235203,
          1031023795,
          14094410,
          7640984299,
          109213,
          156000891,
          2637159837,
          118925028,
          131757507,
          25829931983,
          4183368,
          97012106,
          70229256,
          16659022,
          130130475,
          3414991858,
          81408903,
          455689027,
          24952926066,
          72351286,
          87730845,
          501732148,
          268513671,
          92991313,
          111937313,
          129273072,
          90652632,
          4932353650,
          53213933,
          139935761,
          340491454,
          1855374,
          96146760,
          5395572,
          11441524,
          29471448,
          27392242,
          33860817,
          222849852,
          737732637,
          298835579,
          134006466,
          3439761370,
          9742534,
          301766649,
          184751679,
          807894328,
          46060035,
          623970108,
          108983877,
          151346437,
          13339796,
          157582920,
          234525940,
          158237709,
          229561870,
          1014781,
          8208742399,
          15749267,
          1500253521,
          6990769409,
          3917411,
          434475795,
          199437849,
          1337606823,
          229973602,
          30644554,
          11238135,
          278444702,
          356617047,
          121284484,
          133552116,
          1385694384,
          4605269130,
          32533078,
          2060765165,
          301037289,
          232709517,
          40449744,
          185930838,
          309407687,
          12237976039,
          61378768,
          1993473226,
          7144947656,
          40067656,
          1858485603,
          13447306296,
          29469043089,
          228561100,
          11392227475,
          12595694,
          59749382,
          7966432,
          14716853847,
          66218299,
          447360153,
          2792603238,
          41986311852,
          1404350573,
          155888325,
          231837276,
          2589133846,
          12102392381,
          120457174,
          630207354,
          1268732652,
          865242639,
          4100980,
          897989,
          100536000000,
          1281723,
          223676109,
          242856408,
          782755,
          432412683,
          65864878196,
          1529490127,
          11041932192,
          2259897452,
          1370129059,
          1657392,
          21402372813,
          9124578783,
          33672977421,
          252776879
         ]
        }
       ],
       "frames": [
        {
         "data": [
          {
           "coloraxis": "coloraxis",
           "customdata": [
            [
             348868000000,
             2011
            ],
            [
             25606857,
             2011
            ],
            [
             40958941168,
             2011
            ],
            [
             4205234237,
             2011
            ],
            [
             3349193405,
             2011
            ],
            [
             1487835142,
             2011
            ],
            [
             1036016405,
             2011
            ],
            [
             8842260969,
             2011
            ],
            [
             1881566,
             2011
            ],
            [
             214650950,
             2011
            ],
            [
             460872441,
             2011
            ],
            [
             835715206,
             2011
            ],
            [
             5220153329,
             2011
            ],
            [
             2234223348,
             2011
            ],
            [
             745695000,
             2011
            ],
            [
             26505363,
             2011
            ],
            [
             157788162,
             2011
            ],
            [
             3261245303,
             2011
            ],
            [
             354881934,
             2011
            ],
            [
             570135207,
             2011
            ],
            [
             510018055,
             2011
            ],
            [
             250223000000,
             2011
            ],
            [
             7007204348,
             2011
            ],
            [
             359756496,
             2011
            ],
            [
             860311747,
             2011
            ],
            [
             456153555,
             2011
            ],
            [
             71402535,
             2011
            ],
            [
             328167405,
             2011
            ],
            [
             3713767595,
             2011
            ],
            [
             24455789361,
             2011
            ],
            [
             289446308,
             2011
            ],
            [
             298205484,
             2011
            ],
            [
             371058351,
             2011
            ],
            [
             21246809472,
             2011
            ],
            [
             2110333740,
             2011
            ],
            [
             51362213318,
             2011
            ],
            [
             2291392297,
             2011
            ],
            [
             12837350373,
             2011
            ],
            [
             370069622,
             2011
            ],
            [
             2705737075,
             2011
            ],
            [
             30430933983,
             2011
            ],
            [
             46623750989,
             2011
            ],
            [
             2279401619,
             2011
            ],
            [
             1205997352,
             2011
            ],
            [
             522502106,
             2011
            ],
            [
             1766507472,
             2011
            ],
            [
             11526210217,
             2011
            ],
            [
             548976925,
             2011
            ],
            [
             16679865330,
             2011
            ],
            [
             979492354,
             2011
            ],
            [
             1391971763,
             2011
            ],
            [
             78954986,
             2011
            ],
            [
             62585661,
             2011
            ],
            [
             7317641415,
             2011
            ],
            [
             101011528,
             2011
            ],
            [
             3957144793,
             2011
            ],
            [
             35807077,
             2011
            ],
            [
             334845694,
             2011
            ],
            [
             162940276,
             2011
            ],
            [
             5624555,
             2011
            ],
            [
             22714516,
             2011
            ],
            [
             685884,
             2011
            ],
            [
             5760647,
             2011
            ],
            [
             323512,
             2011
            ],
            [
             36416392,
             2011
            ],
            [
             8556801984,
             2011
            ],
            [
             745595203,
             2011
            ],
            [
             36440601719,
             2011
            ],
            [
             15071714113,
             2011
            ],
            [
             14212061494,
             2011
            ],
            [
             6235286938,
             2011
            ],
            [
             3354388,
             2011
            ],
            [
             398572629,
             2011
            ],
            [
             7736503869,
             2011
            ],
            [
             1416680013,
             2011
            ],
            [
             527971452,
             2011
            ],
            [
             1191046548,
             2011
            ],
            [
             12209258358,
             2011
            ],
            [
             467747,
             2011
            ],
            [
             674542,
             2011
            ],
            [
             951633,
             2011
            ],
            [
             140050461,
             2011
            ],
            [
             17291729,
             2011
            ],
            [
             6280749748,
             2011
            ],
            [
             5827386710,
             2011
            ],
            [
             754278615,
             2011
            ],
            [
             2022471972,
             2011
            ],
            [
             140491764,
             2011
            ],
            [
             353207182,
             2011
            ],
            [
             376874392,
             2011
            ],
            [
             187083000000,
             2011
            ],
            [
             19235203,
             2011
            ],
            [
             1031023795,
             2011
            ],
            [
             14094410,
             2011
            ],
            [
             7640984299,
             2011
            ],
            [
             109213,
             2011
            ],
            [
             156000891,
             2011
            ],
            [
             2637159837,
             2011
            ],
            [
             118925028,
             2011
            ],
            [
             131757507,
             2011
            ],
            [
             25829931983,
             2011
            ],
            [
             4183368,
             2011
            ],
            [
             97012106,
             2011
            ],
            [
             70229256,
             2011
            ],
            [
             16659022,
             2011
            ],
            [
             130130475,
             2011
            ],
            [
             3414991858,
             2011
            ],
            [
             81408903,
             2011
            ],
            [
             455689027,
             2011
            ],
            [
             24952926066,
             2011
            ],
            [
             72351286,
             2011
            ],
            [
             87730845,
             2011
            ],
            [
             501732148,
             2011
            ],
            [
             268513671,
             2011
            ],
            [
             92991313,
             2011
            ],
            [
             111937313,
             2011
            ],
            [
             129273072,
             2011
            ],
            [
             90652632,
             2011
            ],
            [
             4932353650,
             2011
            ],
            [
             53213933,
             2011
            ],
            [
             139935761,
             2011
            ],
            [
             340491454,
             2011
            ],
            [
             1855374,
             2011
            ],
            [
             96146760,
             2011
            ],
            [
             5395572,
             2011
            ],
            [
             11441524,
             2011
            ],
            [
             29471448,
             2011
            ],
            [
             27392242,
             2011
            ],
            [
             33860817,
             2011
            ],
            [
             222849852,
             2011
            ],
            [
             737732637,
             2011
            ],
            [
             298835579,
             2011
            ],
            [
             134006466,
             2011
            ],
            [
             3439761370,
             2011
            ],
            [
             9742534,
             2011
            ],
            [
             301766649,
             2011
            ],
            [
             184751679,
             2011
            ],
            [
             807894328,
             2011
            ],
            [
             46060035,
             2011
            ],
            [
             623970108,
             2011
            ],
            [
             108983877,
             2011
            ],
            [
             151346437,
             2011
            ],
            [
             13339796,
             2011
            ],
            [
             157582920,
             2011
            ],
            [
             234525940,
             2011
            ],
            [
             158237709,
             2011
            ],
            [
             229561870,
             2011
            ],
            [
             1014781,
             2011
            ],
            [
             8208742399,
             2011
            ],
            [
             15749267,
             2011
            ],
            [
             1500253521,
             2011
            ],
            [
             6990769409,
             2011
            ],
            [
             3917411,
             2011
            ],
            [
             434475795,
             2011
            ],
            [
             199437849,
             2011
            ],
            [
             1337606823,
             2011
            ],
            [
             229973602,
             2011
            ],
            [
             30644554,
             2011
            ],
            [
             11238135,
             2011
            ],
            [
             278444702,
             2011
            ],
            [
             356617047,
             2011
            ],
            [
             121284484,
             2011
            ],
            [
             133552116,
             2011
            ],
            [
             1385694384,
             2011
            ],
            [
             4605269130,
             2011
            ],
            [
             32533078,
             2011
            ],
            [
             2060765165,
             2011
            ],
            [
             301037289,
             2011
            ],
            [
             232709517,
             2011
            ],
            [
             40449744,
             2011
            ],
            [
             185930838,
             2011
            ],
            [
             309407687,
             2011
            ],
            [
             12237976039,
             2011
            ],
            [
             61378768,
             2011
            ],
            [
             1993473226,
             2011
            ],
            [
             7144947656,
             2011
            ],
            [
             40067656,
             2011
            ],
            [
             1858485603,
             2011
            ],
            [
             13447306296,
             2011
            ],
            [
             29469043089,
             2011
            ],
            [
             228561100,
             2011
            ],
            [
             11392227475,
             2011
            ],
            [
             12595694,
             2011
            ],
            [
             59749382,
             2011
            ],
            [
             7966432,
             2011
            ],
            [
             14716853847,
             2011
            ],
            [
             66218299,
             2011
            ],
            [
             447360153,
             2011
            ],
            [
             2792603238,
             2011
            ],
            [
             41986311852,
             2011
            ],
            [
             1404350573,
             2011
            ],
            [
             155888325,
             2011
            ],
            [
             231837276,
             2011
            ],
            [
             2589133846,
             2011
            ],
            [
             12102392381,
             2011
            ],
            [
             120457174,
             2011
            ],
            [
             630207354,
             2011
            ],
            [
             1268732652,
             2011
            ],
            [
             865242639,
             2011
            ],
            [
             4100980,
             2011
            ],
            [
             897989,
             2011
            ],
            [
             100536000000,
             2011
            ],
            [
             1281723,
             2011
            ],
            [
             223676109,
             2011
            ],
            [
             242856408,
             2011
            ],
            [
             782755,
             2011
            ],
            [
             432412683,
             2011
            ],
            [
             65864878196,
             2011
            ],
            [
             1529490127,
             2011
            ],
            [
             11041932192,
             2011
            ],
            [
             2259897452,
             2011
            ],
            [
             1370129059,
             2011
            ],
            [
             1657392,
             2011
            ],
            [
             21402372813,
             2011
            ],
            [
             9124578783,
             2011
            ],
            [
             33672977421,
             2011
            ],
            [
             252776879,
             2011
            ]
           ],
           "geo": "geo",
           "hovertemplate": "<b>%{hovertext}</b><br><br>Year=%{customdata[1]}<br>ISO 3=%{location}<br>Trade Value=%{z}<extra></extra>",
           "hovertext": [
            "United States",
            "Montenegro",
            "Netherlands",
            "Norway",
            "Poland",
            "Portugal",
            "Romania",
            "Russia",
            "San Marino",
            "Serbia",
            "Slovakia",
            "Slovenia",
            "Sweden",
            "Ukraine",
            "Aruba",
            "Anguilla",
            "Antigua and Barbuda",
            "Bahamas",
            "Belize",
            "Bermuda",
            "Barbados",
            "Canada",
            "Costa Rica",
            "Cuba",
            "Malta",
            "Curaçao",
            "North Macedonia",
            "Latvia",
            "Austria",
            "Belgium",
            "Bulgaria",
            "Bosnia and Herzegovina",
            "Belarus",
            "Switzerland",
            "Czechia",
            "Germany",
            "Denmark",
            "Spain",
            "Estonia",
            "Finland",
            "France",
            "United Kingdom",
            "Gibraltar",
            "Greece",
            "Croatia",
            "Hungary",
            "Ireland",
            "Iceland",
            "Italy",
            "Lithuania",
            "Luxembourg",
            "Moldova",
            "Dominica",
            "Dominican Republic",
            "Grenada",
            "New Zealand",
            "Palau",
            "Papua New Guinea",
            "French Polynesia",
            "Solomon Islands",
            "Tonga",
            "Tuvalu",
            "Vanuatu",
            "Wallis and Futuna",
            "Samoa",
            "Argentina",
            "Bolivia",
            "Brazil",
            "Chile",
            "Colombia",
            "Ecuador",
            "Falkland Islands",
            "Guyana",
            "Peru",
            "Paraguay",
            "Suriname",
            "Uruguay",
            "Venezuela",
            "Nauru",
            "Niue",
            "Norfolk Island",
            "New Caledonia",
            "Greenland",
            "Guatemala",
            "Honduras",
            "Haiti",
            "Jamaica",
            "Saint Kitts and Nevis",
            "Saint Lucia",
            "Saint Martin",
            "Mexico",
            "Montserrat",
            "Nicaragua",
            "Andorra",
            "Panama",
            "Saint Pierre and Miquelon",
            "Turks and Caicos Islands",
            "Trinidad and Tobago",
            "Saint Vincent and the Grenadines",
            "British Virgin Islands",
            "Australia",
            "Cook Islands",
            "Fiji",
            "Micronesia",
            "Kiribati",
            "Marshall Islands",
            "El Salvador",
            "Albania",
            "Cayman Islands",
            "Chinese Taipei",
            "Madagascar",
            "Mali",
            "Mozambique",
            "Mauritania",
            "Mauritius",
            "Malawi",
            "Namibia",
            "Niger",
            "Nigeria",
            "Rwanda",
            "Sudan",
            "Senegal",
            "Saint Helena",
            "Sierra Leone",
            "Somalia",
            "Sao Tome and Principe",
            "Eswatini",
            "Seychelles",
            "Chad",
            "Togo",
            "Tunisia",
            "Tanzania",
            "Uganda",
            "Morocco",
            "Lesotho",
            "Libya",
            "Liberia",
            "Yemen",
            "Burundi",
            "Benin",
            "Burkina Faso",
            "Botswana",
            "Central African Republic",
            "Cote d'Ivoire",
            "Cameroon",
            "Democratic Republic of the Congo",
            "Republic of the Congo",
            "Comoros",
            "South Africa",
            "Cape Verde",
            "Algeria",
            "Egypt",
            "Eritrea",
            "Ethiopia",
            "Gabon",
            "Ghana",
            "Guinea",
            "Gambia",
            "Guinea-Bissau",
            "Equatorial Guinea",
            "Kenya",
            "Djibouti",
            "Zambia",
            "Angola",
            "Vietnam",
            "Laos",
            "Lebanon",
            "Sri Lanka",
            "Macau",
            "Maldives",
            "Burma",
            "Mongolia",
            "Malaysia",
            "Nepal",
            "Pakistan",
            "Philippines",
            "Palestine",
            "Qatar",
            "Saudi Arabia",
            "Singapore",
            "Syria",
            "Thailand",
            "Tajikistan",
            "Turkmenistan",
            "Timor-Leste",
            "Turkey",
            "Uzbekistan",
            "Zimbabwe",
            "Kuwait",
            "South Korea",
            "Oman",
            "Kyrgyzstan",
            "Cambodia",
            "Afghanistan",
            "United Arab Emirates",
            "Armenia",
            "Azerbaijan",
            "Bangladesh",
            "Bahrain",
            "Bhutan",
            "Cocos (Keeling) Islands",
            "China",
            "Christmas Island",
            "Cyprus",
            "Brunei",
            "French South Antarctic Territory",
            "Georgia",
            "Japan",
            "Jordan",
            "Israel",
            "Iraq",
            "Kazakhstan",
            "British Indian Ocean Territory",
            "India",
            "Indonesia",
            "Hong Kong",
            "Iran"
           ],
           "locations": [
            "USA",
            "MNE",
            "NLD",
            "NOR",
            "POL",
            "PRT",
            "ROU",
            "RUS",
            "SMR",
            "SRB",
            "SVK",
            "SVN",
            "SWE",
            "UKR",
            "ABW",
            "AIA",
            "ATG",
            "BHS",
            "BLZ",
            "BMU",
            "BRB",
            "CAN",
            "CRI",
            "CUB",
            "MLT",
            "CUW",
            "MKD",
            "LVA",
            "AUT",
            "BEL",
            "BGR",
            "BIH",
            "BLR",
            "CHE",
            "CZE",
            "DEU",
            "DNK",
            "ESP",
            "EST",
            "FIN",
            "FRA",
            "GBR",
            "GIB",
            "GRC",
            "HRV",
            "HUN",
            "IRL",
            "ISL",
            "ITA",
            "LTU",
            "LUX",
            "MDA",
            "DMA",
            "DOM",
            "GRD",
            "NZL",
            "PLW",
            "PNG",
            "PYF",
            "SLB",
            "TON",
            "TUV",
            "VUT",
            "WLF",
            "WSM",
            "ARG",
            "BOL",
            "BRA",
            "CHL",
            "COL",
            "ECU",
            "FLK",
            "GUY",
            "PER",
            "PRY",
            "SUR",
            "URY",
            "VEN",
            "NRU",
            "NIU",
            "NFK",
            "NCL",
            "GRL",
            "GTM",
            "HND",
            "HTI",
            "JAM",
            "KNA",
            "LCA",
            "MAF",
            "MEX",
            "MSR",
            "NIC",
            "AND",
            "PAN",
            "SPM",
            "TCA",
            "TTO",
            "VCT",
            "VGB",
            "AUS",
            "COK",
            "FJI",
            "FSM",
            "KIR",
            "MHL",
            "SLV",
            "ALB",
            "CYM",
            null,
            "MDG",
            "MLI",
            "MOZ",
            "MRT",
            "MUS",
            "MWI",
            "NAM",
            "NER",
            "NGA",
            "RWA",
            "SDN",
            "SEN",
            "SHN",
            "SLE",
            "SOM",
            "STP",
            "SWZ",
            "SYC",
            "TCD",
            "TGO",
            "TUN",
            "TZA",
            "UGA",
            "MAR",
            "LSO",
            "LBY",
            "LBR",
            "YEM",
            "BDI",
            "BEN",
            "BFA",
            "BWA",
            "CAF",
            "CIV",
            "CMR",
            "COD",
            "COG",
            "COM",
            "ZAF",
            "CPV",
            "DZA",
            "EGY",
            "ERI",
            "ETH",
            "GAB",
            "GHA",
            "GIN",
            "GMB",
            "GNB",
            "GNQ",
            "KEN",
            "DJI",
            "ZMB",
            "AGO",
            "VNM",
            "LAO",
            "LBN",
            "LKA",
            "MAC",
            "MDV",
            "MMR",
            "MNG",
            "MYS",
            "NPL",
            "PAK",
            "PHL",
            "PSE",
            "QAT",
            "SAU",
            "SGP",
            "SYR",
            "THA",
            "TJK",
            "TKM",
            "TLS",
            "TUR",
            "UZB",
            "ZWE",
            "KWT",
            "KOR",
            "OMN",
            "KGZ",
            "KHM",
            "AFG",
            "ARE",
            "ARM",
            "AZE",
            "BGD",
            "BHR",
            "BTN",
            "CCK",
            "CHN",
            "CXR",
            "CYP",
            "BRN",
            "ATF",
            "GEO",
            "JPN",
            "JOR",
            "ISR",
            "IRQ",
            "KAZ",
            "IOT",
            "IND",
            "IDN",
            "HKG",
            "IRN"
           ],
           "name": "",
           "type": "choropleth",
           "z": [
            348868000000,
            25606857,
            40958941168,
            4205234237,
            3349193405,
            1487835142,
            1036016405,
            8842260969,
            1881566,
            214650950,
            460872441,
            835715206,
            5220153329,
            2234223348,
            745695000,
            26505363,
            157788162,
            3261245303,
            354881934,
            570135207,
            510018055,
            250223000000,
            7007204348,
            359756496,
            860311747,
            456153555,
            71402535,
            328167405,
            3713767595,
            24455789361,
            289446308,
            298205484,
            371058351,
            21246809472,
            2110333740,
            51362213318,
            2291392297,
            12837350373,
            370069622,
            2705737075,
            30430933983,
            46623750989,
            2279401619,
            1205997352,
            522502106,
            1766507472,
            11526210217,
            548976925,
            16679865330,
            979492354,
            1391971763,
            78954986,
            62585661,
            7317641415,
            101011528,
            3957144793,
            35807077,
            334845694,
            162940276,
            5624555,
            22714516,
            685884,
            5760647,
            323512,
            36416392,
            8556801984,
            745595203,
            36440601719,
            15071714113,
            14212061494,
            6235286938,
            3354388,
            398572629,
            7736503869,
            1416680013,
            527971452,
            1191046548,
            12209258358,
            467747,
            674542,
            951633,
            140050461,
            17291729,
            6280749748,
            5827386710,
            754278615,
            2022471972,
            140491764,
            353207182,
            376874392,
            187083000000,
            19235203,
            1031023795,
            14094410,
            7640984299,
            109213,
            156000891,
            2637159837,
            118925028,
            131757507,
            25829931983,
            4183368,
            97012106,
            70229256,
            16659022,
            130130475,
            3414991858,
            81408903,
            455689027,
            24952926066,
            72351286,
            87730845,
            501732148,
            268513671,
            92991313,
            111937313,
            129273072,
            90652632,
            4932353650,
            53213933,
            139935761,
            340491454,
            1855374,
            96146760,
            5395572,
            11441524,
            29471448,
            27392242,
            33860817,
            222849852,
            737732637,
            298835579,
            134006466,
            3439761370,
            9742534,
            301766649,
            184751679,
            807894328,
            46060035,
            623970108,
            108983877,
            151346437,
            13339796,
            157582920,
            234525940,
            158237709,
            229561870,
            1014781,
            8208742399,
            15749267,
            1500253521,
            6990769409,
            3917411,
            434475795,
            199437849,
            1337606823,
            229973602,
            30644554,
            11238135,
            278444702,
            356617047,
            121284484,
            133552116,
            1385694384,
            4605269130,
            32533078,
            2060765165,
            301037289,
            232709517,
            40449744,
            185930838,
            309407687,
            12237976039,
            61378768,
            1993473226,
            7144947656,
            40067656,
            1858485603,
            13447306296,
            29469043089,
            228561100,
            11392227475,
            12595694,
            59749382,
            7966432,
            14716853847,
            66218299,
            447360153,
            2792603238,
            41986311852,
            1404350573,
            155888325,
            231837276,
            2589133846,
            12102392381,
            120457174,
            630207354,
            1268732652,
            865242639,
            4100980,
            897989,
            100536000000,
            1281723,
            223676109,
            242856408,
            782755,
            432412683,
            65864878196,
            1529490127,
            11041932192,
            2259897452,
            1370129059,
            1657392,
            21402372813,
            9124578783,
            33672977421,
            252776879
           ]
          }
         ],
         "name": "2011"
        },
        {
         "data": [
          {
           "coloraxis": "coloraxis",
           "customdata": [
            [
             1313257,
             2012
            ],
            [
             67082499,
             2012
            ],
            [
             292125797,
             2012
            ],
            [
             20662014,
             2012
            ],
            [
             39332391795,
             2012
            ],
            [
             3553206013,
             2012
            ],
            [
             3658381185,
             2012
            ],
            [
             1189480359,
             2012
            ],
            [
             1025716105,
             2012
            ],
            [
             10871853957,
             2012
            ],
            [
             222457508,
             2012
            ],
            [
             257592000000,
             2012
            ],
            [
             491062130,
             2012
            ],
            [
             5241332731,
             2012
            ],
            [
             2182308608,
             2012
            ],
            [
             743717788,
             2012
            ],
            [
             23673603,
             2012
            ],
            [
             197564619,
             2012
            ],
            [
             3283060564,
             2012
            ],
            [
             278402874,
             2012
            ],
            [
             502143246,
             2012
            ],
            [
             502294809,
             2012
            ],
            [
             80545207,
             2012
            ],
            [
             458387552,
             2012
            ],
            [
             286485419,
             2012
            ],
            [
             610037951,
             2012
            ],
            [
             672719820,
             2012
            ],
            [
             7983668112,
             2012
            ],
            [
             104988215,
             2012
            ],
            [
             10051719,
             2012
            ],
            [
             4115999255,
             2012
            ],
            [
             24376746984,
             2012
            ],
            [
             249888389,
             2012
            ],
            [
             216268287,
             2012
            ],
            [
             335607315,
             2012
            ],
            [
             25202706759,
             2012
            ],
            [
             2284631957,
             2012
            ],
            [
             49662185680,
             2012
            ],
            [
             1966044459,
             2012
            ],
            [
             2191426430,
             2012
            ],
            [
             275367868,
             2012
            ],
            [
             2463194577,
             2012
            ],
            [
             31263930080,
             2012
            ],
            [
             45828789845,
             2012
            ],
            [
             3676398806,
             2012
            ],
            [
             826208392,
             2012
            ],
            [
             400669316,
             2012
            ],
            [
             1672413607,
             2012
            ],
            [
             12064839792,
             2012
            ],
            [
             413719495,
             2012
            ],
            [
             15658592718,
             2012
            ],
            [
             10502439785,
             2012
            ],
            [
             457338144,
             2012
            ],
            [
             69955809,
             2012
            ],
            [
             492466465,
             2012
            ],
            [
             720725,
             2012
            ],
            [
             2108621,
             2012
            ],
            [
             3011918915,
             2012
            ],
            [
             43851407,
             2012
            ],
            [
             470510203,
             2012
            ],
            [
             153332002,
             2012
            ],
            [
             5814993,
             2012
            ],
            [
             32809783,
             2012
            ],
            [
             581326,
             2012
            ],
            [
             57713075,
             2012
            ],
            [
             491236,
             2012
            ],
            [
             42440814,
             2012
            ],
            [
             9009575897,
             2012
            ],
            [
             846994281,
             2012
            ],
            [
             34531147683,
             2012
            ],
            [
             18628936125,
             2012
            ],
            [
             14861203874,
             2012
            ],
            [
             6629903895,
             2012
            ],
            [
             3928894,
             2012
            ],
            [
             409850720,
             2012
            ],
            [
             8254491005,
             2012
            ],
            [
             1351970773,
             2012
            ],
            [
             570693490,
             2012
            ],
            [
             1119803,
             2012
            ],
            [
             106369747,
             2012
            ],
            [
             126583523,
             2012
            ],
            [
             5902070,
             2012
            ],
            [
             85562212,
             2012
            ],
            [
             6893080421,
             2012
            ],
            [
             92049515,
             2012
            ],
            [
             18052692,
             2012
            ],
            [
             6132495458,
             2012
            ],
            [
             5292677846,
             2012
            ],
            [
             703651961,
             2012
            ],
            [
             2101537291,
             2012
            ],
            [
             122329127,
             2012
            ],
            [
             388448364,
             2012
            ],
            [
             665923959,
             2012
            ],
            [
             644853316,
             2012
            ],
            [
             199598000000,
             2012
            ],
            [
             1079296525,
             2012
            ],
            [
             8798800760,
             2012
            ],
            [
             3006847556,
             2012
            ],
            [
             164411,
             2012
            ],
            [
             154995352,
             2012
            ],
            [
             2957301996,
             2012
            ],
            [
             132273726,
             2012
            ],
            [
             150763919,
             2012
            ],
            [
             28089766968,
             2012
            ],
            [
             4735893,
             2012
            ],
            [
             65888565,
             2012
            ],
            [
             21915177,
             2012
            ],
            [
             23359455651,
             2012
            ],
            [
             16395045060,
             2012
            ],
            [
             70531252,
             2012
            ],
            [
             2712425453,
             2012
            ],
            [
             89528928,
             2012
            ],
            [
             109658588,
             2012
            ],
            [
             383952492,
             2012
            ],
            [
             324975732,
             2012
            ],
            [
             111386757,
             2012
            ],
            [
             87807077,
             2012
            ],
            [
             140036645,
             2012
            ],
            [
             107650595,
             2012
            ],
            [
             5065665717,
             2012
            ],
            [
             45859705,
             2012
            ],
            [
             102782289,
             2012
            ],
            [
             199447352,
             2012
            ],
            [
             994565,
             2012
            ],
            [
             90671556,
             2012
            ],
            [
             16337174,
             2012
            ],
            [
             27039106,
             2012
            ],
            [
             3022705,
             2012
            ],
            [
             32857275,
             2012
            ],
            [
             23632146,
             2012
            ],
            [
             33895104,
             2012
            ],
            [
             472388817,
             2012
            ],
            [
             713040680,
             2012
            ],
            [
             11317856,
             2012
            ],
            [
             539971980,
             2012
            ],
            [
             229261271,
             2012
            ],
            [
             404043475,
             2012
            ],
            [
             1115580585,
             2012
            ],
            [
             1789781897,
             2012
            ],
            [
             42277750,
             2012
            ],
            [
             566823219,
             2012
            ],
            [
             167865053,
             2012
            ],
            [
             155659022,
             2012
            ],
            [
             11037026,
             2012
            ],
            [
             249747408,
             2012
            ],
            [
             270230827,
             2012
            ],
            [
             188437527,
             2012
            ],
            [
             238040682,
             2012
            ],
            [
             253103144,
             2012
            ],
            [
             931823,
             2012
            ],
            [
             110950026,
             2012
            ],
            [
             1542883316,
             2012
            ],
            [
             5421784723,
             2012
            ],
            [
             5420454,
             2012
            ],
            [
             357943146,
             2012
            ],
            [
             257345706,
             2012
            ],
            [
             1390458851,
             2012
            ],
            [
             134520010,
             2012
            ],
            [
             29585875,
             2012
            ],
            [
             20533803,
             2012
            ],
            [
             225334869,
             2012
            ],
            [
             70332935,
             2012
            ],
            [
             4791507176,
             2012
            ],
            [
             85369438,
             2012
            ],
            [
             238103111,
             2012
            ],
            [
             2557145867,
             2012
            ],
            [
             35493745,
             2012
            ],
            [
             1779372581,
             2012
            ],
            [
             242893051,
             2012
            ],
            [
             253101823,
             2012
            ],
            [
             43204267,
             2012
            ],
            [
             75148644,
             2012
            ],
            [
             601313097,
             2012
            ],
            [
             12013416454,
             2012
            ],
            [
             41053362,
             2012
            ],
            [
             1899682809,
             2012
            ],
            [
             1524433060,
             2012
            ],
            [
             7642225437,
             2012
            ],
            [
             36007899,
             2012
            ],
            [
             2277483208,
             2012
            ],
            [
             16661034311,
             2012
            ],
            [
             28730024671,
             2012
            ],
            [
             19412945,
             2012
            ],
            [
             11004839758,
             2012
            ],
            [
             14100775,
             2012
            ],
            [
             82042175,
             2012
            ],
            [
             1122444,
             2012
            ],
            [
             12440648785,
             2012
            ],
            [
             40154460100,
             2012
            ],
            [
             250377423,
             2012
            ],
            [
             194432757,
             2012
            ],
            [
             1295081424,
             2012
            ],
            [
             396538656,
             2012
            ],
            [
             1175310,
             2012
            ],
            [
             1214020031,
             2012
            ],
            [
             17645544773,
             2012
            ],
            [
             104716789,
             2012
            ],
            [
             762002699,
             2012
            ],
            [
             609564594,
             2012
            ],
            [
             962706722,
             2012
            ],
            [
             198046402,
             2012
            ],
            [
             4744051,
             2012
            ],
            [
             863089,
             2012
            ],
            [
             7553485538,
             2012
            ],
            [
             108998000000,
             2012
            ],
            [
             142860882,
             2012
            ],
            [
             403028123,
             2012
            ],
            [
             34604024149,
             2012
            ],
            [
             9979402241,
             2012
            ],
            [
             21305456196,
             2012
            ],
            [
             2650992,
             2012
            ],
            [
             251109286,
             2012
            ],
            [
             1845749350,
             2012
            ],
            [
             11311941477,
             2012
            ],
            [
             1781147928,
             2012
            ],
            [
             65270213177,
             2012
            ],
            [
             3800170,
             2012
            ],
            [
             381978000000,
             2012
            ]
           ],
           "geo": "geo",
           "hovertemplate": "<b>%{hovertext}</b><br><br>Year=%{customdata[1]}<br>ISO 3=%{location}<br>Trade Value=%{z}<extra></extra>",
           "hovertext": [
            "San Marino",
            "North Macedonia",
            "Malta",
            "Montenegro",
            "Netherlands",
            "Norway",
            "Poland",
            "Portugal",
            "Romania",
            "Russia",
            "Serbia",
            "Canada",
            "Slovenia",
            "Sweden",
            "Ukraine",
            "Aruba",
            "Anguilla",
            "Antigua and Barbuda",
            "Bahamas",
            "Belize",
            "Bermuda",
            "Barbados",
            "Moldova",
            "Slovakia",
            "Latvia",
            "Yemen",
            "Lithuania",
            "Costa Rica",
            "Albania",
            "Andorra",
            "Austria",
            "Belgium",
            "Bulgaria",
            "Bosnia and Herzegovina",
            "Belarus",
            "Switzerland",
            "Czechia",
            "Germany",
            "Luxembourg",
            "Denmark",
            "Estonia",
            "Finland",
            "France",
            "United Kingdom",
            "Gibraltar",
            "Greece",
            "Croatia",
            "Hungary",
            "Ireland",
            "Iceland",
            "Italy",
            "Spain",
            "Cuba",
            "Micronesia",
            "Cayman Islands",
            "Niue",
            "Nauru",
            "New Zealand",
            "Palau",
            "Papua New Guinea",
            "French Polynesia",
            "Solomon Islands",
            "Tonga",
            "Tuvalu",
            "Vanuatu",
            "Wallis and Futuna",
            "Samoa",
            "Argentina",
            "Bolivia",
            "Brazil",
            "Chile",
            "Colombia",
            "Ecuador",
            "Falkland Islands",
            "Guyana",
            "Peru",
            "Paraguay",
            "Suriname",
            "Norfolk Island",
            "New Caledonia",
            "Marshall Islands",
            "Kiribati",
            "Dominica",
            "Dominican Republic",
            "Grenada",
            "Greenland",
            "Guatemala",
            "Honduras",
            "Haiti",
            "Jamaica",
            "Saint Kitts and Nevis",
            "Saint Lucia",
            "Saint Martin",
            "Curaçao",
            "Mexico",
            "Nicaragua",
            "Panama",
            "El Salvador",
            "Saint Pierre and Miquelon",
            "Turks and Caicos Islands",
            "Trinidad and Tobago",
            "Saint Vincent and the Grenadines",
            "British Virgin Islands",
            "Australia",
            "Cook Islands",
            "Fiji",
            "Montserrat",
            "Chinese Taipei",
            "Venezuela",
            "Uzbekistan",
            "Morocco",
            "Madagascar",
            "Mali",
            "Mozambique",
            "Mauritania",
            "Mauritius",
            "Malawi",
            "Namibia",
            "Niger",
            "Nigeria",
            "Rwanda",
            "Sudan",
            "Senegal",
            "Saint Helena",
            "Sierra Leone",
            "Somalia",
            "South Sudan",
            "Sao Tome and Principe",
            "Eswatini",
            "Seychelles",
            "Chad",
            "Togo",
            "Tunisia",
            "Lesotho",
            "Libya",
            "Liberia",
            "Kenya",
            "Uruguay",
            "Angola",
            "Burundi",
            "Benin",
            "Burkina Faso",
            "Botswana",
            "Central African Republic",
            "Cote d'Ivoire",
            "Cameroon",
            "Democratic Republic of the Congo",
            "Republic of the Congo",
            "Tanzania",
            "Comoros",
            "Djibouti",
            "Algeria",
            "Egypt",
            "Eritrea",
            "Ethiopia",
            "Gabon",
            "Ghana",
            "Guinea",
            "Gambia",
            "Guinea-Bissau",
            "Equatorial Guinea",
            "Cape Verde",
            "Vietnam",
            "Uganda",
            "Zambia",
            "Kuwait",
            "Laos",
            "Lebanon",
            "Sri Lanka",
            "Macau",
            "Maldives",
            "Burma",
            "Mongolia",
            "Malaysia",
            "Nepal",
            "Oman",
            "Pakistan",
            "Philippines",
            "Palestine",
            "Qatar",
            "Saudi Arabia",
            "Singapore",
            "Syria",
            "Thailand",
            "Tajikistan",
            "Turkmenistan",
            "Timor-Leste",
            "Turkey",
            "South Korea",
            "Cambodia",
            "Kyrgyzstan",
            "Kazakhstan",
            "Zimbabwe",
            "French South Antarctic Territory",
            "Afghanistan",
            "United Arab Emirates",
            "Armenia",
            "Azerbaijan",
            "Bangladesh",
            "Bahrain",
            "Brunei",
            "Bhutan",
            "Cocos (Keeling) Islands",
            "South Africa",
            "China",
            "Cyprus",
            "Georgia",
            "Hong Kong",
            "Indonesia",
            "India",
            "British Indian Ocean Territory",
            "Iran",
            "Iraq",
            "Israel",
            "Jordan",
            "Japan",
            "Christmas Island",
            "United States"
           ],
           "locations": [
            "SMR",
            "MKD",
            "MLT",
            "MNE",
            "NLD",
            "NOR",
            "POL",
            "PRT",
            "ROU",
            "RUS",
            "SRB",
            "CAN",
            "SVN",
            "SWE",
            "UKR",
            "ABW",
            "AIA",
            "ATG",
            "BHS",
            "BLZ",
            "BMU",
            "BRB",
            "MDA",
            "SVK",
            "LVA",
            "YEM",
            "LTU",
            "CRI",
            "ALB",
            "AND",
            "AUT",
            "BEL",
            "BGR",
            "BIH",
            "BLR",
            "CHE",
            "CZE",
            "DEU",
            "LUX",
            "DNK",
            "EST",
            "FIN",
            "FRA",
            "GBR",
            "GIB",
            "GRC",
            "HRV",
            "HUN",
            "IRL",
            "ISL",
            "ITA",
            "ESP",
            "CUB",
            "FSM",
            "CYM",
            "NIU",
            "NRU",
            "NZL",
            "PLW",
            "PNG",
            "PYF",
            "SLB",
            "TON",
            "TUV",
            "VUT",
            "WLF",
            "WSM",
            "ARG",
            "BOL",
            "BRA",
            "CHL",
            "COL",
            "ECU",
            "FLK",
            "GUY",
            "PER",
            "PRY",
            "SUR",
            "NFK",
            "NCL",
            "MHL",
            "KIR",
            "DMA",
            "DOM",
            "GRD",
            "GRL",
            "GTM",
            "HND",
            "HTI",
            "JAM",
            "KNA",
            "LCA",
            "MAF",
            "CUW",
            "MEX",
            "NIC",
            "PAN",
            "SLV",
            "SPM",
            "TCA",
            "TTO",
            "VCT",
            "VGB",
            "AUS",
            "COK",
            "FJI",
            "MSR",
            null,
            "VEN",
            "UZB",
            "MAR",
            "MDG",
            "MLI",
            "MOZ",
            "MRT",
            "MUS",
            "MWI",
            "NAM",
            "NER",
            "NGA",
            "RWA",
            "SDN",
            "SEN",
            "SHN",
            "SLE",
            "SOM",
            "SSD",
            "STP",
            "SWZ",
            "SYC",
            "TCD",
            "TGO",
            "TUN",
            "LSO",
            "LBY",
            "LBR",
            "KEN",
            "URY",
            "AGO",
            "BDI",
            "BEN",
            "BFA",
            "BWA",
            "CAF",
            "CIV",
            "CMR",
            "COD",
            "COG",
            "TZA",
            "COM",
            "DJI",
            "DZA",
            "EGY",
            "ERI",
            "ETH",
            "GAB",
            "GHA",
            "GIN",
            "GMB",
            "GNB",
            "GNQ",
            "CPV",
            "VNM",
            "UGA",
            "ZMB",
            "KWT",
            "LAO",
            "LBN",
            "LKA",
            "MAC",
            "MDV",
            "MMR",
            "MNG",
            "MYS",
            "NPL",
            "OMN",
            "PAK",
            "PHL",
            "PSE",
            "QAT",
            "SAU",
            "SGP",
            "SYR",
            "THA",
            "TJK",
            "TKM",
            "TLS",
            "TUR",
            "KOR",
            "KHM",
            "KGZ",
            "KAZ",
            "ZWE",
            "ATF",
            "AFG",
            "ARE",
            "ARM",
            "AZE",
            "BGD",
            "BHR",
            "BRN",
            "BTN",
            "CCK",
            "ZAF",
            "CHN",
            "CYP",
            "GEO",
            "HKG",
            "IDN",
            "IND",
            "IOT",
            "IRN",
            "IRQ",
            "ISR",
            "JOR",
            "JPN",
            "CXR",
            "USA"
           ],
           "name": "",
           "type": "choropleth",
           "z": [
            1313257,
            67082499,
            292125797,
            20662014,
            39332391795,
            3553206013,
            3658381185,
            1189480359,
            1025716105,
            10871853957,
            222457508,
            257592000000,
            491062130,
            5241332731,
            2182308608,
            743717788,
            23673603,
            197564619,
            3283060564,
            278402874,
            502143246,
            502294809,
            80545207,
            458387552,
            286485419,
            610037951,
            672719820,
            7983668112,
            104988215,
            10051719,
            4115999255,
            24376746984,
            249888389,
            216268287,
            335607315,
            25202706759,
            2284631957,
            49662185680,
            1966044459,
            2191426430,
            275367868,
            2463194577,
            31263930080,
            45828789845,
            3676398806,
            826208392,
            400669316,
            1672413607,
            12064839792,
            413719495,
            15658592718,
            10502439785,
            457338144,
            69955809,
            492466465,
            720725,
            2108621,
            3011918915,
            43851407,
            470510203,
            153332002,
            5814993,
            32809783,
            581326,
            57713075,
            491236,
            42440814,
            9009575897,
            846994281,
            34531147683,
            18628936125,
            14861203874,
            6629903895,
            3928894,
            409850720,
            8254491005,
            1351970773,
            570693490,
            1119803,
            106369747,
            126583523,
            5902070,
            85562212,
            6893080421,
            92049515,
            18052692,
            6132495458,
            5292677846,
            703651961,
            2101537291,
            122329127,
            388448364,
            665923959,
            644853316,
            199598000000,
            1079296525,
            8798800760,
            3006847556,
            164411,
            154995352,
            2957301996,
            132273726,
            150763919,
            28089766968,
            4735893,
            65888565,
            21915177,
            23359455651,
            16395045060,
            70531252,
            2712425453,
            89528928,
            109658588,
            383952492,
            324975732,
            111386757,
            87807077,
            140036645,
            107650595,
            5065665717,
            45859705,
            102782289,
            199447352,
            994565,
            90671556,
            16337174,
            27039106,
            3022705,
            32857275,
            23632146,
            33895104,
            472388817,
            713040680,
            11317856,
            539971980,
            229261271,
            404043475,
            1115580585,
            1789781897,
            42277750,
            566823219,
            167865053,
            155659022,
            11037026,
            249747408,
            270230827,
            188437527,
            238040682,
            253103144,
            931823,
            110950026,
            1542883316,
            5421784723,
            5420454,
            357943146,
            257345706,
            1390458851,
            134520010,
            29585875,
            20533803,
            225334869,
            70332935,
            4791507176,
            85369438,
            238103111,
            2557145867,
            35493745,
            1779372581,
            242893051,
            253101823,
            43204267,
            75148644,
            601313097,
            12013416454,
            41053362,
            1899682809,
            1524433060,
            7642225437,
            36007899,
            2277483208,
            16661034311,
            28730024671,
            19412945,
            11004839758,
            14100775,
            82042175,
            1122444,
            12440648785,
            40154460100,
            250377423,
            194432757,
            1295081424,
            396538656,
            1175310,
            1214020031,
            17645544773,
            104716789,
            762002699,
            609564594,
            962706722,
            198046402,
            4744051,
            863089,
            7553485538,
            108998000000,
            142860882,
            403028123,
            34604024149,
            9979402241,
            21305456196,
            2650992,
            251109286,
            1845749350,
            11311941477,
            1781147928,
            65270213177,
            3800170,
            381978000000
           ]
          }
         ],
         "name": "2012"
        },
        {
         "data": [
          {
           "coloraxis": "coloraxis",
           "customdata": [
            [
             1523402824,
             2013
            ],
            [
             398584000000,
             2013
            ],
            [
             188576386,
             2013
            ],
            [
             1477716343,
             2013
            ],
            [
             63791867808,
             2013
            ],
            [
             1938812783,
             2013
            ],
            [
             10566130267,
             2013
            ],
            [
             1873190215,
             2013
            ],
            [
             315992343,
             2013
            ],
            [
             645889,
             2013
            ],
            [
             20581169212,
             2013
            ],
            [
             7634969856,
             2013
            ],
            [
             39293316543,
             2013
            ],
            [
             469469519,
             2013
            ],
            [
             119441235,
             2013
            ],
            [
             431397,
             2013
            ],
            [
             122584000000,
             2013
            ],
            [
             20955484,
             2013
            ],
            [
             2293248,
             2013
            ],
            [
             382771444,
             2013
            ],
            [
             845038108,
             2013
            ],
            [
             790688899,
             2013
            ],
            [
             387506236,
             2013
            ],
            [
             104952006,
             2013
            ],
            [
             19248565980,
             2013
            ],
            [
             264006841,
             2013
            ],
            [
             1104961758,
             2013
            ],
            [
             38979713585,
             2013
            ],
            [
             38164571,
             2013
            ],
            [
             5240320191,
             2013
            ],
            [
             116671881,
             2013
            ],
            [
             11840395595,
             2013
            ],
            [
             3100122,
             2013
            ],
            [
             95946083,
             2013
            ],
            [
             19430909,
             2013
            ],
            [
             12717945534,
             2013
            ],
            [
             21642124,
             2013
            ],
            [
             28095516019,
             2013
            ],
            [
             17423671585,
             2013
            ],
            [
             2330704761,
             2013
            ],
            [
             33812561,
             2013
            ],
            [
             7863009566,
             2013
            ],
            [
             1634247760,
             2013
            ],
            [
             1565161925,
             2013
            ],
            [
             43865597,
             2013
            ],
            [
             12731627292,
             2013
            ],
            [
             419052534,
             2013
            ],
            [
             195406244,
             2013
            ],
            [
             30497885,
             2013
            ],
            [
             213188558,
             2013
            ],
            [
             372925989,
             2013
            ],
            [
             1379814336,
             2013
            ],
            [
             2692573614,
             2013
            ],
            [
             1609267,
             2013
            ],
            [
             148159235,
             2013
            ],
            [
             198884497,
             2013
            ],
            [
             163478869,
             2013
            ],
            [
             531722170,
             2013
            ],
            [
             735478129,
             2013
            ],
            [
             6528413,
             2013
            ],
            [
             35853912,
             2013
            ],
            [
             88347174,
             2013
            ],
            [
             1083694584,
             2013
            ],
            [
             303243006,
             2013
            ],
            [
             378216871,
             2013
            ],
            [
             6170389,
             2013
            ],
            [
             5465778243,
             2013
            ],
            [
             2020941303,
             2013
            ],
            [
             153783177,
             2013
            ],
            [
             13068381,
             2013
            ],
            [
             1217019,
             2013
            ],
            [
             225772634,
             2013
            ],
            [
             155154211,
             2013
            ],
            [
             336410068,
             2013
            ],
            [
             267207227,
             2013
            ],
            [
             11104820,
             2013
            ],
            [
             154196782,
             2013
            ],
            [
             183689668,
             2013
            ],
            [
             667341651,
             2013
            ],
            [
             849507272,
             2013
            ],
            [
             2578745,
             2013
            ],
            [
             3044898082,
             2013
            ],
            [
             87666641,
             2013
            ],
            [
             6608396509,
             2013
            ],
            [
             132487340,
             2013
            ],
            [
             318754525,
             2013
            ],
            [
             972255859,
             2013
            ],
            [
             1026927659,
             2013
            ],
            [
             39152657,
             2013
            ],
            [
             29766717,
             2013
            ],
            [
             21770732,
             2013
            ],
            [
             4846341,
             2013
            ],
            [
             12556706,
             2013
            ],
            [
             15135225,
             2013
            ],
            [
             23338078999,
             2013
            ],
            [
             78481841,
             2013
            ],
            [
             263516390,
             2013
            ],
            [
             109750427,
             2013
            ],
            [
             38592789,
             2013
            ],
            [
             6385741379,
             2013
            ],
            [
             98220420,
             2013
            ],
            [
             165044970,
             2013
            ],
            [
             75379986,
             2013
            ],
            [
             73893629,
             2013
            ],
            [
             321931892,
             2013
            ],
            [
             322406267,
             2013
            ],
            [
             47367892,
             2013
            ],
            [
             297584,
             2013
            ],
            [
             728157763,
             2013
            ],
            [
             29095091,
             2013
            ],
            [
             10985938,
             2013
            ],
            [
             5336036,
             2013
            ],
            [
             61670301,
             2013
            ],
            [
             130270414,
             2013
            ],
            [
             4210332,
             2013
            ],
            [
             23644080383,
             2013
            ],
            [
             161677911,
             2013
            ],
            [
             123488359,
             2013
            ],
            [
             2378805463,
             2013
            ],
            [
             129574881,
             2013
            ],
            [
             234826,
             2013
            ],
            [
             3385137469,
             2013
            ],
            [
             9834311715,
             2013
            ],
            [
             1057725375,
             2013
            ],
            [
             24543274,
             2013
            ],
            [
             206755000000,
             2013
            ],
            [
             789337051,
             2013
            ],
            [
             515150911,
             2013
            ],
            [
             157048071,
             2013
            ],
            [
             2013332770,
             2013
            ],
            [
             794355484,
             2013
            ],
            [
             5019256960,
             2013
            ],
            [
             6008455855,
             2013
            ],
            [
             10056833,
             2013
            ],
            [
             114144467,
             2013
            ],
            [
             116225392,
             2013
            ],
            [
             1561510,
             2013
            ],
            [
             237529,
             2013
            ],
            [
             12359666593,
             2013
            ],
            [
             1230769618,
             2013
            ],
            [
             529890036,
             2013
            ],
            [
             1353832620,
             2013
            ],
            [
             9009583787,
             2013
            ],
            [
             357613810,
             2013
            ],
            [
             1024067,
             2013
            ],
            [
             6990259096,
             2013
            ],
            [
             17021778559,
             2013
            ],
            [
             15617216221,
             2013
            ],
            [
             37235771741,
             2013
            ],
            [
             122035959,
             2013
            ],
            [
             1110358729,
             2013
            ],
            [
             47164706,
             2013
            ],
            [
             574946,
             2013
            ],
            [
             19656829,
             2013
            ],
            [
             532361,
             2013
            ],
            [
             23561854,
             2013
            ],
            [
             8746880,
             2013
            ],
            [
             157776454,
             2013
            ],
            [
             140625863,
             2013
            ],
            [
             44874750,
             2013
            ],
            [
             3037021175,
             2013
            ],
            [
             715764,
             2013
            ],
            [
             8519193204,
             2013
            ],
            [
             6901578496,
             2013
            ],
            [
             57755637,
             2013
            ],
            [
             502683140,
             2013
            ],
            [
             2033551714,
             2013
            ],
            [
             764203224,
             2013
            ],
            [
             15100089579,
             2013
            ],
            [
             391969999,
             2013
            ],
            [
             11081293459,
             2013
            ],
            [
             1818214890,
             2013
            ],
            [
             255987875,
             2013
            ],
            [
             694661116,
             2013
            ],
            [
             2532667424,
             2013
            ],
            [
             33738204517,
             2013
            ],
            [
             2360649297,
             2013
            ],
            [
             321592806,
             2013
            ],
            [
             11625779744,
             2013
            ],
            [
             2058496532,
             2013
            ],
            [
             50094002831,
             2013
            ],
            [
             2308546349,
             2013
            ],
            [
             24717155188,
             2013
            ],
            [
             369510086,
             2013
            ],
            [
             190500038,
             2013
            ],
            [
             287531939,
             2013
            ],
            [
             25970270939,
             2013
            ],
            [
             4464648488,
             2013
            ],
            [
             66085931,
             2013
            ],
            [
             271183195,
             2013
            ],
            [
             76985865,
             2013
            ],
            [
             38177274239,
             2013
            ],
            [
             577178130,
             2013
            ],
            [
             105914405,
             2013
            ],
            [
             353741260,
             2013
            ],
            [
             7865056586,
             2013
            ],
            [
             266068000000,
             2013
            ],
            [
             510951553,
             2013
            ],
            [
             513895384,
             2013
            ],
            [
             265867009,
             2013
            ],
            [
             3184856821,
             2013
            ],
            [
             149099369,
             2013
            ],
            [
             26674990,
             2013
            ],
            [
             1075955477,
             2013
            ],
            [
             2110652855,
             2013
            ],
            [
             648080789,
             2013
            ],
            [
             534843062,
             2013
            ],
            [
             4118871578,
             2013
            ],
            [
             40535674423,
             2013
            ],
            [
             4109648646,
             2013
            ],
            [
             4078992254,
             2013
            ],
            [
             997224246,
             2013
            ],
            [
             29615553,
             2013
            ],
            [
             11594696304,
             2013
            ],
            [
             1761637,
             2013
            ],
            [
             234031290,
             2013
            ],
            [
             511048742,
             2013
            ],
            [
             791573920,
             2013
            ]
           ],
           "geo": "geo",
           "hovertemplate": "<b>%{hovertext}</b><br><br>Year=%{customdata[1]}<br>ISO 3=%{location}<br>Trade Value=%{z}<extra></extra>",
           "hovertext": [
            "Angola",
            "United States",
            "Kyrgyzstan",
            "Kazakhstan",
            "Japan",
            "Jordan",
            "Israel",
            "Iraq",
            "Iran",
            "British Indian Ocean Territory",
            "India",
            "Indonesia",
            "Hong Kong",
            "Georgia",
            "Cyprus",
            "Christmas Island",
            "China",
            "Cocos (Keeling) Islands",
            "Bhutan",
            "Brunei",
            "Bahrain",
            "Bangladesh",
            "Azerbaijan",
            "Armenia",
            "United Arab Emirates",
            "Cambodia",
            "Afghanistan",
            "South Korea",
            "Laos",
            "Vietnam",
            "Uzbekistan",
            "Turkey",
            "Timor-Leste",
            "Turkmenistan",
            "Tajikistan",
            "Thailand",
            "Syria",
            "Singapore",
            "Saudi Arabia",
            "Qatar",
            "Palestine",
            "Philippines",
            "Pakistan",
            "Oman",
            "Nepal",
            "Malaysia",
            "Mongolia",
            "Burma",
            "Maldives",
            "Macau",
            "Sri Lanka",
            "Lebanon",
            "Kuwait",
            "French South Antarctic Territory",
            "Zimbabwe",
            "Zambia",
            "Liberia",
            "Kenya",
            "Equatorial Guinea",
            "Guinea-Bissau",
            "Gambia",
            "Guinea",
            "Ghana",
            "Gabon",
            "Ethiopia",
            "Eritrea",
            "Egypt",
            "Algeria",
            "Djibouti",
            "Cape Verde",
            "Comoros",
            "Republic of the Congo",
            "Democratic Republic of the Congo",
            "Cameroon",
            "Cote d'Ivoire",
            "Central African Republic",
            "Botswana",
            "Burkina Faso",
            "Benin",
            "Libya",
            "Lesotho",
            "Morocco",
            "Madagascar",
            "South Africa",
            "Uganda",
            "Tanzania",
            "Tunisia",
            "Togo",
            "Chad",
            "Seychelles",
            "Eswatini",
            "Sao Tome and Principe",
            "South Sudan",
            "Somalia",
            "Chinese Taipei",
            "Sierra Leone",
            "Senegal",
            "Sudan",
            "Rwanda",
            "Nigeria",
            "Niger",
            "Namibia",
            "Malawi",
            "Mauritius",
            "Mauritania",
            "Mozambique",
            "Mali",
            "Saint Helena",
            "Yemen",
            "Burundi",
            "Andorra",
            "Kiribati",
            "Micronesia",
            "Fiji",
            "Cook Islands",
            "Australia",
            "British Virgin Islands",
            "Saint Vincent and the Grenadines",
            "Trinidad and Tobago",
            "Turks and Caicos Islands",
            "Saint Pierre and Miquelon",
            "El Salvador",
            "Panama",
            "Nicaragua",
            "Montserrat",
            "Mexico",
            "Saint Martin",
            "Saint Lucia",
            "Saint Kitts and Nevis",
            "Jamaica",
            "Haiti",
            "Honduras",
            "Guatemala",
            "Greenland",
            "Albania",
            "New Caledonia",
            "Norfolk Island",
            "Niue",
            "Venezuela",
            "Uruguay",
            "Suriname",
            "Paraguay",
            "Peru",
            "Guyana",
            "Falkland Islands",
            "Ecuador",
            "Colombia",
            "Chile",
            "Brazil",
            "Grenada",
            "Bolivia",
            "Samoa",
            "Wallis and Futuna",
            "Vanuatu",
            "Tuvalu",
            "Tonga",
            "Solomon Islands",
            "French Polynesia",
            "Papua New Guinea",
            "Palau",
            "New Zealand",
            "Nauru",
            "Argentina",
            "Dominican Republic",
            "Marshall Islands",
            "Cayman Islands",
            "Luxembourg",
            "Lithuania",
            "Italy",
            "Iceland",
            "Ireland",
            "Hungary",
            "Croatia",
            "Greece",
            "Gibraltar",
            "France",
            "Finland",
            "Estonia",
            "Spain",
            "Denmark",
            "Germany",
            "Czechia",
            "Switzerland",
            "Belarus",
            "Bosnia and Herzegovina",
            "Bulgaria",
            "Belgium",
            "Austria",
            "Dominica",
            "Latvia",
            "Moldova",
            "United Kingdom",
            "Malta",
            "North Macedonia",
            "Cuba",
            "Costa Rica",
            "Canada",
            "Barbados",
            "Bermuda",
            "Belize",
            "Bahamas",
            "Antigua and Barbuda",
            "Anguilla",
            "Aruba",
            "Ukraine",
            "Curaçao",
            "Slovenia",
            "Sweden",
            "Netherlands",
            "Norway",
            "Poland",
            "Portugal",
            "Montenegro",
            "Russia",
            "San Marino",
            "Serbia",
            "Slovakia",
            "Romania"
           ],
           "locations": [
            "AGO",
            "USA",
            "KGZ",
            "KAZ",
            "JPN",
            "JOR",
            "ISR",
            "IRQ",
            "IRN",
            "IOT",
            "IND",
            "IDN",
            "HKG",
            "GEO",
            "CYP",
            "CXR",
            "CHN",
            "CCK",
            "BTN",
            "BRN",
            "BHR",
            "BGD",
            "AZE",
            "ARM",
            "ARE",
            "KHM",
            "AFG",
            "KOR",
            "LAO",
            "VNM",
            "UZB",
            "TUR",
            "TLS",
            "TKM",
            "TJK",
            "THA",
            "SYR",
            "SGP",
            "SAU",
            "QAT",
            "PSE",
            "PHL",
            "PAK",
            "OMN",
            "NPL",
            "MYS",
            "MNG",
            "MMR",
            "MDV",
            "MAC",
            "LKA",
            "LBN",
            "KWT",
            "ATF",
            "ZWE",
            "ZMB",
            "LBR",
            "KEN",
            "GNQ",
            "GNB",
            "GMB",
            "GIN",
            "GHA",
            "GAB",
            "ETH",
            "ERI",
            "EGY",
            "DZA",
            "DJI",
            "CPV",
            "COM",
            "COG",
            "COD",
            "CMR",
            "CIV",
            "CAF",
            "BWA",
            "BFA",
            "BEN",
            "LBY",
            "LSO",
            "MAR",
            "MDG",
            "ZAF",
            "UGA",
            "TZA",
            "TUN",
            "TGO",
            "TCD",
            "SYC",
            "SWZ",
            "STP",
            "SSD",
            "SOM",
            null,
            "SLE",
            "SEN",
            "SDN",
            "RWA",
            "NGA",
            "NER",
            "NAM",
            "MWI",
            "MUS",
            "MRT",
            "MOZ",
            "MLI",
            "SHN",
            "YEM",
            "BDI",
            "AND",
            "KIR",
            "FSM",
            "FJI",
            "COK",
            "AUS",
            "VGB",
            "VCT",
            "TTO",
            "TCA",
            "SPM",
            "SLV",
            "PAN",
            "NIC",
            "MSR",
            "MEX",
            "MAF",
            "LCA",
            "KNA",
            "JAM",
            "HTI",
            "HND",
            "GTM",
            "GRL",
            "ALB",
            "NCL",
            "NFK",
            "NIU",
            "VEN",
            "URY",
            "SUR",
            "PRY",
            "PER",
            "GUY",
            "FLK",
            "ECU",
            "COL",
            "CHL",
            "BRA",
            "GRD",
            "BOL",
            "WSM",
            "WLF",
            "VUT",
            "TUV",
            "TON",
            "SLB",
            "PYF",
            "PNG",
            "PLW",
            "NZL",
            "NRU",
            "ARG",
            "DOM",
            "MHL",
            "CYM",
            "LUX",
            "LTU",
            "ITA",
            "ISL",
            "IRL",
            "HUN",
            "HRV",
            "GRC",
            "GIB",
            "FRA",
            "FIN",
            "EST",
            "ESP",
            "DNK",
            "DEU",
            "CZE",
            "CHE",
            "BLR",
            "BIH",
            "BGR",
            "BEL",
            "AUT",
            "DMA",
            "LVA",
            "MDA",
            "GBR",
            "MLT",
            "MKD",
            "CUB",
            "CRI",
            "CAN",
            "BRB",
            "BMU",
            "BLZ",
            "BHS",
            "ATG",
            "AIA",
            "ABW",
            "UKR",
            "CUW",
            "SVN",
            "SWE",
            "NLD",
            "NOR",
            "POL",
            "PRT",
            "MNE",
            "RUS",
            "SMR",
            "SRB",
            "SVK",
            "ROU"
           ],
           "name": "",
           "type": "choropleth",
           "z": [
            1523402824,
            398584000000,
            188576386,
            1477716343,
            63791867808,
            1938812783,
            10566130267,
            1873190215,
            315992343,
            645889,
            20581169212,
            7634969856,
            39293316543,
            469469519,
            119441235,
            431397,
            122584000000,
            20955484,
            2293248,
            382771444,
            845038108,
            790688899,
            387506236,
            104952006,
            19248565980,
            264006841,
            1104961758,
            38979713585,
            38164571,
            5240320191,
            116671881,
            11840395595,
            3100122,
            95946083,
            19430909,
            12717945534,
            21642124,
            28095516019,
            17423671585,
            2330704761,
            33812561,
            7863009566,
            1634247760,
            1565161925,
            43865597,
            12731627292,
            419052534,
            195406244,
            30497885,
            213188558,
            372925989,
            1379814336,
            2692573614,
            1609267,
            148159235,
            198884497,
            163478869,
            531722170,
            735478129,
            6528413,
            35853912,
            88347174,
            1083694584,
            303243006,
            378216871,
            6170389,
            5465778243,
            2020941303,
            153783177,
            13068381,
            1217019,
            225772634,
            155154211,
            336410068,
            267207227,
            11104820,
            154196782,
            183689668,
            667341651,
            849507272,
            2578745,
            3044898082,
            87666641,
            6608396509,
            132487340,
            318754525,
            972255859,
            1026927659,
            39152657,
            29766717,
            21770732,
            4846341,
            12556706,
            15135225,
            23338078999,
            78481841,
            263516390,
            109750427,
            38592789,
            6385741379,
            98220420,
            165044970,
            75379986,
            73893629,
            321931892,
            322406267,
            47367892,
            297584,
            728157763,
            29095091,
            10985938,
            5336036,
            61670301,
            130270414,
            4210332,
            23644080383,
            161677911,
            123488359,
            2378805463,
            129574881,
            234826,
            3385137469,
            9834311715,
            1057725375,
            24543274,
            206755000000,
            789337051,
            515150911,
            157048071,
            2013332770,
            794355484,
            5019256960,
            6008455855,
            10056833,
            114144467,
            116225392,
            1561510,
            237529,
            12359666593,
            1230769618,
            529890036,
            1353832620,
            9009583787,
            357613810,
            1024067,
            6990259096,
            17021778559,
            15617216221,
            37235771741,
            122035959,
            1110358729,
            47164706,
            574946,
            19656829,
            532361,
            23561854,
            8746880,
            157776454,
            140625863,
            44874750,
            3037021175,
            715764,
            8519193204,
            6901578496,
            57755637,
            502683140,
            2033551714,
            764203224,
            15100089579,
            391969999,
            11081293459,
            1818214890,
            255987875,
            694661116,
            2532667424,
            33738204517,
            2360649297,
            321592806,
            11625779744,
            2058496532,
            50094002831,
            2308546349,
            24717155188,
            369510086,
            190500038,
            287531939,
            25970270939,
            4464648488,
            66085931,
            271183195,
            76985865,
            38177274239,
            577178130,
            105914405,
            353741260,
            7865056586,
            266068000000,
            510951553,
            513895384,
            265867009,
            3184856821,
            149099369,
            26674990,
            1075955477,
            2110652855,
            648080789,
            534843062,
            4118871578,
            40535674423,
            4109648646,
            4078992254,
            997224246,
            29615553,
            11594696304,
            1761637,
            234031290,
            511048742,
            791573920
           ]
          }
         ],
         "name": "2013"
        },
        {
         "data": [
          {
           "coloraxis": "coloraxis",
           "customdata": [
            [
             37841480201,
             2014
            ],
            [
             64609408891,
             2014
            ],
            [
             1378240992,
             2014
            ],
            [
             11195250717,
             2014
            ],
            [
             2036895985,
             2014
            ],
            [
             208914442,
             2014
            ],
            [
             2024194,
             2014
            ],
            [
             1569971421,
             2014
            ],
            [
             20862472614,
             2014
            ],
            [
             6832420810,
             2014
            ],
            [
             551202527,
             2014
            ],
            [
             329245662,
             2014
            ],
            [
             129243,
             2014
            ],
            [
             125039000000,
             2014
            ],
            [
             5583209,
             2014
            ],
            [
             2370925,
             2014
            ],
            [
             870212731,
             2014
            ],
            [
             732511159,
             2014
            ],
            [
             445289720,
             2014
            ],
            [
             96751492,
             2014
            ],
            [
             17822217134,
             2014
            ],
            [
             589199527,
             2014
            ],
            [
             177573282,
             2014
            ],
            [
             115173538,
             2014
            ],
            [
             433718694,
             2014
            ],
            [
             5907593110,
             2014
            ],
            [
             3795468506,
             2014
            ],
            [
             147606873,
             2014
            ],
            [
             10599059012,
             2014
            ],
            [
             1160389,
             2014
            ],
            [
             117404958,
             2014
            ],
            [
             14845308,
             2014
            ],
            [
             11055728183,
             2014
            ],
            [
             6761896,
             2014
            ],
            [
             28328654153,
             2014
            ],
            [
             19091733768,
             2014
            ],
            [
             2471457697,
             2014
            ],
            [
             43250151,
             2014
            ],
            [
             7702538015,
             2014
            ],
            [
             1552214764,
             2014
            ],
            [
             1603657121,
             2014
            ],
            [
             50659754,
             2014
            ],
            [
             10339031172,
             2014
            ],
            [
             218767715,
             2014
            ],
            [
             118553923,
             2014
            ],
            [
             35117070,
             2014
            ],
            [
             278888029,
             2014
            ],
            [
             481401789,
             2014
            ],
            [
             1308492998,
             2014
            ],
            [
             43218391,
             2014
            ],
            [
             42365826424,
             2014
            ],
            [
             7961951,
             2014
            ],
            [
             935575896,
             2014
            ],
            [
             167858230,
             2014
            ],
            [
             170994732,
             2014
            ],
            [
             361114772,
             2014
            ],
            [
             249779644,
             2014
            ],
            [
             2840900,
             2014
            ],
            [
             41016446,
             2014
            ],
            [
             64275879,
             2014
            ],
            [
             1297838336,
             2014
            ],
            [
             409329253,
             2014
            ],
            [
             532483850,
             2014
            ],
            [
             5075948,
             2014
            ],
            [
             6644945697,
             2014
            ],
            [
             2923542851,
             2014
            ],
            [
             100012524,
             2014
            ],
            [
             12830752,
             2014
            ],
            [
             921154,
             2014
            ],
            [
             322347576,
             2014
            ],
            [
             169787674,
             2014
            ],
            [
             320510291,
             2014
            ],
            [
             328901509,
             2014
            ],
            [
             40619155,
             2014
            ],
            [
             109068536,
             2014
            ],
            [
             132776204,
             2014
            ],
            [
             24774238085,
             2014
            ],
            [
             519824674,
             2014
            ],
            [
             19980467,
             2014
            ],
            [
             2470491250,
             2014
            ],
            [
             88300257,
             2014
            ],
            [
             6428785964,
             2014
            ],
            [
             78157171,
             2014
            ],
            [
             383836903,
             2014
            ],
            [
             911884845,
             2014
            ],
            [
             1042230739,
             2014
            ],
            [
             64251382,
             2014
            ],
            [
             24673208,
             2014
            ],
            [
             35024536,
             2014
            ],
            [
             4668555,
             2014
            ],
            [
             45151929,
             2014
            ],
            [
             33888415,
             2014
            ],
            [
             73046221,
             2014
            ],
            [
             102885276,
             2014
            ],
            [
             205000520,
             2014
            ],
            [
             135702801,
             2014
            ],
            [
             31001828,
             2014
            ],
            [
             5996370963,
             2014
            ],
            [
             106225380,
             2014
            ],
            [
             291199069,
             2014
            ],
            [
             87350648,
             2014
            ],
            [
             77493332,
             2014
            ],
            [
             902434384,
             2014
            ],
            [
             385406604,
             2014
            ],
            [
             37156410,
             2014
            ],
            [
             443222,
             2014
            ],
            [
             737217832,
             2014
            ],
            [
             515019705,
             2014
            ],
            [
             3733869,
             2014
            ],
            [
             140882441,
             2014
            ],
            [
             37545110,
             2014
            ],
            [
             5563114,
             2014
            ],
            [
             35263107,
             2014
            ],
            [
             116611018,
             2014
            ],
            [
             4610268,
             2014
            ],
            [
             23826186984,
             2014
            ],
            [
             177264645,
             2014
            ],
            [
             127342536,
             2014
            ],
            [
             2375470125,
             2014
            ],
            [
             163436930,
             2014
            ],
            [
             3474536932,
             2014
            ],
            [
             9135911578,
             2014
            ],
            [
             1049314803,
             2014
            ],
            [
             25364568,
             2014
            ],
            [
             220311000000,
             2014
            ],
            [
             741351069,
             2014
            ],
            [
             495079929,
             2014
            ],
            [
             190892513,
             2014
            ],
            [
             2119942344,
             2014
            ],
            [
             853855634,
             2014
            ],
            [
             5178710355,
             2014
            ],
            [
             6686394230,
             2014
            ],
            [
             751055,
             2014
            ],
            [
             7723828,
             2014
            ],
            [
             105588,
             2014
            ],
            [
             4204229394,
             2014
            ],
            [
             9838440,
             2014
            ],
            [
             10798217053,
             2014
            ],
            [
             1228791865,
             2014
            ],
            [
             571577263,
             2014
            ],
            [
             1549469219,
             2014
            ],
            [
             8994218331,
             2014
            ],
            [
             396555797,
             2014
            ],
            [
             7551402,
             2014
            ],
            [
             7572425612,
             2014
            ],
            [
             18606037188,
             2014
            ],
            [
             14022293690,
             2014
            ],
            [
             35388389315,
             2014
            ],
            [
             1126993739,
             2014
            ],
            [
             9580437716,
             2014
            ],
            [
             39324472,
             2014
            ],
            [
             285099,
             2014
            ],
            [
             12350959,
             2014
            ],
            [
             560427,
             2014
            ],
            [
             23270557,
             2014
            ],
            [
             5539540,
             2014
            ],
            [
             167707582,
             2014
            ],
            [
             118567380,
             2014
            ],
            [
             48189513,
             2014
            ],
            [
             769105,
             2014
            ],
            [
             105935792,
             2014
            ],
            [
             7895546337,
             2014
            ],
            [
             53289486,
             2014
            ],
            [
             1733500637,
             2014
            ],
            [
             656247144,
             2014
            ],
            [
             15680180746,
             2014
            ],
            [
             437120732,
             2014
            ],
            [
             11648455541,
             2014
            ],
            [
             1873695366,
             2014
            ],
            [
             381857909,
             2014
            ],
            [
             686602499,
             2014
            ],
            [
             1825516210,
             2014
            ],
            [
             49737895283,
             2014
            ],
            [
             30636815809,
             2014
            ],
            [
             2401210286,
             2014
            ],
            [
             368413158,
             2014
            ],
            [
             11321203303,
             2014
            ],
            [
             2545892908,
             2014
            ],
            [
             51404820189,
             2014
            ],
            [
             2711543813,
             2014
            ],
            [
             21531135495,
             2014
            ],
            [
             96438668,
             2014
            ],
            [
             237224160,
             2014
            ],
            [
             382886502,
             2014
            ],
            [
             27719879628,
             2014
            ],
            [
             4381758499,
             2014
            ],
            [
             248547987,
             2014
            ],
            [
             69172875,
             2014
            ],
            [
             121932823,
             2014
            ],
            [
             824565111,
             2014
            ],
            [
             571276871,
             2014
            ],
            [
             292485133,
             2014
            ],
            [
             6972698755,
             2014
            ],
            [
             276831000000,
             2014
            ],
            [
             555146062,
             2014
            ],
            [
             533542714,
             2014
            ],
            [
             268450485,
             2014
            ],
            [
             3030323506,
             2014
            ],
            [
             204482567,
             2014
            ],
            [
             54026776,
             2014
            ],
            [
             1254144988,
             2014
            ],
            [
             73072934,
             2014
            ],
            [
             1475179457,
             2014
            ],
            [
             475827098,
             2014
            ],
            [
             636058869,
             2014
            ],
            [
             197609397,
             2014
            ],
            [
             4064857,
             2014
            ],
            [
             14187528163,
             2014
            ],
            [
             945149007,
             2014
            ],
            [
             1129408415,
             2014
            ],
            [
             3975045136,
             2014
            ],
            [
             4619781283,
             2014
            ],
            [
             39188198241,
             2014
            ],
            [
             28635866,
             2014
            ],
            [
             3934117528,
             2014
            ],
            [
             1900155240,
             2014
            ],
            [
             424679000000,
             2014
            ]
           ],
           "geo": "geo",
           "hovertemplate": "<b>%{hovertext}</b><br><br>Year=%{customdata[1]}<br>ISO 3=%{location}<br>Trade Value=%{z}<extra></extra>",
           "hovertext": [
            "Hong Kong",
            "Japan",
            "Jordan",
            "Israel",
            "Iraq",
            "Iran",
            "British Indian Ocean Territory",
            "Kazakhstan",
            "India",
            "Indonesia",
            "Georgia",
            "Brunei",
            "Christmas Island",
            "China",
            "Cocos (Keeling) Islands",
            "Bhutan",
            "Bahrain",
            "Bangladesh",
            "Azerbaijan",
            "Armenia",
            "United Arab Emirates",
            "Afghanistan",
            "Kyrgyzstan",
            "Cyprus",
            "Cambodia",
            "Vietnam",
            "Kuwait",
            "Uzbekistan",
            "Turkey",
            "Timor-Leste",
            "Turkmenistan",
            "Tajikistan",
            "Thailand",
            "Syria",
            "Singapore",
            "Saudi Arabia",
            "Qatar",
            "Palestine",
            "Philippines",
            "Pakistan",
            "Oman",
            "Nepal",
            "Malaysia",
            "Mongolia",
            "Burma",
            "Maldives",
            "Macau",
            "Sri Lanka",
            "Lebanon",
            "Laos",
            "South Korea",
            "French South Antarctic Territory",
            "Benin",
            "Zambia",
            "Liberia",
            "Kenya",
            "Equatorial Guinea",
            "Guinea-Bissau",
            "Gambia",
            "Guinea",
            "Ghana",
            "Gabon",
            "Ethiopia",
            "Eritrea",
            "Egypt",
            "Algeria",
            "Djibouti",
            "Cape Verde",
            "Comoros",
            "Republic of the Congo",
            "Democratic Republic of the Congo",
            "Cameroon",
            "Cote d'Ivoire",
            "Central African Republic",
            "Botswana",
            "Burkina Faso",
            "Chinese Taipei",
            "Libya",
            "Lesotho",
            "Morocco",
            "Madagascar",
            "South Africa",
            "Uganda",
            "Tanzania",
            "Tunisia",
            "Togo",
            "Chad",
            "Seychelles",
            "Eswatini",
            "Sao Tome and Principe",
            "South Sudan",
            "Somalia",
            "Zimbabwe",
            "Sierra Leone",
            "Senegal",
            "Sudan",
            "Rwanda",
            "Nigeria",
            "Niger",
            "Namibia",
            "Malawi",
            "Mauritius",
            "Mauritania",
            "Mozambique",
            "Mali",
            "Saint Helena",
            "Yemen",
            "Cayman Islands",
            "Andorra",
            "New Caledonia",
            "Marshall Islands",
            "Kiribati",
            "Micronesia",
            "Fiji",
            "Cook Islands",
            "Australia",
            "British Virgin Islands",
            "Saint Vincent and the Grenadines",
            "Trinidad and Tobago",
            "Turks and Caicos Islands",
            "El Salvador",
            "Panama",
            "Nicaragua",
            "Montserrat",
            "Mexico",
            "Saint Martin",
            "Saint Lucia",
            "Saint Kitts and Nevis",
            "Jamaica",
            "Haiti",
            "Honduras",
            "Guatemala",
            "Norfolk Island",
            "Greenland",
            "Niue",
            "New Zealand",
            "Burundi",
            "Venezuela",
            "Uruguay",
            "Suriname",
            "Paraguay",
            "Peru",
            "Guyana",
            "Falkland Islands",
            "Ecuador",
            "Colombia",
            "Chile",
            "Brazil",
            "Bolivia",
            "Argentina",
            "Samoa",
            "Wallis and Futuna",
            "Vanuatu",
            "Tuvalu",
            "Tonga",
            "Solomon Islands",
            "French Polynesia",
            "Papua New Guinea",
            "Palau",
            "Nauru",
            "Grenada",
            "Dominican Republic",
            "Dominica",
            "Luxembourg",
            "Lithuania",
            "Italy",
            "Iceland",
            "Ireland",
            "Hungary",
            "Croatia",
            "Greece",
            "Gibraltar",
            "United Kingdom",
            "France",
            "Finland",
            "Estonia",
            "Spain",
            "Denmark",
            "Germany",
            "Czechia",
            "Switzerland",
            "Belarus",
            "Bosnia and Herzegovina",
            "Bulgaria",
            "Belgium",
            "Austria",
            "Latvia",
            "Moldova",
            "North Macedonia",
            "Malta",
            "Curaçao",
            "Cuba",
            "Costa Rica",
            "Canada",
            "Barbados",
            "Bermuda",
            "Belize",
            "Bahamas",
            "Antigua and Barbuda",
            "Anguilla",
            "Aruba",
            "Albania",
            "Ukraine",
            "Slovenia",
            "Slovakia",
            "Serbia",
            "San Marino",
            "Russia",
            "Romania",
            "Portugal",
            "Poland",
            "Norway",
            "Netherlands",
            "Montenegro",
            "Sweden",
            "Angola",
            "United States"
           ],
           "locations": [
            "HKG",
            "JPN",
            "JOR",
            "ISR",
            "IRQ",
            "IRN",
            "IOT",
            "KAZ",
            "IND",
            "IDN",
            "GEO",
            "BRN",
            "CXR",
            "CHN",
            "CCK",
            "BTN",
            "BHR",
            "BGD",
            "AZE",
            "ARM",
            "ARE",
            "AFG",
            "KGZ",
            "CYP",
            "KHM",
            "VNM",
            "KWT",
            "UZB",
            "TUR",
            "TLS",
            "TKM",
            "TJK",
            "THA",
            "SYR",
            "SGP",
            "SAU",
            "QAT",
            "PSE",
            "PHL",
            "PAK",
            "OMN",
            "NPL",
            "MYS",
            "MNG",
            "MMR",
            "MDV",
            "MAC",
            "LKA",
            "LBN",
            "LAO",
            "KOR",
            "ATF",
            "BEN",
            "ZMB",
            "LBR",
            "KEN",
            "GNQ",
            "GNB",
            "GMB",
            "GIN",
            "GHA",
            "GAB",
            "ETH",
            "ERI",
            "EGY",
            "DZA",
            "DJI",
            "CPV",
            "COM",
            "COG",
            "COD",
            "CMR",
            "CIV",
            "CAF",
            "BWA",
            "BFA",
            null,
            "LBY",
            "LSO",
            "MAR",
            "MDG",
            "ZAF",
            "UGA",
            "TZA",
            "TUN",
            "TGO",
            "TCD",
            "SYC",
            "SWZ",
            "STP",
            "SSD",
            "SOM",
            "ZWE",
            "SLE",
            "SEN",
            "SDN",
            "RWA",
            "NGA",
            "NER",
            "NAM",
            "MWI",
            "MUS",
            "MRT",
            "MOZ",
            "MLI",
            "SHN",
            "YEM",
            "CYM",
            "AND",
            "NCL",
            "MHL",
            "KIR",
            "FSM",
            "FJI",
            "COK",
            "AUS",
            "VGB",
            "VCT",
            "TTO",
            "TCA",
            "SLV",
            "PAN",
            "NIC",
            "MSR",
            "MEX",
            "MAF",
            "LCA",
            "KNA",
            "JAM",
            "HTI",
            "HND",
            "GTM",
            "NFK",
            "GRL",
            "NIU",
            "NZL",
            "BDI",
            "VEN",
            "URY",
            "SUR",
            "PRY",
            "PER",
            "GUY",
            "FLK",
            "ECU",
            "COL",
            "CHL",
            "BRA",
            "BOL",
            "ARG",
            "WSM",
            "WLF",
            "VUT",
            "TUV",
            "TON",
            "SLB",
            "PYF",
            "PNG",
            "PLW",
            "NRU",
            "GRD",
            "DOM",
            "DMA",
            "LUX",
            "LTU",
            "ITA",
            "ISL",
            "IRL",
            "HUN",
            "HRV",
            "GRC",
            "GIB",
            "GBR",
            "FRA",
            "FIN",
            "EST",
            "ESP",
            "DNK",
            "DEU",
            "CZE",
            "CHE",
            "BLR",
            "BIH",
            "BGR",
            "BEL",
            "AUT",
            "LVA",
            "MDA",
            "MKD",
            "MLT",
            "CUW",
            "CUB",
            "CRI",
            "CAN",
            "BRB",
            "BMU",
            "BLZ",
            "BHS",
            "ATG",
            "AIA",
            "ABW",
            "ALB",
            "UKR",
            "SVN",
            "SVK",
            "SRB",
            "SMR",
            "RUS",
            "ROU",
            "PRT",
            "POL",
            "NOR",
            "NLD",
            "MNE",
            "SWE",
            "AGO",
            "USA"
           ],
           "name": "",
           "type": "choropleth",
           "z": [
            37841480201,
            64609408891,
            1378240992,
            11195250717,
            2036895985,
            208914442,
            2024194,
            1569971421,
            20862472614,
            6832420810,
            551202527,
            329245662,
            129243,
            125039000000,
            5583209,
            2370925,
            870212731,
            732511159,
            445289720,
            96751492,
            17822217134,
            589199527,
            177573282,
            115173538,
            433718694,
            5907593110,
            3795468506,
            147606873,
            10599059012,
            1160389,
            117404958,
            14845308,
            11055728183,
            6761896,
            28328654153,
            19091733768,
            2471457697,
            43250151,
            7702538015,
            1552214764,
            1603657121,
            50659754,
            10339031172,
            218767715,
            118553923,
            35117070,
            278888029,
            481401789,
            1308492998,
            43218391,
            42365826424,
            7961951,
            935575896,
            167858230,
            170994732,
            361114772,
            249779644,
            2840900,
            41016446,
            64275879,
            1297838336,
            409329253,
            532483850,
            5075948,
            6644945697,
            2923542851,
            100012524,
            12830752,
            921154,
            322347576,
            169787674,
            320510291,
            328901509,
            40619155,
            109068536,
            132776204,
            24774238085,
            519824674,
            19980467,
            2470491250,
            88300257,
            6428785964,
            78157171,
            383836903,
            911884845,
            1042230739,
            64251382,
            24673208,
            35024536,
            4668555,
            45151929,
            33888415,
            73046221,
            102885276,
            205000520,
            135702801,
            31001828,
            5996370963,
            106225380,
            291199069,
            87350648,
            77493332,
            902434384,
            385406604,
            37156410,
            443222,
            737217832,
            515019705,
            3733869,
            140882441,
            37545110,
            5563114,
            35263107,
            116611018,
            4610268,
            23826186984,
            177264645,
            127342536,
            2375470125,
            163436930,
            3474536932,
            9135911578,
            1049314803,
            25364568,
            220311000000,
            741351069,
            495079929,
            190892513,
            2119942344,
            853855634,
            5178710355,
            6686394230,
            751055,
            7723828,
            105588,
            4204229394,
            9838440,
            10798217053,
            1228791865,
            571577263,
            1549469219,
            8994218331,
            396555797,
            7551402,
            7572425612,
            18606037188,
            14022293690,
            35388389315,
            1126993739,
            9580437716,
            39324472,
            285099,
            12350959,
            560427,
            23270557,
            5539540,
            167707582,
            118567380,
            48189513,
            769105,
            105935792,
            7895546337,
            53289486,
            1733500637,
            656247144,
            15680180746,
            437120732,
            11648455541,
            1873695366,
            381857909,
            686602499,
            1825516210,
            49737895283,
            30636815809,
            2401210286,
            368413158,
            11321203303,
            2545892908,
            51404820189,
            2711543813,
            21531135495,
            96438668,
            237224160,
            382886502,
            27719879628,
            4381758499,
            248547987,
            69172875,
            121932823,
            824565111,
            571276871,
            292485133,
            6972698755,
            276831000000,
            555146062,
            533542714,
            268450485,
            3030323506,
            204482567,
            54026776,
            1254144988,
            73072934,
            1475179457,
            475827098,
            636058869,
            197609397,
            4064857,
            14187528163,
            945149007,
            1129408415,
            3975045136,
            4619781283,
            39188198241,
            28635866,
            3934117528,
            1900155240,
            424679000000
           ]
          }
         ],
         "name": "2014"
        },
        {
         "data": [
          {
           "coloraxis": "coloraxis",
           "customdata": [
            [
             23011017172,
             2015
            ],
            [
             92404449,
             2015
            ],
            [
             985038352,
             2015
            ],
            [
             59885382951,
             2015
            ],
            [
             1160369844,
             2015
            ],
            [
             10426892335,
             2015
            ],
            [
             1553462351,
             2015
            ],
            [
             304528649,
             2015
            ],
            [
             572656,
             2015
            ],
            [
             20560312983,
             2015
            ],
            [
             6064283768,
             2015
            ],
            [
             34513432237,
             2015
            ],
            [
             346745629,
             2015
            ],
            [
             100801408,
             2015
            ],
            [
             1483723,
             2015
            ],
            [
             118274000000,
             2015
            ],
            [
             513957,
             2015
            ],
            [
             2420407,
             2015
            ],
            [
             262356850,
             2015
            ],
            [
             1079916975,
             2015
            ],
            [
             1005718499,
             2015
            ],
            [
             355058917,
             2015
            ],
            [
             92372955,
             2015
            ],
            [
             19421204175,
             2015
            ],
            [
             437133409,
             2015
            ],
            [
             389128858,
             2015
            ],
            [
             41249347177,
             2015
            ],
            [
             37742262,
             2015
            ],
            [
             7014855087,
             2015
            ],
            [
             81136998,
             2015
            ],
            [
             9619241704,
             2015
            ],
            [
             2569033,
             2015
            ],
            [
             78713805,
             2015
            ],
            [
             17895255,
             2015
            ],
            [
             11794565031,
             2015
            ],
            [
             3064304,
             2015
            ],
            [
             26450357078,
             2015
            ],
            [
             17807304125,
             2015
            ],
            [
             2412103491,
             2015
            ],
            [
             45324129,
             2015
            ],
            [
             7029964189,
             2015
            ],
            [
             1975882643,
             2015
            ],
            [
             2149553616,
             2015
            ],
            [
             61232837,
             2015
            ],
            [
             11749021895,
             2015
            ],
            [
             102817833,
             2015
            ],
            [
             169058572,
             2015
            ],
            [
             39986269,
             2015
            ],
            [
             265653289,
             2015
            ],
            [
             433075021,
             2015
            ],
            [
             1330777788,
             2015
            ],
            [
             2704252736,
             2015
            ],
            [
             7090405,
             2015
            ],
            [
             69565707,
             2015
            ],
            [
             136837381,
             2015
            ],
            [
             125402745,
             2015
            ],
            [
             1164539254,
             2015
            ],
            [
             154397041,
             2015
            ],
            [
             2060061,
             2015
            ],
            [
             46710926,
             2015
            ],
            [
             130323318,
             2015
            ],
            [
             919732844,
             2015
            ],
            [
             198931960,
             2015
            ],
            [
             625963394,
             2015
            ],
            [
             3328650,
             2015
            ],
            [
             4805447919,
             2015
            ],
            [
             2131379421,
             2015
            ],
            [
             126785914,
             2015
            ],
            [
             12929939,
             2015
            ],
            [
             1476637,
             2015
            ],
            [
             749639192,
             2015
            ],
            [
             580623026,
             2015
            ],
            [
             231481470,
             2015
            ],
            [
             350808277,
             2015
            ],
            [
             67090512,
             2015
            ],
            [
             76326556,
             2015
            ],
            [
             128230485,
             2015
            ],
            [
             640748710,
             2015
            ],
            [
             238992359,
             2015
            ],
            [
             5745341,
             2015
            ],
            [
             1986766561,
             2015
            ],
            [
             108760536,
             2015
            ],
            [
             5742787173,
             2015
            ],
            [
             74942737,
             2015
            ],
            [
             259770733,
             2015
            ],
            [
             655231158,
             2015
            ],
            [
             321084740,
             2015
            ],
            [
             54077106,
             2015
            ],
            [
             23391305,
             2015
            ],
            [
             34975729,
             2015
            ],
            [
             1624923,
             2015
            ],
            [
             16311783,
             2015
            ],
            [
             43661058,
             2015
            ],
            [
             301155776,
             2015
            ],
            [
             86973493,
             2015
            ],
            [
             212428083,
             2015
            ],
            [
             80570692,
             2015
            ],
            [
             37316531,
             2015
            ],
            [
             3469462846,
             2015
            ],
            [
             126109025,
             2015
            ],
            [
             103794943,
             2015
            ],
            [
             53351302,
             2015
            ],
            [
             92537322,
             2015
            ],
            [
             882947506,
             2015
            ],
            [
             220658893,
             2015
            ],
            [
             69252780,
             2015
            ],
            [
             3620546,
             2015
            ],
            [
             54045459,
             2015
            ],
            [
             3316322,
             2015
            ],
            [
             4566395876,
             2015
            ],
            [
             44347685,
             2015
            ],
            [
             5509242,
             2015
            ],
            [
             33852849,
             2015
            ],
            [
             62927198,
             2015
            ],
            [
             3585626,
             2015
            ],
            [
             22748453442,
             2015
            ],
            [
             160177766,
             2015
            ],
            [
             119185957,
             2015
            ],
            [
             2777372414,
             2015
            ],
            [
             162763350,
             2015
            ],
            [
             208490,
             2015
            ],
            [
             3145488809,
             2015
            ],
            [
             6656865059,
             2015
            ],
            [
             1199672021,
             2015
            ],
            [
             15219154,
             2015
            ],
            [
             214291000000,
             2015
            ],
            [
             702828763,
             2015
            ],
            [
             389475535,
             2015
            ],
            [
             160320285,
             2015
            ],
            [
             1691993148,
             2015
            ],
            [
             711582704,
             2015
            ],
            [
             4734531682,
             2015
            ],
            [
             6075973356,
             2015
            ],
            [
             105681453,
             2015
            ],
            [
             309674,
             2015
            ],
            [
             67227,
             2015
            ],
            [
             1299861,
             2015
            ],
            [
             434534000000,
             2015
            ],
            [
             8095631468,
             2015
            ],
            [
             1050974273,
             2015
            ],
            [
             474579866,
             2015
            ],
            [
             1274979879,
             2015
            ],
            [
             7920072890,
             2015
            ],
            [
             379479416,
             2015
            ],
            [
             2141997,
             2015
            ],
            [
             5215344447,
             2015
            ],
            [
             15673700821,
             2015
            ],
            [
             11885788473,
             2015
            ],
            [
             8345828,
             2015
            ],
            [
             26597912214,
             2015
            ],
            [
             8249587091,
             2015
            ],
            [
             36369286,
             2015
            ],
            [
             330455,
             2015
            ],
            [
             3627823,
             2015
            ],
            [
             587828,
             2015
            ],
            [
             11351932,
             2015
            ],
            [
             4926053,
             2015
            ],
            [
             145934324,
             2015
            ],
            [
             177880242,
             2015
            ],
            [
             51265999,
             2015
            ],
            [
             3619598679,
             2015
            ],
            [
             929462993,
             2015
            ],
            [
             10734619,
             2015
            ],
            [
             109142434,
             2015
            ],
            [
             54988608,
             2015
            ],
            [
             178791978,
             2015
            ],
            [
             1873945663,
             2015
            ],
            [
             501560581,
             2015
            ],
            [
             15140511152,
             2015
            ],
            [
             368819046,
             2015
            ],
            [
             11799089540,
             2015
            ],
            [
             1765567412,
             2015
            ],
            [
             357471788,
             2015
            ],
            [
             699399462,
             2015
            ],
            [
             1458114596,
             2015
            ],
            [
             54171600336,
             2015
            ],
            [
             28971225414,
             2015
            ],
            [
             1639579394,
             2015
            ],
            [
             299780147,
             2015
            ],
            [
             11733006943,
             2015
            ],
            [
             2081087985,
             2015
            ],
            [
             52514272662,
             2015
            ],
            [
             2419072933,
             2015
            ],
            [
             20429778926,
             2015
            ],
            [
             237252255,
             2015
            ],
            [
             172548511,
             2015
            ],
            [
             291903248,
             2015
            ],
            [
             25919637603,
             2015
            ],
            [
             43495341,
             2015
            ],
            [
             80065075,
             2015
            ],
            [
             365871615,
             2015
            ],
            [
             20770630,
             2015
            ],
            [
             518427797,
             2015
            ],
            [
             484641524,
             2015
            ],
            [
             175966193,
             2015
            ],
            [
             5835564932,
             2015
            ],
            [
             246027000000,
             2015
            ],
            [
             605174120,
             2015
            ],
            [
             548969437,
             2015
            ],
            [
             311855148,
             2015
            ],
            [
             2249144154,
             2015
            ],
            [
             468871881,
             2015
            ],
            [
             41145755,
             2015
            ],
            [
             7096979603,
             2015
            ],
            [
             1079713144,
             2015
            ],
            [
             3755476735,
             2015
            ],
            [
             479999188,
             2015
            ],
            [
             586065732,
             2015
            ],
            [
             225469066,
             2015
            ],
            [
             1314055,
             2015
            ],
            [
             8445815504,
             2015
            ],
            [
             756452312,
             2015
            ],
            [
             1028528953,
             2015
            ],
            [
             3768613883,
             2015
            ],
            [
             3999682724,
             2015
            ],
            [
             37332483323,
             2015
            ],
            [
             1081838735,
             2015
            ],
            [
             1351842292,
             2015
            ]
           ],
           "geo": "geo",
           "hovertemplate": "<b>%{hovertext}</b><br><br>Year=%{customdata[1]}<br>ISO 3=%{location}<br>Trade Value=%{z}<extra></extra>",
           "hovertext": [
            "Chinese Taipei",
            "Kyrgyzstan",
            "Kazakhstan",
            "Japan",
            "Jordan",
            "Israel",
            "Iraq",
            "Iran",
            "British Indian Ocean Territory",
            "India",
            "Indonesia",
            "Hong Kong",
            "Georgia",
            "Cyprus",
            "Christmas Island",
            "China",
            "Cocos (Keeling) Islands",
            "Bhutan",
            "Brunei",
            "Bahrain",
            "Bangladesh",
            "Azerbaijan",
            "Armenia",
            "United Arab Emirates",
            "Cambodia",
            "Afghanistan",
            "South Korea",
            "Laos",
            "Vietnam",
            "Uzbekistan",
            "Turkey",
            "Timor-Leste",
            "Turkmenistan",
            "Tajikistan",
            "Thailand",
            "Syria",
            "Singapore",
            "Saudi Arabia",
            "Qatar",
            "Palestine",
            "Philippines",
            "Pakistan",
            "Oman",
            "Nepal",
            "Malaysia",
            "Mongolia",
            "Burma",
            "Maldives",
            "Macau",
            "Sri Lanka",
            "Lebanon",
            "Kuwait",
            "French South Antarctic Territory",
            "Zimbabwe",
            "Zambia",
            "Liberia",
            "Kenya",
            "Equatorial Guinea",
            "Guinea-Bissau",
            "Gambia",
            "Guinea",
            "Ghana",
            "Gabon",
            "Ethiopia",
            "Eritrea",
            "Egypt",
            "Algeria",
            "Djibouti",
            "Cape Verde",
            "Comoros",
            "Republic of the Congo",
            "Democratic Republic of the Congo",
            "Cameroon",
            "Cote d'Ivoire",
            "Central African Republic",
            "Botswana",
            "Burkina Faso",
            "Benin",
            "Libya",
            "Lesotho",
            "Morocco",
            "Madagascar",
            "South Africa",
            "Uganda",
            "Tanzania",
            "Tunisia",
            "Togo",
            "Chad",
            "Seychelles",
            "Eswatini",
            "Sao Tome and Principe",
            "South Sudan",
            "Somalia",
            "Yemen",
            "Sierra Leone",
            "Senegal",
            "Sudan",
            "Rwanda",
            "Nigeria",
            "Niger",
            "Namibia",
            "Malawi",
            "Mauritius",
            "Mauritania",
            "Mozambique",
            "Mali",
            "Saint Helena",
            "Albania",
            "Andorra",
            "Austria",
            "Marshall Islands",
            "Kiribati",
            "Micronesia",
            "Fiji",
            "Cook Islands",
            "Australia",
            "British Virgin Islands",
            "Saint Vincent and the Grenadines",
            "Trinidad and Tobago",
            "Turks and Caicos Islands",
            "Saint Pierre and Miquelon",
            "El Salvador",
            "Panama",
            "Nicaragua",
            "Montserrat",
            "Mexico",
            "Saint Martin",
            "Saint Lucia",
            "Saint Kitts and Nevis",
            "Jamaica",
            "Haiti",
            "Honduras",
            "Guatemala",
            "New Caledonia",
            "Norfolk Island",
            "Niue",
            "Nauru",
            "United States",
            "Venezuela",
            "Uruguay",
            "Suriname",
            "Paraguay",
            "Peru",
            "Guyana",
            "Falkland Islands",
            "Ecuador",
            "Colombia",
            "Chile",
            "Greenland",
            "Brazil",
            "Argentina",
            "Samoa",
            "Wallis and Futuna",
            "Vanuatu",
            "Tuvalu",
            "Tonga",
            "Solomon Islands",
            "French Polynesia",
            "Papua New Guinea",
            "Palau",
            "New Zealand",
            "Bolivia",
            "Burundi",
            "Grenada",
            "Dominica",
            "Latvia",
            "Luxembourg",
            "Lithuania",
            "Italy",
            "Iceland",
            "Ireland",
            "Hungary",
            "Croatia",
            "Greece",
            "Gibraltar",
            "United Kingdom",
            "France",
            "Finland",
            "Estonia",
            "Spain",
            "Denmark",
            "Germany",
            "Czechia",
            "Switzerland",
            "Belarus",
            "Bosnia and Herzegovina",
            "Bulgaria",
            "Belgium",
            "Moldova",
            "North Macedonia",
            "Malta",
            "Montenegro",
            "Cayman Islands",
            "Curaçao",
            "Cuba",
            "Costa Rica",
            "Canada",
            "Barbados",
            "Bermuda",
            "Belize",
            "Bahamas",
            "Antigua and Barbuda",
            "Anguilla",
            "Dominican Republic",
            "Aruba",
            "Sweden",
            "Slovenia",
            "Slovakia",
            "Serbia",
            "San Marino",
            "Russia",
            "Romania",
            "Portugal",
            "Poland",
            "Norway",
            "Netherlands",
            "Ukraine",
            "Angola"
           ],
           "locations": [
            null,
            "KGZ",
            "KAZ",
            "JPN",
            "JOR",
            "ISR",
            "IRQ",
            "IRN",
            "IOT",
            "IND",
            "IDN",
            "HKG",
            "GEO",
            "CYP",
            "CXR",
            "CHN",
            "CCK",
            "BTN",
            "BRN",
            "BHR",
            "BGD",
            "AZE",
            "ARM",
            "ARE",
            "KHM",
            "AFG",
            "KOR",
            "LAO",
            "VNM",
            "UZB",
            "TUR",
            "TLS",
            "TKM",
            "TJK",
            "THA",
            "SYR",
            "SGP",
            "SAU",
            "QAT",
            "PSE",
            "PHL",
            "PAK",
            "OMN",
            "NPL",
            "MYS",
            "MNG",
            "MMR",
            "MDV",
            "MAC",
            "LKA",
            "LBN",
            "KWT",
            "ATF",
            "ZWE",
            "ZMB",
            "LBR",
            "KEN",
            "GNQ",
            "GNB",
            "GMB",
            "GIN",
            "GHA",
            "GAB",
            "ETH",
            "ERI",
            "EGY",
            "DZA",
            "DJI",
            "CPV",
            "COM",
            "COG",
            "COD",
            "CMR",
            "CIV",
            "CAF",
            "BWA",
            "BFA",
            "BEN",
            "LBY",
            "LSO",
            "MAR",
            "MDG",
            "ZAF",
            "UGA",
            "TZA",
            "TUN",
            "TGO",
            "TCD",
            "SYC",
            "SWZ",
            "STP",
            "SSD",
            "SOM",
            "YEM",
            "SLE",
            "SEN",
            "SDN",
            "RWA",
            "NGA",
            "NER",
            "NAM",
            "MWI",
            "MUS",
            "MRT",
            "MOZ",
            "MLI",
            "SHN",
            "ALB",
            "AND",
            "AUT",
            "MHL",
            "KIR",
            "FSM",
            "FJI",
            "COK",
            "AUS",
            "VGB",
            "VCT",
            "TTO",
            "TCA",
            "SPM",
            "SLV",
            "PAN",
            "NIC",
            "MSR",
            "MEX",
            "MAF",
            "LCA",
            "KNA",
            "JAM",
            "HTI",
            "HND",
            "GTM",
            "NCL",
            "NFK",
            "NIU",
            "NRU",
            "USA",
            "VEN",
            "URY",
            "SUR",
            "PRY",
            "PER",
            "GUY",
            "FLK",
            "ECU",
            "COL",
            "CHL",
            "GRL",
            "BRA",
            "ARG",
            "WSM",
            "WLF",
            "VUT",
            "TUV",
            "TON",
            "SLB",
            "PYF",
            "PNG",
            "PLW",
            "NZL",
            "BOL",
            "BDI",
            "GRD",
            "DMA",
            "LVA",
            "LUX",
            "LTU",
            "ITA",
            "ISL",
            "IRL",
            "HUN",
            "HRV",
            "GRC",
            "GIB",
            "GBR",
            "FRA",
            "FIN",
            "EST",
            "ESP",
            "DNK",
            "DEU",
            "CZE",
            "CHE",
            "BLR",
            "BIH",
            "BGR",
            "BEL",
            "MDA",
            "MKD",
            "MLT",
            "MNE",
            "CYM",
            "CUW",
            "CUB",
            "CRI",
            "CAN",
            "BRB",
            "BMU",
            "BLZ",
            "BHS",
            "ATG",
            "AIA",
            "DOM",
            "ABW",
            "SWE",
            "SVN",
            "SVK",
            "SRB",
            "SMR",
            "RUS",
            "ROU",
            "PRT",
            "POL",
            "NOR",
            "NLD",
            "UKR",
            "AGO"
           ],
           "name": "",
           "type": "choropleth",
           "z": [
            23011017172,
            92404449,
            985038352,
            59885382951,
            1160369844,
            10426892335,
            1553462351,
            304528649,
            572656,
            20560312983,
            6064283768,
            34513432237,
            346745629,
            100801408,
            1483723,
            118274000000,
            513957,
            2420407,
            262356850,
            1079916975,
            1005718499,
            355058917,
            92372955,
            19421204175,
            437133409,
            389128858,
            41249347177,
            37742262,
            7014855087,
            81136998,
            9619241704,
            2569033,
            78713805,
            17895255,
            11794565031,
            3064304,
            26450357078,
            17807304125,
            2412103491,
            45324129,
            7029964189,
            1975882643,
            2149553616,
            61232837,
            11749021895,
            102817833,
            169058572,
            39986269,
            265653289,
            433075021,
            1330777788,
            2704252736,
            7090405,
            69565707,
            136837381,
            125402745,
            1164539254,
            154397041,
            2060061,
            46710926,
            130323318,
            919732844,
            198931960,
            625963394,
            3328650,
            4805447919,
            2131379421,
            126785914,
            12929939,
            1476637,
            749639192,
            580623026,
            231481470,
            350808277,
            67090512,
            76326556,
            128230485,
            640748710,
            238992359,
            5745341,
            1986766561,
            108760536,
            5742787173,
            74942737,
            259770733,
            655231158,
            321084740,
            54077106,
            23391305,
            34975729,
            1624923,
            16311783,
            43661058,
            301155776,
            86973493,
            212428083,
            80570692,
            37316531,
            3469462846,
            126109025,
            103794943,
            53351302,
            92537322,
            882947506,
            220658893,
            69252780,
            3620546,
            54045459,
            3316322,
            4566395876,
            44347685,
            5509242,
            33852849,
            62927198,
            3585626,
            22748453442,
            160177766,
            119185957,
            2777372414,
            162763350,
            208490,
            3145488809,
            6656865059,
            1199672021,
            15219154,
            214291000000,
            702828763,
            389475535,
            160320285,
            1691993148,
            711582704,
            4734531682,
            6075973356,
            105681453,
            309674,
            67227,
            1299861,
            434534000000,
            8095631468,
            1050974273,
            474579866,
            1274979879,
            7920072890,
            379479416,
            2141997,
            5215344447,
            15673700821,
            11885788473,
            8345828,
            26597912214,
            8249587091,
            36369286,
            330455,
            3627823,
            587828,
            11351932,
            4926053,
            145934324,
            177880242,
            51265999,
            3619598679,
            929462993,
            10734619,
            109142434,
            54988608,
            178791978,
            1873945663,
            501560581,
            15140511152,
            368819046,
            11799089540,
            1765567412,
            357471788,
            699399462,
            1458114596,
            54171600336,
            28971225414,
            1639579394,
            299780147,
            11733006943,
            2081087985,
            52514272662,
            2419072933,
            20429778926,
            237252255,
            172548511,
            291903248,
            25919637603,
            43495341,
            80065075,
            365871615,
            20770630,
            518427797,
            484641524,
            175966193,
            5835564932,
            246027000000,
            605174120,
            548969437,
            311855148,
            2249144154,
            468871881,
            41145755,
            7096979603,
            1079713144,
            3755476735,
            479999188,
            586065732,
            225469066,
            1314055,
            8445815504,
            756452312,
            1028528953,
            3768613883,
            3999682724,
            37332483323,
            1081838735,
            1351842292
           ]
          }
         ],
         "name": "2015"
        },
        {
         "data": [
          {
           "coloraxis": "coloraxis",
           "customdata": [
            [
             407786000000,
             2016
            ],
            [
             756320490,
             2016
            ],
            [
             319726470,
             2016
            ],
            [
             30071587,
             2016
            ],
            [
             35839357238,
             2016
            ],
            [
             3585558828,
             2016
            ],
            [
             4039922617,
             2016
            ],
            [
             1001271949,
             2016
            ],
            [
             707969912,
             2016
            ],
            [
             8146193146,
             2016
            ],
            [
             2338357,
             2016
            ],
            [
             234587967,
             2016
            ],
            [
             545818455,
             2016
            ],
            [
             498801974,
             2016
            ],
            [
             3555371028,
             2016
            ],
            [
             1236173500,
             2016
            ],
            [
             759026490,
             2016
            ],
            [
             36729482,
             2016
            ],
            [
             230082874,
             2016
            ],
            [
             1939934447,
             2016
            ],
            [
             299096227,
             2016
            ],
            [
             602722248,
             2016
            ],
            [
             534725710,
             2016
            ],
            [
             232270000000,
             2016
            ],
            [
             5696825361,
             2016
            ],
            [
             123667197,
             2016
            ],
            [
             44736438,
             2016
            ],
            [
             182526949,
             2016
            ],
            [
             1692855468,
             2016
            ],
            [
             79006741,
             2016
            ],
            [
             2867259,
             2016
            ],
            [
             4233192802,
             2016
            ],
            [
             26590186624,
             2016
            ],
            [
             249834969,
             2016
            ],
            [
             138484293,
             2016
            ],
            [
             279164363,
             2016
            ],
            [
             23719446468,
             2016
            ],
            [
             2383606196,
             2016
            ],
            [
             50654964962,
             2016
            ],
            [
             2193944520,
             2016
            ],
            [
             824240315,
             2016
            ],
            [
             12066111679,
             2016
            ],
            [
             1680103724,
             2016
            ],
            [
             28964730794,
             2016
            ],
            [
             49327196256,
             2016
            ],
            [
             1170496988,
             2016
            ],
            [
             777193296,
             2016
            ],
            [
             325845164,
             2016
            ],
            [
             1843705115,
             2016
            ],
            [
             14400167711,
             2016
            ],
            [
             509068232,
             2016
            ],
            [
             15106713569,
             2016
            ],
            [
             413328325,
             2016
            ],
            [
             314548813,
             2016
            ],
            [
             169032377,
             2016
            ],
            [
             572852925,
             2016
            ],
            [
             7556797592,
             2016
            ],
            [
             450681,
             2016
            ],
            [
             3459099192,
             2016
            ],
            [
             55985194,
             2016
            ],
            [
             88069617,
             2016
            ],
            [
             142801767,
             2016
            ],
            [
             8867426,
             2016
            ],
            [
             12333015,
             2016
            ],
            [
             1080555,
             2016
            ],
            [
             3872480,
             2016
            ],
            [
             164563,
             2016
            ],
            [
             38205984,
             2016
            ],
            [
             7529790362,
             2016
            ],
            [
             667128926,
             2016
            ],
            [
             25593601037,
             2016
            ],
            [
             10243833344,
             2016
            ],
            [
             12127869375,
             2016
            ],
            [
             4013904968,
             2016
            ],
            [
             1374551,
             2016
            ],
            [
             416647191,
             2016
            ],
            [
             7214534739,
             2016
            ],
            [
             1270079866,
             2016
            ],
            [
             295902506,
             2016
            ],
            [
             5041739551,
             2016
            ],
            [
             72436,
             2016
            ],
            [
             111396,
             2016
            ],
            [
             51782446,
             2016
            ],
            [
             244930874,
             2016
            ],
            [
             107794194,
             2016
            ],
            [
             6377574,
             2016
            ],
            [
             6001683310,
             2016
            ],
            [
             4151734615,
             2016
            ],
            [
             702618926,
             2016
            ],
            [
             1725428633,
             2016
            ],
            [
             179922477,
             2016
            ],
            [
             368076326,
             2016
            ],
            [
             677028122,
             2016
            ],
            [
             208988000000,
             2016
            ],
            [
             20371009,
             2016
            ],
            [
             45879307,
             2016
            ],
            [
             1561688630,
             2016
            ],
            [
             2884011930,
             2016
            ],
            [
             36562,
             2016
            ],
            [
             172549343,
             2016
            ],
            [
             2505096906,
             2016
            ],
            [
             127088111,
             2016
            ],
            [
             161111339,
             2016
            ],
            [
             20901685537,
             2016
            ],
            [
             3762797,
             2016
            ],
            [
             62553634,
             2016
            ],
            [
             36197362,
             2016
            ],
            [
             3986284,
             2016
            ],
            [
             5456921357,
             2016
            ],
            [
             25216996142,
             2016
            ],
            [
             236035860,
             2016
            ],
            [
             1047747648,
             2016
            ],
            [
             111512771,
             2016
            ],
            [
             188403201,
             2016
            ],
            [
             256635486,
             2016
            ],
            [
             90696086,
             2016
            ],
            [
             48311306,
             2016
            ],
            [
             150028495,
             2016
            ],
            [
             132073782,
             2016
            ],
            [
             2207944424,
             2016
            ],
            [
             49910936,
             2016
            ],
            [
             73146111,
             2016
            ],
            [
             194370925,
             2016
            ],
            [
             729010,
             2016
            ],
            [
             86649169,
             2016
            ],
            [
             35522483,
             2016
            ],
            [
             8582316,
             2016
            ],
            [
             3082466,
             2016
            ],
            [
             26901900,
             2016
            ],
            [
             17942237,
             2016
            ],
            [
             27247622,
             2016
            ],
            [
             235592668,
             2016
            ],
            [
             624063811,
             2016
            ],
            [
             203131906,
             2016
            ],
            [
             68593914,
             2016
            ],
            [
             2221793909,
             2016
            ],
            [
             6393700,
             2016
            ],
            [
             183623044,
             2016
            ],
            [
             145570998,
             2016
            ],
            [
             8623897865,
             2016
            ],
            [
             12554692,
             2016
            ],
            [
             240939214,
             2016
            ],
            [
             160673344,
             2016
            ],
            [
             45400159,
             2016
            ],
            [
             40549193,
             2016
            ],
            [
             315002642,
             2016
            ],
            [
             202658439,
             2016
            ],
            [
             419382224,
             2016
            ],
            [
             951650489,
             2016
            ],
            [
             1634934,
             2016
            ],
            [
             4676157209,
             2016
            ],
            [
             14113330,
             2016
            ],
            [
             2360975371,
             2016
            ],
            [
             3423994440,
             2016
            ],
            [
             2936878,
             2016
            ],
            [
             1227118573,
             2016
            ],
            [
             74861419,
             2016
            ],
            [
             819177986,
             2016
            ],
            [
             93573020,
             2016
            ],
            [
             39047532,
             2016
            ],
            [
             3402416,
             2016
            ],
            [
             273751262,
             2016
            ],
            [
             446129244,
             2016
            ],
            [
             115462838,
             2016
            ],
            [
             109259216,
             2016
            ],
            [
             96436084,
             2016
            ],
            [
             42142132,
             2016
            ],
            [
             2891967647,
             2016
            ],
            [
             38961351,
             2016
            ],
            [
             1245497436,
             2016
            ],
            [
             494284559,
             2016
            ],
            [
             336695552,
             2016
            ],
            [
             40777036,
             2016
            ],
            [
             223159084,
             2016
            ],
            [
             121578017,
             2016
            ],
            [
             11681231414,
             2016
            ],
            [
             1797750931,
             2016
            ],
            [
             2179152546,
             2016
            ],
            [
             7382595649,
             2016
            ],
            [
             51263515,
             2016
            ],
            [
             3773749496,
             2016
            ],
            [
             14646085900,
             2016
            ],
            [
             24216722358,
             2016
            ],
            [
             3490887,
             2016
            ],
            [
             10536917010,
             2016
            ],
            [
             32288713,
             2016
            ],
            [
             43508171,
             2016
            ],
            [
             1462039,
             2016
            ],
            [
             9597102230,
             2016
            ],
            [
             63510144,
             2016
            ],
            [
             40266133145,
             2016
            ],
            [
             382188561,
             2016
            ],
            [
             67476923,
             2016
            ],
            [
             1332623206,
             2016
            ],
            [
             4855579,
             2016
            ],
            [
             133822528,
             2016
            ],
            [
             18683849839,
             2016
            ],
            [
             68847590,
             2016
            ],
            [
             314219518,
             2016
            ],
            [
             881334017,
             2016
            ],
            [
             1134792440,
             2016
            ],
            [
             190416474,
             2016
            ],
            [
             1873951,
             2016
            ],
            [
             722308,
             2016
            ],
            [
             114384000000,
             2016
            ],
            [
             1092844,
             2016
            ],
            [
             865846359,
             2016
            ],
            [
             270281277,
             2016
            ],
            [
             166236498,
             2016
            ],
            [
             1162354654,
             2016
            ],
            [
             8065316016,
             2016
            ],
            [
             1184895797,
             2016
            ],
            [
             243089489,
             2016
            ],
            [
             61409340690,
             2016
            ],
            [
             20570879157,
             2016
            ],
            [
             6181396267,
             2016
            ],
            [
             32278811851,
             2016
            ],
            [
             4922003,
             2016
            ]
           ],
           "geo": "geo",
           "hovertemplate": "<b>%{hovertext}</b><br><br>Year=%{customdata[1]}<br>ISO 3=%{location}<br>Trade Value=%{z}<extra></extra>",
           "hovertext": [
            "United States",
            "Uruguay",
            "Malta",
            "Montenegro",
            "Netherlands",
            "Norway",
            "Poland",
            "Portugal",
            "Romania",
            "Russia",
            "San Marino",
            "Serbia",
            "Slovakia",
            "Slovenia",
            "Sweden",
            "Ukraine",
            "Aruba",
            "Anguilla",
            "Antigua and Barbuda",
            "Bahamas",
            "Belize",
            "Bermuda",
            "Barbados",
            "Canada",
            "Costa Rica",
            "North Macedonia",
            "Moldova",
            "Latvia",
            "Luxembourg",
            "Albania",
            "Andorra",
            "Austria",
            "Belgium",
            "Bulgaria",
            "Bosnia and Herzegovina",
            "Belarus",
            "Switzerland",
            "Czechia",
            "Germany",
            "Denmark",
            "Curaçao",
            "Spain",
            "Finland",
            "France",
            "United Kingdom",
            "Gibraltar",
            "Greece",
            "Croatia",
            "Hungary",
            "Ireland",
            "Iceland",
            "Italy",
            "Lithuania",
            "Estonia",
            "Yemen",
            "Cayman Islands",
            "Dominican Republic",
            "Nauru",
            "New Zealand",
            "Palau",
            "Papua New Guinea",
            "French Polynesia",
            "Solomon Islands",
            "Tonga",
            "Tuvalu",
            "Vanuatu",
            "Wallis and Futuna",
            "Samoa",
            "Argentina",
            "Bolivia",
            "Brazil",
            "Chile",
            "Colombia",
            "Ecuador",
            "Falkland Islands",
            "Guyana",
            "Peru",
            "Paraguay",
            "Suriname",
            "Venezuela",
            "Niue",
            "Norfolk Island",
            "New Caledonia",
            "Marshall Islands",
            "Grenada",
            "Greenland",
            "Guatemala",
            "Honduras",
            "Haiti",
            "Jamaica",
            "Saint Kitts and Nevis",
            "Saint Lucia",
            "Saint Martin",
            "Mexico",
            "Montserrat",
            "Dominica",
            "Nicaragua",
            "El Salvador",
            "Saint Pierre and Miquelon",
            "Turks and Caicos Islands",
            "Trinidad and Tobago",
            "Saint Vincent and the Grenadines",
            "British Virgin Islands",
            "Australia",
            "Cook Islands",
            "Fiji",
            "Micronesia",
            "Kiribati",
            "Panama",
            "Chinese Taipei",
            "Cuba",
            "Angola",
            "Mali",
            "Mozambique",
            "Mauritania",
            "Mauritius",
            "Malawi",
            "Namibia",
            "Niger",
            "Nigeria",
            "Rwanda",
            "Sudan",
            "Senegal",
            "Saint Helena",
            "Sierra Leone",
            "Somalia",
            "South Sudan",
            "Sao Tome and Principe",
            "Eswatini",
            "Seychelles",
            "Chad",
            "Togo",
            "Tunisia",
            "Tanzania",
            "Uganda",
            "Morocco",
            "Lesotho",
            "Libya",
            "Liberia",
            "Vietnam",
            "Burundi",
            "Benin",
            "Burkina Faso",
            "Botswana",
            "Central African Republic",
            "Cote d'Ivoire",
            "Cameroon",
            "Democratic Republic of the Congo",
            "Republic of the Congo",
            "Comoros",
            "South Africa",
            "Cape Verde",
            "Algeria",
            "Egypt",
            "Eritrea",
            "Ethiopia",
            "Gabon",
            "Ghana",
            "Guinea",
            "Gambia",
            "Guinea-Bissau",
            "Equatorial Guinea",
            "Kenya",
            "Djibouti",
            "Zambia",
            "Madagascar",
            "Uzbekistan",
            "Kuwait",
            "Laos",
            "Lebanon",
            "Sri Lanka",
            "Macau",
            "Maldives",
            "Burma",
            "Mongolia",
            "Malaysia",
            "Oman",
            "Pakistan",
            "Philippines",
            "Palestine",
            "Qatar",
            "Saudi Arabia",
            "Singapore",
            "Syria",
            "Thailand",
            "Tajikistan",
            "Turkmenistan",
            "Timor-Leste",
            "Turkey",
            "Zimbabwe",
            "South Korea",
            "Cambodia",
            "Nepal",
            "Kazakhstan",
            "French South Antarctic Territory",
            "Kyrgyzstan",
            "United Arab Emirates",
            "Armenia",
            "Azerbaijan",
            "Bangladesh",
            "Bahrain",
            "Brunei",
            "Bhutan",
            "Cocos (Keeling) Islands",
            "China",
            "Christmas Island",
            "Afghanistan",
            "Georgia",
            "Cyprus",
            "Jordan",
            "Israel",
            "Iraq",
            "Iran",
            "Japan",
            "India",
            "Indonesia",
            "Hong Kong",
            "British Indian Ocean Territory"
           ],
           "locations": [
            "USA",
            "URY",
            "MLT",
            "MNE",
            "NLD",
            "NOR",
            "POL",
            "PRT",
            "ROU",
            "RUS",
            "SMR",
            "SRB",
            "SVK",
            "SVN",
            "SWE",
            "UKR",
            "ABW",
            "AIA",
            "ATG",
            "BHS",
            "BLZ",
            "BMU",
            "BRB",
            "CAN",
            "CRI",
            "MKD",
            "MDA",
            "LVA",
            "LUX",
            "ALB",
            "AND",
            "AUT",
            "BEL",
            "BGR",
            "BIH",
            "BLR",
            "CHE",
            "CZE",
            "DEU",
            "DNK",
            "CUW",
            "ESP",
            "FIN",
            "FRA",
            "GBR",
            "GIB",
            "GRC",
            "HRV",
            "HUN",
            "IRL",
            "ISL",
            "ITA",
            "LTU",
            "EST",
            "YEM",
            "CYM",
            "DOM",
            "NRU",
            "NZL",
            "PLW",
            "PNG",
            "PYF",
            "SLB",
            "TON",
            "TUV",
            "VUT",
            "WLF",
            "WSM",
            "ARG",
            "BOL",
            "BRA",
            "CHL",
            "COL",
            "ECU",
            "FLK",
            "GUY",
            "PER",
            "PRY",
            "SUR",
            "VEN",
            "NIU",
            "NFK",
            "NCL",
            "MHL",
            "GRD",
            "GRL",
            "GTM",
            "HND",
            "HTI",
            "JAM",
            "KNA",
            "LCA",
            "MAF",
            "MEX",
            "MSR",
            "DMA",
            "NIC",
            "SLV",
            "SPM",
            "TCA",
            "TTO",
            "VCT",
            "VGB",
            "AUS",
            "COK",
            "FJI",
            "FSM",
            "KIR",
            "PAN",
            null,
            "CUB",
            "AGO",
            "MLI",
            "MOZ",
            "MRT",
            "MUS",
            "MWI",
            "NAM",
            "NER",
            "NGA",
            "RWA",
            "SDN",
            "SEN",
            "SHN",
            "SLE",
            "SOM",
            "SSD",
            "STP",
            "SWZ",
            "SYC",
            "TCD",
            "TGO",
            "TUN",
            "TZA",
            "UGA",
            "MAR",
            "LSO",
            "LBY",
            "LBR",
            "VNM",
            "BDI",
            "BEN",
            "BFA",
            "BWA",
            "CAF",
            "CIV",
            "CMR",
            "COD",
            "COG",
            "COM",
            "ZAF",
            "CPV",
            "DZA",
            "EGY",
            "ERI",
            "ETH",
            "GAB",
            "GHA",
            "GIN",
            "GMB",
            "GNB",
            "GNQ",
            "KEN",
            "DJI",
            "ZMB",
            "MDG",
            "UZB",
            "KWT",
            "LAO",
            "LBN",
            "LKA",
            "MAC",
            "MDV",
            "MMR",
            "MNG",
            "MYS",
            "OMN",
            "PAK",
            "PHL",
            "PSE",
            "QAT",
            "SAU",
            "SGP",
            "SYR",
            "THA",
            "TJK",
            "TKM",
            "TLS",
            "TUR",
            "ZWE",
            "KOR",
            "KHM",
            "NPL",
            "KAZ",
            "ATF",
            "KGZ",
            "ARE",
            "ARM",
            "AZE",
            "BGD",
            "BHR",
            "BRN",
            "BTN",
            "CCK",
            "CHN",
            "CXR",
            "AFG",
            "GEO",
            "CYP",
            "JOR",
            "ISR",
            "IRQ",
            "IRN",
            "JPN",
            "IND",
            "IDN",
            "HKG",
            "IOT"
           ],
           "name": "",
           "type": "choropleth",
           "z": [
            407786000000,
            756320490,
            319726470,
            30071587,
            35839357238,
            3585558828,
            4039922617,
            1001271949,
            707969912,
            8146193146,
            2338357,
            234587967,
            545818455,
            498801974,
            3555371028,
            1236173500,
            759026490,
            36729482,
            230082874,
            1939934447,
            299096227,
            602722248,
            534725710,
            232270000000,
            5696825361,
            123667197,
            44736438,
            182526949,
            1692855468,
            79006741,
            2867259,
            4233192802,
            26590186624,
            249834969,
            138484293,
            279164363,
            23719446468,
            2383606196,
            50654964962,
            2193944520,
            824240315,
            12066111679,
            1680103724,
            28964730794,
            49327196256,
            1170496988,
            777193296,
            325845164,
            1843705115,
            14400167711,
            509068232,
            15106713569,
            413328325,
            314548813,
            169032377,
            572852925,
            7556797592,
            450681,
            3459099192,
            55985194,
            88069617,
            142801767,
            8867426,
            12333015,
            1080555,
            3872480,
            164563,
            38205984,
            7529790362,
            667128926,
            25593601037,
            10243833344,
            12127869375,
            4013904968,
            1374551,
            416647191,
            7214534739,
            1270079866,
            295902506,
            5041739551,
            72436,
            111396,
            51782446,
            244930874,
            107794194,
            6377574,
            6001683310,
            4151734615,
            702618926,
            1725428633,
            179922477,
            368076326,
            677028122,
            208988000000,
            20371009,
            45879307,
            1561688630,
            2884011930,
            36562,
            172549343,
            2505096906,
            127088111,
            161111339,
            20901685537,
            3762797,
            62553634,
            36197362,
            3986284,
            5456921357,
            25216996142,
            236035860,
            1047747648,
            111512771,
            188403201,
            256635486,
            90696086,
            48311306,
            150028495,
            132073782,
            2207944424,
            49910936,
            73146111,
            194370925,
            729010,
            86649169,
            35522483,
            8582316,
            3082466,
            26901900,
            17942237,
            27247622,
            235592668,
            624063811,
            203131906,
            68593914,
            2221793909,
            6393700,
            183623044,
            145570998,
            8623897865,
            12554692,
            240939214,
            160673344,
            45400159,
            40549193,
            315002642,
            202658439,
            419382224,
            951650489,
            1634934,
            4676157209,
            14113330,
            2360975371,
            3423994440,
            2936878,
            1227118573,
            74861419,
            819177986,
            93573020,
            39047532,
            3402416,
            273751262,
            446129244,
            115462838,
            109259216,
            96436084,
            42142132,
            2891967647,
            38961351,
            1245497436,
            494284559,
            336695552,
            40777036,
            223159084,
            121578017,
            11681231414,
            1797750931,
            2179152546,
            7382595649,
            51263515,
            3773749496,
            14646085900,
            24216722358,
            3490887,
            10536917010,
            32288713,
            43508171,
            1462039,
            9597102230,
            63510144,
            40266133145,
            382188561,
            67476923,
            1332623206,
            4855579,
            133822528,
            18683849839,
            68847590,
            314219518,
            881334017,
            1134792440,
            190416474,
            1873951,
            722308,
            114384000000,
            1092844,
            865846359,
            270281277,
            166236498,
            1162354654,
            8065316016,
            1184895797,
            243089489,
            61409340690,
            20570879157,
            6181396267,
            32278811851,
            4922003
           ]
          }
         ],
         "name": "2016"
        },
        {
         "data": [
          {
           "coloraxis": "coloraxis",
           "customdata": [
            [
             7073958150,
             2017
            ],
            [
             826607845,
             2017
            ],
            [
             64955914326,
             2017
            ],
            [
             1554802057,
             2017
            ],
            [
             7874544157,
             2017
            ],
            [
             1038649054,
             2017
            ],
            [
             186595864,
             2017
            ],
            [
             121266540,
             2017
            ],
            [
             35813360,
             2017
            ],
            [
             24531425638,
             2017
            ],
            [
             36907089366,
             2017
            ],
            [
             34826842,
             2017
            ],
            [
             98202719,
             2017
            ],
            [
             453330,
             2017
            ],
            [
             127411000000,
             2017
            ],
            [
             362557,
             2017
            ],
            [
             213148853,
             2017
            ],
            [
             879882997,
             2017
            ],
            [
             1422506350,
             2017
            ],
            [
             227072670,
             2017
            ],
            [
             104926811,
             2017
            ],
            [
             19535296923,
             2017
            ],
            [
             419716473,
             2017
            ],
            [
             401676089,
             2017
            ],
            [
             47214021095,
             2017
            ],
            [
             26214337130,
             2017
            ],
            [
             43145792,
             2017
            ],
            [
             885123938,
             2017
            ],
            [
             10690125393,
             2017
            ],
            [
             153286330,
             2017
            ],
            [
             10535999658,
             2017
            ],
            [
             8997409,
             2017
            ],
            [
             134735371,
             2017
            ],
            [
             25600994,
             2017
            ],
            [
             12100669503,
             2017
            ],
            [
             6780911,
             2017
            ],
            [
             28330612826,
             2017
            ],
            [
             13639999142,
             2017
            ],
            [
             3664066345,
             2017
            ],
            [
             4292662567,
             2017
            ],
            [
             8973737721,
             2017
            ],
            [
             2789498062,
             2017
            ],
            [
             1301728046,
             2017
            ],
            [
             62341576,
             2017
            ],
            [
             11928611672,
             2017
            ],
            [
             157262740,
             2017
            ],
            [
             579491525,
             2017
            ],
            [
             40493256,
             2017
            ],
            [
             287905529,
             2017
            ],
            [
             743404301,
             2017
            ],
            [
             1454270191,
             2017
            ],
            [
             50087877,
             2017
            ],
            [
             2831658,
             2017
            ],
            [
             266656819,
             2017
            ],
            [
             112231158,
             2017
            ],
            [
             129528994,
             2017
            ],
            [
             441686420,
             2017
            ],
            [
             109217073,
             2017
            ],
            [
             3673175,
             2017
            ],
            [
             40210901,
             2017
            ],
            [
             89806036,
             2017
            ],
            [
             894319833,
             2017
            ],
            [
             86834300,
             2017
            ],
            [
             1074989361,
             2017
            ],
            [
             4686598,
             2017
            ],
            [
             3621892938,
             2017
            ],
            [
             1282886612,
             2017
            ],
            [
             127594787,
             2017
            ],
            [
             13022169,
             2017
            ],
            [
             1530290,
             2017
            ],
            [
             129574379,
             2017
            ],
            [
             1411651745,
             2017
            ],
            [
             186671904,
             2017
            ],
            [
             380968157,
             2017
            ],
            [
             19385467,
             2017
            ],
            [
             75838309,
             2017
            ],
            [
             166359490,
             2017
            ],
            [
             195222774,
             2017
            ],
            [
             127156400,
             2017
            ],
            [
             8027872,
             2017
            ],
            [
             2618952673,
             2017
            ],
            [
             89399080,
             2017
            ],
            [
             5233750966,
             2017
            ],
            [
             113927304,
             2017
            ],
            [
             178866994,
             2017
            ],
            [
             613349266,
             2017
            ],
            [
             458272757,
             2017
            ],
            [
             26079088,
             2017
            ],
            [
             20867227,
             2017
            ],
            [
             28456472,
             2017
            ],
            [
             4316665,
             2017
            ],
            [
             11387079,
             2017
            ],
            [
             66651144,
             2017
            ],
            [
             50072866,
             2017
            ],
            [
             83961724,
             2017
            ],
            [
             229534414,
             2017
            ],
            [
             111497733,
             2017
            ],
            [
             46369586,
             2017
            ],
            [
             2557233311,
             2017
            ],
            [
             209676860,
             2017
            ],
            [
             114026079,
             2017
            ],
            [
             53583748,
             2017
            ],
            [
             122317554,
             2017
            ],
            [
             145306752,
             2017
            ],
            [
             193289302,
             2017
            ],
            [
             105716837,
             2017
            ],
            [
             563387,
             2017
            ],
            [
             61450361,
             2017
            ],
            [
             459498000000,
             2017
            ],
            [
             4827787956,
             2017
            ],
            [
             491886451,
             2017
            ],
            [
             4129067,
             2017
            ],
            [
             36144176,
             2017
            ],
            [
             63958224,
             2017
            ],
            [
             4282259,
             2017
            ],
            [
             22788978937,
             2017
            ],
            [
             259838950,
             2017
            ],
            [
             115492087,
             2017
            ],
            [
             1762093002,
             2017
            ],
            [
             206108071,
             2017
            ],
            [
             354994,
             2017
            ],
            [
             3085885495,
             2017
            ],
            [
             5867716446,
             2017
            ],
            [
             1530151195,
             2017
            ],
            [
             18913665,
             2017
            ],
            [
             226460000000,
             2017
            ],
            [
             516831335,
             2017
            ],
            [
             413331732,
             2017
            ],
            [
             193658170,
             2017
            ],
            [
             2213551366,
             2017
            ],
            [
             931158884,
             2017
            ],
            [
             4799269897,
             2017
            ],
            [
             6918146266,
             2017
            ],
            [
             45871819,
             2017
            ],
            [
             125924,
             2017
            ],
            [
             79898,
             2017
            ],
            [
             192308,
             2017
            ],
            [
             23610084,
             2017
            ],
            [
             3967611414,
             2017
            ],
            [
             1114486849,
             2017
            ],
            [
             377432692,
             2017
            ],
            [
             1803169816,
             2017
            ],
            [
             8163372128,
             2017
            ],
            [
             420277583,
             2017
            ],
            [
             437315,
             2017
            ],
            [
             4348859098,
             2017
            ],
            [
             12588861420,
             2017
            ],
            [
             11636373403,
             2017
            ],
            [
             9570885,
             2017
            ],
            [
             29669853614,
             2017
            ],
            [
             8403533161,
             2017
            ],
            [
             48028737,
             2017
            ],
            [
             137027,
             2017
            ],
            [
             4682040,
             2017
            ],
            [
             713910,
             2017
            ],
            [
             13318903,
             2017
            ],
            [
             9900635,
             2017
            ],
            [
             160406702,
             2017
            ],
            [
             84177096,
             2017
            ],
            [
             50677955,
             2017
            ],
            [
             3642197930,
             2017
            ],
            [
             652826804,
             2017
            ],
            [
             3269252,
             2017
            ],
            [
             136389880,
             2017
            ],
            [
             131284418,
             2017
            ],
            [
             258028839,
             2017
            ],
            [
             1271216157,
             2017
            ],
            [
             578864178,
             2017
            ],
            [
             16628638642,
             2017
            ],
            [
             362384244,
             2017
            ],
            [
             16961029173,
             2017
            ],
            [
             1955943234,
             2017
            ],
            [
             468981200,
             2017
            ],
            [
             859972108,
             2017
            ],
            [
             846124275,
             2017
            ],
            [
             47444538151,
             2017
            ],
            [
             30396727380,
             2017
            ],
            [
             1651427602,
             2017
            ],
            [
             279509478,
             2017
            ],
            [
             13576656174,
             2017
            ],
            [
             2170435877,
             2017
            ],
            [
             53249190712,
             2017
            ],
            [
             2912063630,
             2017
            ],
            [
             20988219805,
             2017
            ],
            [
             250380881,
             2017
            ],
            [
             284573900,
             2017
            ],
            [
             344300150,
             2017
            ],
            [
             26340705102,
             2017
            ],
            [
             58989127,
             2017
            ],
            [
             160888825,
             2017
            ],
            [
             243235369,
             2017
            ],
            [
             22297377,
             2017
            ],
            [
             657277476,
             2017
            ],
            [
             651951868,
             2017
            ],
            [
             282252726,
             2017
            ],
            [
             5909885802,
             2017
            ],
            [
             246715000000,
             2017
            ],
            [
             559039202,
             2017
            ],
            [
             558941407,
             2017
            ],
            [
             319610735,
             2017
            ],
            [
             2859823550,
             2017
            ],
            [
             404977951,
             2017
            ],
            [
             48815830,
             2017
            ],
            [
             7850281858,
             2017
            ],
            [
             968651102,
             2017
            ],
            [
             3644173891,
             2017
            ],
            [
             652351972,
             2017
            ],
            [
             681376801,
             2017
            ],
            [
             212407611,
             2017
            ],
            [
             2016652,
             2017
            ],
            [
             8998623655,
             2017
            ],
            [
             1241570080,
             2017
            ],
            [
             1132167503,
             2017
            ],
            [
             4897368802,
             2017
            ],
            [
             4641073016,
             2017
            ],
            [
             39552537660,
             2017
            ],
            [
             1926004172,
             2017
            ],
            [
             886949153,
             2017
            ]
           ],
           "geo": "geo",
           "hovertemplate": "<b>%{hovertext}</b><br><br>Year=%{customdata[1]}<br>ISO 3=%{location}<br>Trade Value=%{z}<extra></extra>",
           "hovertext": [
            "Indonesia",
            "Kazakhstan",
            "Japan",
            "Jordan",
            "Israel",
            "Iraq",
            "Iran",
            "Kyrgyzstan",
            "British Indian Ocean Territory",
            "India",
            "Hong Kong",
            "Bhutan",
            "Cyprus",
            "Christmas Island",
            "China",
            "Cocos (Keeling) Islands",
            "Brunei",
            "Bahrain",
            "Bangladesh",
            "Azerbaijan",
            "Armenia",
            "United Arab Emirates",
            "Cambodia",
            "Georgia",
            "South Korea",
            "Chinese Taipei",
            "Laos",
            "Afghanistan",
            "Vietnam",
            "Uzbekistan",
            "Turkey",
            "Timor-Leste",
            "Turkmenistan",
            "Tajikistan",
            "Thailand",
            "Syria",
            "Singapore",
            "Saudi Arabia",
            "Kuwait",
            "Qatar",
            "Philippines",
            "Pakistan",
            "Oman",
            "Nepal",
            "Malaysia",
            "Mongolia",
            "Burma",
            "Maldives",
            "Macau",
            "Sri Lanka",
            "Lebanon",
            "Palestine",
            "French South Antarctic Territory",
            "Benin",
            "Zambia",
            "Liberia",
            "Kenya",
            "Equatorial Guinea",
            "Guinea-Bissau",
            "Gambia",
            "Guinea",
            "Ghana",
            "Gabon",
            "Ethiopia",
            "Eritrea",
            "Egypt",
            "Algeria",
            "Djibouti",
            "Cape Verde",
            "Comoros",
            "Republic of the Congo",
            "Democratic Republic of the Congo",
            "Cameroon",
            "Cote d'Ivoire",
            "Central African Republic",
            "Botswana",
            "Burkina Faso",
            "Yemen",
            "Libya",
            "Lesotho",
            "Morocco",
            "Madagascar",
            "South Africa",
            "Uganda",
            "Tanzania",
            "Tunisia",
            "Togo",
            "Chad",
            "Seychelles",
            "Eswatini",
            "Sao Tome and Principe",
            "South Sudan",
            "Somalia",
            "Zimbabwe",
            "Sierra Leone",
            "Senegal",
            "Sudan",
            "Rwanda",
            "Nigeria",
            "Niger",
            "Namibia",
            "Malawi",
            "Mauritius",
            "Mauritania",
            "Mozambique",
            "Mali",
            "Saint Helena",
            "Albania",
            "United States",
            "Austria",
            "Marshall Islands",
            "Kiribati",
            "Micronesia",
            "Fiji",
            "Cook Islands",
            "Australia",
            "British Virgin Islands",
            "Saint Vincent and the Grenadines",
            "Trinidad and Tobago",
            "Turks and Caicos Islands",
            "Saint Pierre and Miquelon",
            "El Salvador",
            "Panama",
            "Nicaragua",
            "Montserrat",
            "Mexico",
            "Saint Martin",
            "Saint Lucia",
            "Saint Kitts and Nevis",
            "Jamaica",
            "Haiti",
            "Honduras",
            "Guatemala",
            "New Caledonia",
            "Norfolk Island",
            "Niue",
            "Nauru",
            "Burundi",
            "Venezuela",
            "Uruguay",
            "Suriname",
            "Paraguay",
            "Peru",
            "Guyana",
            "Falkland Islands",
            "Ecuador",
            "Colombia",
            "Chile",
            "Greenland",
            "Brazil",
            "Argentina",
            "Samoa",
            "Wallis and Futuna",
            "Vanuatu",
            "Tuvalu",
            "Tonga",
            "Solomon Islands",
            "French Polynesia",
            "Papua New Guinea",
            "Palau",
            "New Zealand",
            "Bolivia",
            "Andorra",
            "Grenada",
            "Dominica",
            "Latvia",
            "Luxembourg",
            "Lithuania",
            "Italy",
            "Iceland",
            "Ireland",
            "Hungary",
            "Croatia",
            "Greece",
            "Gibraltar",
            "United Kingdom",
            "France",
            "Finland",
            "Estonia",
            "Spain",
            "Denmark",
            "Germany",
            "Czechia",
            "Switzerland",
            "Belarus",
            "Bosnia and Herzegovina",
            "Bulgaria",
            "Belgium",
            "Moldova",
            "North Macedonia",
            "Malta",
            "Montenegro",
            "Cayman Islands",
            "Curaçao",
            "Cuba",
            "Costa Rica",
            "Canada",
            "Barbados",
            "Bermuda",
            "Belize",
            "Bahamas",
            "Antigua and Barbuda",
            "Anguilla",
            "Dominican Republic",
            "Aruba",
            "Sweden",
            "Slovenia",
            "Slovakia",
            "Serbia",
            "San Marino",
            "Russia",
            "Romania",
            "Portugal",
            "Poland",
            "Norway",
            "Netherlands",
            "Ukraine",
            "Angola"
           ],
           "locations": [
            "IDN",
            "KAZ",
            "JPN",
            "JOR",
            "ISR",
            "IRQ",
            "IRN",
            "KGZ",
            "IOT",
            "IND",
            "HKG",
            "BTN",
            "CYP",
            "CXR",
            "CHN",
            "CCK",
            "BRN",
            "BHR",
            "BGD",
            "AZE",
            "ARM",
            "ARE",
            "KHM",
            "GEO",
            "KOR",
            null,
            "LAO",
            "AFG",
            "VNM",
            "UZB",
            "TUR",
            "TLS",
            "TKM",
            "TJK",
            "THA",
            "SYR",
            "SGP",
            "SAU",
            "KWT",
            "QAT",
            "PHL",
            "PAK",
            "OMN",
            "NPL",
            "MYS",
            "MNG",
            "MMR",
            "MDV",
            "MAC",
            "LKA",
            "LBN",
            "PSE",
            "ATF",
            "BEN",
            "ZMB",
            "LBR",
            "KEN",
            "GNQ",
            "GNB",
            "GMB",
            "GIN",
            "GHA",
            "GAB",
            "ETH",
            "ERI",
            "EGY",
            "DZA",
            "DJI",
            "CPV",
            "COM",
            "COG",
            "COD",
            "CMR",
            "CIV",
            "CAF",
            "BWA",
            "BFA",
            "YEM",
            "LBY",
            "LSO",
            "MAR",
            "MDG",
            "ZAF",
            "UGA",
            "TZA",
            "TUN",
            "TGO",
            "TCD",
            "SYC",
            "SWZ",
            "STP",
            "SSD",
            "SOM",
            "ZWE",
            "SLE",
            "SEN",
            "SDN",
            "RWA",
            "NGA",
            "NER",
            "NAM",
            "MWI",
            "MUS",
            "MRT",
            "MOZ",
            "MLI",
            "SHN",
            "ALB",
            "USA",
            "AUT",
            "MHL",
            "KIR",
            "FSM",
            "FJI",
            "COK",
            "AUS",
            "VGB",
            "VCT",
            "TTO",
            "TCA",
            "SPM",
            "SLV",
            "PAN",
            "NIC",
            "MSR",
            "MEX",
            "MAF",
            "LCA",
            "KNA",
            "JAM",
            "HTI",
            "HND",
            "GTM",
            "NCL",
            "NFK",
            "NIU",
            "NRU",
            "BDI",
            "VEN",
            "URY",
            "SUR",
            "PRY",
            "PER",
            "GUY",
            "FLK",
            "ECU",
            "COL",
            "CHL",
            "GRL",
            "BRA",
            "ARG",
            "WSM",
            "WLF",
            "VUT",
            "TUV",
            "TON",
            "SLB",
            "PYF",
            "PNG",
            "PLW",
            "NZL",
            "BOL",
            "AND",
            "GRD",
            "DMA",
            "LVA",
            "LUX",
            "LTU",
            "ITA",
            "ISL",
            "IRL",
            "HUN",
            "HRV",
            "GRC",
            "GIB",
            "GBR",
            "FRA",
            "FIN",
            "EST",
            "ESP",
            "DNK",
            "DEU",
            "CZE",
            "CHE",
            "BLR",
            "BIH",
            "BGR",
            "BEL",
            "MDA",
            "MKD",
            "MLT",
            "MNE",
            "CYM",
            "CUW",
            "CUB",
            "CRI",
            "CAN",
            "BRB",
            "BMU",
            "BLZ",
            "BHS",
            "ATG",
            "AIA",
            "DOM",
            "ABW",
            "SWE",
            "SVN",
            "SVK",
            "SRB",
            "SMR",
            "RUS",
            "ROU",
            "PRT",
            "POL",
            "NOR",
            "NLD",
            "UKR",
            "AGO"
           ],
           "name": "",
           "type": "choropleth",
           "z": [
            7073958150,
            826607845,
            64955914326,
            1554802057,
            7874544157,
            1038649054,
            186595864,
            121266540,
            35813360,
            24531425638,
            36907089366,
            34826842,
            98202719,
            453330,
            127411000000,
            362557,
            213148853,
            879882997,
            1422506350,
            227072670,
            104926811,
            19535296923,
            419716473,
            401676089,
            47214021095,
            26214337130,
            43145792,
            885123938,
            10690125393,
            153286330,
            10535999658,
            8997409,
            134735371,
            25600994,
            12100669503,
            6780911,
            28330612826,
            13639999142,
            3664066345,
            4292662567,
            8973737721,
            2789498062,
            1301728046,
            62341576,
            11928611672,
            157262740,
            579491525,
            40493256,
            287905529,
            743404301,
            1454270191,
            50087877,
            2831658,
            266656819,
            112231158,
            129528994,
            441686420,
            109217073,
            3673175,
            40210901,
            89806036,
            894319833,
            86834300,
            1074989361,
            4686598,
            3621892938,
            1282886612,
            127594787,
            13022169,
            1530290,
            129574379,
            1411651745,
            186671904,
            380968157,
            19385467,
            75838309,
            166359490,
            195222774,
            127156400,
            8027872,
            2618952673,
            89399080,
            5233750966,
            113927304,
            178866994,
            613349266,
            458272757,
            26079088,
            20867227,
            28456472,
            4316665,
            11387079,
            66651144,
            50072866,
            83961724,
            229534414,
            111497733,
            46369586,
            2557233311,
            209676860,
            114026079,
            53583748,
            122317554,
            145306752,
            193289302,
            105716837,
            563387,
            61450361,
            459498000000,
            4827787956,
            491886451,
            4129067,
            36144176,
            63958224,
            4282259,
            22788978937,
            259838950,
            115492087,
            1762093002,
            206108071,
            354994,
            3085885495,
            5867716446,
            1530151195,
            18913665,
            226460000000,
            516831335,
            413331732,
            193658170,
            2213551366,
            931158884,
            4799269897,
            6918146266,
            45871819,
            125924,
            79898,
            192308,
            23610084,
            3967611414,
            1114486849,
            377432692,
            1803169816,
            8163372128,
            420277583,
            437315,
            4348859098,
            12588861420,
            11636373403,
            9570885,
            29669853614,
            8403533161,
            48028737,
            137027,
            4682040,
            713910,
            13318903,
            9900635,
            160406702,
            84177096,
            50677955,
            3642197930,
            652826804,
            3269252,
            136389880,
            131284418,
            258028839,
            1271216157,
            578864178,
            16628638642,
            362384244,
            16961029173,
            1955943234,
            468981200,
            859972108,
            846124275,
            47444538151,
            30396727380,
            1651427602,
            279509478,
            13576656174,
            2170435877,
            53249190712,
            2912063630,
            20988219805,
            250380881,
            284573900,
            344300150,
            26340705102,
            58989127,
            160888825,
            243235369,
            22297377,
            657277476,
            651951868,
            282252726,
            5909885802,
            246715000000,
            559039202,
            558941407,
            319610735,
            2859823550,
            404977951,
            48815830,
            7850281858,
            968651102,
            3644173891,
            652351972,
            681376801,
            212407611,
            2016652,
            8998623655,
            1241570080,
            1132167503,
            4897368802,
            4641073016,
            39552537660,
            1926004172,
            886949153
           ]
          }
         ],
         "name": "2017"
        },
        {
         "data": [
          {
           "coloraxis": "coloraxis",
           "customdata": [
            [
             5973515152,
             2018
            ],
            [
             945723000,
             2018
            ],
            [
             250869950,
             2018
            ],
            [
             70784257,
             2018
            ],
            [
             44768351883,
             2018
            ],
            [
             5592961727,
             2018
            ],
            [
             5051661775,
             2018
            ],
            [
             1649166168,
             2018
            ],
            [
             1119859670,
             2018
            ],
            [
             8608686189,
             2018
            ],
            [
             1539844,
             2018
            ],
            [
             337833264,
             2018
            ],
            [
             541201551,
             2018
            ],
            [
             756010285,
             2018
            ],
            [
             4484832066,
             2018
            ],
            [
             2467738750,
             2018
            ],
            [
             632945332,
             2018
            ],
            [
             99078162,
             2018
            ],
            [
             478484216,
             2018
            ],
            [
             2747588575,
             2018
            ],
            [
             380027799,
             2018
            ],
            [
             522439875,
             2018
            ],
            [
             595749206,
             2018
            ],
            [
             259537000000,
             2018
            ],
            [
             6245079249,
             2018
            ],
            [
             204973629,
             2018
            ],
            [
             254238718,
             2018
            ],
            [
             61251982,
             2018
            ],
            [
             950733137,
             2018
            ],
            [
             3017682,
             2018
            ],
            [
             4569624826,
             2018
            ],
            [
             25883265642,
             2018
            ],
            [
             364981637,
             2018
            ],
            [
             255814233,
             2018
            ],
            [
             311318935,
             2018
            ],
            [
             21208323110,
             2018
            ],
            [
             3575418923,
             2018
            ],
            [
             54010165134,
             2018
            ],
            [
             2534193440,
             2018
            ],
            [
             13586982274,
             2018
            ],
            [
             370458727,
             2018
            ],
            [
             1939960984,
             2018
            ],
            [
             26896697142,
             2018
            ],
            [
             51250132925,
             2018
            ],
            [
             990254975,
             2018
            ],
            [
             839244918,
             2018
            ],
            [
             415687357,
             2018
            ],
            [
             1835181528,
             2018
            ],
            [
             19135708319,
             2018
            ],
            [
             559023763,
             2018
            ],
            [
             19101415597,
             2018
            ],
            [
             671365344,
             2018
            ],
            [
             384647398,
             2018
            ],
            [
             647128969,
             2018
            ],
            [
             627400045,
             2018
            ],
            [
             129585136,
             2018
            ],
            [
             1193223,
             2018
            ],
            [
             760618,
             2018
            ],
            [
             3659655597,
             2018
            ],
            [
             46229234,
             2018
            ],
            [
             73558068,
             2018
            ],
            [
             605152698,
             2018
            ],
            [
             11844410,
             2018
            ],
            [
             19021106,
             2018
            ],
            [
             1213006,
             2018
            ],
            [
             6033390,
             2018
            ],
            [
             1021123,
             2018
            ],
            [
             41039586,
             2018
            ],
            [
             8123832049,
             2018
            ],
            [
             547178345,
             2018
            ],
            [
             33349578603,
             2018
            ],
            [
             13871087972,
             2018
            ],
            [
             13610524527,
             2018
            ],
            [
             5421977991,
             2018
            ],
            [
             199770,
             2018
            ],
            [
             551303596,
             2018
            ],
            [
             9115482885,
             2018
            ],
            [
             1597295611,
             2018
            ],
            [
             370917648,
             2018
            ],
            [
             179163,
             2018
            ],
            [
             50369696,
             2018
            ],
            [
             258003479,
             2018
            ],
            [
             3392001,
             2018
            ],
            [
             8766756439,
             2018
            ],
            [
             157001272,
             2018
            ],
            [
             9314401,
             2018
            ],
            [
             6876469227,
             2018
            ],
            [
             4942741904,
             2018
            ],
            [
             966772311,
             2018
            ],
            [
             2507445281,
             2018
            ],
            [
             181049357,
             2018
            ],
            [
             459400170,
             2018
            ],
            [
             631861005,
             2018
            ],
            [
             246985000000,
             2018
            ],
            [
             60021918,
             2018
            ],
            [
             22998770,
             2018
            ],
            [
             5994777326,
             2018
            ],
            [
             3289726147,
             2018
            ],
            [
             112317,
             2018
            ],
            [
             203001642,
             2018
            ],
            [
             1944725141,
             2018
            ],
            [
             118920697,
             2018
            ],
            [
             385749736,
             2018
            ],
            [
             23192824758,
             2018
            ],
            [
             4428794,
             2018
            ],
            [
             60185716,
             2018
            ],
            [
             37715119,
             2018
            ],
            [
             1647942880,
             2018
            ],
            [
             504085000000,
             2018
            ],
            [
             239938078,
             2018
            ],
            [
             9951492851,
             2018
            ],
            [
             150417847,
             2018
            ],
            [
             117903902,
             2018
            ],
            [
             284655838,
             2018
            ],
            [
             100302563,
             2018
            ],
            [
             162467253,
             2018
            ],
            [
             40830897,
             2018
            ],
            [
             165431682,
             2018
            ],
            [
             126407766,
             2018
            ],
            [
             2656775890,
             2018
            ],
            [
             42251973,
             2018
            ],
            [
             129319176,
             2018
            ],
            [
             302217861,
             2018
            ],
            [
             687587,
             2018
            ],
            [
             84655523,
             2018
            ],
            [
             47194855,
             2018
            ],
            [
             22879672,
             2018
            ],
            [
             3254835,
             2018
            ],
            [
             28120693,
             2018
            ],
            [
             21249600,
             2018
            ],
            [
             50247724,
             2018
            ],
            [
             660912921,
             2018
            ],
            [
             689412091,
             2018
            ],
            [
             227947076,
             2018
            ],
            [
             3682314165,
             2018
            ],
            [
             96938959,
             2018
            ],
            [
             9059077,
             2018
            ],
            [
             185617729,
             2018
            ],
            [
             16245921,
             2018
            ],
            [
             264728229,
             2018
            ],
            [
             140801335,
             2018
            ],
            [
             68005541,
             2018
            ],
            [
             17998715,
             2018
            ],
            [
             374223973,
             2018
            ],
            [
             248719215,
             2018
            ],
            [
             2045818740,
             2018
            ],
            [
             104157183,
             2018
            ],
            [
             940505,
             2018
            ],
            [
             19071941,
             2018
            ],
            [
             100060728,
             2018
            ],
            [
             1066699060,
             2018
            ],
            [
             5124769602,
             2018
            ],
            [
             7886001,
             2018
            ],
            [
             1335489054,
             2018
            ],
            [
             97679471,
             2018
            ],
            [
             838854688,
             2018
            ],
            [
             112082511,
             2018
            ],
            [
             44249233,
             2018
            ],
            [
             18230825,
             2018
            ],
            [
             134919890,
             2018
            ],
            [
             433224848,
             2018
            ],
            [
             237061973,
             2018
            ],
            [
             5359271562,
             2018
            ],
            [
             174685579,
             2018
            ],
            [
             46772156,
             2018
            ],
            [
             22801811,
             2018
            ],
            [
             1427702099,
             2018
            ],
            [
             358566573,
             2018
            ],
            [
             312400715,
             2018
            ],
            [
             44872666,
             2018
            ],
            [
             322713071,
             2018
            ],
            [
             175805143,
             2018
            ],
            [
             12551609397,
             2018
            ],
            [
             76190950,
             2018
            ],
            [
             1354682445,
             2018
            ],
            [
             2808355421,
             2018
            ],
            [
             9064713642,
             2018
            ],
            [
             55112062,
             2018
            ],
            [
             5122140723,
             2018
            ],
            [
             13111780277,
             2018
            ],
            [
             30103698682,
             2018
            ],
            [
             5275415,
             2018
            ],
            [
             12815028552,
             2018
            ],
            [
             35330650,
             2018
            ],
            [
             28443507,
             2018
            ],
            [
             1393660,
             2018
            ],
            [
             10882587116,
             2018
            ],
            [
             309857432,
             2018
            ],
            [
             2974664638,
             2018
            ],
            [
             55490028967,
             2018
            ],
            [
             495269149,
             2018
            ],
            [
             93614771,
             2018
            ],
            [
             804609,
             2018
            ],
            [
             1150636091,
             2018
            ],
            [
             17086623072,
             2018
            ],
            [
             104683798,
             2018
            ],
            [
             449131266,
             2018
            ],
            [
             1750293532,
             2018
            ],
            [
             1031058610,
             2018
            ],
            [
             242785884,
             2018
            ],
            [
             3334181,
             2018
            ],
            [
             339713,
             2018
            ],
            [
             118583000000,
             2018
            ],
            [
             31267130289,
             2018
            ],
            [
             736259,
             2018
            ],
            [
             568673615,
             2018
            ],
            [
             34516263223,
             2018
            ],
            [
             8418638443,
             2018
            ],
            [
             31773045219,
             2018
            ],
            [
             8935901,
             2018
            ],
            [
             448692391,
             2018
            ],
            [
             1261532999,
             2018
            ],
            [
             9025039334,
             2018
            ],
            [
             1591831197,
             2018
            ],
            [
             73228175922,
             2018
            ],
            [
             990275636,
             2018
            ],
            [
             114187595,
             2018
            ],
            [
             642046654,
             2018
            ]
           ],
           "geo": "geo",
           "hovertemplate": "<b>%{hovertext}</b><br><br>Year=%{customdata[1]}<br>ISO 3=%{location}<br>Trade Value=%{z}<extra></extra>",
           "hovertext": [
            "Venezuela",
            "Uruguay",
            "Malta",
            "Montenegro",
            "Netherlands",
            "Norway",
            "Poland",
            "Portugal",
            "Romania",
            "Russia",
            "San Marino",
            "Serbia",
            "Slovakia",
            "Slovenia",
            "Sweden",
            "Ukraine",
            "Aruba",
            "Anguilla",
            "Antigua and Barbuda",
            "Bahamas",
            "Belize",
            "Bermuda",
            "Barbados",
            "Canada",
            "Costa Rica",
            "North Macedonia",
            "Cuba",
            "Moldova",
            "Luxembourg",
            "Andorra",
            "Austria",
            "Belgium",
            "Bulgaria",
            "Bosnia and Herzegovina",
            "Belarus",
            "Switzerland",
            "Czechia",
            "Germany",
            "Denmark",
            "Spain",
            "Estonia",
            "Finland",
            "France",
            "United Kingdom",
            "Gibraltar",
            "Greece",
            "Croatia",
            "Hungary",
            "Ireland",
            "Iceland",
            "Italy",
            "Lithuania",
            "Latvia",
            "Curaçao",
            "Cayman Islands",
            "Dominica",
            "Niue",
            "Nauru",
            "New Zealand",
            "Palau",
            "Papua New Guinea",
            "French Polynesia",
            "Solomon Islands",
            "Tonga",
            "Tuvalu",
            "Vanuatu",
            "Wallis and Futuna",
            "Samoa",
            "Argentina",
            "Bolivia",
            "Brazil",
            "Chile",
            "Colombia",
            "Ecuador",
            "Falkland Islands",
            "Guyana",
            "Peru",
            "Paraguay",
            "Suriname",
            "Norfolk Island",
            "New Caledonia",
            "Marshall Islands",
            "Kiribati",
            "Dominican Republic",
            "Grenada",
            "Greenland",
            "Guatemala",
            "Honduras",
            "Haiti",
            "Jamaica",
            "Saint Kitts and Nevis",
            "Saint Lucia",
            "Saint Martin",
            "Mexico",
            "Albania",
            "Montserrat",
            "Panama",
            "El Salvador",
            "Saint Pierre and Miquelon",
            "Turks and Caicos Islands",
            "Trinidad and Tobago",
            "Saint Vincent and the Grenadines",
            "British Virgin Islands",
            "Australia",
            "Cook Islands",
            "Fiji",
            "Micronesia",
            "Nicaragua",
            "United States",
            "Yemen",
            "Vietnam",
            "Madagascar",
            "Mali",
            "Mozambique",
            "Mauritania",
            "Mauritius",
            "Malawi",
            "Namibia",
            "Niger",
            "Nigeria",
            "Rwanda",
            "Sudan",
            "Senegal",
            "Saint Helena",
            "Sierra Leone",
            "Somalia",
            "South Sudan",
            "Sao Tome and Principe",
            "Eswatini",
            "Seychelles",
            "Chad",
            "Togo",
            "Tunisia",
            "Tanzania",
            "Morocco",
            "Uganda",
            "Lesotho",
            "Liberia",
            "Burundi",
            "Benin",
            "Burkina Faso",
            "Botswana",
            "Central African Republic",
            "Cote d'Ivoire",
            "Cameroon",
            "Democratic Republic of the Congo",
            "Republic of the Congo",
            "Comoros",
            "Cape Verde",
            "Djibouti",
            "Algeria",
            "Egypt",
            "Eritrea",
            "Ethiopia",
            "Gabon",
            "Ghana",
            "Guinea",
            "Gambia",
            "Guinea-Bissau",
            "Equatorial Guinea",
            "Kenya",
            "Libya",
            "South Africa",
            "Zambia",
            "Zimbabwe",
            "Laos",
            "Lebanon",
            "Sri Lanka",
            "Macau",
            "Maldives",
            "Burma",
            "Mongolia",
            "Malaysia",
            "Nepal",
            "Oman",
            "Pakistan",
            "Philippines",
            "Palestine",
            "Qatar",
            "Saudi Arabia",
            "Singapore",
            "Syria",
            "Thailand",
            "Tajikistan",
            "Turkmenistan",
            "Timor-Leste",
            "Turkey",
            "Uzbekistan",
            "Kuwait",
            "South Korea",
            "Cambodia",
            "Kyrgyzstan",
            "French South Antarctic Territory",
            "Afghanistan",
            "United Arab Emirates",
            "Armenia",
            "Azerbaijan",
            "Bangladesh",
            "Bahrain",
            "Brunei",
            "Bhutan",
            "Cocos (Keeling) Islands",
            "China",
            "Chinese Taipei",
            "Christmas Island",
            "Georgia",
            "Hong Kong",
            "Indonesia",
            "India",
            "British Indian Ocean Territory",
            "Iran",
            "Iraq",
            "Israel",
            "Jordan",
            "Japan",
            "Kazakhstan",
            "Cyprus",
            "Angola"
           ],
           "locations": [
            "VEN",
            "URY",
            "MLT",
            "MNE",
            "NLD",
            "NOR",
            "POL",
            "PRT",
            "ROU",
            "RUS",
            "SMR",
            "SRB",
            "SVK",
            "SVN",
            "SWE",
            "UKR",
            "ABW",
            "AIA",
            "ATG",
            "BHS",
            "BLZ",
            "BMU",
            "BRB",
            "CAN",
            "CRI",
            "MKD",
            "CUB",
            "MDA",
            "LUX",
            "AND",
            "AUT",
            "BEL",
            "BGR",
            "BIH",
            "BLR",
            "CHE",
            "CZE",
            "DEU",
            "DNK",
            "ESP",
            "EST",
            "FIN",
            "FRA",
            "GBR",
            "GIB",
            "GRC",
            "HRV",
            "HUN",
            "IRL",
            "ISL",
            "ITA",
            "LTU",
            "LVA",
            "CUW",
            "CYM",
            "DMA",
            "NIU",
            "NRU",
            "NZL",
            "PLW",
            "PNG",
            "PYF",
            "SLB",
            "TON",
            "TUV",
            "VUT",
            "WLF",
            "WSM",
            "ARG",
            "BOL",
            "BRA",
            "CHL",
            "COL",
            "ECU",
            "FLK",
            "GUY",
            "PER",
            "PRY",
            "SUR",
            "NFK",
            "NCL",
            "MHL",
            "KIR",
            "DOM",
            "GRD",
            "GRL",
            "GTM",
            "HND",
            "HTI",
            "JAM",
            "KNA",
            "LCA",
            "MAF",
            "MEX",
            "ALB",
            "MSR",
            "PAN",
            "SLV",
            "SPM",
            "TCA",
            "TTO",
            "VCT",
            "VGB",
            "AUS",
            "COK",
            "FJI",
            "FSM",
            "NIC",
            "USA",
            "YEM",
            "VNM",
            "MDG",
            "MLI",
            "MOZ",
            "MRT",
            "MUS",
            "MWI",
            "NAM",
            "NER",
            "NGA",
            "RWA",
            "SDN",
            "SEN",
            "SHN",
            "SLE",
            "SOM",
            "SSD",
            "STP",
            "SWZ",
            "SYC",
            "TCD",
            "TGO",
            "TUN",
            "TZA",
            "MAR",
            "UGA",
            "LSO",
            "LBR",
            "BDI",
            "BEN",
            "BFA",
            "BWA",
            "CAF",
            "CIV",
            "CMR",
            "COD",
            "COG",
            "COM",
            "CPV",
            "DJI",
            "DZA",
            "EGY",
            "ERI",
            "ETH",
            "GAB",
            "GHA",
            "GIN",
            "GMB",
            "GNB",
            "GNQ",
            "KEN",
            "LBY",
            "ZAF",
            "ZMB",
            "ZWE",
            "LAO",
            "LBN",
            "LKA",
            "MAC",
            "MDV",
            "MMR",
            "MNG",
            "MYS",
            "NPL",
            "OMN",
            "PAK",
            "PHL",
            "PSE",
            "QAT",
            "SAU",
            "SGP",
            "SYR",
            "THA",
            "TJK",
            "TKM",
            "TLS",
            "TUR",
            "UZB",
            "KWT",
            "KOR",
            "KHM",
            "KGZ",
            "ATF",
            "AFG",
            "ARE",
            "ARM",
            "AZE",
            "BGD",
            "BHR",
            "BRN",
            "BTN",
            "CCK",
            "CHN",
            null,
            "CXR",
            "GEO",
            "HKG",
            "IDN",
            "IND",
            "IOT",
            "IRN",
            "IRQ",
            "ISR",
            "JOR",
            "JPN",
            "KAZ",
            "CYP",
            "AGO"
           ],
           "name": "",
           "type": "choropleth",
           "z": [
            5973515152,
            945723000,
            250869950,
            70784257,
            44768351883,
            5592961727,
            5051661775,
            1649166168,
            1119859670,
            8608686189,
            1539844,
            337833264,
            541201551,
            756010285,
            4484832066,
            2467738750,
            632945332,
            99078162,
            478484216,
            2747588575,
            380027799,
            522439875,
            595749206,
            259537000000,
            6245079249,
            204973629,
            254238718,
            61251982,
            950733137,
            3017682,
            4569624826,
            25883265642,
            364981637,
            255814233,
            311318935,
            21208323110,
            3575418923,
            54010165134,
            2534193440,
            13586982274,
            370458727,
            1939960984,
            26896697142,
            51250132925,
            990254975,
            839244918,
            415687357,
            1835181528,
            19135708319,
            559023763,
            19101415597,
            671365344,
            384647398,
            647128969,
            627400045,
            129585136,
            1193223,
            760618,
            3659655597,
            46229234,
            73558068,
            605152698,
            11844410,
            19021106,
            1213006,
            6033390,
            1021123,
            41039586,
            8123832049,
            547178345,
            33349578603,
            13871087972,
            13610524527,
            5421977991,
            199770,
            551303596,
            9115482885,
            1597295611,
            370917648,
            179163,
            50369696,
            258003479,
            3392001,
            8766756439,
            157001272,
            9314401,
            6876469227,
            4942741904,
            966772311,
            2507445281,
            181049357,
            459400170,
            631861005,
            246985000000,
            60021918,
            22998770,
            5994777326,
            3289726147,
            112317,
            203001642,
            1944725141,
            118920697,
            385749736,
            23192824758,
            4428794,
            60185716,
            37715119,
            1647942880,
            504085000000,
            239938078,
            9951492851,
            150417847,
            117903902,
            284655838,
            100302563,
            162467253,
            40830897,
            165431682,
            126407766,
            2656775890,
            42251973,
            129319176,
            302217861,
            687587,
            84655523,
            47194855,
            22879672,
            3254835,
            28120693,
            21249600,
            50247724,
            660912921,
            689412091,
            227947076,
            3682314165,
            96938959,
            9059077,
            185617729,
            16245921,
            264728229,
            140801335,
            68005541,
            17998715,
            374223973,
            248719215,
            2045818740,
            104157183,
            940505,
            19071941,
            100060728,
            1066699060,
            5124769602,
            7886001,
            1335489054,
            97679471,
            838854688,
            112082511,
            44249233,
            18230825,
            134919890,
            433224848,
            237061973,
            5359271562,
            174685579,
            46772156,
            22801811,
            1427702099,
            358566573,
            312400715,
            44872666,
            322713071,
            175805143,
            12551609397,
            76190950,
            1354682445,
            2808355421,
            9064713642,
            55112062,
            5122140723,
            13111780277,
            30103698682,
            5275415,
            12815028552,
            35330650,
            28443507,
            1393660,
            10882587116,
            309857432,
            2974664638,
            55490028967,
            495269149,
            93614771,
            804609,
            1150636091,
            17086623072,
            104683798,
            449131266,
            1750293532,
            1031058610,
            242785884,
            3334181,
            339713,
            118583000000,
            31267130289,
            736259,
            568673615,
            34516263223,
            8418638443,
            31773045219,
            8935901,
            448692391,
            1261532999,
            9025039334,
            1591831197,
            73228175922,
            990275636,
            114187595,
            642046654
           ]
          }
         ],
         "name": "2018"
        },
        {
         "data": [
          {
           "coloraxis": "coloraxis",
           "customdata": [
            [
             1227237627,
             2019
            ],
            [
             11357015,
             2019
            ],
            [
             34882344,
             2019
            ],
            [
             47956895788,
             2019
            ],
            [
             5172727271,
             2019
            ],
            [
             6514842791,
             2019
            ],
            [
             1626634138,
             2019
            ],
            [
             951442776,
             2019
            ],
            [
             8998752105,
             2019
            ],
            [
             726689,
             2019
            ],
            [
             421625996,
             2019
            ],
            [
             666300125,
             2019
            ],
            [
             569330981,
             2019
            ],
            [
             4550933901,
             2019
            ],
            [
             2783754832,
             2019
            ],
            [
             535182997,
             2019
            ],
            [
             76746777,
             2019
            ],
            [
             449101578,
             2019
            ],
            [
             2946986665,
             2019
            ],
            [
             391956172,
             2019
            ],
            [
             553482725,
             2019
            ],
            [
             547468728,
             2019
            ],
            [
             252594000000,
             2019
            ],
            [
             6046491041,
             2019
            ],
            [
             279474239,
             2019
            ],
            [
             156329859,
             2019
            ],
            [
             369348116,
             2019
            ],
            [
             279594470,
             2019
            ],
            [
             282265752,
             2019
            ],
            [
             6295269823,
             2019
            ],
            [
             29315974495,
             2019
            ],
            [
             386938193,
             2019
            ],
            [
             256108351,
             2019
            ],
            [
             341498904,
             2019
            ],
            [
             18101522905,
             2019
            ],
            [
             3354106465,
             2019
            ],
            [
             58589292015,
             2019
            ],
            [
             3001628864,
             2019
            ],
            [
             14990614193,
             2019
            ],
            [
             407952147,
             2019
            ],
            [
             2059415946,
             2019
            ],
            [
             28210387548,
             2019
            ],
            [
             50303107561,
             2019
            ],
            [
             1048530147,
             2019
            ],
            [
             1198555673,
             2019
            ],
            [
             560502217,
             2019
            ],
            [
             2057316925,
             2019
            ],
            [
             16877470310,
             2019
            ],
            [
             438532224,
             2019
            ],
            [
             19685047118,
             2019
            ],
            [
             821231479,
             2019
            ],
            [
             1020298844,
             2019
            ],
            [
             61334740,
             2019
            ],
            [
             703538485,
             2019
            ],
            [
             322510364,
             2019
            ],
            [
             9258955468,
             2019
            ],
            [
             1166496,
             2019
            ],
            [
             3535021067,
             2019
            ],
            [
             16886263,
             2019
            ],
            [
             81518738,
             2019
            ],
            [
             478811482,
             2019
            ],
            [
             11010429,
             2019
            ],
            [
             16241488,
             2019
            ],
            [
             789444,
             2019
            ],
            [
             2756951,
             2019
            ],
            [
             443399,
             2019
            ],
            [
             51895302,
             2019
            ],
            [
             6777169691,
             2019
            ],
            [
             521662055,
             2019
            ],
            [
             34754775330,
             2019
            ],
            [
             13673678991,
             2019
            ],
            [
             13752965993,
             2019
            ],
            [
             5668141351,
             2019
            ],
            [
             295863,
             2019
            ],
            [
             727490799,
             2019
            ],
            [
             8771338789,
             2019
            ],
            [
             2297002162,
             2019
            ],
            [
             384842054,
             2019
            ],
            [
             1025150376,
             2019
            ],
            [
             239877,
             2019
            ],
            [
             11710,
             2019
            ],
            [
             59373562,
             2019
            ],
            [
             88303608,
             2019
            ],
            [
             148652088,
             2019
            ],
            [
             11039103,
             2019
            ],
            [
             6900655758,
             2019
            ],
            [
             5147985130,
             2019
            ],
            [
             973162302,
             2019
            ],
            [
             2555990082,
             2019
            ],
            [
             185171036,
             2019
            ],
            [
             570649483,
             2019
            ],
            [
             651863366,
             2019
            ],
            [
             235487000000,
             2019
            ],
            [
             22318928,
             2019
            ],
            [
             3298945,
             2019
            ],
            [
             1754189660,
             2019
            ],
            [
             3209455618,
             2019
            ],
            [
             72789,
             2019
            ],
            [
             200478709,
             2019
            ],
            [
             2588289329,
             2019
            ],
            [
             119977386,
             2019
            ],
            [
             342251390,
             2019
            ],
            [
             24395385428,
             2019
            ],
            [
             7444310,
             2019
            ],
            [
             71854134,
             2019
            ],
            [
             38204673,
             2019
            ],
            [
             1357410,
             2019
            ],
            [
             7192856526,
             2019
            ],
            [
             598196003,
             2019
            ],
            [
             84904778,
             2019
            ],
            [
             30170717833,
             2019
            ],
            [
             128816287,
             2019
            ],
            [
             226986275,
             2019
            ],
            [
             109986116,
             2019
            ],
            [
             116661812,
             2019
            ],
            [
             36443675,
             2019
            ],
            [
             188930598,
             2019
            ],
            [
             128863274,
             2019
            ],
            [
             3203139727,
             2019
            ],
            [
             36984427,
             2019
            ],
            [
             73368521,
             2019
            ],
            [
             229680438,
             2019
            ],
            [
             560061,
             2019
            ],
            [
             73925292,
             2019
            ],
            [
             102243071,
             2019
            ],
            [
             21783654,
             2019
            ],
            [
             4033979,
             2019
            ],
            [
             34106999,
             2019
            ],
            [
             20104250,
             2019
            ],
            [
             77638193,
             2019
            ],
            [
             444789015,
             2019
            ],
            [
             553404939,
             2019
            ],
            [
             231534660,
             2019
            ],
            [
             101485108,
             2019
            ],
            [
             63536079,
             2019
            ],
            [
             5442102134,
             2019
            ],
            [
             3664462310,
             2019
            ],
            [
             399712784,
             2019
            ],
            [
             262356404,
             2019
            ],
            [
             181155067,
             2019
            ],
            [
             113966386,
             2019
            ],
            [
             165095547,
             2019
            ],
            [
             397387480,
             2019
            ],
            [
             190864391,
             2019
            ],
            [
             1989350734,
             2019
            ],
            [
             108942570,
             2019
            ],
            [
             1452925,
             2019
            ],
            [
             14746998,
             2019
            ],
            [
             140385892,
             2019
            ],
            [
             975288842,
             2019
            ],
            [
             5044621444,
             2019
            ],
            [
             13790124,
             2019
            ],
            [
             405737454,
             2019
            ],
            [
             126904880,
             2019
            ],
            [
             906967643,
             2019
            ],
            [
             112254731,
             2019
            ],
            [
             48877269,
             2019
            ],
            [
             1179612,
             2019
            ],
            [
             210727810,
             2019
            ],
            [
             446985676,
             2019
            ],
            [
             107284141,
             2019
            ],
            [
             1918767,
             2019
            ],
            [
             149524030,
             2019
            ],
            [
             51662797,
             2019
            ],
            [
             1691560,
             2019
            ],
            [
             1645470233,
             2019
            ],
            [
             495329878,
             2019
            ],
            [
             300572722,
             2019
            ],
            [
             50313185,
             2019
            ],
            [
             408180601,
             2019
            ],
            [
             256491197,
             2019
            ],
            [
             12823234012,
             2019
            ],
            [
             138819704,
             2019
            ],
            [
             1255617518,
             2019
            ],
            [
             2603121256,
             2019
            ],
            [
             7881705111,
             2019
            ],
            [
             60818631,
             2019
            ],
            [
             4838986647,
             2019
            ],
            [
             13250796265,
             2019
            ],
            [
             28493622873,
             2019
            ],
            [
             4045607,
             2019
            ],
            [
             12699395088,
             2019
            ],
            [
             20503125,
             2019
            ],
            [
             25692818,
             2019
            ],
            [
             4592774,
             2019
            ],
            [
             10365679863,
             2019
            ],
            [
             538050866,
             2019
            ],
            [
             10744048846,
             2019
            ],
            [
             54392112,
             2019
            ],
            [
             3163686187,
             2019
            ],
            [
             57449163666,
             2019
            ],
            [
             560748150,
             2019
            ],
            [
             962004519,
             2019
            ],
            [
             16565783474,
             2019
            ],
            [
             125839562,
             2019
            ],
            [
             300051777,
             2019
            ],
            [
             1627968391,
             2019
            ],
            [
             876729752,
             2019
            ],
            [
             220074911,
             2019
            ],
            [
             2746827,
             2019
            ],
            [
             78773,
             2019
            ],
            [
             102280000000,
             2019
            ],
            [
             1494545,
             2019
            ],
            [
             383491541,
             2019
            ],
            [
             170445851,
             2019
            ],
            [
             28485047174,
             2019
            ],
            [
             7862738421,
             2019
            ],
            [
             33914596859,
             2019
            ],
            [
             22433598,
             2019
            ],
            [
             73133366,
             2019
            ],
            [
             1209440217,
             2019
            ],
            [
             13165371465,
             2019
            ],
            [
             1310338489,
             2019
            ],
            [
             69269199527,
             2019
            ],
            [
             1125793484,
             2019
            ],
            [
             62561627,
             2019
            ],
            [
             808140818,
             2019
            ],
            [
             430318000000,
             2019
            ]
           ],
           "geo": "geo",
           "hovertemplate": "<b>%{hovertext}</b><br><br>Year=%{customdata[1]}<br>ISO 3=%{location}<br>Trade Value=%{z}<extra></extra>",
           "hovertext": [
            "Venezuela",
            "Burundi",
            "Montenegro",
            "Netherlands",
            "Norway",
            "Poland",
            "Portugal",
            "Romania",
            "Russia",
            "San Marino",
            "Serbia",
            "Slovakia",
            "Slovenia",
            "Sweden",
            "Ukraine",
            "Aruba",
            "Anguilla",
            "Antigua and Barbuda",
            "Bahamas",
            "Belize",
            "Bermuda",
            "Barbados",
            "Canada",
            "Costa Rica",
            "Cuba",
            "Malta",
            "Curaçao",
            "North Macedonia",
            "Latvia",
            "Austria",
            "Belgium",
            "Bulgaria",
            "Bosnia and Herzegovina",
            "Belarus",
            "Switzerland",
            "Czechia",
            "Germany",
            "Denmark",
            "Spain",
            "Estonia",
            "Finland",
            "France",
            "United Kingdom",
            "Gibraltar",
            "Greece",
            "Croatia",
            "Hungary",
            "Ireland",
            "Iceland",
            "Italy",
            "Lithuania",
            "Luxembourg",
            "Moldova",
            "Cayman Islands",
            "Dominica",
            "Dominican Republic",
            "Nauru",
            "New Zealand",
            "Palau",
            "Papua New Guinea",
            "French Polynesia",
            "Solomon Islands",
            "Tonga",
            "Tuvalu",
            "Vanuatu",
            "Wallis and Futuna",
            "Samoa",
            "Argentina",
            "Bolivia",
            "Brazil",
            "Chile",
            "Colombia",
            "Ecuador",
            "Falkland Islands",
            "Guyana",
            "Peru",
            "Paraguay",
            "Suriname",
            "Uruguay",
            "Niue",
            "Norfolk Island",
            "New Caledonia",
            "Marshall Islands",
            "Grenada",
            "Greenland",
            "Guatemala",
            "Honduras",
            "Haiti",
            "Jamaica",
            "Saint Kitts and Nevis",
            "Saint Lucia",
            "Saint Martin",
            "Mexico",
            "Montserrat",
            "Andorra",
            "Nicaragua",
            "El Salvador",
            "Saint Pierre and Miquelon",
            "Turks and Caicos Islands",
            "Trinidad and Tobago",
            "Saint Vincent and the Grenadines",
            "British Virgin Islands",
            "Australia",
            "Cook Islands",
            "Fiji",
            "Micronesia",
            "Kiribati",
            "Panama",
            "Angola",
            "Albania",
            "Chinese Taipei",
            "Mali",
            "Mozambique",
            "Mauritania",
            "Mauritius",
            "Malawi",
            "Namibia",
            "Niger",
            "Nigeria",
            "Rwanda",
            "Sudan",
            "Senegal",
            "Saint Helena",
            "Sierra Leone",
            "Somalia",
            "South Sudan",
            "Sao Tome and Principe",
            "Eswatini",
            "Seychelles",
            "Chad",
            "Togo",
            "Tunisia",
            "Tanzania",
            "Uganda",
            "Madagascar",
            "South Africa",
            "Morocco",
            "Libya",
            "Benin",
            "Burkina Faso",
            "Botswana",
            "Central African Republic",
            "Cote d'Ivoire",
            "Cameroon",
            "Democratic Republic of the Congo",
            "Republic of the Congo",
            "Comoros",
            "Cape Verde",
            "Djibouti",
            "Algeria",
            "Egypt",
            "Eritrea",
            "Ethiopia",
            "Gabon",
            "Ghana",
            "Guinea",
            "Gambia",
            "Guinea-Bissau",
            "Equatorial Guinea",
            "Kenya",
            "Liberia",
            "Lesotho",
            "Zambia",
            "Zimbabwe",
            "French South Antarctic Territory",
            "Lebanon",
            "Sri Lanka",
            "Macau",
            "Maldives",
            "Burma",
            "Mongolia",
            "Malaysia",
            "Nepal",
            "Oman",
            "Pakistan",
            "Philippines",
            "Palestine",
            "Qatar",
            "Saudi Arabia",
            "Singapore",
            "Syria",
            "Thailand",
            "Tajikistan",
            "Turkmenistan",
            "Timor-Leste",
            "Turkey",
            "Uzbekistan",
            "Vietnam",
            "Laos",
            "Kuwait",
            "South Korea",
            "Cambodia",
            "Afghanistan",
            "United Arab Emirates",
            "Armenia",
            "Azerbaijan",
            "Bangladesh",
            "Bahrain",
            "Brunei",
            "Bhutan",
            "Cocos (Keeling) Islands",
            "China",
            "Christmas Island",
            "Yemen",
            "Cyprus",
            "Hong Kong",
            "Indonesia",
            "India",
            "British Indian Ocean Territory",
            "Iran",
            "Iraq",
            "Israel",
            "Jordan",
            "Japan",
            "Kazakhstan",
            "Kyrgyzstan",
            "Georgia",
            "United States"
           ],
           "locations": [
            "VEN",
            "BDI",
            "MNE",
            "NLD",
            "NOR",
            "POL",
            "PRT",
            "ROU",
            "RUS",
            "SMR",
            "SRB",
            "SVK",
            "SVN",
            "SWE",
            "UKR",
            "ABW",
            "AIA",
            "ATG",
            "BHS",
            "BLZ",
            "BMU",
            "BRB",
            "CAN",
            "CRI",
            "CUB",
            "MLT",
            "CUW",
            "MKD",
            "LVA",
            "AUT",
            "BEL",
            "BGR",
            "BIH",
            "BLR",
            "CHE",
            "CZE",
            "DEU",
            "DNK",
            "ESP",
            "EST",
            "FIN",
            "FRA",
            "GBR",
            "GIB",
            "GRC",
            "HRV",
            "HUN",
            "IRL",
            "ISL",
            "ITA",
            "LTU",
            "LUX",
            "MDA",
            "CYM",
            "DMA",
            "DOM",
            "NRU",
            "NZL",
            "PLW",
            "PNG",
            "PYF",
            "SLB",
            "TON",
            "TUV",
            "VUT",
            "WLF",
            "WSM",
            "ARG",
            "BOL",
            "BRA",
            "CHL",
            "COL",
            "ECU",
            "FLK",
            "GUY",
            "PER",
            "PRY",
            "SUR",
            "URY",
            "NIU",
            "NFK",
            "NCL",
            "MHL",
            "GRD",
            "GRL",
            "GTM",
            "HND",
            "HTI",
            "JAM",
            "KNA",
            "LCA",
            "MAF",
            "MEX",
            "MSR",
            "AND",
            "NIC",
            "SLV",
            "SPM",
            "TCA",
            "TTO",
            "VCT",
            "VGB",
            "AUS",
            "COK",
            "FJI",
            "FSM",
            "KIR",
            "PAN",
            "AGO",
            "ALB",
            null,
            "MLI",
            "MOZ",
            "MRT",
            "MUS",
            "MWI",
            "NAM",
            "NER",
            "NGA",
            "RWA",
            "SDN",
            "SEN",
            "SHN",
            "SLE",
            "SOM",
            "SSD",
            "STP",
            "SWZ",
            "SYC",
            "TCD",
            "TGO",
            "TUN",
            "TZA",
            "UGA",
            "MDG",
            "ZAF",
            "MAR",
            "LBY",
            "BEN",
            "BFA",
            "BWA",
            "CAF",
            "CIV",
            "CMR",
            "COD",
            "COG",
            "COM",
            "CPV",
            "DJI",
            "DZA",
            "EGY",
            "ERI",
            "ETH",
            "GAB",
            "GHA",
            "GIN",
            "GMB",
            "GNB",
            "GNQ",
            "KEN",
            "LBR",
            "LSO",
            "ZMB",
            "ZWE",
            "ATF",
            "LBN",
            "LKA",
            "MAC",
            "MDV",
            "MMR",
            "MNG",
            "MYS",
            "NPL",
            "OMN",
            "PAK",
            "PHL",
            "PSE",
            "QAT",
            "SAU",
            "SGP",
            "SYR",
            "THA",
            "TJK",
            "TKM",
            "TLS",
            "TUR",
            "UZB",
            "VNM",
            "LAO",
            "KWT",
            "KOR",
            "KHM",
            "AFG",
            "ARE",
            "ARM",
            "AZE",
            "BGD",
            "BHR",
            "BRN",
            "BTN",
            "CCK",
            "CHN",
            "CXR",
            "YEM",
            "CYP",
            "HKG",
            "IDN",
            "IND",
            "IOT",
            "IRN",
            "IRQ",
            "ISR",
            "JOR",
            "JPN",
            "KAZ",
            "KGZ",
            "GEO",
            "USA"
           ],
           "name": "",
           "type": "choropleth",
           "z": [
            1227237627,
            11357015,
            34882344,
            47956895788,
            5172727271,
            6514842791,
            1626634138,
            951442776,
            8998752105,
            726689,
            421625996,
            666300125,
            569330981,
            4550933901,
            2783754832,
            535182997,
            76746777,
            449101578,
            2946986665,
            391956172,
            553482725,
            547468728,
            252594000000,
            6046491041,
            279474239,
            156329859,
            369348116,
            279594470,
            282265752,
            6295269823,
            29315974495,
            386938193,
            256108351,
            341498904,
            18101522905,
            3354106465,
            58589292015,
            3001628864,
            14990614193,
            407952147,
            2059415946,
            28210387548,
            50303107561,
            1048530147,
            1198555673,
            560502217,
            2057316925,
            16877470310,
            438532224,
            19685047118,
            821231479,
            1020298844,
            61334740,
            703538485,
            322510364,
            9258955468,
            1166496,
            3535021067,
            16886263,
            81518738,
            478811482,
            11010429,
            16241488,
            789444,
            2756951,
            443399,
            51895302,
            6777169691,
            521662055,
            34754775330,
            13673678991,
            13752965993,
            5668141351,
            295863,
            727490799,
            8771338789,
            2297002162,
            384842054,
            1025150376,
            239877,
            11710,
            59373562,
            88303608,
            148652088,
            11039103,
            6900655758,
            5147985130,
            973162302,
            2555990082,
            185171036,
            570649483,
            651863366,
            235487000000,
            22318928,
            3298945,
            1754189660,
            3209455618,
            72789,
            200478709,
            2588289329,
            119977386,
            342251390,
            24395385428,
            7444310,
            71854134,
            38204673,
            1357410,
            7192856526,
            598196003,
            84904778,
            30170717833,
            128816287,
            226986275,
            109986116,
            116661812,
            36443675,
            188930598,
            128863274,
            3203139727,
            36984427,
            73368521,
            229680438,
            560061,
            73925292,
            102243071,
            21783654,
            4033979,
            34106999,
            20104250,
            77638193,
            444789015,
            553404939,
            231534660,
            101485108,
            63536079,
            5442102134,
            3664462310,
            399712784,
            262356404,
            181155067,
            113966386,
            165095547,
            397387480,
            190864391,
            1989350734,
            108942570,
            1452925,
            14746998,
            140385892,
            975288842,
            5044621444,
            13790124,
            405737454,
            126904880,
            906967643,
            112254731,
            48877269,
            1179612,
            210727810,
            446985676,
            107284141,
            1918767,
            149524030,
            51662797,
            1691560,
            1645470233,
            495329878,
            300572722,
            50313185,
            408180601,
            256491197,
            12823234012,
            138819704,
            1255617518,
            2603121256,
            7881705111,
            60818631,
            4838986647,
            13250796265,
            28493622873,
            4045607,
            12699395088,
            20503125,
            25692818,
            4592774,
            10365679863,
            538050866,
            10744048846,
            54392112,
            3163686187,
            57449163666,
            560748150,
            962004519,
            16565783474,
            125839562,
            300051777,
            1627968391,
            876729752,
            220074911,
            2746827,
            78773,
            102280000000,
            1494545,
            383491541,
            170445851,
            28485047174,
            7862738421,
            33914596859,
            22433598,
            73133366,
            1209440217,
            13165371465,
            1310338489,
            69269199527,
            1125793484,
            62561627,
            808140818,
            430318000000
           ]
          }
         ],
         "name": "2019"
        },
        {
         "data": [
          {
           "coloraxis": "coloraxis",
           "customdata": [
            [
             28717967243,
             2020
            ],
            [
             11999050,
             2020
            ],
            [
             42106148,
             2020
            ],
            [
             42715558481,
             2020
            ],
            [
             4099582785,
             2020
            ],
            [
             5523140691,
             2020
            ],
            [
             1478115340,
             2020
            ],
            [
             946913696,
             2020
            ],
            [
             5490960189,
             2020
            ],
            [
             2009485,
             2020
            ],
            [
             360755414,
             2020
            ],
            [
             605472284,
             2020
            ],
            [
             505685300,
             2020
            ],
            [
             4307955729,
             2020
            ],
            [
             2438408293,
             2020
            ],
            [
             350894411,
             2020
            ],
            [
             41245960,
             2020
            ],
            [
             268632344,
             2020
            ],
            [
             2576975859,
             2020
            ],
            [
             358043630,
             2020
            ],
            [
             405024553,
             2020
            ],
            [
             561640816,
             2020
            ],
            [
             218511000000,
             2020
            ],
            [
             5377561793,
             2020
            ],
            [
             172059133,
             2020
            ],
            [
             135280872,
             2020
            ],
            [
             298192880,
             2020
            ],
            [
             210620100,
             2020
            ],
            [
             218177633,
             2020
            ],
            [
             4246649053,
             2020
            ],
            [
             22624257559,
             2020
            ],
            [
             444887324,
             2020
            ],
            [
             196631281,
             2020
            ],
            [
             343437552,
             2020
            ],
            [
             19700636821,
             2020
            ],
            [
             3261011685,
             2020
            ],
            [
             59086141841,
             2020
            ],
            [
             2787149548,
             2020
            ],
            [
             13646241442,
             2020
            ],
            [
             424841425,
             2020
            ],
            [
             1928896932,
             2020
            ],
            [
             23653215863,
             2020
            ],
            [
             47936301241,
             2020
            ],
            [
             790164902,
             2020
            ],
            [
             1142087251,
             2020
            ],
            [
             333087400,
             2020
            ],
            [
             2120008453,
             2020
            ],
            [
             13106560687,
             2020
            ],
            [
             324295627,
             2020
            ],
            [
             18268334925,
             2020
            ],
            [
             817449706,
             2020
            ],
            [
             775895163,
             2020
            ],
            [
             55797571,
             2020
            ],
            [
             640977415,
             2020
            ],
            [
             106080889,
             2020
            ],
            [
             7385017706,
             2020
            ],
            [
             575641,
             2020
            ],
            [
             2934499842,
             2020
            ],
            [
             18058467,
             2020
            ],
            [
             54668161,
             2020
            ],
            [
             149656398,
             2020
            ],
            [
             2873123,
             2020
            ],
            [
             11903877,
             2020
            ],
            [
             1592087,
             2020
            ],
            [
             4058326,
             2020
            ],
            [
             122726,
             2020
            ],
            [
             24773962,
             2020
            ],
            [
             4860699059,
             2020
            ],
            [
             472242912,
             2020
            ],
            [
             29324801003,
             2020
            ],
            [
             10576273750,
             2020
            ],
            [
             11055291193,
             2020
            ],
            [
             4113814907,
             2020
            ],
            [
             280492,
             2020
            ],
            [
             678564823,
             2020
            ],
            [
             6775356329,
             2020
            ],
            [
             1026646935,
             2020
            ],
            [
             292572908,
             2020
            ],
            [
             1024790699,
             2020
            ],
            [
             165570,
             2020
            ],
            [
             10656141,
             2020
            ],
            [
             46462725,
             2020
            ],
            [
             128960565,
             2020
            ],
            [
             123469745,
             2020
            ],
            [
             6370520,
             2020
            ],
            [
             5925446094,
             2020
            ],
            [
             3934790125,
             2020
            ],
            [
             976019809,
             2020
            ],
            [
             1770514130,
             2020
            ],
            [
             119965946,
             2020
            ],
            [
             436267622,
             2020
            ],
            [
             318379861,
             2020
            ],
            [
             197521000000,
             2020
            ],
            [
             19476431,
             2020
            ],
            [
             3616156,
             2020
            ],
            [
             1458374363,
             2020
            ],
            [
             2615843770,
             2020
            ],
            [
             231405,
             2020
            ],
            [
             150711086,
             2020
            ],
            [
             2170662786,
             2020
            ],
            [
             115694302,
             2020
            ],
            [
             176025525,
             2020
            ],
            [
             24230072372,
             2020
            ],
            [
             2707705,
             2020
            ],
            [
             56175959,
             2020
            ],
            [
             50129095,
             2020
            ],
            [
             1956108,
             2020
            ],
            [
             5112798346,
             2020
            ],
            [
             519893904,
             2020
            ],
            [
             72626027,
             2020
            ],
            [
             437941000000,
             2020
            ],
            [
             94209955,
             2020
            ],
            [
             162423808,
             2020
            ],
            [
             135031348,
             2020
            ],
            [
             74107738,
             2020
            ],
            [
             25323456,
             2020
            ],
            [
             134302627,
             2020
            ],
            [
             268448753,
             2020
            ],
            [
             4488044743,
             2020
            ],
            [
             72273470,
             2020
            ],
            [
             66891436,
             2020
            ],
            [
             284868395,
             2020
            ],
            [
             4757955,
             2020
            ],
            [
             69094954,
             2020
            ],
            [
             56387460,
             2020
            ],
            [
             38946414,
             2020
            ],
            [
             1290842,
             2020
            ],
            [
             36506145,
             2020
            ],
            [
             19704049,
             2020
            ],
            [
             43905582,
             2020
            ],
            [
             327929640,
             2020
            ],
            [
             493924639,
             2020
            ],
            [
             278631364,
             2020
            ],
            [
             119877275,
             2020
            ],
            [
             63305608,
             2020
            ],
            [
             4232067697,
             2020
            ],
            [
             2241479248,
             2020
            ],
            [
             291968864,
             2020
            ],
            [
             212587208,
             2020
            ],
            [
             212133315,
             2020
            ],
            [
             39377436,
             2020
            ],
            [
             35408445,
             2020
            ],
            [
             317325907,
             2020
            ],
            [
             189814326,
             2020
            ],
            [
             1374462546,
             2020
            ],
            [
             145453120,
             2020
            ],
            [
             2373559,
             2020
            ],
            [
             35169061,
             2020
            ],
            [
             167463420,
             2020
            ],
            [
             705817183,
             2020
            ],
            [
             4512773674,
             2020
            ],
            [
             17987742,
             2020
            ],
            [
             552108163,
             2020
            ],
            [
             89542159,
             2020
            ],
            [
             787197513,
             2020
            ],
            [
             120419469,
             2020
            ],
            [
             42239074,
             2020
            ],
            [
             1784598,
             2020
            ],
            [
             94832296,
             2020
            ],
            [
             407591426,
             2020
            ],
            [
             88467637,
             2020
            ],
            [
             3826548,
             2020
            ],
            [
             105549376,
             2020
            ],
            [
             59264654,
             2020
            ],
            [
             803256,
             2020
            ],
            [
             868709459,
             2020
            ],
            [
             454721114,
             2020
            ],
            [
             269688404,
             2020
            ],
            [
             19263318,
             2020
            ],
            [
             381089228,
             2020
            ],
            [
             219022214,
             2020
            ],
            [
             12440733494,
             2020
            ],
            [
             129875544,
             2020
            ],
            [
             955624174,
             2020
            ],
            [
             2778901416,
             2020
            ],
            [
             6891305838,
             2020
            ],
            [
             67207985,
             2020
            ],
            [
             3007347066,
             2020
            ],
            [
             10944257081,
             2020
            ],
            [
             25575400818,
             2020
            ],
            [
             2051141,
             2020
            ],
            [
             11246629987,
             2020
            ],
            [
             14489748,
             2020
            ],
            [
             32618756,
             2020
            ],
            [
             9036955,
             2020
            ],
            [
             10531480217,
             2020
            ],
            [
             246718643,
             2020
            ],
            [
             10155644771,
             2020
            ],
            [
             89100451,
             2020
            ],
            [
             2214815240,
             2020
            ],
            [
             53533315030,
             2020
            ],
            [
             396040437,
             2020
            ],
            [
             602882905,
             2020
            ],
            [
             13708486148,
             2020
            ],
            [
             58070332,
             2020
            ],
            [
             274053221,
             2020
            ],
            [
             1790733154,
             2020
            ],
            [
             795197992,
             2020
            ],
            [
             201624313,
             2020
            ],
            [
             2791777,
             2020
            ],
            [
             113950,
             2020
            ],
            [
             122200000000,
             2020
            ],
            [
             1870855,
             2020
            ],
            [
             308731699,
             2020
            ],
            [
             93735454,
             2020
            ],
            [
             22149516055,
             2020
            ],
            [
             7559141177,
             2020
            ],
            [
             26693947011,
             2020
            ],
            [
             6521073,
             2020
            ],
            [
             36277981,
             2020
            ],
            [
             729347336,
             2020
            ],
            [
             8896461966,
             2020
            ],
            [
             1345765926,
             2020
            ],
            [
             63096545400,
             2020
            ],
            [
             829481727,
             2020
            ],
            [
             85931906,
             2020
            ],
            [
             611637818,
             2020
            ],
            [
             1090562760,
             2020
            ]
           ],
           "geo": "geo",
           "hovertemplate": "<b>%{hovertext}</b><br><br>Year=%{customdata[1]}<br>ISO 3=%{location}<br>Trade Value=%{z}<extra></extra>",
           "hovertext": [
            "Chinese Taipei",
            "Burundi",
            "Montenegro",
            "Netherlands",
            "Norway",
            "Poland",
            "Portugal",
            "Romania",
            "Russia",
            "San Marino",
            "Serbia",
            "Slovakia",
            "Slovenia",
            "Sweden",
            "Ukraine",
            "Aruba",
            "Anguilla",
            "Antigua and Barbuda",
            "Bahamas",
            "Belize",
            "Bermuda",
            "Barbados",
            "Canada",
            "Costa Rica",
            "Cuba",
            "Malta",
            "Curaçao",
            "North Macedonia",
            "Latvia",
            "Austria",
            "Belgium",
            "Bulgaria",
            "Bosnia and Herzegovina",
            "Belarus",
            "Switzerland",
            "Czechia",
            "Germany",
            "Denmark",
            "Spain",
            "Estonia",
            "Finland",
            "France",
            "United Kingdom",
            "Gibraltar",
            "Greece",
            "Croatia",
            "Hungary",
            "Ireland",
            "Iceland",
            "Italy",
            "Lithuania",
            "Luxembourg",
            "Moldova",
            "Cayman Islands",
            "Dominica",
            "Dominican Republic",
            "Nauru",
            "New Zealand",
            "Palau",
            "Papua New Guinea",
            "French Polynesia",
            "Solomon Islands",
            "Tonga",
            "Tuvalu",
            "Vanuatu",
            "Wallis and Futuna",
            "Samoa",
            "Argentina",
            "Bolivia",
            "Brazil",
            "Chile",
            "Colombia",
            "Ecuador",
            "Falkland Islands",
            "Guyana",
            "Peru",
            "Paraguay",
            "Suriname",
            "Uruguay",
            "Niue",
            "Norfolk Island",
            "New Caledonia",
            "Marshall Islands",
            "Grenada",
            "Greenland",
            "Guatemala",
            "Honduras",
            "Haiti",
            "Jamaica",
            "Saint Kitts and Nevis",
            "Saint Lucia",
            "Saint Martin",
            "Mexico",
            "Montserrat",
            "Andorra",
            "Nicaragua",
            "El Salvador",
            "Saint Pierre and Miquelon",
            "Turks and Caicos Islands",
            "Trinidad and Tobago",
            "Saint Vincent and the Grenadines",
            "British Virgin Islands",
            "Australia",
            "Cook Islands",
            "Fiji",
            "Micronesia",
            "Kiribati",
            "Panama",
            "Angola",
            "Albania",
            "United States",
            "Mali",
            "Mozambique",
            "Mauritania",
            "Mauritius",
            "Malawi",
            "Namibia",
            "Niger",
            "Nigeria",
            "Rwanda",
            "Sudan",
            "Senegal",
            "Saint Helena",
            "Sierra Leone",
            "Somalia",
            "South Sudan",
            "Sao Tome and Principe",
            "Eswatini",
            "Seychelles",
            "Chad",
            "Togo",
            "Tunisia",
            "Tanzania",
            "Uganda",
            "Madagascar",
            "South Africa",
            "Morocco",
            "Libya",
            "Benin",
            "Burkina Faso",
            "Botswana",
            "Central African Republic",
            "Cote d'Ivoire",
            "Cameroon",
            "Democratic Republic of the Congo",
            "Republic of the Congo",
            "Comoros",
            "Cape Verde",
            "Djibouti",
            "Algeria",
            "Egypt",
            "Eritrea",
            "Ethiopia",
            "Gabon",
            "Ghana",
            "Guinea",
            "Gambia",
            "Guinea-Bissau",
            "Equatorial Guinea",
            "Kenya",
            "Liberia",
            "Lesotho",
            "Zambia",
            "Zimbabwe",
            "French South Antarctic Territory",
            "Lebanon",
            "Sri Lanka",
            "Macau",
            "Maldives",
            "Burma",
            "Mongolia",
            "Malaysia",
            "Nepal",
            "Oman",
            "Pakistan",
            "Philippines",
            "Palestine",
            "Qatar",
            "Saudi Arabia",
            "Singapore",
            "Syria",
            "Thailand",
            "Tajikistan",
            "Turkmenistan",
            "Timor-Leste",
            "Turkey",
            "Uzbekistan",
            "Vietnam",
            "Laos",
            "Kuwait",
            "South Korea",
            "Cambodia",
            "Afghanistan",
            "United Arab Emirates",
            "Armenia",
            "Azerbaijan",
            "Bangladesh",
            "Bahrain",
            "Brunei",
            "Bhutan",
            "Cocos (Keeling) Islands",
            "China",
            "Christmas Island",
            "Yemen",
            "Cyprus",
            "Hong Kong",
            "Indonesia",
            "India",
            "British Indian Ocean Territory",
            "Iran",
            "Iraq",
            "Israel",
            "Jordan",
            "Japan",
            "Kazakhstan",
            "Kyrgyzstan",
            "Georgia",
            "Venezuela"
           ],
           "locations": [
            null,
            "BDI",
            "MNE",
            "NLD",
            "NOR",
            "POL",
            "PRT",
            "ROU",
            "RUS",
            "SMR",
            "SRB",
            "SVK",
            "SVN",
            "SWE",
            "UKR",
            "ABW",
            "AIA",
            "ATG",
            "BHS",
            "BLZ",
            "BMU",
            "BRB",
            "CAN",
            "CRI",
            "CUB",
            "MLT",
            "CUW",
            "MKD",
            "LVA",
            "AUT",
            "BEL",
            "BGR",
            "BIH",
            "BLR",
            "CHE",
            "CZE",
            "DEU",
            "DNK",
            "ESP",
            "EST",
            "FIN",
            "FRA",
            "GBR",
            "GIB",
            "GRC",
            "HRV",
            "HUN",
            "IRL",
            "ISL",
            "ITA",
            "LTU",
            "LUX",
            "MDA",
            "CYM",
            "DMA",
            "DOM",
            "NRU",
            "NZL",
            "PLW",
            "PNG",
            "PYF",
            "SLB",
            "TON",
            "TUV",
            "VUT",
            "WLF",
            "WSM",
            "ARG",
            "BOL",
            "BRA",
            "CHL",
            "COL",
            "ECU",
            "FLK",
            "GUY",
            "PER",
            "PRY",
            "SUR",
            "URY",
            "NIU",
            "NFK",
            "NCL",
            "MHL",
            "GRD",
            "GRL",
            "GTM",
            "HND",
            "HTI",
            "JAM",
            "KNA",
            "LCA",
            "MAF",
            "MEX",
            "MSR",
            "AND",
            "NIC",
            "SLV",
            "SPM",
            "TCA",
            "TTO",
            "VCT",
            "VGB",
            "AUS",
            "COK",
            "FJI",
            "FSM",
            "KIR",
            "PAN",
            "AGO",
            "ALB",
            "USA",
            "MLI",
            "MOZ",
            "MRT",
            "MUS",
            "MWI",
            "NAM",
            "NER",
            "NGA",
            "RWA",
            "SDN",
            "SEN",
            "SHN",
            "SLE",
            "SOM",
            "SSD",
            "STP",
            "SWZ",
            "SYC",
            "TCD",
            "TGO",
            "TUN",
            "TZA",
            "UGA",
            "MDG",
            "ZAF",
            "MAR",
            "LBY",
            "BEN",
            "BFA",
            "BWA",
            "CAF",
            "CIV",
            "CMR",
            "COD",
            "COG",
            "COM",
            "CPV",
            "DJI",
            "DZA",
            "EGY",
            "ERI",
            "ETH",
            "GAB",
            "GHA",
            "GIN",
            "GMB",
            "GNB",
            "GNQ",
            "KEN",
            "LBR",
            "LSO",
            "ZMB",
            "ZWE",
            "ATF",
            "LBN",
            "LKA",
            "MAC",
            "MDV",
            "MMR",
            "MNG",
            "MYS",
            "NPL",
            "OMN",
            "PAK",
            "PHL",
            "PSE",
            "QAT",
            "SAU",
            "SGP",
            "SYR",
            "THA",
            "TJK",
            "TKM",
            "TLS",
            "TUR",
            "UZB",
            "VNM",
            "LAO",
            "KWT",
            "KOR",
            "KHM",
            "AFG",
            "ARE",
            "ARM",
            "AZE",
            "BGD",
            "BHR",
            "BRN",
            "BTN",
            "CCK",
            "CHN",
            "CXR",
            "YEM",
            "CYP",
            "HKG",
            "IDN",
            "IND",
            "IOT",
            "IRN",
            "IRQ",
            "ISR",
            "JOR",
            "JPN",
            "KAZ",
            "KGZ",
            "GEO",
            "VEN"
           ],
           "name": "",
           "type": "choropleth",
           "z": [
            28717967243,
            11999050,
            42106148,
            42715558481,
            4099582785,
            5523140691,
            1478115340,
            946913696,
            5490960189,
            2009485,
            360755414,
            605472284,
            505685300,
            4307955729,
            2438408293,
            350894411,
            41245960,
            268632344,
            2576975859,
            358043630,
            405024553,
            561640816,
            218511000000,
            5377561793,
            172059133,
            135280872,
            298192880,
            210620100,
            218177633,
            4246649053,
            22624257559,
            444887324,
            196631281,
            343437552,
            19700636821,
            3261011685,
            59086141841,
            2787149548,
            13646241442,
            424841425,
            1928896932,
            23653215863,
            47936301241,
            790164902,
            1142087251,
            333087400,
            2120008453,
            13106560687,
            324295627,
            18268334925,
            817449706,
            775895163,
            55797571,
            640977415,
            106080889,
            7385017706,
            575641,
            2934499842,
            18058467,
            54668161,
            149656398,
            2873123,
            11903877,
            1592087,
            4058326,
            122726,
            24773962,
            4860699059,
            472242912,
            29324801003,
            10576273750,
            11055291193,
            4113814907,
            280492,
            678564823,
            6775356329,
            1026646935,
            292572908,
            1024790699,
            165570,
            10656141,
            46462725,
            128960565,
            123469745,
            6370520,
            5925446094,
            3934790125,
            976019809,
            1770514130,
            119965946,
            436267622,
            318379861,
            197521000000,
            19476431,
            3616156,
            1458374363,
            2615843770,
            231405,
            150711086,
            2170662786,
            115694302,
            176025525,
            24230072372,
            2707705,
            56175959,
            50129095,
            1956108,
            5112798346,
            519893904,
            72626027,
            437941000000,
            94209955,
            162423808,
            135031348,
            74107738,
            25323456,
            134302627,
            268448753,
            4488044743,
            72273470,
            66891436,
            284868395,
            4757955,
            69094954,
            56387460,
            38946414,
            1290842,
            36506145,
            19704049,
            43905582,
            327929640,
            493924639,
            278631364,
            119877275,
            63305608,
            4232067697,
            2241479248,
            291968864,
            212587208,
            212133315,
            39377436,
            35408445,
            317325907,
            189814326,
            1374462546,
            145453120,
            2373559,
            35169061,
            167463420,
            705817183,
            4512773674,
            17987742,
            552108163,
            89542159,
            787197513,
            120419469,
            42239074,
            1784598,
            94832296,
            407591426,
            88467637,
            3826548,
            105549376,
            59264654,
            803256,
            868709459,
            454721114,
            269688404,
            19263318,
            381089228,
            219022214,
            12440733494,
            129875544,
            955624174,
            2778901416,
            6891305838,
            67207985,
            3007347066,
            10944257081,
            25575400818,
            2051141,
            11246629987,
            14489748,
            32618756,
            9036955,
            10531480217,
            246718643,
            10155644771,
            89100451,
            2214815240,
            53533315030,
            396040437,
            602882905,
            13708486148,
            58070332,
            274053221,
            1790733154,
            795197992,
            201624313,
            2791777,
            113950,
            122200000000,
            1870855,
            308731699,
            93735454,
            22149516055,
            7559141177,
            26693947011,
            6521073,
            36277981,
            729347336,
            8896461966,
            1345765926,
            63096545400,
            829481727,
            85931906,
            611637818,
            1090562760
           ]
          }
         ],
         "name": "2020"
        }
       ],
       "layout": {
        "coloraxis": {
         "colorbar": {
          "title": {
           "text": "Trade Value"
          }
         },
         "colorscale": [
          [
           0,
           "#0d0887"
          ],
          [
           0.1111111111111111,
           "#46039f"
          ],
          [
           0.2222222222222222,
           "#7201a8"
          ],
          [
           0.3333333333333333,
           "#9c179e"
          ],
          [
           0.4444444444444444,
           "#bd3786"
          ],
          [
           0.5555555555555556,
           "#d8576b"
          ],
          [
           0.6666666666666666,
           "#ed7953"
          ],
          [
           0.7777777777777778,
           "#fb9f3a"
          ],
          [
           0.8888888888888888,
           "#fdca26"
          ],
          [
           1,
           "#f0f921"
          ]
         ]
        },
        "geo": {
         "center": {},
         "domain": {
          "x": [
           0,
           1
          ],
          "y": [
           0,
           1
          ]
         }
        },
        "height": 700,
        "legend": {
         "tracegroupgap": 0
        },
        "margin": {
         "t": 60
        },
        "sliders": [
         {
          "active": 0,
          "currentvalue": {
           "prefix": "Year="
          },
          "len": 0.9,
          "pad": {
           "b": 10,
           "t": 60
          },
          "steps": [
           {
            "args": [
             [
              "2011"
             ],
             {
              "frame": {
               "duration": 0,
               "redraw": true
              },
              "fromcurrent": true,
              "mode": "immediate",
              "transition": {
               "duration": 0,
               "easing": "linear"
              }
             }
            ],
            "label": "2011",
            "method": "animate"
           },
           {
            "args": [
             [
              "2012"
             ],
             {
              "frame": {
               "duration": 0,
               "redraw": true
              },
              "fromcurrent": true,
              "mode": "immediate",
              "transition": {
               "duration": 0,
               "easing": "linear"
              }
             }
            ],
            "label": "2012",
            "method": "animate"
           },
           {
            "args": [
             [
              "2013"
             ],
             {
              "frame": {
               "duration": 0,
               "redraw": true
              },
              "fromcurrent": true,
              "mode": "immediate",
              "transition": {
               "duration": 0,
               "easing": "linear"
              }
             }
            ],
            "label": "2013",
            "method": "animate"
           },
           {
            "args": [
             [
              "2014"
             ],
             {
              "frame": {
               "duration": 0,
               "redraw": true
              },
              "fromcurrent": true,
              "mode": "immediate",
              "transition": {
               "duration": 0,
               "easing": "linear"
              }
             }
            ],
            "label": "2014",
            "method": "animate"
           },
           {
            "args": [
             [
              "2015"
             ],
             {
              "frame": {
               "duration": 0,
               "redraw": true
              },
              "fromcurrent": true,
              "mode": "immediate",
              "transition": {
               "duration": 0,
               "easing": "linear"
              }
             }
            ],
            "label": "2015",
            "method": "animate"
           },
           {
            "args": [
             [
              "2016"
             ],
             {
              "frame": {
               "duration": 0,
               "redraw": true
              },
              "fromcurrent": true,
              "mode": "immediate",
              "transition": {
               "duration": 0,
               "easing": "linear"
              }
             }
            ],
            "label": "2016",
            "method": "animate"
           },
           {
            "args": [
             [
              "2017"
             ],
             {
              "frame": {
               "duration": 0,
               "redraw": true
              },
              "fromcurrent": true,
              "mode": "immediate",
              "transition": {
               "duration": 0,
               "easing": "linear"
              }
             }
            ],
            "label": "2017",
            "method": "animate"
           },
           {
            "args": [
             [
              "2018"
             ],
             {
              "frame": {
               "duration": 0,
               "redraw": true
              },
              "fromcurrent": true,
              "mode": "immediate",
              "transition": {
               "duration": 0,
               "easing": "linear"
              }
             }
            ],
            "label": "2018",
            "method": "animate"
           },
           {
            "args": [
             [
              "2019"
             ],
             {
              "frame": {
               "duration": 0,
               "redraw": true
              },
              "fromcurrent": true,
              "mode": "immediate",
              "transition": {
               "duration": 0,
               "easing": "linear"
              }
             }
            ],
            "label": "2019",
            "method": "animate"
           },
           {
            "args": [
             [
              "2020"
             ],
             {
              "frame": {
               "duration": 0,
               "redraw": true
              },
              "fromcurrent": true,
              "mode": "immediate",
              "transition": {
               "duration": 0,
               "easing": "linear"
              }
             }
            ],
            "label": "2020",
            "method": "animate"
           }
          ],
          "x": 0.1,
          "xanchor": "left",
          "y": 0,
          "yanchor": "top"
         }
        ],
        "template": {
         "data": {
          "bar": [
           {
            "error_x": {
             "color": "#2a3f5f"
            },
            "error_y": {
             "color": "#2a3f5f"
            },
            "marker": {
             "line": {
              "color": "#E5ECF6",
              "width": 0.5
             },
             "pattern": {
              "fillmode": "overlay",
              "size": 10,
              "solidity": 0.2
             }
            },
            "type": "bar"
           }
          ],
          "barpolar": [
           {
            "marker": {
             "line": {
              "color": "#E5ECF6",
              "width": 0.5
             },
             "pattern": {
              "fillmode": "overlay",
              "size": 10,
              "solidity": 0.2
             }
            },
            "type": "barpolar"
           }
          ],
          "carpet": [
           {
            "aaxis": {
             "endlinecolor": "#2a3f5f",
             "gridcolor": "white",
             "linecolor": "white",
             "minorgridcolor": "white",
             "startlinecolor": "#2a3f5f"
            },
            "baxis": {
             "endlinecolor": "#2a3f5f",
             "gridcolor": "white",
             "linecolor": "white",
             "minorgridcolor": "white",
             "startlinecolor": "#2a3f5f"
            },
            "type": "carpet"
           }
          ],
          "choropleth": [
           {
            "colorbar": {
             "outlinewidth": 0,
             "ticks": ""
            },
            "type": "choropleth"
           }
          ],
          "contour": [
           {
            "colorbar": {
             "outlinewidth": 0,
             "ticks": ""
            },
            "colorscale": [
             [
              0,
              "#0d0887"
             ],
             [
              0.1111111111111111,
              "#46039f"
             ],
             [
              0.2222222222222222,
              "#7201a8"
             ],
             [
              0.3333333333333333,
              "#9c179e"
             ],
             [
              0.4444444444444444,
              "#bd3786"
             ],
             [
              0.5555555555555556,
              "#d8576b"
             ],
             [
              0.6666666666666666,
              "#ed7953"
             ],
             [
              0.7777777777777778,
              "#fb9f3a"
             ],
             [
              0.8888888888888888,
              "#fdca26"
             ],
             [
              1,
              "#f0f921"
             ]
            ],
            "type": "contour"
           }
          ],
          "contourcarpet": [
           {
            "colorbar": {
             "outlinewidth": 0,
             "ticks": ""
            },
            "type": "contourcarpet"
           }
          ],
          "heatmap": [
           {
            "colorbar": {
             "outlinewidth": 0,
             "ticks": ""
            },
            "colorscale": [
             [
              0,
              "#0d0887"
             ],
             [
              0.1111111111111111,
              "#46039f"
             ],
             [
              0.2222222222222222,
              "#7201a8"
             ],
             [
              0.3333333333333333,
              "#9c179e"
             ],
             [
              0.4444444444444444,
              "#bd3786"
             ],
             [
              0.5555555555555556,
              "#d8576b"
             ],
             [
              0.6666666666666666,
              "#ed7953"
             ],
             [
              0.7777777777777778,
              "#fb9f3a"
             ],
             [
              0.8888888888888888,
              "#fdca26"
             ],
             [
              1,
              "#f0f921"
             ]
            ],
            "type": "heatmap"
           }
          ],
          "heatmapgl": [
           {
            "colorbar": {
             "outlinewidth": 0,
             "ticks": ""
            },
            "colorscale": [
             [
              0,
              "#0d0887"
             ],
             [
              0.1111111111111111,
              "#46039f"
             ],
             [
              0.2222222222222222,
              "#7201a8"
             ],
             [
              0.3333333333333333,
              "#9c179e"
             ],
             [
              0.4444444444444444,
              "#bd3786"
             ],
             [
              0.5555555555555556,
              "#d8576b"
             ],
             [
              0.6666666666666666,
              "#ed7953"
             ],
             [
              0.7777777777777778,
              "#fb9f3a"
             ],
             [
              0.8888888888888888,
              "#fdca26"
             ],
             [
              1,
              "#f0f921"
             ]
            ],
            "type": "heatmapgl"
           }
          ],
          "histogram": [
           {
            "marker": {
             "pattern": {
              "fillmode": "overlay",
              "size": 10,
              "solidity": 0.2
             }
            },
            "type": "histogram"
           }
          ],
          "histogram2d": [
           {
            "colorbar": {
             "outlinewidth": 0,
             "ticks": ""
            },
            "colorscale": [
             [
              0,
              "#0d0887"
             ],
             [
              0.1111111111111111,
              "#46039f"
             ],
             [
              0.2222222222222222,
              "#7201a8"
             ],
             [
              0.3333333333333333,
              "#9c179e"
             ],
             [
              0.4444444444444444,
              "#bd3786"
             ],
             [
              0.5555555555555556,
              "#d8576b"
             ],
             [
              0.6666666666666666,
              "#ed7953"
             ],
             [
              0.7777777777777778,
              "#fb9f3a"
             ],
             [
              0.8888888888888888,
              "#fdca26"
             ],
             [
              1,
              "#f0f921"
             ]
            ],
            "type": "histogram2d"
           }
          ],
          "histogram2dcontour": [
           {
            "colorbar": {
             "outlinewidth": 0,
             "ticks": ""
            },
            "colorscale": [
             [
              0,
              "#0d0887"
             ],
             [
              0.1111111111111111,
              "#46039f"
             ],
             [
              0.2222222222222222,
              "#7201a8"
             ],
             [
              0.3333333333333333,
              "#9c179e"
             ],
             [
              0.4444444444444444,
              "#bd3786"
             ],
             [
              0.5555555555555556,
              "#d8576b"
             ],
             [
              0.6666666666666666,
              "#ed7953"
             ],
             [
              0.7777777777777778,
              "#fb9f3a"
             ],
             [
              0.8888888888888888,
              "#fdca26"
             ],
             [
              1,
              "#f0f921"
             ]
            ],
            "type": "histogram2dcontour"
           }
          ],
          "mesh3d": [
           {
            "colorbar": {
             "outlinewidth": 0,
             "ticks": ""
            },
            "type": "mesh3d"
           }
          ],
          "parcoords": [
           {
            "line": {
             "colorbar": {
              "outlinewidth": 0,
              "ticks": ""
             }
            },
            "type": "parcoords"
           }
          ],
          "pie": [
           {
            "automargin": true,
            "type": "pie"
           }
          ],
          "scatter": [
           {
            "fillpattern": {
             "fillmode": "overlay",
             "size": 10,
             "solidity": 0.2
            },
            "type": "scatter"
           }
          ],
          "scatter3d": [
           {
            "line": {
             "colorbar": {
              "outlinewidth": 0,
              "ticks": ""
             }
            },
            "marker": {
             "colorbar": {
              "outlinewidth": 0,
              "ticks": ""
             }
            },
            "type": "scatter3d"
           }
          ],
          "scattercarpet": [
           {
            "marker": {
             "colorbar": {
              "outlinewidth": 0,
              "ticks": ""
             }
            },
            "type": "scattercarpet"
           }
          ],
          "scattergeo": [
           {
            "marker": {
             "colorbar": {
              "outlinewidth": 0,
              "ticks": ""
             }
            },
            "type": "scattergeo"
           }
          ],
          "scattergl": [
           {
            "marker": {
             "colorbar": {
              "outlinewidth": 0,
              "ticks": ""
             }
            },
            "type": "scattergl"
           }
          ],
          "scattermapbox": [
           {
            "marker": {
             "colorbar": {
              "outlinewidth": 0,
              "ticks": ""
             }
            },
            "type": "scattermapbox"
           }
          ],
          "scatterpolar": [
           {
            "marker": {
             "colorbar": {
              "outlinewidth": 0,
              "ticks": ""
             }
            },
            "type": "scatterpolar"
           }
          ],
          "scatterpolargl": [
           {
            "marker": {
             "colorbar": {
              "outlinewidth": 0,
              "ticks": ""
             }
            },
            "type": "scatterpolargl"
           }
          ],
          "scatterternary": [
           {
            "marker": {
             "colorbar": {
              "outlinewidth": 0,
              "ticks": ""
             }
            },
            "type": "scatterternary"
           }
          ],
          "surface": [
           {
            "colorbar": {
             "outlinewidth": 0,
             "ticks": ""
            },
            "colorscale": [
             [
              0,
              "#0d0887"
             ],
             [
              0.1111111111111111,
              "#46039f"
             ],
             [
              0.2222222222222222,
              "#7201a8"
             ],
             [
              0.3333333333333333,
              "#9c179e"
             ],
             [
              0.4444444444444444,
              "#bd3786"
             ],
             [
              0.5555555555555556,
              "#d8576b"
             ],
             [
              0.6666666666666666,
              "#ed7953"
             ],
             [
              0.7777777777777778,
              "#fb9f3a"
             ],
             [
              0.8888888888888888,
              "#fdca26"
             ],
             [
              1,
              "#f0f921"
             ]
            ],
            "type": "surface"
           }
          ],
          "table": [
           {
            "cells": {
             "fill": {
              "color": "#EBF0F8"
             },
             "line": {
              "color": "white"
             }
            },
            "header": {
             "fill": {
              "color": "#C8D4E3"
             },
             "line": {
              "color": "white"
             }
            },
            "type": "table"
           }
          ]
         },
         "layout": {
          "annotationdefaults": {
           "arrowcolor": "#2a3f5f",
           "arrowhead": 0,
           "arrowwidth": 1
          },
          "autotypenumbers": "strict",
          "coloraxis": {
           "colorbar": {
            "outlinewidth": 0,
            "ticks": ""
           }
          },
          "colorscale": {
           "diverging": [
            [
             0,
             "#8e0152"
            ],
            [
             0.1,
             "#c51b7d"
            ],
            [
             0.2,
             "#de77ae"
            ],
            [
             0.3,
             "#f1b6da"
            ],
            [
             0.4,
             "#fde0ef"
            ],
            [
             0.5,
             "#f7f7f7"
            ],
            [
             0.6,
             "#e6f5d0"
            ],
            [
             0.7,
             "#b8e186"
            ],
            [
             0.8,
             "#7fbc41"
            ],
            [
             0.9,
             "#4d9221"
            ],
            [
             1,
             "#276419"
            ]
           ],
           "sequential": [
            [
             0,
             "#0d0887"
            ],
            [
             0.1111111111111111,
             "#46039f"
            ],
            [
             0.2222222222222222,
             "#7201a8"
            ],
            [
             0.3333333333333333,
             "#9c179e"
            ],
            [
             0.4444444444444444,
             "#bd3786"
            ],
            [
             0.5555555555555556,
             "#d8576b"
            ],
            [
             0.6666666666666666,
             "#ed7953"
            ],
            [
             0.7777777777777778,
             "#fb9f3a"
            ],
            [
             0.8888888888888888,
             "#fdca26"
            ],
            [
             1,
             "#f0f921"
            ]
           ],
           "sequentialminus": [
            [
             0,
             "#0d0887"
            ],
            [
             0.1111111111111111,
             "#46039f"
            ],
            [
             0.2222222222222222,
             "#7201a8"
            ],
            [
             0.3333333333333333,
             "#9c179e"
            ],
            [
             0.4444444444444444,
             "#bd3786"
            ],
            [
             0.5555555555555556,
             "#d8576b"
            ],
            [
             0.6666666666666666,
             "#ed7953"
            ],
            [
             0.7777777777777778,
             "#fb9f3a"
            ],
            [
             0.8888888888888888,
             "#fdca26"
            ],
            [
             1,
             "#f0f921"
            ]
           ]
          },
          "colorway": [
           "#636efa",
           "#EF553B",
           "#00cc96",
           "#ab63fa",
           "#FFA15A",
           "#19d3f3",
           "#FF6692",
           "#B6E880",
           "#FF97FF",
           "#FECB52"
          ],
          "font": {
           "color": "#2a3f5f"
          },
          "geo": {
           "bgcolor": "white",
           "lakecolor": "white",
           "landcolor": "#E5ECF6",
           "showlakes": true,
           "showland": true,
           "subunitcolor": "white"
          },
          "hoverlabel": {
           "align": "left"
          },
          "hovermode": "closest",
          "mapbox": {
           "style": "light"
          },
          "paper_bgcolor": "white",
          "plot_bgcolor": "#E5ECF6",
          "polar": {
           "angularaxis": {
            "gridcolor": "white",
            "linecolor": "white",
            "ticks": ""
           },
           "bgcolor": "#E5ECF6",
           "radialaxis": {
            "gridcolor": "white",
            "linecolor": "white",
            "ticks": ""
           }
          },
          "scene": {
           "xaxis": {
            "backgroundcolor": "#E5ECF6",
            "gridcolor": "white",
            "gridwidth": 2,
            "linecolor": "white",
            "showbackground": true,
            "ticks": "",
            "zerolinecolor": "white"
           },
           "yaxis": {
            "backgroundcolor": "#E5ECF6",
            "gridcolor": "white",
            "gridwidth": 2,
            "linecolor": "white",
            "showbackground": true,
            "ticks": "",
            "zerolinecolor": "white"
           },
           "zaxis": {
            "backgroundcolor": "#E5ECF6",
            "gridcolor": "white",
            "gridwidth": 2,
            "linecolor": "white",
            "showbackground": true,
            "ticks": "",
            "zerolinecolor": "white"
           }
          },
          "shapedefaults": {
           "line": {
            "color": "#2a3f5f"
           }
          },
          "ternary": {
           "aaxis": {
            "gridcolor": "white",
            "linecolor": "white",
            "ticks": ""
           },
           "baxis": {
            "gridcolor": "white",
            "linecolor": "white",
            "ticks": ""
           },
           "bgcolor": "#E5ECF6",
           "caxis": {
            "gridcolor": "white",
            "linecolor": "white",
            "ticks": ""
           }
          },
          "title": {
           "x": 0.05
          },
          "xaxis": {
           "automargin": true,
           "gridcolor": "white",
           "linecolor": "white",
           "ticks": "",
           "title": {
            "standoff": 15
           },
           "zerolinecolor": "white",
           "zerolinewidth": 2
          },
          "yaxis": {
           "automargin": true,
           "gridcolor": "white",
           "linecolor": "white",
           "ticks": "",
           "title": {
            "standoff": 15
           },
           "zerolinecolor": "white",
           "zerolinewidth": 2
          }
         }
        },
        "title": {
         "text": "Export Trade Value for different Markets 2010-2020"
        },
        "updatemenus": [
         {
          "buttons": [
           {
            "args": [
             null,
             {
              "frame": {
               "duration": 500,
               "redraw": true
              },
              "fromcurrent": true,
              "mode": "immediate",
              "transition": {
               "duration": 500,
               "easing": "linear"
              }
             }
            ],
            "label": "&#9654;",
            "method": "animate"
           },
           {
            "args": [
             [
              null
             ],
             {
              "frame": {
               "duration": 0,
               "redraw": true
              },
              "fromcurrent": true,
              "mode": "immediate",
              "transition": {
               "duration": 0,
               "easing": "linear"
              }
             }
            ],
            "label": "&#9724;",
            "method": "animate"
           }
          ],
          "direction": "left",
          "pad": {
           "r": 10,
           "t": 70
          },
          "showactive": false,
          "type": "buttons",
          "x": 0.1,
          "xanchor": "right",
          "y": 0,
          "yanchor": "top"
         }
        ]
       }
      }
     },
     "metadata": {},
     "output_type": "display_data"
    }
   ],
   "source": [
    "df = df_concat\n",
    "df['ISO 3'] = df['ISO 3'].str.upper()\n",
    "df = df.sort_values('Year')\n",
    "# # create a choropleth map with time animation\n",
    "# fig = px.choropleth(df, \n",
    "#                     locations=\"ISO 3\",\n",
    "#                     color=\"Trade Value\",\n",
    "#                     hover_name=\"Country\",\n",
    "#                     animation_frame=\"Year\",  # specify the column with the time values\n",
    "#                     color_continuous_scale=px.colors.sequential.Plasma,\n",
    "#                     height=700)\n",
    "# fig.show()\n",
    "\n",
    "import plotly.express as px\n",
    "fig = px.choropleth(df, \n",
    "                    locations=\"ISO 3\",\n",
    "                    color=\"Trade Value\",\n",
    "                    hover_name=\"Country\",\n",
    "                    hover_data=[\"Trade Value\", \"Year\"],\n",
    "                    animation_frame=\"Year\",  # specify the column with the time values\n",
    "                    color_continuous_scale=px.colors.sequential.Plasma,\n",
    "                    height=700)\n",
    "\n",
    "fig.update_layout(title=\"Export Trade Value for different Markets 2010-2020\")\n",
    "\n",
    "fig.show()"
   ]
  },
  {
   "cell_type": "code",
   "execution_count": 20,
   "metadata": {},
   "outputs": [
    {
     "ename": "NameError",
     "evalue": "name 'df_filtered' is not defined",
     "output_type": "error",
     "traceback": [
      "\u001b[0;31m---------------------------------------------------------------------------\u001b[0m",
      "\u001b[0;31mNameError\u001b[0m                                 Traceback (most recent call last)",
      "\u001b[0;32m<ipython-input-20-a8805c2b3fd3>\u001b[0m in \u001b[0;36m<module>\u001b[0;34m\u001b[0m\n\u001b[0;32m----> 1\u001b[0;31m \u001b[0mdf_filtered\u001b[0m\u001b[0;34m.\u001b[0m\u001b[0mhead\u001b[0m\u001b[0;34m(\u001b[0m\u001b[0;34m)\u001b[0m\u001b[0;34m\u001b[0m\u001b[0;34m\u001b[0m\u001b[0m\n\u001b[0m",
      "\u001b[0;31mNameError\u001b[0m: name 'df_filtered' is not defined"
     ]
    }
   ],
   "source": [
    "df_filtered.head()"
   ]
  },
  {
   "cell_type": "code",
   "execution_count": null,
   "metadata": {},
   "outputs": [
    {
     "data": {
      "application/vnd.plotly.v1+json": {
       "config": {
        "plotlyServerURL": "https://plot.ly"
       },
       "data": [
        {
         "hovertemplate": "Country=United States<br>Continent=North America<br>Year=%{x}<br>Trade Value Growth=%{y}<extra></extra>",
         "legendgroup": "United States, North America",
         "line": {
          "color": "#636efa",
          "dash": "solid"
         },
         "marker": {
          "symbol": "circle"
         },
         "mode": "lines",
         "name": "United States, North America",
         "orientation": "v",
         "showlegend": true,
         "type": "scatter",
         "x": [
          2011,
          2012,
          2013,
          2014,
          2015,
          2016,
          2017,
          2018,
          2019,
          2020
         ],
         "xaxis": "x",
         "y": [
          51.992900399999996,
          38.81778023,
          33.03446226,
          24.85981019,
          22.02811189,
          30.03225236,
          15.39840774,
          5.191476648,
          23.22380665,
          21.07877203
         ],
         "yaxis": "y"
        },
        {
         "hovertemplate": "Country=Canada<br>Continent=North America<br>Year=%{x}<br>Trade Value Growth=%{y}<extra></extra>",
         "legendgroup": "Canada, North America",
         "line": {
          "color": "#EF553B",
          "dash": "solid"
         },
         "marker": {
          "symbol": "circle"
         },
         "mode": "lines",
         "name": "Canada, North America",
         "orientation": "v",
         "showlegend": true,
         "type": "scatter",
         "x": [
          2011,
          2012,
          2013,
          2014,
          2015,
          2016,
          2017,
          2018,
          2019,
          2020
         ],
         "xaxis": "x",
         "y": [
          3.64484791,
          0.6800604920000001,
          -2.527536603,
          -6.31704246,
          5.412753662,
          11.65594518,
          5.118539715,
          -0.074406532,
          2.671988206,
          18.68695071
         ],
         "yaxis": "y"
        },
        {
         "hovertemplate": "Country=Germany<br>Continent=Europe<br>Year=%{x}<br>Trade Value Growth=%{y}<extra></extra>",
         "legendgroup": "Germany, Europe",
         "line": {
          "color": "#00cc96",
          "dash": "dot"
         },
         "marker": {
          "symbol": "circle"
         },
         "mode": "lines",
         "name": "Germany, Europe",
         "orientation": "v",
         "showlegend": true,
         "type": "scatter",
         "x": [
          2011,
          2012,
          2013,
          2014,
          2015,
          2016,
          2017,
          2018,
          2019,
          2020
         ],
         "xaxis": "x",
         "y": [
          24.97963605,
          29.25791806,
          28.14369714,
          24.87604671,
          22.23782987,
          26.72461094,
          20.55076596,
          18.85226996,
          9.563206969,
          8.641900236
         ],
         "yaxis": "y"
        },
        {
         "hovertemplate": "Country=France<br>Continent=Europe<br>Year=%{x}<br>Trade Value Growth=%{y}<extra></extra>",
         "legendgroup": "France, Europe",
         "line": {
          "color": "#ab63fa",
          "dash": "dot"
         },
         "marker": {
          "symbol": "circle"
         },
         "mode": "lines",
         "name": "France, Europe",
         "orientation": "v",
         "showlegend": true,
         "type": "scatter",
         "x": [
          2011,
          2012,
          2013,
          2014,
          2015,
          2016,
          2017,
          2018,
          2019,
          2020
         ],
         "xaxis": "x",
         "y": [
          -13.36749224,
          -15.67572862,
          -21.85985703,
          -13.94966955,
          -9.002533144,
          -8.982129226,
          -13.27000136,
          -1.983945818,
          -6.548319482999999,
          11.45664673
         ],
         "yaxis": "y"
        },
        {
         "hovertemplate": "Country=Mexico<br>Continent=North America<br>Year=%{x}<br>Trade Value Growth=%{y}<extra></extra>",
         "legendgroup": "Mexico, North America",
         "line": {
          "color": "#FFA15A",
          "dash": "solid"
         },
         "marker": {
          "symbol": "circle"
         },
         "mode": "lines",
         "name": "Mexico, North America",
         "orientation": "v",
         "showlegend": true,
         "type": "scatter",
         "x": [
          2011,
          2012,
          2013,
          2014,
          2015,
          2016,
          2017,
          2018,
          2019,
          2020
         ],
         "xaxis": "x",
         "y": [
          31.85099131,
          23.584111899999996,
          19.3059335,
          11.96461782,
          15.11025629,
          18.03111135,
          8.924544398,
          -0.12735971199999999,
          4.749064273,
          24.88365403
         ],
         "yaxis": "y"
        },
        {
         "hovertemplate": "Country=Australia<br>Continent=Oceania<br>Year=%{x}<br>Trade Value Growth=%{y}<extra></extra>",
         "legendgroup": "Australia, Oceania",
         "line": {
          "color": "#19d3f3",
          "dash": "dash"
         },
         "marker": {
          "symbol": "circle"
         },
         "mode": "lines",
         "name": "Australia, Oceania",
         "orientation": "v",
         "showlegend": true,
         "type": "scatter",
         "x": [
          2011,
          2012,
          2013,
          2014,
          2015,
          2016,
          2017,
          2018,
          2019,
          2020
         ],
         "xaxis": "x",
         "y": [
          -0.645142729,
          -8.6382878,
          8.540030482,
          7.710445117999999,
          12.81334848,
          22.78096907,
          12.61273322,
          10.65186032,
          5.197321562,
          5.915044994
         ],
         "yaxis": "y"
        },
        {
         "hovertemplate": "Country=South Africa<br>Continent=Africa<br>Year=%{x}<br>Trade Value Growth=%{y}<extra></extra>",
         "legendgroup": "South Africa, Africa",
         "line": {
          "color": "#FF6692",
          "dash": "longdash"
         },
         "marker": {
          "symbol": "circle"
         },
         "mode": "lines",
         "name": "South Africa, Africa",
         "orientation": "v",
         "showlegend": true,
         "type": "scatter",
         "x": [
          2011,
          2012,
          2013,
          2014,
          2015,
          2016,
          2017,
          2018,
          2019,
          2020
         ],
         "xaxis": "x",
         "y": [
          -36.5999948,
          -31.10011157,
          -21.24650661,
          -19.04625326,
          -9.376005915,
          11.29529816,
          -0.561888752,
          -2.890849105,
          -4.3688820999999995,
          22.97400421
         ],
         "yaxis": "y"
        },
        {
         "hovertemplate": "Country=Singapore<br>Continent=Asia<br>Year=%{x}<br>Trade Value Growth=%{y}<extra></extra>",
         "legendgroup": "Singapore, Asia",
         "line": {
          "color": "#B6E880",
          "dash": "dashdot"
         },
         "marker": {
          "symbol": "circle"
         },
         "mode": "lines",
         "name": "Singapore, Asia",
         "orientation": "v",
         "showlegend": true,
         "type": "scatter",
         "x": [
          2011,
          2012,
          2013,
          2014,
          2015,
          2016,
          2017,
          2018,
          2019,
          2020
         ],
         "xaxis": "x",
         "y": [
          10.38780577,
          13.22729591,
          15.78441921,
          14.83154079,
          22.98597691,
          34.32961557,
          14.82360176,
          8.060575518,
          14.16670387,
          27.193432
         ],
         "yaxis": "y"
        },
        {
         "hovertemplate": "Country=China<br>Continent=Asia<br>Year=%{x}<br>Trade Value Growth=%{y}<extra></extra>",
         "legendgroup": "China, Asia",
         "line": {
          "color": "#FF97FF",
          "dash": "dashdot"
         },
         "marker": {
          "symbol": "circle"
         },
         "mode": "lines",
         "name": "China, Asia",
         "orientation": "v",
         "showlegend": true,
         "type": "scatter",
         "x": [
          2011,
          2012,
          2013,
          2014,
          2015,
          2016,
          2017,
          2018,
          2019,
          2020
         ],
         "xaxis": "x",
         "y": [
          49.88642961,
          38.24950605,
          22.92733223,
          20.51379274,
          27.40705439,
          31.73986533,
          18.27028716,
          27.07499992,
          47.32954062,
          23.31328128
         ],
         "yaxis": "y"
        }
       ],
       "layout": {
        "legend": {
         "title": {
          "text": "Country, Continent"
         },
         "tracegroupgap": 0
        },
        "template": {
         "data": {
          "bar": [
           {
            "error_x": {
             "color": "#2a3f5f"
            },
            "error_y": {
             "color": "#2a3f5f"
            },
            "marker": {
             "line": {
              "color": "#E5ECF6",
              "width": 0.5
             },
             "pattern": {
              "fillmode": "overlay",
              "size": 10,
              "solidity": 0.2
             }
            },
            "type": "bar"
           }
          ],
          "barpolar": [
           {
            "marker": {
             "line": {
              "color": "#E5ECF6",
              "width": 0.5
             },
             "pattern": {
              "fillmode": "overlay",
              "size": 10,
              "solidity": 0.2
             }
            },
            "type": "barpolar"
           }
          ],
          "carpet": [
           {
            "aaxis": {
             "endlinecolor": "#2a3f5f",
             "gridcolor": "white",
             "linecolor": "white",
             "minorgridcolor": "white",
             "startlinecolor": "#2a3f5f"
            },
            "baxis": {
             "endlinecolor": "#2a3f5f",
             "gridcolor": "white",
             "linecolor": "white",
             "minorgridcolor": "white",
             "startlinecolor": "#2a3f5f"
            },
            "type": "carpet"
           }
          ],
          "choropleth": [
           {
            "colorbar": {
             "outlinewidth": 0,
             "ticks": ""
            },
            "type": "choropleth"
           }
          ],
          "contour": [
           {
            "colorbar": {
             "outlinewidth": 0,
             "ticks": ""
            },
            "colorscale": [
             [
              0,
              "#0d0887"
             ],
             [
              0.1111111111111111,
              "#46039f"
             ],
             [
              0.2222222222222222,
              "#7201a8"
             ],
             [
              0.3333333333333333,
              "#9c179e"
             ],
             [
              0.4444444444444444,
              "#bd3786"
             ],
             [
              0.5555555555555556,
              "#d8576b"
             ],
             [
              0.6666666666666666,
              "#ed7953"
             ],
             [
              0.7777777777777778,
              "#fb9f3a"
             ],
             [
              0.8888888888888888,
              "#fdca26"
             ],
             [
              1,
              "#f0f921"
             ]
            ],
            "type": "contour"
           }
          ],
          "contourcarpet": [
           {
            "colorbar": {
             "outlinewidth": 0,
             "ticks": ""
            },
            "type": "contourcarpet"
           }
          ],
          "heatmap": [
           {
            "colorbar": {
             "outlinewidth": 0,
             "ticks": ""
            },
            "colorscale": [
             [
              0,
              "#0d0887"
             ],
             [
              0.1111111111111111,
              "#46039f"
             ],
             [
              0.2222222222222222,
              "#7201a8"
             ],
             [
              0.3333333333333333,
              "#9c179e"
             ],
             [
              0.4444444444444444,
              "#bd3786"
             ],
             [
              0.5555555555555556,
              "#d8576b"
             ],
             [
              0.6666666666666666,
              "#ed7953"
             ],
             [
              0.7777777777777778,
              "#fb9f3a"
             ],
             [
              0.8888888888888888,
              "#fdca26"
             ],
             [
              1,
              "#f0f921"
             ]
            ],
            "type": "heatmap"
           }
          ],
          "heatmapgl": [
           {
            "colorbar": {
             "outlinewidth": 0,
             "ticks": ""
            },
            "colorscale": [
             [
              0,
              "#0d0887"
             ],
             [
              0.1111111111111111,
              "#46039f"
             ],
             [
              0.2222222222222222,
              "#7201a8"
             ],
             [
              0.3333333333333333,
              "#9c179e"
             ],
             [
              0.4444444444444444,
              "#bd3786"
             ],
             [
              0.5555555555555556,
              "#d8576b"
             ],
             [
              0.6666666666666666,
              "#ed7953"
             ],
             [
              0.7777777777777778,
              "#fb9f3a"
             ],
             [
              0.8888888888888888,
              "#fdca26"
             ],
             [
              1,
              "#f0f921"
             ]
            ],
            "type": "heatmapgl"
           }
          ],
          "histogram": [
           {
            "marker": {
             "pattern": {
              "fillmode": "overlay",
              "size": 10,
              "solidity": 0.2
             }
            },
            "type": "histogram"
           }
          ],
          "histogram2d": [
           {
            "colorbar": {
             "outlinewidth": 0,
             "ticks": ""
            },
            "colorscale": [
             [
              0,
              "#0d0887"
             ],
             [
              0.1111111111111111,
              "#46039f"
             ],
             [
              0.2222222222222222,
              "#7201a8"
             ],
             [
              0.3333333333333333,
              "#9c179e"
             ],
             [
              0.4444444444444444,
              "#bd3786"
             ],
             [
              0.5555555555555556,
              "#d8576b"
             ],
             [
              0.6666666666666666,
              "#ed7953"
             ],
             [
              0.7777777777777778,
              "#fb9f3a"
             ],
             [
              0.8888888888888888,
              "#fdca26"
             ],
             [
              1,
              "#f0f921"
             ]
            ],
            "type": "histogram2d"
           }
          ],
          "histogram2dcontour": [
           {
            "colorbar": {
             "outlinewidth": 0,
             "ticks": ""
            },
            "colorscale": [
             [
              0,
              "#0d0887"
             ],
             [
              0.1111111111111111,
              "#46039f"
             ],
             [
              0.2222222222222222,
              "#7201a8"
             ],
             [
              0.3333333333333333,
              "#9c179e"
             ],
             [
              0.4444444444444444,
              "#bd3786"
             ],
             [
              0.5555555555555556,
              "#d8576b"
             ],
             [
              0.6666666666666666,
              "#ed7953"
             ],
             [
              0.7777777777777778,
              "#fb9f3a"
             ],
             [
              0.8888888888888888,
              "#fdca26"
             ],
             [
              1,
              "#f0f921"
             ]
            ],
            "type": "histogram2dcontour"
           }
          ],
          "mesh3d": [
           {
            "colorbar": {
             "outlinewidth": 0,
             "ticks": ""
            },
            "type": "mesh3d"
           }
          ],
          "parcoords": [
           {
            "line": {
             "colorbar": {
              "outlinewidth": 0,
              "ticks": ""
             }
            },
            "type": "parcoords"
           }
          ],
          "pie": [
           {
            "automargin": true,
            "type": "pie"
           }
          ],
          "scatter": [
           {
            "fillpattern": {
             "fillmode": "overlay",
             "size": 10,
             "solidity": 0.2
            },
            "type": "scatter"
           }
          ],
          "scatter3d": [
           {
            "line": {
             "colorbar": {
              "outlinewidth": 0,
              "ticks": ""
             }
            },
            "marker": {
             "colorbar": {
              "outlinewidth": 0,
              "ticks": ""
             }
            },
            "type": "scatter3d"
           }
          ],
          "scattercarpet": [
           {
            "marker": {
             "colorbar": {
              "outlinewidth": 0,
              "ticks": ""
             }
            },
            "type": "scattercarpet"
           }
          ],
          "scattergeo": [
           {
            "marker": {
             "colorbar": {
              "outlinewidth": 0,
              "ticks": ""
             }
            },
            "type": "scattergeo"
           }
          ],
          "scattergl": [
           {
            "marker": {
             "colorbar": {
              "outlinewidth": 0,
              "ticks": ""
             }
            },
            "type": "scattergl"
           }
          ],
          "scattermapbox": [
           {
            "marker": {
             "colorbar": {
              "outlinewidth": 0,
              "ticks": ""
             }
            },
            "type": "scattermapbox"
           }
          ],
          "scatterpolar": [
           {
            "marker": {
             "colorbar": {
              "outlinewidth": 0,
              "ticks": ""
             }
            },
            "type": "scatterpolar"
           }
          ],
          "scatterpolargl": [
           {
            "marker": {
             "colorbar": {
              "outlinewidth": 0,
              "ticks": ""
             }
            },
            "type": "scatterpolargl"
           }
          ],
          "scatterternary": [
           {
            "marker": {
             "colorbar": {
              "outlinewidth": 0,
              "ticks": ""
             }
            },
            "type": "scatterternary"
           }
          ],
          "surface": [
           {
            "colorbar": {
             "outlinewidth": 0,
             "ticks": ""
            },
            "colorscale": [
             [
              0,
              "#0d0887"
             ],
             [
              0.1111111111111111,
              "#46039f"
             ],
             [
              0.2222222222222222,
              "#7201a8"
             ],
             [
              0.3333333333333333,
              "#9c179e"
             ],
             [
              0.4444444444444444,
              "#bd3786"
             ],
             [
              0.5555555555555556,
              "#d8576b"
             ],
             [
              0.6666666666666666,
              "#ed7953"
             ],
             [
              0.7777777777777778,
              "#fb9f3a"
             ],
             [
              0.8888888888888888,
              "#fdca26"
             ],
             [
              1,
              "#f0f921"
             ]
            ],
            "type": "surface"
           }
          ],
          "table": [
           {
            "cells": {
             "fill": {
              "color": "#EBF0F8"
             },
             "line": {
              "color": "white"
             }
            },
            "header": {
             "fill": {
              "color": "#C8D4E3"
             },
             "line": {
              "color": "white"
             }
            },
            "type": "table"
           }
          ]
         },
         "layout": {
          "annotationdefaults": {
           "arrowcolor": "#2a3f5f",
           "arrowhead": 0,
           "arrowwidth": 1
          },
          "autotypenumbers": "strict",
          "coloraxis": {
           "colorbar": {
            "outlinewidth": 0,
            "ticks": ""
           }
          },
          "colorscale": {
           "diverging": [
            [
             0,
             "#8e0152"
            ],
            [
             0.1,
             "#c51b7d"
            ],
            [
             0.2,
             "#de77ae"
            ],
            [
             0.3,
             "#f1b6da"
            ],
            [
             0.4,
             "#fde0ef"
            ],
            [
             0.5,
             "#f7f7f7"
            ],
            [
             0.6,
             "#e6f5d0"
            ],
            [
             0.7,
             "#b8e186"
            ],
            [
             0.8,
             "#7fbc41"
            ],
            [
             0.9,
             "#4d9221"
            ],
            [
             1,
             "#276419"
            ]
           ],
           "sequential": [
            [
             0,
             "#0d0887"
            ],
            [
             0.1111111111111111,
             "#46039f"
            ],
            [
             0.2222222222222222,
             "#7201a8"
            ],
            [
             0.3333333333333333,
             "#9c179e"
            ],
            [
             0.4444444444444444,
             "#bd3786"
            ],
            [
             0.5555555555555556,
             "#d8576b"
            ],
            [
             0.6666666666666666,
             "#ed7953"
            ],
            [
             0.7777777777777778,
             "#fb9f3a"
            ],
            [
             0.8888888888888888,
             "#fdca26"
            ],
            [
             1,
             "#f0f921"
            ]
           ],
           "sequentialminus": [
            [
             0,
             "#0d0887"
            ],
            [
             0.1111111111111111,
             "#46039f"
            ],
            [
             0.2222222222222222,
             "#7201a8"
            ],
            [
             0.3333333333333333,
             "#9c179e"
            ],
            [
             0.4444444444444444,
             "#bd3786"
            ],
            [
             0.5555555555555556,
             "#d8576b"
            ],
            [
             0.6666666666666666,
             "#ed7953"
            ],
            [
             0.7777777777777778,
             "#fb9f3a"
            ],
            [
             0.8888888888888888,
             "#fdca26"
            ],
            [
             1,
             "#f0f921"
            ]
           ]
          },
          "colorway": [
           "#636efa",
           "#EF553B",
           "#00cc96",
           "#ab63fa",
           "#FFA15A",
           "#19d3f3",
           "#FF6692",
           "#B6E880",
           "#FF97FF",
           "#FECB52"
          ],
          "font": {
           "color": "#2a3f5f"
          },
          "geo": {
           "bgcolor": "white",
           "lakecolor": "white",
           "landcolor": "#E5ECF6",
           "showlakes": true,
           "showland": true,
           "subunitcolor": "white"
          },
          "hoverlabel": {
           "align": "left"
          },
          "hovermode": "closest",
          "mapbox": {
           "style": "light"
          },
          "paper_bgcolor": "white",
          "plot_bgcolor": "#E5ECF6",
          "polar": {
           "angularaxis": {
            "gridcolor": "white",
            "linecolor": "white",
            "ticks": ""
           },
           "bgcolor": "#E5ECF6",
           "radialaxis": {
            "gridcolor": "white",
            "linecolor": "white",
            "ticks": ""
           }
          },
          "scene": {
           "xaxis": {
            "backgroundcolor": "#E5ECF6",
            "gridcolor": "white",
            "gridwidth": 2,
            "linecolor": "white",
            "showbackground": true,
            "ticks": "",
            "zerolinecolor": "white"
           },
           "yaxis": {
            "backgroundcolor": "#E5ECF6",
            "gridcolor": "white",
            "gridwidth": 2,
            "linecolor": "white",
            "showbackground": true,
            "ticks": "",
            "zerolinecolor": "white"
           },
           "zaxis": {
            "backgroundcolor": "#E5ECF6",
            "gridcolor": "white",
            "gridwidth": 2,
            "linecolor": "white",
            "showbackground": true,
            "ticks": "",
            "zerolinecolor": "white"
           }
          },
          "shapedefaults": {
           "line": {
            "color": "#2a3f5f"
           }
          },
          "ternary": {
           "aaxis": {
            "gridcolor": "white",
            "linecolor": "white",
            "ticks": ""
           },
           "baxis": {
            "gridcolor": "white",
            "linecolor": "white",
            "ticks": ""
           },
           "bgcolor": "#E5ECF6",
           "caxis": {
            "gridcolor": "white",
            "linecolor": "white",
            "ticks": ""
           }
          },
          "title": {
           "x": 0.05
          },
          "xaxis": {
           "automargin": true,
           "gridcolor": "white",
           "linecolor": "white",
           "ticks": "",
           "title": {
            "standoff": 15
           },
           "zerolinecolor": "white",
           "zerolinewidth": 2
          },
          "yaxis": {
           "automargin": true,
           "gridcolor": "white",
           "linecolor": "white",
           "ticks": "",
           "title": {
            "standoff": 15
           },
           "zerolinecolor": "white",
           "zerolinewidth": 2
          }
         }
        },
        "title": {
         "text": "Trade Growth by Country over Time"
        },
        "xaxis": {
         "anchor": "y",
         "domain": [
          0,
          1
         ],
         "title": {
          "text": "Year"
         }
        },
        "yaxis": {
         "anchor": "x",
         "domain": [
          0,
          1
         ],
         "title": {
          "text": "Trade Value Growth"
         }
        }
       }
      }
     },
     "metadata": {},
     "output_type": "display_data"
    }
   ],
   "source": [
    "# df['trade_growth_rate']=df['Trade Value Growth']/df['Trade Value Previous']\n",
    "# import plotly.express as px\n",
    "# fig = px.line(df, x=\"Year\", y=\"trade_growth_rate\", color=\"Country\",\n",
    "#               title=\"Trade Growth by Country over Time\")\n",
    "# fig.show()\n",
    "\n",
    "countries = ['China', 'United States', 'Canada', 'Mexico', 'Germany','South Africa', 'Singapore','Australia','France']\n",
    "df_filtered = df[df['Country'].isin(countries)]\n",
    "\n",
    "# line chart\n",
    "fig_line = px.line(df_filtered, x='Year', y='Trade Value Growth', color='Country', line_dash = 'Continent',\n",
    "                   title='Trade Growth by Country over Time')\n",
    "\n",
    "\n",
    "fig_line.show()"
   ]
  },
  {
   "cell_type": "code",
   "execution_count": null,
   "metadata": {},
   "outputs": [
    {
     "data": {
      "application/vnd.plotly.v1+json": {
       "config": {
        "plotlyServerURL": "https://plot.ly"
       },
       "data": [
        {
         "hovertemplate": "<b>%{hovertext}</b><br><br>Continent=North America<br>Year=2011<br>Trade Value=%{x}<br>Trade Value Growth=%{y}<br>currYearShare=%{marker.size}<extra></extra>",
         "hovertext": [
          "United States",
          "Aruba",
          "Anguilla",
          "Antigua and Barbuda",
          "Bahamas",
          "Belize",
          "Bermuda",
          "Barbados",
          "Canada",
          "Costa Rica",
          "Cuba",
          "Curaçao",
          "Dominica",
          "Dominican Republic",
          "Grenada",
          "Greenland",
          "Guatemala",
          "Honduras",
          "Haiti",
          "Jamaica",
          "Saint Kitts and Nevis",
          "Saint Lucia",
          "Saint Martin",
          "Mexico",
          "Montserrat",
          "Nicaragua",
          "Panama",
          "Saint Pierre and Miquelon",
          "Turks and Caicos Islands",
          "Trinidad and Tobago",
          "Saint Vincent and the Grenadines",
          "British Virgin Islands",
          "El Salvador",
          "Cayman Islands"
         ],
         "ids": [
          "United States",
          "Aruba",
          "Anguilla",
          "Antigua and Barbuda",
          "Bahamas",
          "Belize",
          "Bermuda",
          "Barbados",
          "Canada",
          "Costa Rica",
          "Cuba",
          "Curaçao",
          "Dominica",
          "Dominican Republic",
          "Grenada",
          "Greenland",
          "Guatemala",
          "Honduras",
          "Haiti",
          "Jamaica",
          "Saint Kitts and Nevis",
          "Saint Lucia",
          "Saint Martin",
          "Mexico",
          "Montserrat",
          "Nicaragua",
          "Panama",
          "Saint Pierre and Miquelon",
          "Turks and Caicos Islands",
          "Trinidad and Tobago",
          "Saint Vincent and the Grenadines",
          "British Virgin Islands",
          "El Salvador",
          "Cayman Islands"
         ],
         "legendgroup": "North America",
         "marker": {
          "color": "#636efa",
          "size": [
           0.158855155,
           0.00033858099999999996,
           0.000043200000000000007,
           0.00029637,
           0.0016006360000000001,
           0.00024754299999999997,
           0.000282466,
           0.00043147,
           0.159287699,
           0.004234267,
           0.000189717,
           0.00020553799999999998,
           0.000297816,
           0.006318868,
           0.000098,
           0.00000734,
           0.0050265629999999995,
           0.0035683409999999996,
           0.0006608460000000001,
           0.001262942,
           0.00008,
           0.000293666,
           0.00021209400000000002,
           0.151504227,
           0.0000044,
           0.001230479,
           0.004133223,
           2.27e-9,
           0.000134421,
           0.001467433,
           0.00009549999999999999,
           0.000145597,
           0.002443899,
           0.000555002
          ],
          "sizemode": "area",
          "sizeref": 0.0000526570905785124,
          "symbol": "circle"
         },
         "mode": "markers",
         "name": "North America",
         "orientation": "v",
         "showlegend": true,
         "type": "scatter",
         "x": [
          348868000000,
          745695000,
          26505363,
          157788162,
          3261245303,
          354881934,
          570135207,
          510018055,
          250223000000,
          7007204348,
          359756496,
          456153555,
          62585661,
          7317641415,
          101011528,
          17291729,
          6280749748,
          5827386710,
          754278615,
          2022471972,
          140491764,
          353207182,
          376874392,
          187083000000,
          19235203,
          1031023795,
          7640984299,
          109213,
          156000891,
          2637159837,
          118925028,
          131757507,
          3414991858,
          455689027
         ],
         "xaxis": "x",
         "y": [
          51.992900399999996,
          -26.07436861,
          165.0601314,
          205.8113301,
          -20.08978409,
          13.5688006,
          -19.33575995,
          37.73950473,
          3.64484791,
          -1.615541568,
          -14.14017997,
          -26.63756484,
          674.7575359,
          40.59219704,
          58.01422289,
          -30.9042086,
          30.30249055,
          -0.302209599,
          42.64658358,
          1.670226113,
          -7.279483657,
          35.36846626,
          -8.372693307999999,
          31.85099131,
          -62.72854516,
          94.31153643,
          -11.92907071,
          -96.61487186,
          40.29232756,
          -9.402787253,
          30.78810879,
          79.91624948,
          16.51627185,
          98.29836258
         ],
         "yaxis": "y"
        },
        {
         "hovertemplate": "<b>%{hovertext}</b><br><br>Continent=Europe<br>Year=2011<br>Trade Value=%{x}<br>Trade Value Growth=%{y}<br>currYearShare=%{marker.size}<extra></extra>",
         "hovertext": [
          "Montenegro",
          "Netherlands",
          "Norway",
          "Poland",
          "Portugal",
          "Romania",
          "Russia",
          "San Marino",
          "Serbia",
          "Slovakia",
          "Slovenia",
          "Sweden",
          "Ukraine",
          "Malta",
          "North Macedonia",
          "Latvia",
          "Austria",
          "Belgium",
          "Bulgaria",
          "Bosnia and Herzegovina",
          "Belarus",
          "Switzerland",
          "Czechia",
          "Germany",
          "Denmark",
          "Spain",
          "Estonia",
          "Finland",
          "France",
          "United Kingdom",
          "Gibraltar",
          "Greece",
          "Croatia",
          "Hungary",
          "Ireland",
          "Iceland",
          "Italy",
          "Lithuania",
          "Luxembourg",
          "Moldova",
          "Andorra",
          "Albania"
         ],
         "ids": [
          "Montenegro",
          "Netherlands",
          "Norway",
          "Poland",
          "Portugal",
          "Romania",
          "Russia",
          "San Marino",
          "Serbia",
          "Slovakia",
          "Slovenia",
          "Sweden",
          "Ukraine",
          "Malta",
          "North Macedonia",
          "Latvia",
          "Austria",
          "Belgium",
          "Bulgaria",
          "Bosnia and Herzegovina",
          "Belarus",
          "Switzerland",
          "Czechia",
          "Germany",
          "Denmark",
          "Spain",
          "Estonia",
          "Finland",
          "France",
          "United Kingdom",
          "Gibraltar",
          "Greece",
          "Croatia",
          "Hungary",
          "Ireland",
          "Iceland",
          "Italy",
          "Lithuania",
          "Luxembourg",
          "Moldova",
          "Andorra",
          "Albania"
         ],
         "legendgroup": "Europe",
         "marker": {
          "color": "#EF553B",
          "size": [
           0.0000215,
           0.03119579,
           0.003170955,
           0.004655858,
           0.001437138,
           0.000588047,
           0.00433311,
           7.31e-7,
           0.000220432,
           0.00034648400000000004,
           0.00031073900000000003,
           0.003112878,
           0.0017513720000000002,
           0.0000661,
           0.00011039,
           0.00016177,
           0.002337545,
           0.01760936,
           0.000200027,
           0.000164355,
           0.00021397900000000002,
           0.013653198,
           0.0022821729999999998,
           0.039426654,
           0.002419794,
           0.010606761000000001,
           0.000302308,
           0.0013689879999999998,
           0.016192097,
           0.034073156,
           0.00034995699999999997,
           0.001196677,
           0.0005240280000000001,
           0.001762989,
           0.011422161,
           0.000323028,
           0.011562132,
           0.000720242,
           0.000626416,
           0.00005520000000000001,
           0.00000284,
           0.000059
          ],
          "sizemode": "area",
          "sizeref": 0.0000526570905785124,
          "symbol": "circle"
         },
         "mode": "markers",
         "name": "Europe",
         "orientation": "v",
         "showlegend": true,
         "type": "scatter",
         "x": [
          25606857,
          40958941168,
          4205234237,
          3349193405,
          1487835142,
          1036016405,
          8842260969,
          1881566,
          214650950,
          460872441,
          835715206,
          5220153329,
          2234223348,
          860311747,
          71402535,
          328167405,
          3713767595,
          24455789361,
          289446308,
          298205484,
          371058351,
          21246809472,
          2110333740,
          51362213318,
          2291392297,
          12837350373,
          370069622,
          2705737075,
          30430933983,
          46623750989,
          2279401619,
          1205997352,
          522502106,
          1766507472,
          11526210217,
          548976925,
          16679865330,
          979492354,
          1391971763,
          78954986,
          14094410,
          81408903
         ],
         "xaxis": "x",
         "y": [
          36.5138408,
          24.00532295,
          22.77019821,
          126.33542709999999,
          57.26667182,
          -7.585886345,
          -20.21349707,
          -36.73929057,
          67.19939185,
          22.40406191,
          -39.46164754,
          -2.910582667,
          27.62766268,
          -87.49774284,
          151.7147521,
          -19.74083258,
          2.479814599,
          17.23436827,
          12.5155927,
          -10.26521397,
          -6.109302738999999,
          4.624576604,
          76.07204754,
          24.97963605,
          71.93806631,
          34.52421493,
          33.00219816,
          -17.62280025,
          -13.36749224,
          18.98664416,
          -75.00305206,
          61.55625017,
          63.28985993,
          62.49023599,
          61.34473312,
          -4.196893704,
          12.85958164,
          19.72106002,
          -26.730103000000003,
          13.917930400000001,
          -67.16997732,
          18.074275
         ],
         "yaxis": "y"
        },
        {
         "hovertemplate": "<b>%{hovertext}</b><br><br>Continent=Oceania<br>Year=2011<br>Trade Value=%{x}<br>Trade Value Growth=%{y}<br>currYearShare=%{marker.size}<extra></extra>",
         "hovertext": [
          "New Zealand",
          "Palau",
          "Papua New Guinea",
          "French Polynesia",
          "Solomon Islands",
          "Tonga",
          "Tuvalu",
          "Vanuatu",
          "Wallis and Futuna",
          "Samoa",
          "Nauru",
          "Niue",
          "Norfolk Island",
          "New Caledonia",
          "Australia",
          "Cook Islands",
          "Fiji",
          "Micronesia",
          "Kiribati",
          "Marshall Islands"
         ],
         "ids": [
          "New Zealand",
          "Palau",
          "Papua New Guinea",
          "French Polynesia",
          "Solomon Islands",
          "Tonga",
          "Tuvalu",
          "Vanuatu",
          "Wallis and Futuna",
          "Samoa",
          "Nauru",
          "Niue",
          "Norfolk Island",
          "New Caledonia",
          "Australia",
          "Cook Islands",
          "Fiji",
          "Micronesia",
          "Kiribati",
          "Marshall Islands"
         ],
         "legendgroup": "Oceania",
         "marker": {
          "color": "#00cc96",
          "size": [
           0.001974967,
           0.000014000000000000001,
           0.0000205,
           0.00006500000000000001,
           0.00000339,
           0.00000946,
           2.8300000000000003e-7,
           0.00000167,
           1.51e-8,
           0.0000252,
           7.67e-7,
           5.4e-8,
           0.00000254,
           0.0000348,
           0.01576229,
           0.00000208,
           0.000139135,
           0.0000259,
           7.970000000000001e-7,
           0.00012339
          ],
          "sizemode": "area",
          "sizeref": 0.0000526570905785124,
          "symbol": "circle"
         },
         "mode": "markers",
         "name": "Oceania",
         "orientation": "v",
         "showlegend": true,
         "type": "scatter",
         "x": [
          3957144793,
          35807077,
          334845694,
          162940276,
          5624555,
          22714516,
          685884,
          5760647,
          323512,
          36416392,
          467747,
          674542,
          951633,
          140050461,
          25829931983,
          4183368,
          97012106,
          70229256,
          16659022,
          130130475
         ],
         "xaxis": "x",
         "y": [
          -18.7410786,
          -36.370100799999996,
          -90.03323812,
          -35.03788284,
          -1.956723687,
          -32.19395474,
          -32.7097585,
          -52.7950593,
          -92.42161033,
          12.47088948,
          166.8925723,
          -86.97664489,
          334.3487458,
          -59.59806587,
          -0.645142729,
          -19.223864600000002,
          133.5087973,
          -39.86616062,
          -92.21295824,
          54.38081203
         ],
         "yaxis": "y"
        },
        {
         "hovertemplate": "<b>%{hovertext}</b><br><br>Continent=South America<br>Year=2011<br>Trade Value=%{x}<br>Trade Value Growth=%{y}<br>currYearShare=%{marker.size}<extra></extra>",
         "hovertext": [
          "Argentina",
          "Bolivia",
          "Brazil",
          "Chile",
          "Colombia",
          "Ecuador",
          "Falkland Islands",
          "Guyana",
          "Peru",
          "Paraguay",
          "Suriname",
          "Uruguay",
          "Venezuela"
         ],
         "ids": [
          "Argentina",
          "Bolivia",
          "Brazil",
          "Chile",
          "Colombia",
          "Ecuador",
          "Falkland Islands",
          "Guyana",
          "Peru",
          "Paraguay",
          "Suriname",
          "Uruguay",
          "Venezuela"
         ],
         "legendgroup": "South America",
         "marker": {
          "color": "#ab63fa",
          "size": [
           0.003937414,
           0.00032518,
           0.024144547000000002,
           0.009515223,
           0.008980617,
           0.003172098,
           1.92e-7,
           0.000559375,
           0.005960269,
           0.0009533969999999999,
           0.00019302,
           0.00068903,
           0.0009508489999999999
          ],
          "sizemode": "area",
          "sizeref": 0.0000526570905785124,
          "symbol": "circle"
         },
         "mode": "markers",
         "name": "South America",
         "orientation": "v",
         "showlegend": true,
         "type": "scatter",
         "x": [
          8556801984,
          745595203,
          36440601719,
          15071714113,
          14212061494,
          6235286938,
          3354388,
          398572629,
          7736503869,
          1416680013,
          527971452,
          1191046548,
          12209258358
         ],
         "xaxis": "x",
         "y": [
          -25.08088348,
          -28.99103282,
          7.8764328070000005,
          2.789648768,
          2.882656462,
          -17.17086015,
          -90.70456369,
          128.5011483,
          25.43368293,
          9.570859668999999,
          -40.47712015,
          -5.810531763999999,
          -87.32011042
         ],
         "yaxis": "y"
        },
        {
         "hovertemplate": "<b>%{hovertext}</b><br><br>Continent=Asia<br>Year=2011<br>Trade Value=%{x}<br>Trade Value Growth=%{y}<br>currYearShare=%{marker.size}<extra></extra>",
         "hovertext": [
          "Chinese Taipei",
          "Yemen",
          "Vietnam",
          "Laos",
          "Lebanon",
          "Sri Lanka",
          "Macau",
          "Maldives",
          "Burma",
          "Mongolia",
          "Malaysia",
          "Nepal",
          "Pakistan",
          "Philippines",
          "Palestine",
          "Qatar",
          "Saudi Arabia",
          "Singapore",
          "Syria",
          "Thailand",
          "Tajikistan",
          "Turkmenistan",
          "Timor-Leste",
          "Turkey",
          "Uzbekistan",
          "Kuwait",
          "South Korea",
          "Oman",
          "Kyrgyzstan",
          "Cambodia",
          "Afghanistan",
          "United Arab Emirates",
          "Armenia",
          "Azerbaijan",
          "Bangladesh",
          "Bahrain",
          "Bhutan",
          "Cocos (Keeling) Islands",
          "China",
          "Christmas Island",
          "Cyprus",
          "Brunei",
          "Georgia",
          "Japan",
          "Jordan",
          "Israel",
          "Iraq",
          "Kazakhstan",
          "British Indian Ocean Territory",
          "India",
          "Indonesia",
          "Hong Kong",
          "Iran"
         ],
         "ids": [
          "Chinese Taipei",
          "Yemen",
          "Vietnam",
          "Laos",
          "Lebanon",
          "Sri Lanka",
          "Macau",
          "Maldives",
          "Burma",
          "Mongolia",
          "Malaysia",
          "Nepal",
          "Pakistan",
          "Philippines",
          "Palestine",
          "Qatar",
          "Saudi Arabia",
          "Singapore",
          "Syria",
          "Thailand",
          "Tajikistan",
          "Turkmenistan",
          "Timor-Leste",
          "Turkey",
          "Uzbekistan",
          "Kuwait",
          "South Korea",
          "Oman",
          "Kyrgyzstan",
          "Cambodia",
          "Afghanistan",
          "United Arab Emirates",
          "Armenia",
          "Azerbaijan",
          "Bangladesh",
          "Bahrain",
          "Bhutan",
          "Cocos (Keeling) Islands",
          "China",
          "Christmas Island",
          "Cyprus",
          "Brunei",
          "Georgia",
          "Japan",
          "Jordan",
          "Israel",
          "Iraq",
          "Kazakhstan",
          "British Indian Ocean Territory",
          "India",
          "Indonesia",
          "Hong Kong",
          "Iran"
         ],
         "legendgroup": "Asia",
         "marker": {
          "color": "#FFA15A",
          "size": [
           0.02148323,
           0.00016439599999999998,
           0.0069184830000000004,
           0.0000446,
           0.00050318,
           0.000310084,
           0.000225146,
           0.000030799999999999996,
           0.000118014,
           0.000117602,
           0.00911381,
           0.000152241,
           0.002155074,
           0.005013329,
           0.000059699999999999994,
           0.00134159,
           0.007128654,
           0.019979935,
           6.96e-7,
           0.007522255,
           0.000019,
           0.0000484,
           0.00000671,
           0.007607086999999999,
           0.000142905,
           0.001749273,
           0.040779813,
           0.000623284,
           0.000042499999999999996,
           0.00027100299999999997,
           0.00013733,
           0.009148063,
           0.0000565,
           0.000151755,
           0.0014149070000000002,
           0.000399251,
           0.00000358,
           4.49e-7,
           0.092552767,
           4.3600000000000004e-7,
           0.0000858,
           0.000107889,
           0.00043067,
           0.044079228,
           0.000802008,
           0.006472175,
           0.000471126,
           0.00040201099999999997,
           0.00000359,
           0.024041596000000002,
           0.005951746999999999,
           0.017375674,
           0.0000242
          ],
          "sizemode": "area",
          "sizeref": 0.0000526570905785124,
          "symbol": "circle"
         },
         "mode": "markers",
         "name": "Asia",
         "orientation": "v",
         "showlegend": true,
         "type": "scatter",
         "x": [
          24952926066,
          807894328,
          4605269130,
          32533078,
          2060765165,
          301037289,
          232709517,
          40449744,
          185930838,
          309407687,
          12237976039,
          61378768,
          1993473226,
          7144947656,
          40067656,
          1858485603,
          13447306296,
          29469043089,
          228561100,
          11392227475,
          12595694,
          59749382,
          7966432,
          14716853847,
          66218299,
          2792603238,
          41986311852,
          1404350573,
          155888325,
          231837276,
          2589133846,
          12102392381,
          120457174,
          630207354,
          1268732652,
          865242639,
          4100980,
          897989,
          100536000000,
          1281723,
          223676109,
          242856408,
          432412683,
          65864878196,
          1529490127,
          11041932192,
          2259897452,
          1370129059,
          1657392,
          21402372813,
          9124578783,
          33672977421,
          252776879
         ],
         "xaxis": "x",
         "y": [
          40.17519029,
          -66.86942169,
          144.5957582,
          123.3434476,
          -60.24534814,
          67.70713279,
          57.52268868,
          23.92231704,
          3.3419227639999995,
          -38.11622689,
          21.25047107,
          303.8370353,
          76.01303299,
          14.24054168,
          142.4170159,
          17.53132946,
          -13.68916905,
          10.38780577,
          -99.50397859,
          7.505938147999999,
          145.0493637,
          31.92033852,
          37.09395875,
          -15.84179905,
          251.36817090000002,
          1.986223043,
          58.13593470000001,
          -27.73906576,
          -55.585531499999995,
          90.31994794,
          -91.36418959999999,
          23.06965393,
          -23.6387548,
          -60.79398337,
          81.57279576,
          -24.87216236,
          42.08318499,
          -18.51214213,
          49.88642961,
          -44.64100278,
          -37.512656299999996,
          -27.66931355,
          62.15830052,
          8.961519295,
          -14.62606924,
          -4.567072467,
          -66.05767787,
          -52.22845222,
          252.3893563,
          82.89188205,
          6.200039031,
          -15.98570326,
          -84.42701597
         ],
         "yaxis": "y"
        },
        {
         "hovertemplate": "<b>%{hovertext}</b><br><br>Continent=Africa<br>Year=2011<br>Trade Value=%{x}<br>Trade Value Growth=%{y}<br>currYearShare=%{marker.size}<extra></extra>",
         "hovertext": [
          "Madagascar",
          "Mali",
          "Mozambique",
          "Mauritania",
          "Mauritius",
          "Malawi",
          "Namibia",
          "Niger",
          "Nigeria",
          "Rwanda",
          "Sudan",
          "Senegal",
          "Saint Helena",
          "Sierra Leone",
          "Somalia",
          "Sao Tome and Principe",
          "Eswatini",
          "Seychelles",
          "Chad",
          "Togo",
          "Tunisia",
          "Tanzania",
          "Uganda",
          "Morocco",
          "Lesotho",
          "Libya",
          "Liberia",
          "Burundi",
          "Benin",
          "Burkina Faso",
          "Botswana",
          "Central African Republic",
          "Cote d'Ivoire",
          "Cameroon",
          "Democratic Republic of the Congo",
          "Republic of the Congo",
          "Comoros",
          "South Africa",
          "Cape Verde",
          "Algeria",
          "Egypt",
          "Eritrea",
          "Ethiopia",
          "Gabon",
          "Ghana",
          "Guinea",
          "Gambia",
          "Guinea-Bissau",
          "Equatorial Guinea",
          "Kenya",
          "Djibouti",
          "Zambia",
          "Angola",
          "Zimbabwe"
         ],
         "ids": [
          "Madagascar",
          "Mali",
          "Mozambique",
          "Mauritania",
          "Mauritius",
          "Malawi",
          "Namibia",
          "Niger",
          "Nigeria",
          "Rwanda",
          "Sudan",
          "Senegal",
          "Saint Helena",
          "Sierra Leone",
          "Somalia",
          "Sao Tome and Principe",
          "Eswatini",
          "Seychelles",
          "Chad",
          "Togo",
          "Tunisia",
          "Tanzania",
          "Uganda",
          "Morocco",
          "Lesotho",
          "Libya",
          "Liberia",
          "Burundi",
          "Benin",
          "Burkina Faso",
          "Botswana",
          "Central African Republic",
          "Cote d'Ivoire",
          "Cameroon",
          "Democratic Republic of the Congo",
          "Republic of the Congo",
          "Comoros",
          "South Africa",
          "Cape Verde",
          "Algeria",
          "Egypt",
          "Eritrea",
          "Ethiopia",
          "Gabon",
          "Ghana",
          "Guinea",
          "Gambia",
          "Guinea-Bissau",
          "Equatorial Guinea",
          "Kenya",
          "Djibouti",
          "Zambia",
          "Angola",
          "Zimbabwe"
         ],
         "legendgroup": "Africa",
         "marker": {
          "color": "#19d3f3",
          "size": [
           0.000056999999999999996,
           0.0000567,
           0.00016492900000000002,
           0.00008909999999999998,
           0.0000878,
           0.000011599999999999999,
           0.000043200000000000007,
           0.00011386700000000001,
           0.002716219,
           0.000052600000000000005,
           0.00008420000000000001,
           0.000230013,
           0.00000802,
           0.000067,
           0.0000307,
           0.00000268,
           0.0000244,
           0.0000126,
           0.000021600000000000003,
           0.00014165600000000001,
           0.00031624,
           0.000202118,
           0.00009120000000000001,
           0.001850488,
           0.00000173,
           0.000175267,
           0.0000832,
           0.00000684,
           0.000194533,
           0.000159708,
           0.000029100000000000003,
           0.00000983,
           0.00019154599999999999,
           0.0000913,
           0.000132825,
           0.000068,
           0.00000122,
           0.0031964859999999997,
           0.00000648,
           0.00046497300000000004,
           0.003420497,
           0.000011400000000000001,
           0.000490044,
           0.00005739999999999999,
           0.000582639,
           0.0000823,
           0.000034899999999999995,
           0.00000149,
           0.000028800000000000002,
           0.000413699,
           0.00010794799999999999,
           0.000100688,
           0.00029685,
           0.0000348
          ],
          "sizemode": "area",
          "sizeref": 0.0000526570905785124,
          "symbol": "circle"
         },
         "mode": "markers",
         "name": "Africa",
         "orientation": "v",
         "showlegend": true,
         "type": "scatter",
         "x": [
          72351286,
          87730845,
          501732148,
          268513671,
          92991313,
          111937313,
          129273072,
          90652632,
          4932353650,
          53213933,
          139935761,
          340491454,
          1855374,
          96146760,
          5395572,
          11441524,
          29471448,
          27392242,
          33860817,
          222849852,
          737732637,
          298835579,
          134006466,
          3439761370,
          9742534,
          301766649,
          184751679,
          46060035,
          623970108,
          108983877,
          151346437,
          13339796,
          157582920,
          234525940,
          158237709,
          229561870,
          1014781,
          8208742399,
          15749267,
          1500253521,
          6990769409,
          3917411,
          434475795,
          199437849,
          1337606823,
          229973602,
          30644554,
          11238135,
          278444702,
          356617047,
          121284484,
          133552116,
          1385694384,
          447360153
         ],
         "xaxis": "x",
         "y": [
          28.29312668,
          5.272593693,
          -46.47974481,
          -46.00219257,
          53.80187717,
          -83.08401864,
          -45.53237274,
          104.5073319,
          -10.33897926,
          60.78713633,
          -2.038368162,
          9.986346382999999,
          603.5278063,
          13.49635391,
          827.0601522999999,
          -61.93299074,
          34.59429275,
          -25.30900537,
          4.043413955,
          3.493781544,
          -30.20715512,
          10.11968224,
          10.80715762,
          -12.41070775,
          -71.02932358,
          -5.436750235,
          -26.65246198,
          -75.83053074,
          -49.23979067,
          138.5929269,
          -68.69313415,
          19.924705,
          97.90470122,
          -36.64223199,
          36.6667025,
          -51.78407547,
          95.53588409999999,
          -36.5999948,
          -32.99323708,
          -49.53901255,
          -20.33687563,
          375.04231749999997,
          83.63814491,
          -53.10441249,
          -29.08071694,
          -41.73091223,
          85.24966622,
          -78.42831573,
          -83.1724911,
          88.87533607,
          44.91114626,
          22.74952873,
          -65.12112566,
          -87.31913166
         ],
         "yaxis": "y"
        },
        {
         "hovertemplate": "<b>%{hovertext}</b><br><br>Continent=Antarctica<br>Year=2011<br>Trade Value=%{x}<br>Trade Value Growth=%{y}<br>currYearShare=%{marker.size}<extra></extra>",
         "hovertext": [
          "French South Antarctic Territory"
         ],
         "ids": [
          "French South Antarctic Territory"
         ],
         "legendgroup": "Antarctica",
         "marker": {
          "color": "#FF6692",
          "size": [
           0.00000265
          ],
          "sizemode": "area",
          "sizeref": 0.0000526570905785124,
          "symbol": "circle"
         },
         "mode": "markers",
         "name": "Antarctica",
         "orientation": "v",
         "showlegend": true,
         "type": "scatter",
         "x": [
          782755
         ],
         "xaxis": "x",
         "y": [
          451.61231799999996
         ],
         "yaxis": "y"
        }
       ],
       "frames": [
        {
         "data": [
          {
           "hovertemplate": "<b>%{hovertext}</b><br><br>Continent=North America<br>Year=2011<br>Trade Value=%{x}<br>Trade Value Growth=%{y}<br>currYearShare=%{marker.size}<extra></extra>",
           "hovertext": [
            "United States",
            "Aruba",
            "Anguilla",
            "Antigua and Barbuda",
            "Bahamas",
            "Belize",
            "Bermuda",
            "Barbados",
            "Canada",
            "Costa Rica",
            "Cuba",
            "Curaçao",
            "Dominica",
            "Dominican Republic",
            "Grenada",
            "Greenland",
            "Guatemala",
            "Honduras",
            "Haiti",
            "Jamaica",
            "Saint Kitts and Nevis",
            "Saint Lucia",
            "Saint Martin",
            "Mexico",
            "Montserrat",
            "Nicaragua",
            "Panama",
            "Saint Pierre and Miquelon",
            "Turks and Caicos Islands",
            "Trinidad and Tobago",
            "Saint Vincent and the Grenadines",
            "British Virgin Islands",
            "El Salvador",
            "Cayman Islands"
           ],
           "ids": [
            "United States",
            "Aruba",
            "Anguilla",
            "Antigua and Barbuda",
            "Bahamas",
            "Belize",
            "Bermuda",
            "Barbados",
            "Canada",
            "Costa Rica",
            "Cuba",
            "Curaçao",
            "Dominica",
            "Dominican Republic",
            "Grenada",
            "Greenland",
            "Guatemala",
            "Honduras",
            "Haiti",
            "Jamaica",
            "Saint Kitts and Nevis",
            "Saint Lucia",
            "Saint Martin",
            "Mexico",
            "Montserrat",
            "Nicaragua",
            "Panama",
            "Saint Pierre and Miquelon",
            "Turks and Caicos Islands",
            "Trinidad and Tobago",
            "Saint Vincent and the Grenadines",
            "British Virgin Islands",
            "El Salvador",
            "Cayman Islands"
           ],
           "legendgroup": "North America",
           "marker": {
            "color": "#636efa",
            "size": [
             0.158855155,
             0.00033858099999999996,
             0.000043200000000000007,
             0.00029637,
             0.0016006360000000001,
             0.00024754299999999997,
             0.000282466,
             0.00043147,
             0.159287699,
             0.004234267,
             0.000189717,
             0.00020553799999999998,
             0.000297816,
             0.006318868,
             0.000098,
             0.00000734,
             0.0050265629999999995,
             0.0035683409999999996,
             0.0006608460000000001,
             0.001262942,
             0.00008,
             0.000293666,
             0.00021209400000000002,
             0.151504227,
             0.0000044,
             0.001230479,
             0.004133223,
             2.27e-9,
             0.000134421,
             0.001467433,
             0.00009549999999999999,
             0.000145597,
             0.002443899,
             0.000555002
            ],
            "sizemode": "area",
            "sizeref": 0.0000526570905785124,
            "symbol": "circle"
           },
           "mode": "markers",
           "name": "North America",
           "orientation": "v",
           "showlegend": true,
           "type": "scatter",
           "x": [
            348868000000,
            745695000,
            26505363,
            157788162,
            3261245303,
            354881934,
            570135207,
            510018055,
            250223000000,
            7007204348,
            359756496,
            456153555,
            62585661,
            7317641415,
            101011528,
            17291729,
            6280749748,
            5827386710,
            754278615,
            2022471972,
            140491764,
            353207182,
            376874392,
            187083000000,
            19235203,
            1031023795,
            7640984299,
            109213,
            156000891,
            2637159837,
            118925028,
            131757507,
            3414991858,
            455689027
           ],
           "xaxis": "x",
           "y": [
            51.992900399999996,
            -26.07436861,
            165.0601314,
            205.8113301,
            -20.08978409,
            13.5688006,
            -19.33575995,
            37.73950473,
            3.64484791,
            -1.615541568,
            -14.14017997,
            -26.63756484,
            674.7575359,
            40.59219704,
            58.01422289,
            -30.9042086,
            30.30249055,
            -0.302209599,
            42.64658358,
            1.670226113,
            -7.279483657,
            35.36846626,
            -8.372693307999999,
            31.85099131,
            -62.72854516,
            94.31153643,
            -11.92907071,
            -96.61487186,
            40.29232756,
            -9.402787253,
            30.78810879,
            79.91624948,
            16.51627185,
            98.29836258
           ],
           "yaxis": "y"
          },
          {
           "hovertemplate": "<b>%{hovertext}</b><br><br>Continent=Europe<br>Year=2011<br>Trade Value=%{x}<br>Trade Value Growth=%{y}<br>currYearShare=%{marker.size}<extra></extra>",
           "hovertext": [
            "Montenegro",
            "Netherlands",
            "Norway",
            "Poland",
            "Portugal",
            "Romania",
            "Russia",
            "San Marino",
            "Serbia",
            "Slovakia",
            "Slovenia",
            "Sweden",
            "Ukraine",
            "Malta",
            "North Macedonia",
            "Latvia",
            "Austria",
            "Belgium",
            "Bulgaria",
            "Bosnia and Herzegovina",
            "Belarus",
            "Switzerland",
            "Czechia",
            "Germany",
            "Denmark",
            "Spain",
            "Estonia",
            "Finland",
            "France",
            "United Kingdom",
            "Gibraltar",
            "Greece",
            "Croatia",
            "Hungary",
            "Ireland",
            "Iceland",
            "Italy",
            "Lithuania",
            "Luxembourg",
            "Moldova",
            "Andorra",
            "Albania"
           ],
           "ids": [
            "Montenegro",
            "Netherlands",
            "Norway",
            "Poland",
            "Portugal",
            "Romania",
            "Russia",
            "San Marino",
            "Serbia",
            "Slovakia",
            "Slovenia",
            "Sweden",
            "Ukraine",
            "Malta",
            "North Macedonia",
            "Latvia",
            "Austria",
            "Belgium",
            "Bulgaria",
            "Bosnia and Herzegovina",
            "Belarus",
            "Switzerland",
            "Czechia",
            "Germany",
            "Denmark",
            "Spain",
            "Estonia",
            "Finland",
            "France",
            "United Kingdom",
            "Gibraltar",
            "Greece",
            "Croatia",
            "Hungary",
            "Ireland",
            "Iceland",
            "Italy",
            "Lithuania",
            "Luxembourg",
            "Moldova",
            "Andorra",
            "Albania"
           ],
           "legendgroup": "Europe",
           "marker": {
            "color": "#EF553B",
            "size": [
             0.0000215,
             0.03119579,
             0.003170955,
             0.004655858,
             0.001437138,
             0.000588047,
             0.00433311,
             7.31e-7,
             0.000220432,
             0.00034648400000000004,
             0.00031073900000000003,
             0.003112878,
             0.0017513720000000002,
             0.0000661,
             0.00011039,
             0.00016177,
             0.002337545,
             0.01760936,
             0.000200027,
             0.000164355,
             0.00021397900000000002,
             0.013653198,
             0.0022821729999999998,
             0.039426654,
             0.002419794,
             0.010606761000000001,
             0.000302308,
             0.0013689879999999998,
             0.016192097,
             0.034073156,
             0.00034995699999999997,
             0.001196677,
             0.0005240280000000001,
             0.001762989,
             0.011422161,
             0.000323028,
             0.011562132,
             0.000720242,
             0.000626416,
             0.00005520000000000001,
             0.00000284,
             0.000059
            ],
            "sizemode": "area",
            "sizeref": 0.0000526570905785124,
            "symbol": "circle"
           },
           "mode": "markers",
           "name": "Europe",
           "orientation": "v",
           "showlegend": true,
           "type": "scatter",
           "x": [
            25606857,
            40958941168,
            4205234237,
            3349193405,
            1487835142,
            1036016405,
            8842260969,
            1881566,
            214650950,
            460872441,
            835715206,
            5220153329,
            2234223348,
            860311747,
            71402535,
            328167405,
            3713767595,
            24455789361,
            289446308,
            298205484,
            371058351,
            21246809472,
            2110333740,
            51362213318,
            2291392297,
            12837350373,
            370069622,
            2705737075,
            30430933983,
            46623750989,
            2279401619,
            1205997352,
            522502106,
            1766507472,
            11526210217,
            548976925,
            16679865330,
            979492354,
            1391971763,
            78954986,
            14094410,
            81408903
           ],
           "xaxis": "x",
           "y": [
            36.5138408,
            24.00532295,
            22.77019821,
            126.33542709999999,
            57.26667182,
            -7.585886345,
            -20.21349707,
            -36.73929057,
            67.19939185,
            22.40406191,
            -39.46164754,
            -2.910582667,
            27.62766268,
            -87.49774284,
            151.7147521,
            -19.74083258,
            2.479814599,
            17.23436827,
            12.5155927,
            -10.26521397,
            -6.109302738999999,
            4.624576604,
            76.07204754,
            24.97963605,
            71.93806631,
            34.52421493,
            33.00219816,
            -17.62280025,
            -13.36749224,
            18.98664416,
            -75.00305206,
            61.55625017,
            63.28985993,
            62.49023599,
            61.34473312,
            -4.196893704,
            12.85958164,
            19.72106002,
            -26.730103000000003,
            13.917930400000001,
            -67.16997732,
            18.074275
           ],
           "yaxis": "y"
          },
          {
           "hovertemplate": "<b>%{hovertext}</b><br><br>Continent=Oceania<br>Year=2011<br>Trade Value=%{x}<br>Trade Value Growth=%{y}<br>currYearShare=%{marker.size}<extra></extra>",
           "hovertext": [
            "New Zealand",
            "Palau",
            "Papua New Guinea",
            "French Polynesia",
            "Solomon Islands",
            "Tonga",
            "Tuvalu",
            "Vanuatu",
            "Wallis and Futuna",
            "Samoa",
            "Nauru",
            "Niue",
            "Norfolk Island",
            "New Caledonia",
            "Australia",
            "Cook Islands",
            "Fiji",
            "Micronesia",
            "Kiribati",
            "Marshall Islands"
           ],
           "ids": [
            "New Zealand",
            "Palau",
            "Papua New Guinea",
            "French Polynesia",
            "Solomon Islands",
            "Tonga",
            "Tuvalu",
            "Vanuatu",
            "Wallis and Futuna",
            "Samoa",
            "Nauru",
            "Niue",
            "Norfolk Island",
            "New Caledonia",
            "Australia",
            "Cook Islands",
            "Fiji",
            "Micronesia",
            "Kiribati",
            "Marshall Islands"
           ],
           "legendgroup": "Oceania",
           "marker": {
            "color": "#00cc96",
            "size": [
             0.001974967,
             0.000014000000000000001,
             0.0000205,
             0.00006500000000000001,
             0.00000339,
             0.00000946,
             2.8300000000000003e-7,
             0.00000167,
             1.51e-8,
             0.0000252,
             7.67e-7,
             5.4e-8,
             0.00000254,
             0.0000348,
             0.01576229,
             0.00000208,
             0.000139135,
             0.0000259,
             7.970000000000001e-7,
             0.00012339
            ],
            "sizemode": "area",
            "sizeref": 0.0000526570905785124,
            "symbol": "circle"
           },
           "mode": "markers",
           "name": "Oceania",
           "orientation": "v",
           "showlegend": true,
           "type": "scatter",
           "x": [
            3957144793,
            35807077,
            334845694,
            162940276,
            5624555,
            22714516,
            685884,
            5760647,
            323512,
            36416392,
            467747,
            674542,
            951633,
            140050461,
            25829931983,
            4183368,
            97012106,
            70229256,
            16659022,
            130130475
           ],
           "xaxis": "x",
           "y": [
            -18.7410786,
            -36.370100799999996,
            -90.03323812,
            -35.03788284,
            -1.956723687,
            -32.19395474,
            -32.7097585,
            -52.7950593,
            -92.42161033,
            12.47088948,
            166.8925723,
            -86.97664489,
            334.3487458,
            -59.59806587,
            -0.645142729,
            -19.223864600000002,
            133.5087973,
            -39.86616062,
            -92.21295824,
            54.38081203
           ],
           "yaxis": "y"
          },
          {
           "hovertemplate": "<b>%{hovertext}</b><br><br>Continent=South America<br>Year=2011<br>Trade Value=%{x}<br>Trade Value Growth=%{y}<br>currYearShare=%{marker.size}<extra></extra>",
           "hovertext": [
            "Argentina",
            "Bolivia",
            "Brazil",
            "Chile",
            "Colombia",
            "Ecuador",
            "Falkland Islands",
            "Guyana",
            "Peru",
            "Paraguay",
            "Suriname",
            "Uruguay",
            "Venezuela"
           ],
           "ids": [
            "Argentina",
            "Bolivia",
            "Brazil",
            "Chile",
            "Colombia",
            "Ecuador",
            "Falkland Islands",
            "Guyana",
            "Peru",
            "Paraguay",
            "Suriname",
            "Uruguay",
            "Venezuela"
           ],
           "legendgroup": "South America",
           "marker": {
            "color": "#ab63fa",
            "size": [
             0.003937414,
             0.00032518,
             0.024144547000000002,
             0.009515223,
             0.008980617,
             0.003172098,
             1.92e-7,
             0.000559375,
             0.005960269,
             0.0009533969999999999,
             0.00019302,
             0.00068903,
             0.0009508489999999999
            ],
            "sizemode": "area",
            "sizeref": 0.0000526570905785124,
            "symbol": "circle"
           },
           "mode": "markers",
           "name": "South America",
           "orientation": "v",
           "showlegend": true,
           "type": "scatter",
           "x": [
            8556801984,
            745595203,
            36440601719,
            15071714113,
            14212061494,
            6235286938,
            3354388,
            398572629,
            7736503869,
            1416680013,
            527971452,
            1191046548,
            12209258358
           ],
           "xaxis": "x",
           "y": [
            -25.08088348,
            -28.99103282,
            7.8764328070000005,
            2.789648768,
            2.882656462,
            -17.17086015,
            -90.70456369,
            128.5011483,
            25.43368293,
            9.570859668999999,
            -40.47712015,
            -5.810531763999999,
            -87.32011042
           ],
           "yaxis": "y"
          },
          {
           "hovertemplate": "<b>%{hovertext}</b><br><br>Continent=Asia<br>Year=2011<br>Trade Value=%{x}<br>Trade Value Growth=%{y}<br>currYearShare=%{marker.size}<extra></extra>",
           "hovertext": [
            "Chinese Taipei",
            "Yemen",
            "Vietnam",
            "Laos",
            "Lebanon",
            "Sri Lanka",
            "Macau",
            "Maldives",
            "Burma",
            "Mongolia",
            "Malaysia",
            "Nepal",
            "Pakistan",
            "Philippines",
            "Palestine",
            "Qatar",
            "Saudi Arabia",
            "Singapore",
            "Syria",
            "Thailand",
            "Tajikistan",
            "Turkmenistan",
            "Timor-Leste",
            "Turkey",
            "Uzbekistan",
            "Kuwait",
            "South Korea",
            "Oman",
            "Kyrgyzstan",
            "Cambodia",
            "Afghanistan",
            "United Arab Emirates",
            "Armenia",
            "Azerbaijan",
            "Bangladesh",
            "Bahrain",
            "Bhutan",
            "Cocos (Keeling) Islands",
            "China",
            "Christmas Island",
            "Cyprus",
            "Brunei",
            "Georgia",
            "Japan",
            "Jordan",
            "Israel",
            "Iraq",
            "Kazakhstan",
            "British Indian Ocean Territory",
            "India",
            "Indonesia",
            "Hong Kong",
            "Iran"
           ],
           "ids": [
            "Chinese Taipei",
            "Yemen",
            "Vietnam",
            "Laos",
            "Lebanon",
            "Sri Lanka",
            "Macau",
            "Maldives",
            "Burma",
            "Mongolia",
            "Malaysia",
            "Nepal",
            "Pakistan",
            "Philippines",
            "Palestine",
            "Qatar",
            "Saudi Arabia",
            "Singapore",
            "Syria",
            "Thailand",
            "Tajikistan",
            "Turkmenistan",
            "Timor-Leste",
            "Turkey",
            "Uzbekistan",
            "Kuwait",
            "South Korea",
            "Oman",
            "Kyrgyzstan",
            "Cambodia",
            "Afghanistan",
            "United Arab Emirates",
            "Armenia",
            "Azerbaijan",
            "Bangladesh",
            "Bahrain",
            "Bhutan",
            "Cocos (Keeling) Islands",
            "China",
            "Christmas Island",
            "Cyprus",
            "Brunei",
            "Georgia",
            "Japan",
            "Jordan",
            "Israel",
            "Iraq",
            "Kazakhstan",
            "British Indian Ocean Territory",
            "India",
            "Indonesia",
            "Hong Kong",
            "Iran"
           ],
           "legendgroup": "Asia",
           "marker": {
            "color": "#FFA15A",
            "size": [
             0.02148323,
             0.00016439599999999998,
             0.0069184830000000004,
             0.0000446,
             0.00050318,
             0.000310084,
             0.000225146,
             0.000030799999999999996,
             0.000118014,
             0.000117602,
             0.00911381,
             0.000152241,
             0.002155074,
             0.005013329,
             0.000059699999999999994,
             0.00134159,
             0.007128654,
             0.019979935,
             6.96e-7,
             0.007522255,
             0.000019,
             0.0000484,
             0.00000671,
             0.007607086999999999,
             0.000142905,
             0.001749273,
             0.040779813,
             0.000623284,
             0.000042499999999999996,
             0.00027100299999999997,
             0.00013733,
             0.009148063,
             0.0000565,
             0.000151755,
             0.0014149070000000002,
             0.000399251,
             0.00000358,
             4.49e-7,
             0.092552767,
             4.3600000000000004e-7,
             0.0000858,
             0.000107889,
             0.00043067,
             0.044079228,
             0.000802008,
             0.006472175,
             0.000471126,
             0.00040201099999999997,
             0.00000359,
             0.024041596000000002,
             0.005951746999999999,
             0.017375674,
             0.0000242
            ],
            "sizemode": "area",
            "sizeref": 0.0000526570905785124,
            "symbol": "circle"
           },
           "mode": "markers",
           "name": "Asia",
           "orientation": "v",
           "showlegend": true,
           "type": "scatter",
           "x": [
            24952926066,
            807894328,
            4605269130,
            32533078,
            2060765165,
            301037289,
            232709517,
            40449744,
            185930838,
            309407687,
            12237976039,
            61378768,
            1993473226,
            7144947656,
            40067656,
            1858485603,
            13447306296,
            29469043089,
            228561100,
            11392227475,
            12595694,
            59749382,
            7966432,
            14716853847,
            66218299,
            2792603238,
            41986311852,
            1404350573,
            155888325,
            231837276,
            2589133846,
            12102392381,
            120457174,
            630207354,
            1268732652,
            865242639,
            4100980,
            897989,
            100536000000,
            1281723,
            223676109,
            242856408,
            432412683,
            65864878196,
            1529490127,
            11041932192,
            2259897452,
            1370129059,
            1657392,
            21402372813,
            9124578783,
            33672977421,
            252776879
           ],
           "xaxis": "x",
           "y": [
            40.17519029,
            -66.86942169,
            144.5957582,
            123.3434476,
            -60.24534814,
            67.70713279,
            57.52268868,
            23.92231704,
            3.3419227639999995,
            -38.11622689,
            21.25047107,
            303.8370353,
            76.01303299,
            14.24054168,
            142.4170159,
            17.53132946,
            -13.68916905,
            10.38780577,
            -99.50397859,
            7.505938147999999,
            145.0493637,
            31.92033852,
            37.09395875,
            -15.84179905,
            251.36817090000002,
            1.986223043,
            58.13593470000001,
            -27.73906576,
            -55.585531499999995,
            90.31994794,
            -91.36418959999999,
            23.06965393,
            -23.6387548,
            -60.79398337,
            81.57279576,
            -24.87216236,
            42.08318499,
            -18.51214213,
            49.88642961,
            -44.64100278,
            -37.512656299999996,
            -27.66931355,
            62.15830052,
            8.961519295,
            -14.62606924,
            -4.567072467,
            -66.05767787,
            -52.22845222,
            252.3893563,
            82.89188205,
            6.200039031,
            -15.98570326,
            -84.42701597
           ],
           "yaxis": "y"
          },
          {
           "hovertemplate": "<b>%{hovertext}</b><br><br>Continent=Africa<br>Year=2011<br>Trade Value=%{x}<br>Trade Value Growth=%{y}<br>currYearShare=%{marker.size}<extra></extra>",
           "hovertext": [
            "Madagascar",
            "Mali",
            "Mozambique",
            "Mauritania",
            "Mauritius",
            "Malawi",
            "Namibia",
            "Niger",
            "Nigeria",
            "Rwanda",
            "Sudan",
            "Senegal",
            "Saint Helena",
            "Sierra Leone",
            "Somalia",
            "Sao Tome and Principe",
            "Eswatini",
            "Seychelles",
            "Chad",
            "Togo",
            "Tunisia",
            "Tanzania",
            "Uganda",
            "Morocco",
            "Lesotho",
            "Libya",
            "Liberia",
            "Burundi",
            "Benin",
            "Burkina Faso",
            "Botswana",
            "Central African Republic",
            "Cote d'Ivoire",
            "Cameroon",
            "Democratic Republic of the Congo",
            "Republic of the Congo",
            "Comoros",
            "South Africa",
            "Cape Verde",
            "Algeria",
            "Egypt",
            "Eritrea",
            "Ethiopia",
            "Gabon",
            "Ghana",
            "Guinea",
            "Gambia",
            "Guinea-Bissau",
            "Equatorial Guinea",
            "Kenya",
            "Djibouti",
            "Zambia",
            "Angola",
            "Zimbabwe"
           ],
           "ids": [
            "Madagascar",
            "Mali",
            "Mozambique",
            "Mauritania",
            "Mauritius",
            "Malawi",
            "Namibia",
            "Niger",
            "Nigeria",
            "Rwanda",
            "Sudan",
            "Senegal",
            "Saint Helena",
            "Sierra Leone",
            "Somalia",
            "Sao Tome and Principe",
            "Eswatini",
            "Seychelles",
            "Chad",
            "Togo",
            "Tunisia",
            "Tanzania",
            "Uganda",
            "Morocco",
            "Lesotho",
            "Libya",
            "Liberia",
            "Burundi",
            "Benin",
            "Burkina Faso",
            "Botswana",
            "Central African Republic",
            "Cote d'Ivoire",
            "Cameroon",
            "Democratic Republic of the Congo",
            "Republic of the Congo",
            "Comoros",
            "South Africa",
            "Cape Verde",
            "Algeria",
            "Egypt",
            "Eritrea",
            "Ethiopia",
            "Gabon",
            "Ghana",
            "Guinea",
            "Gambia",
            "Guinea-Bissau",
            "Equatorial Guinea",
            "Kenya",
            "Djibouti",
            "Zambia",
            "Angola",
            "Zimbabwe"
           ],
           "legendgroup": "Africa",
           "marker": {
            "color": "#19d3f3",
            "size": [
             0.000056999999999999996,
             0.0000567,
             0.00016492900000000002,
             0.00008909999999999998,
             0.0000878,
             0.000011599999999999999,
             0.000043200000000000007,
             0.00011386700000000001,
             0.002716219,
             0.000052600000000000005,
             0.00008420000000000001,
             0.000230013,
             0.00000802,
             0.000067,
             0.0000307,
             0.00000268,
             0.0000244,
             0.0000126,
             0.000021600000000000003,
             0.00014165600000000001,
             0.00031624,
             0.000202118,
             0.00009120000000000001,
             0.001850488,
             0.00000173,
             0.000175267,
             0.0000832,
             0.00000684,
             0.000194533,
             0.000159708,
             0.000029100000000000003,
             0.00000983,
             0.00019154599999999999,
             0.0000913,
             0.000132825,
             0.000068,
             0.00000122,
             0.0031964859999999997,
             0.00000648,
             0.00046497300000000004,
             0.003420497,
             0.000011400000000000001,
             0.000490044,
             0.00005739999999999999,
             0.000582639,
             0.0000823,
             0.000034899999999999995,
             0.00000149,
             0.000028800000000000002,
             0.000413699,
             0.00010794799999999999,
             0.000100688,
             0.00029685,
             0.0000348
            ],
            "sizemode": "area",
            "sizeref": 0.0000526570905785124,
            "symbol": "circle"
           },
           "mode": "markers",
           "name": "Africa",
           "orientation": "v",
           "showlegend": true,
           "type": "scatter",
           "x": [
            72351286,
            87730845,
            501732148,
            268513671,
            92991313,
            111937313,
            129273072,
            90652632,
            4932353650,
            53213933,
            139935761,
            340491454,
            1855374,
            96146760,
            5395572,
            11441524,
            29471448,
            27392242,
            33860817,
            222849852,
            737732637,
            298835579,
            134006466,
            3439761370,
            9742534,
            301766649,
            184751679,
            46060035,
            623970108,
            108983877,
            151346437,
            13339796,
            157582920,
            234525940,
            158237709,
            229561870,
            1014781,
            8208742399,
            15749267,
            1500253521,
            6990769409,
            3917411,
            434475795,
            199437849,
            1337606823,
            229973602,
            30644554,
            11238135,
            278444702,
            356617047,
            121284484,
            133552116,
            1385694384,
            447360153
           ],
           "xaxis": "x",
           "y": [
            28.29312668,
            5.272593693,
            -46.47974481,
            -46.00219257,
            53.80187717,
            -83.08401864,
            -45.53237274,
            104.5073319,
            -10.33897926,
            60.78713633,
            -2.038368162,
            9.986346382999999,
            603.5278063,
            13.49635391,
            827.0601522999999,
            -61.93299074,
            34.59429275,
            -25.30900537,
            4.043413955,
            3.493781544,
            -30.20715512,
            10.11968224,
            10.80715762,
            -12.41070775,
            -71.02932358,
            -5.436750235,
            -26.65246198,
            -75.83053074,
            -49.23979067,
            138.5929269,
            -68.69313415,
            19.924705,
            97.90470122,
            -36.64223199,
            36.6667025,
            -51.78407547,
            95.53588409999999,
            -36.5999948,
            -32.99323708,
            -49.53901255,
            -20.33687563,
            375.04231749999997,
            83.63814491,
            -53.10441249,
            -29.08071694,
            -41.73091223,
            85.24966622,
            -78.42831573,
            -83.1724911,
            88.87533607,
            44.91114626,
            22.74952873,
            -65.12112566,
            -87.31913166
           ],
           "yaxis": "y"
          },
          {
           "hovertemplate": "<b>%{hovertext}</b><br><br>Continent=Antarctica<br>Year=2011<br>Trade Value=%{x}<br>Trade Value Growth=%{y}<br>currYearShare=%{marker.size}<extra></extra>",
           "hovertext": [
            "French South Antarctic Territory"
           ],
           "ids": [
            "French South Antarctic Territory"
           ],
           "legendgroup": "Antarctica",
           "marker": {
            "color": "#FF6692",
            "size": [
             0.00000265
            ],
            "sizemode": "area",
            "sizeref": 0.0000526570905785124,
            "symbol": "circle"
           },
           "mode": "markers",
           "name": "Antarctica",
           "orientation": "v",
           "showlegend": true,
           "type": "scatter",
           "x": [
            782755
           ],
           "xaxis": "x",
           "y": [
            451.61231799999996
           ],
           "yaxis": "y"
          }
         ],
         "name": "2011"
        },
        {
         "data": [
          {
           "hovertemplate": "<b>%{hovertext}</b><br><br>Continent=North America<br>Year=2012<br>Trade Value=%{x}<br>Trade Value Growth=%{y}<br>currYearShare=%{marker.size}<extra></extra>",
           "hovertext": [
            "Canada",
            "Aruba",
            "Anguilla",
            "Antigua and Barbuda",
            "Bahamas",
            "Belize",
            "Bermuda",
            "Barbados",
            "Costa Rica",
            "Cuba",
            "Cayman Islands",
            "Dominica",
            "Dominican Republic",
            "Grenada",
            "Greenland",
            "Guatemala",
            "Honduras",
            "Haiti",
            "Jamaica",
            "Saint Kitts and Nevis",
            "Saint Lucia",
            "Saint Martin",
            "Curaçao",
            "Mexico",
            "Nicaragua",
            "Panama",
            "El Salvador",
            "Saint Pierre and Miquelon",
            "Turks and Caicos Islands",
            "Trinidad and Tobago",
            "Saint Vincent and the Grenadines",
            "British Virgin Islands",
            "Montserrat",
            "United States"
           ],
           "ids": [
            "Canada",
            "Aruba",
            "Anguilla",
            "Antigua and Barbuda",
            "Bahamas",
            "Belize",
            "Bermuda",
            "Barbados",
            "Costa Rica",
            "Cuba",
            "Cayman Islands",
            "Dominica",
            "Dominican Republic",
            "Grenada",
            "Greenland",
            "Guatemala",
            "Honduras",
            "Haiti",
            "Jamaica",
            "Saint Kitts and Nevis",
            "Saint Lucia",
            "Saint Martin",
            "Curaçao",
            "Mexico",
            "Nicaragua",
            "Panama",
            "El Salvador",
            "Saint Pierre and Miquelon",
            "Turks and Caicos Islands",
            "Trinidad and Tobago",
            "Saint Vincent and the Grenadines",
            "British Virgin Islands",
            "Montserrat",
            "United States"
           ],
           "legendgroup": "North America",
           "marker": {
            "color": "#636efa",
            "size": [
             0.159287699,
             0.00033858099999999996,
             0.000043200000000000007,
             0.00029637,
             0.0016006360000000001,
             0.00024754299999999997,
             0.000282466,
             0.00043147,
             0.004234267,
             0.000189717,
             0.000555002,
             0.000297816,
             0.006318868,
             0.000098,
             0.00000734,
             0.0050265629999999995,
             0.0035683409999999996,
             0.0006608460000000001,
             0.001262942,
             0.00008,
             0.000293666,
             0.00021209400000000002,
             0.00020553799999999998,
             0.151504227,
             0.001230479,
             0.004133223,
             0.002443899,
             2.27e-9,
             0.000134421,
             0.001467433,
             0.00009549999999999999,
             0.000145597,
             0.0000044,
             0.158855155
            ],
            "sizemode": "area",
            "sizeref": 0.0000526570905785124,
            "symbol": "circle"
           },
           "mode": "markers",
           "name": "North America",
           "orientation": "v",
           "showlegend": true,
           "type": "scatter",
           "x": [
            257592000000,
            743717788,
            23673603,
            197564619,
            3283060564,
            278402874,
            502143246,
            502294809,
            7983668112,
            457338144,
            492466465,
            85562212,
            6893080421,
            92049515,
            18052692,
            6132495458,
            5292677846,
            703651961,
            2101537291,
            122329127,
            388448364,
            665923959,
            644853316,
            199598000000,
            1079296525,
            8798800760,
            3006847556,
            164411,
            154995352,
            2957301996,
            132273726,
            150763919,
            21915177,
            381978000000
           ],
           "xaxis": "x",
           "y": [
            0.6800604920000001,
            -25.87783351,
            196.765769,
            144.2411397,
            -20.62077101,
            44.76688053,
            -8.413538236,
            39.85737667,
            -13.64871445,
            -32.45997867,
            83.48942379,
            466.7070938,
            49.25160028,
            73.39861161,
            -33.81675708,
            33.45257902,
            9.770062661,
            52.90978135,
            -2.154873206,
            6.487058475,
            23.08743949,
            -48.14425126,
            -48.10519731,
            23.584111899999996,
            85.62073819,
            -23.51814682,
            32.33198966,
            -97.751367,
            41.20248006,
            -19.2103711,
            17.58933516,
            57.23467961,
            -67.28641525,
            38.81778023
           ],
           "yaxis": "y"
          },
          {
           "hovertemplate": "<b>%{hovertext}</b><br><br>Continent=Europe<br>Year=2012<br>Trade Value=%{x}<br>Trade Value Growth=%{y}<br>currYearShare=%{marker.size}<extra></extra>",
           "hovertext": [
            "San Marino",
            "North Macedonia",
            "Malta",
            "Montenegro",
            "Netherlands",
            "Norway",
            "Poland",
            "Portugal",
            "Romania",
            "Russia",
            "Serbia",
            "Slovenia",
            "Sweden",
            "Ukraine",
            "Moldova",
            "Slovakia",
            "Latvia",
            "Lithuania",
            "Albania",
            "Andorra",
            "Austria",
            "Belgium",
            "Bulgaria",
            "Bosnia and Herzegovina",
            "Belarus",
            "Switzerland",
            "Czechia",
            "Germany",
            "Luxembourg",
            "Denmark",
            "Estonia",
            "Finland",
            "France",
            "United Kingdom",
            "Gibraltar",
            "Greece",
            "Croatia",
            "Hungary",
            "Ireland",
            "Iceland",
            "Italy",
            "Spain"
           ],
           "ids": [
            "San Marino",
            "North Macedonia",
            "Malta",
            "Montenegro",
            "Netherlands",
            "Norway",
            "Poland",
            "Portugal",
            "Romania",
            "Russia",
            "Serbia",
            "Slovenia",
            "Sweden",
            "Ukraine",
            "Moldova",
            "Slovakia",
            "Latvia",
            "Lithuania",
            "Albania",
            "Andorra",
            "Austria",
            "Belgium",
            "Bulgaria",
            "Bosnia and Herzegovina",
            "Belarus",
            "Switzerland",
            "Czechia",
            "Germany",
            "Luxembourg",
            "Denmark",
            "Estonia",
            "Finland",
            "France",
            "United Kingdom",
            "Gibraltar",
            "Greece",
            "Croatia",
            "Hungary",
            "Ireland",
            "Iceland",
            "Italy",
            "Spain"
           ],
           "legendgroup": "Europe",
           "marker": {
            "color": "#EF553B",
            "size": [
             7.31e-7,
             0.00011039,
             0.0000661,
             0.0000215,
             0.03119579,
             0.003170955,
             0.004655858,
             0.001437138,
             0.000588047,
             0.00433311,
             0.000220432,
             0.00031073900000000003,
             0.003112878,
             0.0017513720000000002,
             0.00005520000000000001,
             0.00034648400000000004,
             0.00016177,
             0.000720242,
             0.000059,
             0.00000284,
             0.002337545,
             0.01760936,
             0.000200027,
             0.000164355,
             0.00021397900000000002,
             0.013653198,
             0.0022821729999999998,
             0.039426654,
             0.000626416,
             0.002419794,
             0.000302308,
             0.0013689879999999998,
             0.016192097,
             0.034073156,
             0.00034995699999999997,
             0.001196677,
             0.0005240280000000001,
             0.001762989,
             0.011422161,
             0.000323028,
             0.011562132,
             0.010606761000000001
            ],
            "sizemode": "area",
            "sizeref": 0.0000526570905785124,
            "symbol": "circle"
           },
           "mode": "markers",
           "name": "Europe",
           "orientation": "v",
           "showlegend": true,
           "type": "scatter",
           "x": [
            1313257,
            67082499,
            292125797,
            20662014,
            39332391795,
            3553206013,
            3658381185,
            1189480359,
            1025716105,
            10871853957,
            222457508,
            491062130,
            5241332731,
            2182308608,
            80545207,
            458387552,
            286485419,
            672719820,
            104988215,
            10051719,
            4115999255,
            24376746984,
            249888389,
            216268287,
            335607315,
            25202706759,
            2284631957,
            49662185680,
            1966044459,
            2191426430,
            275367868,
            2463194577,
            31263930080,
            45828789845,
            3676398806,
            826208392,
            400669316,
            1672413607,
            12064839792,
            413719495,
            15658592718,
            10502439785
           ],
           "xaxis": "x",
           "y": [
            -9.363361475,
            167.9248935,
            -63.180798100000004,
            69.184398,
            29.13343164,
            45.29904512,
            107.2067074,
            96.7135306,
            -6.657858511000001,
            -35.10830043,
            61.33197132,
            3.0273332219999998,
            -3.302905747,
            30.66378548,
            11.66882469,
            23.06760634,
            -8.063583857000001,
            74.31605167,
            -8.444036314,
            -53.96610271,
            -7.534916547999999,
            17.61450443,
            30.32707534,
            23.73245135,
            3.808605304,
            -11.79763085,
            62.63923012,
            29.25791806,
            -48.12445505,
            79.78133115,
            78.74297955,
            -9.511394032,
            -15.67572862,
            21.05062532,
            -84.50165866,
            135.81993569999997,
            112.9419257,
            71.6323132,
            54.14156701,
            27.12404258,
            20.220421899999998,
            64.43174309999999
           ],
           "yaxis": "y"
          },
          {
           "hovertemplate": "<b>%{hovertext}</b><br><br>Continent=Oceania<br>Year=2012<br>Trade Value=%{x}<br>Trade Value Growth=%{y}<br>currYearShare=%{marker.size}<extra></extra>",
           "hovertext": [
            "Micronesia",
            "Niue",
            "Nauru",
            "New Zealand",
            "Palau",
            "Papua New Guinea",
            "French Polynesia",
            "Solomon Islands",
            "Tonga",
            "Tuvalu",
            "Vanuatu",
            "Wallis and Futuna",
            "Samoa",
            "Norfolk Island",
            "New Caledonia",
            "Marshall Islands",
            "Kiribati",
            "Australia",
            "Cook Islands",
            "Fiji"
           ],
           "ids": [
            "Micronesia",
            "Niue",
            "Nauru",
            "New Zealand",
            "Palau",
            "Papua New Guinea",
            "French Polynesia",
            "Solomon Islands",
            "Tonga",
            "Tuvalu",
            "Vanuatu",
            "Wallis and Futuna",
            "Samoa",
            "Norfolk Island",
            "New Caledonia",
            "Marshall Islands",
            "Kiribati",
            "Australia",
            "Cook Islands",
            "Fiji"
           ],
           "legendgroup": "Oceania",
           "marker": {
            "color": "#00cc96",
            "size": [
             0.0000259,
             5.4e-8,
             7.67e-7,
             0.001974967,
             0.000014000000000000001,
             0.0000205,
             0.00006500000000000001,
             0.00000339,
             0.00000946,
             2.8300000000000003e-7,
             0.00000167,
             1.51e-8,
             0.0000252,
             0.00000254,
             0.0000348,
             0.00012339,
             7.970000000000001e-7,
             0.01576229,
             0.00000208,
             0.000139135
            ],
            "sizemode": "area",
            "sizeref": 0.0000526570905785124,
            "symbol": "circle"
           },
           "mode": "markers",
           "name": "Oceania",
           "orientation": "v",
           "showlegend": true,
           "type": "scatter",
           "x": [
            69955809,
            720725,
            2108621,
            3011918915,
            43851407,
            470510203,
            153332002,
            5814993,
            32809783,
            581326,
            57713075,
            491236,
            42440814,
            1119803,
            106369747,
            126583523,
            5902070,
            28089766968,
            4735893,
            65888565
           ],
           "xaxis": "x",
           "y": [
            -39.63110626,
            -87.81116237,
            -40.79628345,
            6.760283651,
            -48.042700200000006,
            -92.90700334,
            -30.96714866,
            -5.167590056,
            -53.05724820000001,
            -20.60685399,
            -95.28822542,
            -95.00911985,
            -3.494216675,
            269.1190325,
            -46.80527444,
            58.706662,
            -78.02050806,
            -8.6382878,
            -28.64781785,
            243.8104958
           ],
           "yaxis": "y"
          },
          {
           "hovertemplate": "<b>%{hovertext}</b><br><br>Continent=South America<br>Year=2012<br>Trade Value=%{x}<br>Trade Value Growth=%{y}<br>currYearShare=%{marker.size}<extra></extra>",
           "hovertext": [
            "Argentina",
            "Bolivia",
            "Brazil",
            "Chile",
            "Colombia",
            "Ecuador",
            "Falkland Islands",
            "Guyana",
            "Peru",
            "Paraguay",
            "Suriname",
            "Venezuela",
            "Uruguay"
           ],
           "ids": [
            "Argentina",
            "Bolivia",
            "Brazil",
            "Chile",
            "Colombia",
            "Ecuador",
            "Falkland Islands",
            "Guyana",
            "Peru",
            "Paraguay",
            "Suriname",
            "Venezuela",
            "Uruguay"
           ],
           "legendgroup": "South America",
           "marker": {
            "color": "#ab63fa",
            "size": [
             0.003937414,
             0.00032518,
             0.024144547000000002,
             0.009515223,
             0.008980617,
             0.003172098,
             1.92e-7,
             0.000559375,
             0.005960269,
             0.0009533969999999999,
             0.00019302,
             0.0009508489999999999,
             0.00068903
            ],
            "sizemode": "area",
            "sizeref": 0.0000526570905785124,
            "symbol": "circle"
           },
           "mode": "markers",
           "name": "South America",
           "orientation": "v",
           "showlegend": true,
           "type": "scatter",
           "x": [
            9009575897,
            846994281,
            34531147683,
            18628936125,
            14861203874,
            6629903895,
            3928894,
            409850720,
            8254491005,
            1351970773,
            570693490,
            16395045060,
            1115580585
           ],
           "xaxis": "x",
           "y": [
            -28.84592436,
            -37.49196838,
            13.84162956,
            -16.83818176,
            -1.611292551,
            -22.10091398,
            -92.06379709,
            122.2133547,
            17.56244846,
            14.81523861,
            -44.93299494,
            -90.55738809,
            0.561127101
           ],
           "yaxis": "y"
          },
          {
           "hovertemplate": "<b>%{hovertext}</b><br><br>Continent=Asia<br>Year=2012<br>Trade Value=%{x}<br>Trade Value Growth=%{y}<br>currYearShare=%{marker.size}<extra></extra>",
           "hovertext": [
            "Yemen",
            "Chinese Taipei",
            "Uzbekistan",
            "Vietnam",
            "Kuwait",
            "Laos",
            "Lebanon",
            "Sri Lanka",
            "Macau",
            "Maldives",
            "Burma",
            "Mongolia",
            "Malaysia",
            "Nepal",
            "Oman",
            "Pakistan",
            "Philippines",
            "Palestine",
            "Qatar",
            "Saudi Arabia",
            "Singapore",
            "Syria",
            "Thailand",
            "Tajikistan",
            "Turkmenistan",
            "Timor-Leste",
            "Turkey",
            "South Korea",
            "Cambodia",
            "Kyrgyzstan",
            "Kazakhstan",
            "Afghanistan",
            "United Arab Emirates",
            "Armenia",
            "Azerbaijan",
            "Bangladesh",
            "Bahrain",
            "Brunei",
            "Bhutan",
            "Cocos (Keeling) Islands",
            "China",
            "Cyprus",
            "Georgia",
            "Hong Kong",
            "Indonesia",
            "India",
            "British Indian Ocean Territory",
            "Iran",
            "Iraq",
            "Israel",
            "Jordan",
            "Japan",
            "Christmas Island"
           ],
           "ids": [
            "Yemen",
            "Chinese Taipei",
            "Uzbekistan",
            "Vietnam",
            "Kuwait",
            "Laos",
            "Lebanon",
            "Sri Lanka",
            "Macau",
            "Maldives",
            "Burma",
            "Mongolia",
            "Malaysia",
            "Nepal",
            "Oman",
            "Pakistan",
            "Philippines",
            "Palestine",
            "Qatar",
            "Saudi Arabia",
            "Singapore",
            "Syria",
            "Thailand",
            "Tajikistan",
            "Turkmenistan",
            "Timor-Leste",
            "Turkey",
            "South Korea",
            "Cambodia",
            "Kyrgyzstan",
            "Kazakhstan",
            "Afghanistan",
            "United Arab Emirates",
            "Armenia",
            "Azerbaijan",
            "Bangladesh",
            "Bahrain",
            "Brunei",
            "Bhutan",
            "Cocos (Keeling) Islands",
            "China",
            "Cyprus",
            "Georgia",
            "Hong Kong",
            "Indonesia",
            "India",
            "British Indian Ocean Territory",
            "Iran",
            "Iraq",
            "Israel",
            "Jordan",
            "Japan",
            "Christmas Island"
           ],
           "legendgroup": "Asia",
           "marker": {
            "color": "#FFA15A",
            "size": [
             0.00016439599999999998,
             0.02148323,
             0.000142905,
             0.0069184830000000004,
             0.001749273,
             0.0000446,
             0.00050318,
             0.000310084,
             0.000225146,
             0.000030799999999999996,
             0.000118014,
             0.000117602,
             0.00911381,
             0.000152241,
             0.000623284,
             0.002155074,
             0.005013329,
             0.000059699999999999994,
             0.00134159,
             0.007128654,
             0.019979935,
             6.96e-7,
             0.007522255,
             0.000019,
             0.0000484,
             0.00000671,
             0.007607086999999999,
             0.040779813,
             0.00027100299999999997,
             0.000042499999999999996,
             0.00040201099999999997,
             0.00013733,
             0.009148063,
             0.0000565,
             0.000151755,
             0.0014149070000000002,
             0.000399251,
             0.000107889,
             0.00000358,
             4.49e-7,
             0.092552767,
             0.0000858,
             0.00043067,
             0.017375674,
             0.005951746999999999,
             0.024041596000000002,
             0.00000359,
             0.0000242,
             0.000471126,
             0.006472175,
             0.000802008,
             0.044079228,
             4.3600000000000004e-7
            ],
            "sizemode": "area",
            "sizeref": 0.0000526570905785124,
            "symbol": "circle"
           },
           "mode": "markers",
           "name": "Asia",
           "orientation": "v",
           "showlegend": true,
           "type": "scatter",
           "x": [
            610037951,
            23359455651,
            70531252,
            4791507176,
            2557145867,
            35493745,
            1779372581,
            242893051,
            253101823,
            43204267,
            75148644,
            601313097,
            12013416454,
            41053362,
            1899682809,
            1524433060,
            7642225437,
            36007899,
            2277483208,
            16661034311,
            28730024671,
            19412945,
            11004839758,
            14100775,
            82042175,
            1122444,
            12440648785,
            40154460100,
            250377423,
            194432757,
            1295081424,
            1214020031,
            17645544773,
            104716789,
            762002699,
            609564594,
            962706722,
            198046402,
            4744051,
            863089,
            108998000000,
            142860882,
            403028123,
            34604024149,
            9979402241,
            21305456196,
            2650992,
            251109286,
            1845749350,
            11311941477,
            1781147928,
            65270213177,
            3800170
           ],
           "xaxis": "x",
           "y": [
            -56.12403088,
            49.73727179,
            229.8821719,
            135.08872119999998,
            11.37693018,
            104.7135291,
            -53.95848932,
            107.85321110000001,
            44.8311528,
            16.02154945,
            155.6859216,
            -68.15749533,
            23.51693337,
            503.7756347,
            -46.58072183,
            130.16902340000001,
            6.806936962000001,
            169.7486349,
            -4.091374666,
            -30.33756736,
            13.22729591,
            -94.16002054,
            11.29031674,
            118.89341540000001,
            -3.9255273280000003,
            873.0104130000001,
            -0.443781928,
            65.35011685,
            76.22698473,
            -64.39027453,
            -49.46017711,
            -81.58245463,
            -15.59131434,
            -12.1606011,
            -67.57502299,
            277.92112099999997,
            -32.47807768,
            -11.30376254,
            22.82336341,
            -15.21708653,
            38.24950605,
            -2.1640794569999997,
            73.98117352,
            -18.24616973,
            -2.8969271410000004,
            83.72384088,
            120.3127358,
            -84.32359726,
            -58.44172054,
            -6.844999433,
            -26.68852365,
            9.954247843,
            -81.3284932
           ],
           "yaxis": "y"
          },
          {
           "hovertemplate": "<b>%{hovertext}</b><br><br>Continent=Africa<br>Year=2012<br>Trade Value=%{x}<br>Trade Value Growth=%{y}<br>currYearShare=%{marker.size}<extra></extra>",
           "hovertext": [
            "Morocco",
            "Madagascar",
            "Mali",
            "Mozambique",
            "Mauritania",
            "Mauritius",
            "Malawi",
            "Namibia",
            "Niger",
            "Nigeria",
            "Rwanda",
            "Sudan",
            "Senegal",
            "Saint Helena",
            "Sierra Leone",
            "Somalia",
            "South Sudan",
            "Sao Tome and Principe",
            "Eswatini",
            "Seychelles",
            "Chad",
            "Togo",
            "Tunisia",
            "Lesotho",
            "Libya",
            "Liberia",
            "Kenya",
            "Angola",
            "Burundi",
            "Benin",
            "Burkina Faso",
            "Botswana",
            "Central African Republic",
            "Cote d'Ivoire",
            "Cameroon",
            "Democratic Republic of the Congo",
            "Republic of the Congo",
            "Tanzania",
            "Comoros",
            "Djibouti",
            "Algeria",
            "Egypt",
            "Eritrea",
            "Ethiopia",
            "Gabon",
            "Ghana",
            "Guinea",
            "Gambia",
            "Guinea-Bissau",
            "Equatorial Guinea",
            "Cape Verde",
            "Uganda",
            "Zambia",
            "Zimbabwe",
            "South Africa"
           ],
           "ids": [
            "Morocco",
            "Madagascar",
            "Mali",
            "Mozambique",
            "Mauritania",
            "Mauritius",
            "Malawi",
            "Namibia",
            "Niger",
            "Nigeria",
            "Rwanda",
            "Sudan",
            "Senegal",
            "Saint Helena",
            "Sierra Leone",
            "Somalia",
            "South Sudan",
            "Sao Tome and Principe",
            "Eswatini",
            "Seychelles",
            "Chad",
            "Togo",
            "Tunisia",
            "Lesotho",
            "Libya",
            "Liberia",
            "Kenya",
            "Angola",
            "Burundi",
            "Benin",
            "Burkina Faso",
            "Botswana",
            "Central African Republic",
            "Cote d'Ivoire",
            "Cameroon",
            "Democratic Republic of the Congo",
            "Republic of the Congo",
            "Tanzania",
            "Comoros",
            "Djibouti",
            "Algeria",
            "Egypt",
            "Eritrea",
            "Ethiopia",
            "Gabon",
            "Ghana",
            "Guinea",
            "Gambia",
            "Guinea-Bissau",
            "Equatorial Guinea",
            "Cape Verde",
            "Uganda",
            "Zambia",
            "Zimbabwe",
            "South Africa"
           ],
           "legendgroup": "Africa",
           "marker": {
            "color": "#19d3f3",
            "size": [
             0.001850488,
             0.000056999999999999996,
             0.0000567,
             0.00016492900000000002,
             0.00008909999999999998,
             0.0000878,
             0.000011599999999999999,
             0.000043200000000000007,
             0.00011386700000000001,
             0.002716219,
             0.000052600000000000005,
             0.00008420000000000001,
             0.000230013,
             0.00000802,
             0.000067,
             0.0000307,
             0.0000354,
             0.00000268,
             0.0000244,
             0.0000126,
             0.000021600000000000003,
             0.00014165600000000001,
             0.00031624,
             0.00000173,
             0.000175267,
             0.0000832,
             0.000413699,
             0.00029685,
             0.00000684,
             0.000194533,
             0.000159708,
             0.000029100000000000003,
             0.00000983,
             0.00019154599999999999,
             0.0000913,
             0.000132825,
             0.000068,
             0.000202118,
             0.00000122,
             0.00010794799999999999,
             0.00046497300000000004,
             0.003420497,
             0.000011400000000000001,
             0.000490044,
             0.00005739999999999999,
             0.000582639,
             0.0000823,
             0.000034899999999999995,
             0.00000149,
             0.000028800000000000002,
             0.00000648,
             0.00009120000000000001,
             0.000100688,
             0.0000348,
             0.0031964859999999997
            ],
            "sizemode": "area",
            "sizeref": 0.0000526570905785124,
            "symbol": "circle"
           },
           "mode": "markers",
           "name": "Africa",
           "orientation": "v",
           "showlegend": true,
           "type": "scatter",
           "x": [
            2712425453,
            89528928,
            109658588,
            383952492,
            324975732,
            111386757,
            87807077,
            140036645,
            107650595,
            5065665717,
            45859705,
            102782289,
            199447352,
            994565,
            90671556,
            16337174,
            27039106,
            3022705,
            32857275,
            23632146,
            33895104,
            472388817,
            713040680,
            11317856,
            539971980,
            229261271,
            404043475,
            1789781897,
            42277750,
            566823219,
            167865053,
            155659022,
            11037026,
            249747408,
            270230827,
            188437527,
            238040682,
            253103144,
            931823,
            110950026,
            1542883316,
            5421784723,
            5420454,
            357943146,
            257345706,
            1390458851,
            134520010,
            29585875,
            20533803,
            225334869,
            70332935,
            85369438,
            238103111,
            396538656,
            7553485538
           ],
           "xaxis": "x",
           "y": [
            11.076329699999999,
            3.67791626,
            -15.77810942,
            -30.06209581,
            -55.38390079,
            28.40160613,
            -78.43534297,
            -49.71889322,
            72.21574948,
            -12.69856962,
            86.57154249,
            33.37254534,
            87.76589724,
            1212.440313,
            20.34983386,
            206.1741155,
            112.93988049999999,
            44.09100458,
            20.72482274,
            -13.42496784,
            3.938167589,
            -51.17671488,
            -27.79029171,
            -75.06172547,
            -47.15274856,
            -40.89241178,
            66.70524032,
            -72.99589387,
            -73.66826286,
            -44.12216677,
            54.90289215,
            -69.56050129,
            44.94584864,
            24.87176924,
            -45.013526899999995,
            14.763902100000001,
            -53.50148678,
            30.0168717,
            112.94398190000001,
            58.40891826,
            -50.93324731,
            2.716459866,
            243.3173679,
            122.9022399,
            -63.65684415,
            -31.77639394,
            -0.383950313,
            91.87850283,
            -88.19383336,
            -79.20636641,
            -84.99554441,
            73.93666806,
            -31.14974756,
            -85.69391631,
            -31.10011157
           ],
           "yaxis": "y"
          },
          {
           "hovertemplate": "<b>%{hovertext}</b><br><br>Continent=Antarctica<br>Year=2012<br>Trade Value=%{x}<br>Trade Value Growth=%{y}<br>currYearShare=%{marker.size}<extra></extra>",
           "hovertext": [
            "French South Antarctic Territory"
           ],
           "ids": [
            "French South Antarctic Territory"
           ],
           "legendgroup": "Antarctica",
           "marker": {
            "color": "#FF6692",
            "size": [
             0.00000265
            ],
            "sizemode": "area",
            "sizeref": 0.0000526570905785124,
            "symbol": "circle"
           },
           "mode": "markers",
           "name": "Antarctica",
           "orientation": "v",
           "showlegend": true,
           "type": "scatter",
           "x": [
            1175310
           ],
           "xaxis": "x",
           "y": [
            267.3731186
           ],
           "yaxis": "y"
          }
         ],
         "name": "2012"
        },
        {
         "data": [
          {
           "hovertemplate": "<b>%{hovertext}</b><br><br>Continent=North America<br>Year=2013<br>Trade Value=%{x}<br>Trade Value Growth=%{y}<br>currYearShare=%{marker.size}<extra></extra>",
           "hovertext": [
            "United States",
            "British Virgin Islands",
            "Saint Vincent and the Grenadines",
            "Trinidad and Tobago",
            "Turks and Caicos Islands",
            "Saint Pierre and Miquelon",
            "El Salvador",
            "Panama",
            "Nicaragua",
            "Montserrat",
            "Mexico",
            "Saint Martin",
            "Saint Lucia",
            "Saint Kitts and Nevis",
            "Jamaica",
            "Haiti",
            "Honduras",
            "Guatemala",
            "Greenland",
            "Grenada",
            "Dominican Republic",
            "Cayman Islands",
            "Dominica",
            "Cuba",
            "Costa Rica",
            "Canada",
            "Barbados",
            "Bermuda",
            "Belize",
            "Bahamas",
            "Antigua and Barbuda",
            "Anguilla",
            "Aruba",
            "Curaçao"
           ],
           "ids": [
            "United States",
            "British Virgin Islands",
            "Saint Vincent and the Grenadines",
            "Trinidad and Tobago",
            "Turks and Caicos Islands",
            "Saint Pierre and Miquelon",
            "El Salvador",
            "Panama",
            "Nicaragua",
            "Montserrat",
            "Mexico",
            "Saint Martin",
            "Saint Lucia",
            "Saint Kitts and Nevis",
            "Jamaica",
            "Haiti",
            "Honduras",
            "Guatemala",
            "Greenland",
            "Grenada",
            "Dominican Republic",
            "Cayman Islands",
            "Dominica",
            "Cuba",
            "Costa Rica",
            "Canada",
            "Barbados",
            "Bermuda",
            "Belize",
            "Bahamas",
            "Antigua and Barbuda",
            "Anguilla",
            "Aruba",
            "Curaçao"
           ],
           "legendgroup": "North America",
           "marker": {
            "color": "#636efa",
            "size": [
             0.158855155,
             0.000145597,
             0.00009549999999999999,
             0.001467433,
             0.000134421,
             2.27e-9,
             0.002443899,
             0.004133223,
             0.001230479,
             0.0000044,
             0.151504227,
             0.00021209400000000002,
             0.000293666,
             0.00008,
             0.001262942,
             0.0006608460000000001,
             0.0035683409999999996,
             0.0050265629999999995,
             0.00000734,
             0.000098,
             0.006318868,
             0.000555002,
             0.000297816,
             0.000189717,
             0.004234267,
             0.159287699,
             0.00043147,
             0.000282466,
             0.00024754299999999997,
             0.0016006360000000001,
             0.00029637,
             0.000043200000000000007,
             0.00033858099999999996,
             0.00020553799999999998
            ],
            "sizemode": "area",
            "sizeref": 0.0000526570905785124,
            "symbol": "circle"
           },
           "mode": "markers",
           "name": "North America",
           "orientation": "v",
           "showlegend": true,
           "type": "scatter",
           "x": [
            398584000000,
            161677911,
            123488359,
            2378805463,
            129574881,
            234826,
            3385137469,
            9834311715,
            1057725375,
            24543274,
            206755000000,
            789337051,
            515150911,
            157048071,
            2013332770,
            794355484,
            5019256960,
            6008455855,
            10056833,
            122035959,
            6901578496,
            502683140,
            66085931,
            353741260,
            7865056586,
            266068000000,
            510951553,
            513895384,
            265867009,
            3184856821,
            149099369,
            26674990,
            1075955477,
            648080789
           ],
           "xaxis": "x",
           "y": [
            33.03446226,
            46.62062587,
            25.95502625,
            0.43668325,
            68.90409569,
            -98.42564282,
            17.54385851,
            -31.57135879,
            89.40626975,
            -70.7893902,
            19.3059335,
            -56.25191361,
            -7.186198298,
            -17.05425723,
            2.131741838,
            35.44976987,
            15.74971822,
            36.20759717,
            18.80337478,
            30.79143419,
            49.06782329999999,
            79.76013259999999,
            633.722167,
            -12.68016629,
            -12.346466,
            -2.527536603,
            37.48785748,
            -10.50800487,
            51.59276719,
            -18.17314531,
            223.6325413,
            163.3746067,
            -48.76556244,
            -48.36363588
           ],
           "yaxis": "y"
          },
          {
           "hovertemplate": "<b>%{hovertext}</b><br><br>Continent=Europe<br>Year=2013<br>Trade Value=%{x}<br>Trade Value Growth=%{y}<br>currYearShare=%{marker.size}<extra></extra>",
           "hovertext": [
            "Andorra",
            "Albania",
            "Luxembourg",
            "Lithuania",
            "Italy",
            "Iceland",
            "Ireland",
            "Hungary",
            "Croatia",
            "Greece",
            "Gibraltar",
            "France",
            "Finland",
            "Estonia",
            "Spain",
            "Denmark",
            "Germany",
            "Czechia",
            "Switzerland",
            "Belarus",
            "Bosnia and Herzegovina",
            "Bulgaria",
            "Belgium",
            "Austria",
            "Latvia",
            "Moldova",
            "United Kingdom",
            "Malta",
            "North Macedonia",
            "Ukraine",
            "Slovenia",
            "Sweden",
            "Netherlands",
            "Norway",
            "Poland",
            "Portugal",
            "Montenegro",
            "Russia",
            "San Marino",
            "Serbia",
            "Slovakia",
            "Romania"
           ],
           "ids": [
            "Andorra",
            "Albania",
            "Luxembourg",
            "Lithuania",
            "Italy",
            "Iceland",
            "Ireland",
            "Hungary",
            "Croatia",
            "Greece",
            "Gibraltar",
            "France",
            "Finland",
            "Estonia",
            "Spain",
            "Denmark",
            "Germany",
            "Czechia",
            "Switzerland",
            "Belarus",
            "Bosnia and Herzegovina",
            "Bulgaria",
            "Belgium",
            "Austria",
            "Latvia",
            "Moldova",
            "United Kingdom",
            "Malta",
            "North Macedonia",
            "Ukraine",
            "Slovenia",
            "Sweden",
            "Netherlands",
            "Norway",
            "Poland",
            "Portugal",
            "Montenegro",
            "Russia",
            "San Marino",
            "Serbia",
            "Slovakia",
            "Romania"
           ],
           "legendgroup": "Europe",
           "marker": {
            "color": "#EF553B",
            "size": [
             0.00000284,
             0.000059,
             0.000626416,
             0.000720242,
             0.011562132,
             0.000323028,
             0.011422161,
             0.001762989,
             0.0005240280000000001,
             0.001196677,
             0.00034995699999999997,
             0.016192097,
             0.0013689879999999998,
             0.000302308,
             0.010606761000000001,
             0.002419794,
             0.039426654,
             0.0022821729999999998,
             0.013653198,
             0.00021397900000000002,
             0.000164355,
             0.000200027,
             0.01760936,
             0.002337545,
             0.00016177,
             0.00005520000000000001,
             0.034073156,
             0.0000661,
             0.00011039,
             0.0017513720000000002,
             0.00031073900000000003,
             0.003112878,
             0.03119579,
             0.003170955,
             0.004655858,
             0.001437138,
             0.0000215,
             0.00433311,
             7.31e-7,
             0.000220432,
             0.00034648400000000004,
             0.000588047
            ],
            "sizemode": "area",
            "sizeref": 0.0000526570905785124,
            "symbol": "circle"
           },
           "mode": "markers",
           "name": "Europe",
           "orientation": "v",
           "showlegend": true,
           "type": "scatter",
           "x": [
            10985938,
            114144467,
            2033551714,
            764203224,
            15100089579,
            391969999,
            11081293459,
            1818214890,
            255987875,
            694661116,
            2532667424,
            33738204517,
            2360649297,
            321592806,
            11625779744,
            2058496532,
            50094002831,
            2308546349,
            24717155188,
            369510086,
            190500038,
            287531939,
            25970270939,
            4464648488,
            271183195,
            76985865,
            38177274239,
            577178130,
            105914405,
            2110652855,
            534843062,
            4118871578,
            40535674423,
            4109648646,
            4078992254,
            997224246,
            29615553,
            11594696304,
            1761637,
            234031290,
            511048742,
            791573920
           ],
           "xaxis": "x",
           "y": [
            -57.88071988,
            -15.78832113,
            -49.8465532,
            53.44853204,
            24.6669838,
            34.17785758,
            67.82276529,
            57.86924724,
            233.29428470000002,
            180.4769195,
            -77.50273759999999,
            -21.85985703,
            -5.580619797000001,
            53.05091495,
            48.54354019,
            91.39092759,
            28.14369714,
            60.95443904,
            -10.06495576,
            -5.71589621,
            40.46929114,
            13.26471422,
            10.397732199999998,
            -14.755614999999999,
            -2.8758301189999997,
            16.83168852,
            45.31167504,
            -81.36478473,
            69.69430551,
            35.09976457,
            -5.406229799999999,
            23.04866406,
            25.30016583,
            25.62568854,
            85.84029397,
            134.6381789,
            18.0356281,
            -39.15381117,
            -32.43261807,
            53.35346098,
            10.38606333,
            20.95211247
           ],
           "yaxis": "y"
          },
          {
           "hovertemplate": "<b>%{hovertext}</b><br><br>Continent=Oceania<br>Year=2013<br>Trade Value=%{x}<br>Trade Value Growth=%{y}<br>currYearShare=%{marker.size}<extra></extra>",
           "hovertext": [
            "Kiribati",
            "Micronesia",
            "Fiji",
            "Cook Islands",
            "Australia",
            "New Caledonia",
            "Norfolk Island",
            "Niue",
            "Samoa",
            "Wallis and Futuna",
            "Vanuatu",
            "Tuvalu",
            "Tonga",
            "Solomon Islands",
            "French Polynesia",
            "Papua New Guinea",
            "Palau",
            "New Zealand",
            "Nauru",
            "Marshall Islands"
           ],
           "ids": [
            "Kiribati",
            "Micronesia",
            "Fiji",
            "Cook Islands",
            "Australia",
            "New Caledonia",
            "Norfolk Island",
            "Niue",
            "Samoa",
            "Wallis and Futuna",
            "Vanuatu",
            "Tuvalu",
            "Tonga",
            "Solomon Islands",
            "French Polynesia",
            "Papua New Guinea",
            "Palau",
            "New Zealand",
            "Nauru",
            "Marshall Islands"
           ],
           "legendgroup": "Oceania",
           "marker": {
            "color": "#00cc96",
            "size": [
             7.970000000000001e-7,
             0.0000259,
             0.000139135,
             0.00000208,
             0.01576229,
             0.0000348,
             0.00000254,
             5.4e-8,
             0.0000252,
             1.51e-8,
             0.00000167,
             2.8300000000000003e-7,
             0.00000946,
             0.00000339,
             0.00006500000000000001,
             0.0000205,
             0.000014000000000000001,
             0.001974967,
             7.67e-7,
             0.00012339
            ],
            "sizemode": "area",
            "sizeref": 0.0000526570905785124,
            "symbol": "circle"
           },
           "mode": "markers",
           "name": "Oceania",
           "orientation": "v",
           "showlegend": true,
           "type": "scatter",
           "x": [
            5336036,
            61670301,
            130270414,
            4210332,
            23644080383,
            116225392,
            1561510,
            237529,
            47164706,
            574946,
            19656829,
            532361,
            23561854,
            8746880,
            157776454,
            140625863,
            44874750,
            3037021175,
            715764,
            57755637
           ],
           "xaxis": "x",
           "y": [
            -75.68897586,
            -31.5204445,
            73.89351507,
            -19.74117481,
            8.540030482,
            -51.31606439,
            164.7057015,
            -63.01588438,
            -13.15998026,
            -95.73577345,
            -86.16607999,
            -13.30450578,
            -34.63241475,
            -36.95468556,
            -32.91175564,
            -76.2680404,
            -49.2275567,
            5.8778649110000005,
            74.41251586,
            247.83874690000002
           ],
           "yaxis": "y"
          },
          {
           "hovertemplate": "<b>%{hovertext}</b><br><br>Continent=South America<br>Year=2013<br>Trade Value=%{x}<br>Trade Value Growth=%{y}<br>currYearShare=%{marker.size}<extra></extra>",
           "hovertext": [
            "Venezuela",
            "Uruguay",
            "Suriname",
            "Paraguay",
            "Peru",
            "Guyana",
            "Falkland Islands",
            "Ecuador",
            "Colombia",
            "Chile",
            "Brazil",
            "Bolivia",
            "Argentina"
           ],
           "ids": [
            "Venezuela",
            "Uruguay",
            "Suriname",
            "Paraguay",
            "Peru",
            "Guyana",
            "Falkland Islands",
            "Ecuador",
            "Colombia",
            "Chile",
            "Brazil",
            "Bolivia",
            "Argentina"
           ],
           "legendgroup": "South America",
           "marker": {
            "color": "#ab63fa",
            "size": [
             0.0009508489999999999,
             0.00068903,
             0.00019302,
             0.0009533969999999999,
             0.005960269,
             0.000559375,
             1.92e-7,
             0.003172098,
             0.008980617,
             0.009515223,
             0.024144547000000002,
             0.00032518,
             0.003937414
            ],
            "sizemode": "area",
            "sizeref": 0.0000526570905785124,
            "symbol": "circle"
           },
           "mode": "markers",
           "name": "South America",
           "orientation": "v",
           "showlegend": true,
           "type": "scatter",
           "x": [
            12359666593,
            1230769618,
            529890036,
            1353832620,
            9009583787,
            357613810,
            1024067,
            6990259096,
            17021778559,
            15617216221,
            37235771741,
            1110358729,
            8519193204
           ],
           "xaxis": "x",
           "y": [
            -87.47441554,
            -8.850495365,
            -40.6926359,
            14.65733992,
            7.709545329,
            154.6722214,
            -69.55228515,
            -26.11669372,
            -14.09977311,
            -0.800745915,
            5.572731247,
            -52.31816176,
            -24.75014599
           ],
           "yaxis": "y"
          },
          {
           "hovertemplate": "<b>%{hovertext}</b><br><br>Continent=Asia<br>Year=2013<br>Trade Value=%{x}<br>Trade Value Growth=%{y}<br>currYearShare=%{marker.size}<extra></extra>",
           "hovertext": [
            "Kyrgyzstan",
            "Kazakhstan",
            "Japan",
            "Jordan",
            "Israel",
            "Iraq",
            "Iran",
            "British Indian Ocean Territory",
            "India",
            "Indonesia",
            "Hong Kong",
            "Georgia",
            "Cyprus",
            "Christmas Island",
            "China",
            "Cocos (Keeling) Islands",
            "Bhutan",
            "Brunei",
            "Bahrain",
            "Bangladesh",
            "Azerbaijan",
            "Armenia",
            "United Arab Emirates",
            "Cambodia",
            "Afghanistan",
            "South Korea",
            "Laos",
            "Vietnam",
            "Uzbekistan",
            "Turkey",
            "Timor-Leste",
            "Turkmenistan",
            "Tajikistan",
            "Thailand",
            "Syria",
            "Singapore",
            "Saudi Arabia",
            "Qatar",
            "Palestine",
            "Philippines",
            "Pakistan",
            "Oman",
            "Nepal",
            "Malaysia",
            "Mongolia",
            "Burma",
            "Maldives",
            "Macau",
            "Sri Lanka",
            "Lebanon",
            "Kuwait",
            "Chinese Taipei",
            "Yemen"
           ],
           "ids": [
            "Kyrgyzstan",
            "Kazakhstan",
            "Japan",
            "Jordan",
            "Israel",
            "Iraq",
            "Iran",
            "British Indian Ocean Territory",
            "India",
            "Indonesia",
            "Hong Kong",
            "Georgia",
            "Cyprus",
            "Christmas Island",
            "China",
            "Cocos (Keeling) Islands",
            "Bhutan",
            "Brunei",
            "Bahrain",
            "Bangladesh",
            "Azerbaijan",
            "Armenia",
            "United Arab Emirates",
            "Cambodia",
            "Afghanistan",
            "South Korea",
            "Laos",
            "Vietnam",
            "Uzbekistan",
            "Turkey",
            "Timor-Leste",
            "Turkmenistan",
            "Tajikistan",
            "Thailand",
            "Syria",
            "Singapore",
            "Saudi Arabia",
            "Qatar",
            "Palestine",
            "Philippines",
            "Pakistan",
            "Oman",
            "Nepal",
            "Malaysia",
            "Mongolia",
            "Burma",
            "Maldives",
            "Macau",
            "Sri Lanka",
            "Lebanon",
            "Kuwait",
            "Chinese Taipei",
            "Yemen"
           ],
           "legendgroup": "Asia",
           "marker": {
            "color": "#FFA15A",
            "size": [
             0.000042499999999999996,
             0.00040201099999999997,
             0.044079228,
             0.000802008,
             0.006472175,
             0.000471126,
             0.0000242,
             0.00000359,
             0.024041596000000002,
             0.005951746999999999,
             0.017375674,
             0.00043067,
             0.0000858,
             4.3600000000000004e-7,
             0.092552767,
             4.49e-7,
             0.00000358,
             0.000107889,
             0.000399251,
             0.0014149070000000002,
             0.000151755,
             0.0000565,
             0.009148063,
             0.00027100299999999997,
             0.00013733,
             0.040779813,
             0.0000446,
             0.0069184830000000004,
             0.000142905,
             0.007607086999999999,
             0.00000671,
             0.0000484,
             0.000019,
             0.007522255,
             6.96e-7,
             0.019979935,
             0.007128654,
             0.00134159,
             0.000059699999999999994,
             0.005013329,
             0.002155074,
             0.000623284,
             0.000152241,
             0.00911381,
             0.000117602,
             0.000118014,
             0.000030799999999999996,
             0.000225146,
             0.000310084,
             0.00050318,
             0.001749273,
             0.02148323,
             0.00016439599999999998
            ],
            "sizemode": "area",
            "sizeref": 0.0000526570905785124,
            "symbol": "circle"
           },
           "mode": "markers",
           "name": "Asia",
           "orientation": "v",
           "showlegend": true,
           "type": "scatter",
           "x": [
            188576386,
            1477716343,
            63791867808,
            1938812783,
            10566130267,
            1873190215,
            315992343,
            645889,
            20581169212,
            7634969856,
            39293316543,
            469469519,
            119441235,
            431397,
            122584000000,
            20955484,
            2293248,
            382771444,
            845038108,
            790688899,
            387506236,
            104952006,
            19248565980,
            264006841,
            1104961758,
            38979713585,
            38164571,
            5240320191,
            116671881,
            11840395595,
            3100122,
            95946083,
            19430909,
            12717945534,
            21642124,
            28095516019,
            17423671585,
            2330704761,
            33812561,
            7863009566,
            1634247760,
            1565161925,
            43865597,
            12731627292,
            419052534,
            195406244,
            30497885,
            213188558,
            372925989,
            1379814336,
            2692573614,
            23338078999,
            728157763
           ],
           "xaxis": "x",
           "y": [
            -63.2843897,
            -55.70652913,
            12.50238381,
            -32.65023557,
            -0.269645739,
            -59.0505189,
            -87.54245036,
            804.2533624,
            90.18940099,
            26.92003258,
            -28.00273008,
            49.35859084,
            17.01926809,
            64.47703623,
            22.92733223,
            -96.50806443,
            154.0851665,
            -54.10846087,
            -23.07588512,
            191.3501568,
            -36.23865191,
            -12.35746556,
            -22.62087245,
            67.12922337,
            -79.76466711,
            70.33333647,
            90.3873045,
            114.9542878,
            99.42253781,
            4.603257,
            252.29249040000002,
            -17.84804076,
            58.8482968,
            -3.700475912,
            -94.76154928,
            15.78441921,
            -33.38670471,
            -6.281444412999999,
            187.26252350000001,
            3.807922863,
            114.70261570000001,
            -35.16345959,
            465.0674195,
            16.54915163,
            -54.30807943,
            -1.6692102219999998,
            64.35979085,
            71.94651131,
            35.37833803,
            -40.62606862,
            5.775030706,
            49.87442453,
            -63.24147367
           ],
           "yaxis": "y"
          },
          {
           "hovertemplate": "<b>%{hovertext}</b><br><br>Continent=Africa<br>Year=2013<br>Trade Value=%{x}<br>Trade Value Growth=%{y}<br>currYearShare=%{marker.size}<extra></extra>",
           "hovertext": [
            "Angola",
            "Zimbabwe",
            "Zambia",
            "Liberia",
            "Kenya",
            "Equatorial Guinea",
            "Guinea-Bissau",
            "Gambia",
            "Guinea",
            "Ghana",
            "Gabon",
            "Ethiopia",
            "Eritrea",
            "Egypt",
            "Algeria",
            "Djibouti",
            "Cape Verde",
            "Comoros",
            "Republic of the Congo",
            "Democratic Republic of the Congo",
            "Cameroon",
            "Cote d'Ivoire",
            "Central African Republic",
            "Botswana",
            "Burkina Faso",
            "Benin",
            "Libya",
            "Lesotho",
            "Morocco",
            "Madagascar",
            "South Africa",
            "Uganda",
            "Tanzania",
            "Tunisia",
            "Togo",
            "Chad",
            "Seychelles",
            "Eswatini",
            "Sao Tome and Principe",
            "South Sudan",
            "Somalia",
            "Sierra Leone",
            "Senegal",
            "Sudan",
            "Rwanda",
            "Nigeria",
            "Niger",
            "Namibia",
            "Malawi",
            "Mauritius",
            "Mauritania",
            "Mozambique",
            "Mali",
            "Saint Helena",
            "Burundi"
           ],
           "ids": [
            "Angola",
            "Zimbabwe",
            "Zambia",
            "Liberia",
            "Kenya",
            "Equatorial Guinea",
            "Guinea-Bissau",
            "Gambia",
            "Guinea",
            "Ghana",
            "Gabon",
            "Ethiopia",
            "Eritrea",
            "Egypt",
            "Algeria",
            "Djibouti",
            "Cape Verde",
            "Comoros",
            "Republic of the Congo",
            "Democratic Republic of the Congo",
            "Cameroon",
            "Cote d'Ivoire",
            "Central African Republic",
            "Botswana",
            "Burkina Faso",
            "Benin",
            "Libya",
            "Lesotho",
            "Morocco",
            "Madagascar",
            "South Africa",
            "Uganda",
            "Tanzania",
            "Tunisia",
            "Togo",
            "Chad",
            "Seychelles",
            "Eswatini",
            "Sao Tome and Principe",
            "South Sudan",
            "Somalia",
            "Sierra Leone",
            "Senegal",
            "Sudan",
            "Rwanda",
            "Nigeria",
            "Niger",
            "Namibia",
            "Malawi",
            "Mauritius",
            "Mauritania",
            "Mozambique",
            "Mali",
            "Saint Helena",
            "Burundi"
           ],
           "legendgroup": "Africa",
           "marker": {
            "color": "#19d3f3",
            "size": [
             0.00029685,
             0.0000348,
             0.000100688,
             0.0000832,
             0.000413699,
             0.000028800000000000002,
             0.00000149,
             0.000034899999999999995,
             0.0000823,
             0.000582639,
             0.00005739999999999999,
             0.000490044,
             0.000011400000000000001,
             0.003420497,
             0.00046497300000000004,
             0.00010794799999999999,
             0.00000648,
             0.00000122,
             0.000068,
             0.000132825,
             0.0000913,
             0.00019154599999999999,
             0.00000983,
             0.000029100000000000003,
             0.000159708,
             0.000194533,
             0.000175267,
             0.00000173,
             0.001850488,
             0.000056999999999999996,
             0.0031964859999999997,
             0.00009120000000000001,
             0.000202118,
             0.00031624,
             0.00014165600000000001,
             0.000021600000000000003,
             0.0000126,
             0.0000244,
             0.00000268,
             0.0000354,
             0.0000307,
             0.000067,
             0.000230013,
             0.00008420000000000001,
             0.000052600000000000005,
             0.002716219,
             0.00011386700000000001,
             0.000043200000000000007,
             0.000011599999999999999,
             0.0000878,
             0.00008909999999999998,
             0.00016492900000000002,
             0.0000567,
             0.00000802,
             0.00000684
            ],
            "sizemode": "area",
            "sizeref": 0.0000526570905785124,
            "symbol": "circle"
           },
           "mode": "markers",
           "name": "Africa",
           "orientation": "v",
           "showlegend": true,
           "type": "scatter",
           "x": [
            1523402824,
            148159235,
            198884497,
            163478869,
            531722170,
            735478129,
            6528413,
            35853912,
            88347174,
            1083694584,
            303243006,
            378216871,
            6170389,
            5465778243,
            2020941303,
            153783177,
            13068381,
            1217019,
            225772634,
            155154211,
            336410068,
            267207227,
            11104820,
            154196782,
            183689668,
            667341651,
            849507272,
            2578745,
            3044898082,
            87666641,
            6608396509,
            132487340,
            318754525,
            972255859,
            1026927659,
            39152657,
            29766717,
            21770732,
            4846341,
            12556706,
            15135225,
            78481841,
            263516390,
            109750427,
            38592789,
            6385741379,
            98220420,
            165044970,
            75379986,
            73893629,
            321931892,
            322406267,
            47367892,
            297584,
            29095091
           ],
           "xaxis": "x",
           "y": [
            -68.27401161,
            -61.71068783,
            -17.57296548,
            -17.10805878,
            26.67548656,
            -93.62927256,
            -62.86609012,
            58.33400272,
            51.67833212,
            -12.46415891,
            -69.15755709,
            110.9539133,
            201.5913583,
            1.889705023,
            -62.54009259,
            14.28736187,
            -19.24727325,
            63.04272982,
            -50.97484755,
            39.38278414,
            -55.83057253,
            16.71241474,
            44.06096632,
            -69.27184512,
            41.55821872,
            -52.53877343,
            -66.40872193,
            9.451613091,
            -1.052102308,
            5.880327957,
            -21.24650661,
            12.07769437,
            3.2383116760000004,
            -47.04227388,
            -77.5411893,
            -10.01900586,
            -31.26706583,
            82.20281707,
            -10.12918819,
            358.5361798,
            230.48863169999998,
            39.0424404,
            42.11416223,
            24.9046211,
            121.7024507,
            -30.74572917,
            88.75024053,
            -57.33770317,
            -74.88020892,
            93.55171337,
            -54.96205918,
            -16.71119532,
            94.97708701,
            4286.348728,
            -61.73764846
           ],
           "yaxis": "y"
          },
          {
           "hovertemplate": "<b>%{hovertext}</b><br><br>Continent=Antarctica<br>Year=2013<br>Trade Value=%{x}<br>Trade Value Growth=%{y}<br>currYearShare=%{marker.size}<extra></extra>",
           "hovertext": [
            "French South Antarctic Territory"
           ],
           "ids": [
            "French South Antarctic Territory"
           ],
           "legendgroup": "Antarctica",
           "marker": {
            "color": "#FF6692",
            "size": [
             0.00000265
            ],
            "sizemode": "area",
            "sizeref": 0.0000526570905785124,
            "symbol": "circle"
           },
           "mode": "markers",
           "name": "Antarctica",
           "orientation": "v",
           "showlegend": true,
           "type": "scatter",
           "x": [
            1609267
           ],
           "xaxis": "x",
           "y": [
            168.30681299999998
           ],
           "yaxis": "y"
          }
         ],
         "name": "2013"
        },
        {
         "data": [
          {
           "hovertemplate": "<b>%{hovertext}</b><br><br>Continent=North America<br>Year=2014<br>Trade Value=%{x}<br>Trade Value Growth=%{y}<br>currYearShare=%{marker.size}<extra></extra>",
           "hovertext": [
            "Cayman Islands",
            "British Virgin Islands",
            "Saint Vincent and the Grenadines",
            "Trinidad and Tobago",
            "Turks and Caicos Islands",
            "El Salvador",
            "Panama",
            "Nicaragua",
            "Montserrat",
            "Mexico",
            "Saint Martin",
            "Saint Lucia",
            "Saint Kitts and Nevis",
            "Jamaica",
            "Haiti",
            "Honduras",
            "Guatemala",
            "Greenland",
            "Grenada",
            "Dominican Republic",
            "Dominica",
            "Curaçao",
            "Cuba",
            "Costa Rica",
            "Canada",
            "Barbados",
            "Bermuda",
            "Belize",
            "Bahamas",
            "Antigua and Barbuda",
            "Anguilla",
            "Aruba",
            "United States"
           ],
           "ids": [
            "Cayman Islands",
            "British Virgin Islands",
            "Saint Vincent and the Grenadines",
            "Trinidad and Tobago",
            "Turks and Caicos Islands",
            "El Salvador",
            "Panama",
            "Nicaragua",
            "Montserrat",
            "Mexico",
            "Saint Martin",
            "Saint Lucia",
            "Saint Kitts and Nevis",
            "Jamaica",
            "Haiti",
            "Honduras",
            "Guatemala",
            "Greenland",
            "Grenada",
            "Dominican Republic",
            "Dominica",
            "Curaçao",
            "Cuba",
            "Costa Rica",
            "Canada",
            "Barbados",
            "Bermuda",
            "Belize",
            "Bahamas",
            "Antigua and Barbuda",
            "Anguilla",
            "Aruba",
            "United States"
           ],
           "legendgroup": "North America",
           "marker": {
            "color": "#636efa",
            "size": [
             0.000555002,
             0.000145597,
             0.00009549999999999999,
             0.001467433,
             0.000134421,
             0.002443899,
             0.004133223,
             0.001230479,
             0.0000044,
             0.151504227,
             0.00021209400000000002,
             0.000293666,
             0.00008,
             0.001262942,
             0.0006608460000000001,
             0.0035683409999999996,
             0.0050265629999999995,
             0.00000734,
             0.000098,
             0.006318868,
             0.000297816,
             0.00020553799999999998,
             0.000189717,
             0.004234267,
             0.159287699,
             0.00043147,
             0.000282466,
             0.00024754299999999997,
             0.0016006360000000001,
             0.00029637,
             0.000043200000000000007,
             0.00033858099999999996,
             0.158855155
            ],
            "sizemode": "area",
            "sizeref": 0.0000526570905785124,
            "symbol": "circle"
           },
           "mode": "markers",
           "name": "North America",
           "orientation": "v",
           "showlegend": true,
           "type": "scatter",
           "x": [
            515019705,
            177264645,
            127342536,
            2375470125,
            163436930,
            3474536932,
            9135911578,
            1049314803,
            25364568,
            220311000000,
            741351069,
            495079929,
            190892513,
            2119942344,
            853855634,
            5178710355,
            6686394230,
            7723828,
            105935792,
            7895546337,
            53289486,
            571276871,
            292485133,
            6972698755,
            276831000000,
            555146062,
            533542714,
            268450485,
            3030323506,
            204482567,
            54026776,
            1254144988,
            424679000000
           ],
           "xaxis": "x",
           "y": [
            75.45423412,
            33.72839519,
            22.14284393,
            0.577703877,
            33.90931964,
            14.51946763,
            -26.34029104,
            90.92441766,
            -71.73521741,
            11.96461782,
            -53.42019868,
            -3.423443975,
            -31.76018957,
            -3.004351377,
            26.01107636,
            12.18576421,
            22.39740981,
            54.688284100000004,
            50.66917232,
            30.30172198,
            809.9114317000001,
            -41.42151153,
            5.607514759,
            -1.1286692390000002,
            -6.31704246,
            26.54261483,
            -13.80348378,
            50.13389005,
            -14.00033172,
            135.9781003,
            30.03765022,
            -56.04497548,
            24.85981019
           ],
           "yaxis": "y"
          },
          {
           "hovertemplate": "<b>%{hovertext}</b><br><br>Continent=Europe<br>Year=2014<br>Trade Value=%{x}<br>Trade Value Growth=%{y}<br>currYearShare=%{marker.size}<extra></extra>",
           "hovertext": [
            "Andorra",
            "Luxembourg",
            "Lithuania",
            "Italy",
            "Iceland",
            "Ireland",
            "Hungary",
            "Croatia",
            "Greece",
            "Gibraltar",
            "United Kingdom",
            "France",
            "Finland",
            "Estonia",
            "Spain",
            "Denmark",
            "Germany",
            "Czechia",
            "Switzerland",
            "Belarus",
            "Bosnia and Herzegovina",
            "Bulgaria",
            "Belgium",
            "Austria",
            "Latvia",
            "Moldova",
            "North Macedonia",
            "Malta",
            "Albania",
            "Ukraine",
            "Slovenia",
            "Slovakia",
            "Serbia",
            "San Marino",
            "Russia",
            "Romania",
            "Portugal",
            "Poland",
            "Norway",
            "Netherlands",
            "Montenegro",
            "Sweden"
           ],
           "ids": [
            "Andorra",
            "Luxembourg",
            "Lithuania",
            "Italy",
            "Iceland",
            "Ireland",
            "Hungary",
            "Croatia",
            "Greece",
            "Gibraltar",
            "United Kingdom",
            "France",
            "Finland",
            "Estonia",
            "Spain",
            "Denmark",
            "Germany",
            "Czechia",
            "Switzerland",
            "Belarus",
            "Bosnia and Herzegovina",
            "Bulgaria",
            "Belgium",
            "Austria",
            "Latvia",
            "Moldova",
            "North Macedonia",
            "Malta",
            "Albania",
            "Ukraine",
            "Slovenia",
            "Slovakia",
            "Serbia",
            "San Marino",
            "Russia",
            "Romania",
            "Portugal",
            "Poland",
            "Norway",
            "Netherlands",
            "Montenegro",
            "Sweden"
           ],
           "legendgroup": "Europe",
           "marker": {
            "color": "#EF553B",
            "size": [
             0.00000284,
             0.000626416,
             0.000720242,
             0.011562132,
             0.000323028,
             0.011422161,
             0.001762989,
             0.0005240280000000001,
             0.001196677,
             0.00034995699999999997,
             0.034073156,
             0.016192097,
             0.0013689879999999998,
             0.000302308,
             0.010606761000000001,
             0.002419794,
             0.039426654,
             0.0022821729999999998,
             0.013653198,
             0.00021397900000000002,
             0.000164355,
             0.000200027,
             0.01760936,
             0.002337545,
             0.00016177,
             0.00005520000000000001,
             0.00011039,
             0.0000661,
             0.000059,
             0.0017513720000000002,
             0.00031073900000000003,
             0.00034648400000000004,
             0.000220432,
             7.31e-7,
             0.00433311,
             0.000588047,
             0.001437138,
             0.004655858,
             0.003170955,
             0.03119579,
             0.0000215,
             0.003112878
            ],
            "sizemode": "area",
            "sizeref": 0.0000526570905785124,
            "symbol": "circle"
           },
           "mode": "markers",
           "name": "Europe",
           "orientation": "v",
           "showlegend": true,
           "type": "scatter",
           "x": [
            3733869,
            1733500637,
            656247144,
            15680180746,
            437120732,
            11648455541,
            1873695366,
            381857909,
            686602499,
            1825516210,
            49737895283,
            30636815809,
            2401210286,
            368413158,
            11321203303,
            2545892908,
            51404820189,
            2711543813,
            21531135495,
            96438668,
            237224160,
            382886502,
            27719879628,
            4381758499,
            248547987,
            69172875,
            121932823,
            824565111,
            73072934,
            1475179457,
            475827098,
            636058869,
            197609397,
            4064857,
            14187528163,
            945149007,
            1129408415,
            3975045136,
            4619781283,
            39188198241,
            28635866,
            3934117528
           ],
           "xaxis": "x",
           "y": [
            23.92502254,
            -41.16550896,
            78.69161637,
            20.05490583,
            20.31846318,
            59.6514924,
            53.19470881,
            123.4320507,
            183.7688622,
            -68.78796075,
            11.53675958,
            -13.94966955,
            -7.175541934,
            33.60020437,
            52.53983472,
            54.75024871,
            24.87604671,
            37.03292597,
            3.242973215,
            261.2547542,
            12.80219224,
            -14.94288065,
            3.429706574,
            -13.14304184,
            5.969245689,
            30.02768209,
            47.40142119,
            -86.95574363,
            31.54387916,
            93.29763741,
            6.326062372000001,
            -11.30906029,
            81.61842931,
            -70.71749387,
            -50.27371417,
            1.298882071,
            107.1764987,
            90.70000306,
            11.75365438,
            29.60858001,
            22.07384963,
            28.82727613
           ],
           "yaxis": "y"
          },
          {
           "hovertemplate": "<b>%{hovertext}</b><br><br>Continent=Oceania<br>Year=2014<br>Trade Value=%{x}<br>Trade Value Growth=%{y}<br>currYearShare=%{marker.size}<extra></extra>",
           "hovertext": [
            "New Caledonia",
            "Marshall Islands",
            "Kiribati",
            "Micronesia",
            "Fiji",
            "Cook Islands",
            "Australia",
            "Norfolk Island",
            "Niue",
            "New Zealand",
            "Samoa",
            "Wallis and Futuna",
            "Vanuatu",
            "Tuvalu",
            "Tonga",
            "Solomon Islands",
            "French Polynesia",
            "Papua New Guinea",
            "Palau",
            "Nauru"
           ],
           "ids": [
            "New Caledonia",
            "Marshall Islands",
            "Kiribati",
            "Micronesia",
            "Fiji",
            "Cook Islands",
            "Australia",
            "Norfolk Island",
            "Niue",
            "New Zealand",
            "Samoa",
            "Wallis and Futuna",
            "Vanuatu",
            "Tuvalu",
            "Tonga",
            "Solomon Islands",
            "French Polynesia",
            "Papua New Guinea",
            "Palau",
            "Nauru"
           ],
           "legendgroup": "Oceania",
           "marker": {
            "color": "#00cc96",
            "size": [
             0.0000348,
             0.00012339,
             7.970000000000001e-7,
             0.0000259,
             0.000139135,
             0.00000208,
             0.01576229,
             0.00000254,
             5.4e-8,
             0.001974967,
             0.0000252,
             1.51e-8,
             0.00000167,
             2.8300000000000003e-7,
             0.00000946,
             0.00000339,
             0.00006500000000000001,
             0.0000205,
             0.000014000000000000001,
             7.67e-7
            ],
            "sizemode": "area",
            "sizeref": 0.0000526570905785124,
            "symbol": "circle"
           },
           "mode": "markers",
           "name": "Oceania",
           "orientation": "v",
           "showlegend": true,
           "type": "scatter",
           "x": [
            140882441,
            37545110,
            5563114,
            35263107,
            116611018,
            4610268,
            23826186984,
            751055,
            105588,
            4204229394,
            39324472,
            285099,
            12350959,
            560427,
            23270557,
            5539540,
            167707582,
            118567380,
            48189513,
            769105
           ],
           "xaxis": "x",
           "y": [
            -59.83665913,
            435.08029139999996,
            -76.68131554,
            19.76127912,
            94.26277712,
            -26.70354522,
            7.710445117999999,
            450.34664569999995,
            -16.80115165,
            -23.51670483,
            4.153566258,
            -91.40053104,
            -77.98300521,
            -17.64618764,
            -33.81415408,
            -0.452059196,
            -36.88451545,
            -71.85290507,
            -52.71998910000001,
            62.31619870000001
           ],
           "yaxis": "y"
          },
          {
           "hovertemplate": "<b>%{hovertext}</b><br><br>Continent=South America<br>Year=2014<br>Trade Value=%{x}<br>Trade Value Growth=%{y}<br>currYearShare=%{marker.size}<extra></extra>",
           "hovertext": [
            "Venezuela",
            "Uruguay",
            "Suriname",
            "Paraguay",
            "Peru",
            "Guyana",
            "Falkland Islands",
            "Ecuador",
            "Colombia",
            "Chile",
            "Brazil",
            "Bolivia",
            "Argentina"
           ],
           "ids": [
            "Venezuela",
            "Uruguay",
            "Suriname",
            "Paraguay",
            "Peru",
            "Guyana",
            "Falkland Islands",
            "Ecuador",
            "Colombia",
            "Chile",
            "Brazil",
            "Bolivia",
            "Argentina"
           ],
           "legendgroup": "South America",
           "marker": {
            "color": "#ab63fa",
            "size": [
             0.0009508489999999999,
             0.00068903,
             0.00019302,
             0.0009533969999999999,
             0.005960269,
             0.000559375,
             1.92e-7,
             0.003172098,
             0.008980617,
             0.009515223,
             0.024144547000000002,
             0.00032518,
             0.003937414
            ],
            "sizemode": "area",
            "sizeref": 0.0000526570905785124,
            "symbol": "circle"
           },
           "mode": "markers",
           "name": "South America",
           "orientation": "v",
           "showlegend": true,
           "type": "scatter",
           "x": [
            10798217053,
            1228791865,
            571577263,
            1549469219,
            8994218331,
            396555797,
            7551402,
            7572425612,
            18606037188,
            14022293690,
            35388389315,
            1126993739,
            9580437716
           ],
           "xaxis": "x",
           "y": [
            -85.6631843,
            -8.703789311,
            -45.01813957,
            0.18065863899999998,
            7.893553122999999,
            129.6632759,
            -95.87089921,
            -31.79682703,
            -21.41396765,
            10.48236717,
            11.08395151,
            -53.02197034,
            -33.0857249
           ],
           "yaxis": "y"
          },
          {
           "hovertemplate": "<b>%{hovertext}</b><br><br>Continent=Asia<br>Year=2014<br>Trade Value=%{x}<br>Trade Value Growth=%{y}<br>currYearShare=%{marker.size}<extra></extra>",
           "hovertext": [
            "Hong Kong",
            "Japan",
            "Jordan",
            "Israel",
            "Iraq",
            "Iran",
            "British Indian Ocean Territory",
            "Kazakhstan",
            "India",
            "Indonesia",
            "Georgia",
            "Brunei",
            "Christmas Island",
            "China",
            "Cocos (Keeling) Islands",
            "Bhutan",
            "Bahrain",
            "Bangladesh",
            "Azerbaijan",
            "Armenia",
            "United Arab Emirates",
            "Afghanistan",
            "Kyrgyzstan",
            "Cyprus",
            "Cambodia",
            "Vietnam",
            "Kuwait",
            "Uzbekistan",
            "Turkey",
            "Timor-Leste",
            "Turkmenistan",
            "Tajikistan",
            "Thailand",
            "Syria",
            "Singapore",
            "Saudi Arabia",
            "Qatar",
            "Palestine",
            "Philippines",
            "Pakistan",
            "Oman",
            "Nepal",
            "Malaysia",
            "Mongolia",
            "Burma",
            "Maldives",
            "Macau",
            "Sri Lanka",
            "Lebanon",
            "Laos",
            "South Korea",
            "Chinese Taipei",
            "Yemen"
           ],
           "ids": [
            "Hong Kong",
            "Japan",
            "Jordan",
            "Israel",
            "Iraq",
            "Iran",
            "British Indian Ocean Territory",
            "Kazakhstan",
            "India",
            "Indonesia",
            "Georgia",
            "Brunei",
            "Christmas Island",
            "China",
            "Cocos (Keeling) Islands",
            "Bhutan",
            "Bahrain",
            "Bangladesh",
            "Azerbaijan",
            "Armenia",
            "United Arab Emirates",
            "Afghanistan",
            "Kyrgyzstan",
            "Cyprus",
            "Cambodia",
            "Vietnam",
            "Kuwait",
            "Uzbekistan",
            "Turkey",
            "Timor-Leste",
            "Turkmenistan",
            "Tajikistan",
            "Thailand",
            "Syria",
            "Singapore",
            "Saudi Arabia",
            "Qatar",
            "Palestine",
            "Philippines",
            "Pakistan",
            "Oman",
            "Nepal",
            "Malaysia",
            "Mongolia",
            "Burma",
            "Maldives",
            "Macau",
            "Sri Lanka",
            "Lebanon",
            "Laos",
            "South Korea",
            "Chinese Taipei",
            "Yemen"
           ],
           "legendgroup": "Asia",
           "marker": {
            "color": "#FFA15A",
            "size": [
             0.017375674,
             0.044079228,
             0.000802008,
             0.006472175,
             0.000471126,
             0.0000242,
             0.00000359,
             0.00040201099999999997,
             0.024041596000000002,
             0.005951746999999999,
             0.00043067,
             0.000107889,
             4.3600000000000004e-7,
             0.092552767,
             4.49e-7,
             0.00000358,
             0.000399251,
             0.0014149070000000002,
             0.000151755,
             0.0000565,
             0.009148063,
             0.00013733,
             0.000042499999999999996,
             0.0000858,
             0.00027100299999999997,
             0.0069184830000000004,
             0.001749273,
             0.000142905,
             0.007607086999999999,
             0.00000671,
             0.0000484,
             0.000019,
             0.007522255,
             6.96e-7,
             0.019979935,
             0.007128654,
             0.00134159,
             0.000059699999999999994,
             0.005013329,
             0.002155074,
             0.000623284,
             0.000152241,
             0.00911381,
             0.000117602,
             0.000118014,
             0.000030799999999999996,
             0.000225146,
             0.000310084,
             0.00050318,
             0.0000446,
             0.040779813,
             0.02148323,
             0.00016439599999999998
            ],
            "sizemode": "area",
            "sizeref": 0.0000526570905785124,
            "symbol": "circle"
           },
           "mode": "markers",
           "name": "Asia",
           "orientation": "v",
           "showlegend": true,
           "type": "scatter",
           "x": [
            37841480201,
            64609408891,
            1378240992,
            11195250717,
            2036895985,
            208914442,
            2024194,
            1569971421,
            20862472614,
            6832420810,
            551202527,
            329245662,
            129243,
            125039000000,
            5583209,
            2370925,
            870212731,
            732511159,
            445289720,
            96751492,
            17822217134,
            589199527,
            177573282,
            115173538,
            433718694,
            5907593110,
            3795468506,
            147606873,
            10599059012,
            1160389,
            117404958,
            14845308,
            11055728183,
            6761896,
            28328654153,
            19091733768,
            2471457697,
            43250151,
            7702538015,
            1552214764,
            1603657121,
            50659754,
            10339031172,
            218767715,
            118553923,
            35117070,
            278888029,
            481401789,
            1308492998,
            43218391,
            42365826424,
            24774238085,
            737217832
           ],
           "xaxis": "x",
           "y": [
            -25.24046358,
            11.07882458,
            -5.257074084,
            -5.874022714,
            -62.34163754,
            -81.15740462,
            188.5332631,
            -58.30931384,
            87.62494343,
            41.828299200000004,
            27.21151004,
            -46.64782949,
            449.0038145,
            20.51379274,
            -86.89370217,
            145.7607474,
            -25.30124396,
            214.4898639,
            -44.51270961,
            -4.929013394,
            -16.42806106,
            -62.05144781,
            -61.00935331,
            21.35535769,
            1.7324337419999998,
            90.67482706,
            -24.96129101,
            57.62817901,
            16.85414167,
            841.1927380000001,
            -32.86349372,
            107.91530900000001,
            10.7780584,
            -83.23381489,
            14.83154079,
            -39.20676904,
            -11.61884585,
            124.57913729999999,
            5.9706149989999995,
            126.04943390000001,
            -36.71983676,
            389.28424920000003,
            43.52025204,
            -12.47650459,
            62.07350895,
            42.74043934,
            31.43995076,
            4.873105488,
            -37.38980505,
            68.12402387,
            56.71934741,
            41.18622529,
            -63.6932191
           ],
           "yaxis": "y"
          },
          {
           "hovertemplate": "<b>%{hovertext}</b><br><br>Continent=Africa<br>Year=2014<br>Trade Value=%{x}<br>Trade Value Growth=%{y}<br>currYearShare=%{marker.size}<extra></extra>",
           "hovertext": [
            "Benin",
            "Zambia",
            "Liberia",
            "Kenya",
            "Equatorial Guinea",
            "Guinea-Bissau",
            "Gambia",
            "Guinea",
            "Ghana",
            "Gabon",
            "Ethiopia",
            "Eritrea",
            "Egypt",
            "Algeria",
            "Djibouti",
            "Cape Verde",
            "Comoros",
            "Republic of the Congo",
            "Democratic Republic of the Congo",
            "Cameroon",
            "Cote d'Ivoire",
            "Central African Republic",
            "Botswana",
            "Burkina Faso",
            "Libya",
            "Lesotho",
            "Morocco",
            "Madagascar",
            "South Africa",
            "Uganda",
            "Tanzania",
            "Tunisia",
            "Togo",
            "Chad",
            "Seychelles",
            "Eswatini",
            "Sao Tome and Principe",
            "South Sudan",
            "Somalia",
            "Zimbabwe",
            "Sierra Leone",
            "Senegal",
            "Sudan",
            "Rwanda",
            "Nigeria",
            "Niger",
            "Namibia",
            "Malawi",
            "Mauritius",
            "Mauritania",
            "Mozambique",
            "Mali",
            "Saint Helena",
            "Burundi",
            "Angola"
           ],
           "ids": [
            "Benin",
            "Zambia",
            "Liberia",
            "Kenya",
            "Equatorial Guinea",
            "Guinea-Bissau",
            "Gambia",
            "Guinea",
            "Ghana",
            "Gabon",
            "Ethiopia",
            "Eritrea",
            "Egypt",
            "Algeria",
            "Djibouti",
            "Cape Verde",
            "Comoros",
            "Republic of the Congo",
            "Democratic Republic of the Congo",
            "Cameroon",
            "Cote d'Ivoire",
            "Central African Republic",
            "Botswana",
            "Burkina Faso",
            "Libya",
            "Lesotho",
            "Morocco",
            "Madagascar",
            "South Africa",
            "Uganda",
            "Tanzania",
            "Tunisia",
            "Togo",
            "Chad",
            "Seychelles",
            "Eswatini",
            "Sao Tome and Principe",
            "South Sudan",
            "Somalia",
            "Zimbabwe",
            "Sierra Leone",
            "Senegal",
            "Sudan",
            "Rwanda",
            "Nigeria",
            "Niger",
            "Namibia",
            "Malawi",
            "Mauritius",
            "Mauritania",
            "Mozambique",
            "Mali",
            "Saint Helena",
            "Burundi",
            "Angola"
           ],
           "legendgroup": "Africa",
           "marker": {
            "color": "#19d3f3",
            "size": [
             0.000194533,
             0.000100688,
             0.0000832,
             0.000413699,
             0.000028800000000000002,
             0.00000149,
             0.000034899999999999995,
             0.0000823,
             0.000582639,
             0.00005739999999999999,
             0.000490044,
             0.000011400000000000001,
             0.003420497,
             0.00046497300000000004,
             0.00010794799999999999,
             0.00000648,
             0.00000122,
             0.000068,
             0.000132825,
             0.0000913,
             0.00019154599999999999,
             0.00000983,
             0.000029100000000000003,
             0.000159708,
             0.000175267,
             0.00000173,
             0.001850488,
             0.000056999999999999996,
             0.0031964859999999997,
             0.00009120000000000001,
             0.000202118,
             0.00031624,
             0.00014165600000000001,
             0.000021600000000000003,
             0.0000126,
             0.0000244,
             0.00000268,
             0.0000354,
             0.0000307,
             0.0000348,
             0.000067,
             0.000230013,
             0.00008420000000000001,
             0.000052600000000000005,
             0.002716219,
             0.00011386700000000001,
             0.000043200000000000007,
             0.000011599999999999999,
             0.0000878,
             0.00008909999999999998,
             0.00016492900000000002,
             0.0000567,
             0.00000802,
             0.00000684,
             0.00029685
            ],
            "sizemode": "area",
            "sizeref": 0.0000526570905785124,
            "symbol": "circle"
           },
           "mode": "markers",
           "name": "Africa",
           "orientation": "v",
           "showlegend": true,
           "type": "scatter",
           "x": [
            935575896,
            167858230,
            170994732,
            361114772,
            249779644,
            2840900,
            41016446,
            64275879,
            1297838336,
            409329253,
            532483850,
            5075948,
            6644945697,
            2923542851,
            100012524,
            12830752,
            921154,
            322347576,
            169787674,
            320510291,
            328901509,
            40619155,
            109068536,
            132776204,
            519824674,
            19980467,
            2470491250,
            88300257,
            6428785964,
            78157171,
            383836903,
            911884845,
            1042230739,
            64251382,
            24673208,
            35024536,
            4668555,
            45151929,
            33888415,
            73046221,
            102885276,
            205000520,
            135702801,
            31001828,
            5996370963,
            106225380,
            291199069,
            87350648,
            77493332,
            902434384,
            385406604,
            37156410,
            443222,
            9838440,
            1900155240
           ],
           "xaxis": "x",
           "y": [
            -66.14614225,
            -2.337470733,
            -20.75147204,
            86.52287257,
            -81.24134287,
            -14.66595093,
            38.40529723,
            108.48181629999999,
            -26.90760146,
            -77.15102199,
            49.83802607,
            266.618413,
            -16.19095802,
            -74.10529691,
            75.73272723,
            -17.75171089,
            115.410344,
            -65.66272364,
            27.369822499999998,
            -53.63942901,
            -5.180122783,
            -60.61535254,
            -56.55775007,
            95.83917462,
            -45.10450075,
            -85.87381366,
            21.95398947,
            5.120562673,
            -19.04625326,
            89.98737301,
            -14.26650553,
            -43.53622633,
            -77.87095214,
            -45.16857241,
            -17.07791707,
            13.25456817,
            -6.706764727,
            27.51844999,
            47.60264828,
            -22.33800569,
            6.062860734,
            82.67959028,
            1.017336407,
            175.98746440000002,
            -26.24874851,
            74.52635048,
            -75.81998622,
            -78.32266224,
            84.56089228,
            -83.93329226,
            -30.3259666,
            148.56151599999998,
            2845.041537,
            13.15275592,
            -74.56446753
           ],
           "yaxis": "y"
          },
          {
           "hovertemplate": "<b>%{hovertext}</b><br><br>Continent=Antarctica<br>Year=2014<br>Trade Value=%{x}<br>Trade Value Growth=%{y}<br>currYearShare=%{marker.size}<extra></extra>",
           "hovertext": [
            "French South Antarctic Territory"
           ],
           "ids": [
            "French South Antarctic Territory"
           ],
           "legendgroup": "Antarctica",
           "marker": {
            "color": "#FF6692",
            "size": [
             0.00000265
            ],
            "sizemode": "area",
            "sizeref": 0.0000526570905785124,
            "symbol": "circle"
           },
           "mode": "markers",
           "name": "Antarctica",
           "orientation": "v",
           "showlegend": true,
           "type": "scatter",
           "x": [
            7961951
           ],
           "xaxis": "x",
           "y": [
            -45.76991242
           ],
           "yaxis": "y"
          }
         ],
         "name": "2014"
        },
        {
         "data": [
          {
           "hovertemplate": "<b>%{hovertext}</b><br><br>Continent=North America<br>Year=2015<br>Trade Value=%{x}<br>Trade Value Growth=%{y}<br>currYearShare=%{marker.size}<extra></extra>",
           "hovertext": [
            "British Virgin Islands",
            "Saint Vincent and the Grenadines",
            "Trinidad and Tobago",
            "Turks and Caicos Islands",
            "Saint Pierre and Miquelon",
            "El Salvador",
            "Panama",
            "Nicaragua",
            "Montserrat",
            "Mexico",
            "Saint Martin",
            "Saint Lucia",
            "Saint Kitts and Nevis",
            "Jamaica",
            "Haiti",
            "Honduras",
            "Guatemala",
            "United States",
            "Greenland",
            "Grenada",
            "Dominica",
            "Cayman Islands",
            "Curaçao",
            "Cuba",
            "Costa Rica",
            "Canada",
            "Barbados",
            "Bermuda",
            "Belize",
            "Bahamas",
            "Antigua and Barbuda",
            "Anguilla",
            "Dominican Republic",
            "Aruba"
           ],
           "ids": [
            "British Virgin Islands",
            "Saint Vincent and the Grenadines",
            "Trinidad and Tobago",
            "Turks and Caicos Islands",
            "Saint Pierre and Miquelon",
            "El Salvador",
            "Panama",
            "Nicaragua",
            "Montserrat",
            "Mexico",
            "Saint Martin",
            "Saint Lucia",
            "Saint Kitts and Nevis",
            "Jamaica",
            "Haiti",
            "Honduras",
            "Guatemala",
            "United States",
            "Greenland",
            "Grenada",
            "Dominica",
            "Cayman Islands",
            "Curaçao",
            "Cuba",
            "Costa Rica",
            "Canada",
            "Barbados",
            "Bermuda",
            "Belize",
            "Bahamas",
            "Antigua and Barbuda",
            "Anguilla",
            "Dominican Republic",
            "Aruba"
           ],
           "legendgroup": "North America",
           "marker": {
            "color": "#636efa",
            "size": [
             0.000145597,
             0.00009549999999999999,
             0.001467433,
             0.000134421,
             2.27e-9,
             0.002443899,
             0.004133223,
             0.001230479,
             0.0000044,
             0.151504227,
             0.00021209400000000002,
             0.000293666,
             0.00008,
             0.001262942,
             0.0006608460000000001,
             0.0035683409999999996,
             0.0050265629999999995,
             0.158855155,
             0.00000734,
             0.000098,
             0.000297816,
             0.000555002,
             0.00020553799999999998,
             0.000189717,
             0.004234267,
             0.159287699,
             0.00043147,
             0.000282466,
             0.00024754299999999997,
             0.0016006360000000001,
             0.00029637,
             0.000043200000000000007,
             0.006318868,
             0.00033858099999999996
            ],
            "sizemode": "area",
            "sizeref": 0.0000526570905785124,
            "symbol": "circle"
           },
           "mode": "markers",
           "name": "North America",
           "orientation": "v",
           "showlegend": true,
           "type": "scatter",
           "x": [
            160177766,
            119185957,
            2777372414,
            162763350,
            208490,
            3145488809,
            6656865059,
            1199672021,
            15219154,
            214291000000,
            702828763,
            389475535,
            160320285,
            1691993148,
            711582704,
            4734531682,
            6075973356,
            434534000000,
            8345828,
            109142434,
            54988608,
            518427797,
            484641524,
            175966193,
            5835564932,
            246027000000,
            605174120,
            548969437,
            311855148,
            2249144154,
            468871881,
            41145755,
            7096979603,
            1079713144
           ],
           "xaxis": "x",
           "y": [
            47.99380146,
            30.50177967,
            -13.97648742,
            34.46349009,
            -98.22677347,
            26.49929593,
            1.09091621,
            66.9954906,
            -52.893308,
            15.11025629,
            -50.86714244,
            22.76281872,
            -18.74721967,
            21.5283779,
            51.20556879,
            22.71067506,
            34.69402954,
            22.02811189,
            43.15963617,
            46.24246056,
            781.7955985,
            74.3008157,
            -30.94992083,
            75.5372863,
            18.13766327,
            5.412753662,
            16.08168951,
            -16.22571294,
            29.23793581,
            15.8693256,
            2.913844177,
            70.74701874,
            44.963539600000004,
            -48.94387087
           ],
           "yaxis": "y"
          },
          {
           "hovertemplate": "<b>%{hovertext}</b><br><br>Continent=Europe<br>Year=2015<br>Trade Value=%{x}<br>Trade Value Growth=%{y}<br>currYearShare=%{marker.size}<extra></extra>",
           "hovertext": [
            "Albania",
            "Andorra",
            "Austria",
            "Latvia",
            "Luxembourg",
            "Lithuania",
            "Italy",
            "Iceland",
            "Ireland",
            "Hungary",
            "Croatia",
            "Greece",
            "Gibraltar",
            "United Kingdom",
            "France",
            "Finland",
            "Estonia",
            "Spain",
            "Denmark",
            "Germany",
            "Czechia",
            "Switzerland",
            "Belarus",
            "Bosnia and Herzegovina",
            "Bulgaria",
            "Belgium",
            "Moldova",
            "North Macedonia",
            "Malta",
            "Montenegro",
            "Sweden",
            "Slovenia",
            "Slovakia",
            "Serbia",
            "San Marino",
            "Russia",
            "Romania",
            "Portugal",
            "Poland",
            "Norway",
            "Netherlands",
            "Ukraine"
           ],
           "ids": [
            "Albania",
            "Andorra",
            "Austria",
            "Latvia",
            "Luxembourg",
            "Lithuania",
            "Italy",
            "Iceland",
            "Ireland",
            "Hungary",
            "Croatia",
            "Greece",
            "Gibraltar",
            "United Kingdom",
            "France",
            "Finland",
            "Estonia",
            "Spain",
            "Denmark",
            "Germany",
            "Czechia",
            "Switzerland",
            "Belarus",
            "Bosnia and Herzegovina",
            "Bulgaria",
            "Belgium",
            "Moldova",
            "North Macedonia",
            "Malta",
            "Montenegro",
            "Sweden",
            "Slovenia",
            "Slovakia",
            "Serbia",
            "San Marino",
            "Russia",
            "Romania",
            "Portugal",
            "Poland",
            "Norway",
            "Netherlands",
            "Ukraine"
           ],
           "legendgroup": "Europe",
           "marker": {
            "color": "#EF553B",
            "size": [
             0.000059,
             0.00000284,
             0.002337545,
             0.00016177,
             0.000626416,
             0.000720242,
             0.011562132,
             0.000323028,
             0.011422161,
             0.001762989,
             0.0005240280000000001,
             0.001196677,
             0.00034995699999999997,
             0.034073156,
             0.016192097,
             0.0013689879999999998,
             0.000302308,
             0.010606761000000001,
             0.002419794,
             0.039426654,
             0.0022821729999999998,
             0.013653198,
             0.00021397900000000002,
             0.000164355,
             0.000200027,
             0.01760936,
             0.00005520000000000001,
             0.00011039,
             0.0000661,
             0.0000215,
             0.003112878,
             0.00031073900000000003,
             0.00034648400000000004,
             0.000220432,
             7.31e-7,
             0.00433311,
             0.000588047,
             0.001437138,
             0.004655858,
             0.003170955,
             0.03119579,
             0.0017513720000000002
            ],
            "sizemode": "area",
            "sizeref": 0.0000526570905785124,
            "symbol": "circle"
           },
           "mode": "markers",
           "name": "Europe",
           "orientation": "v",
           "showlegend": true,
           "type": "scatter",
           "x": [
            54045459,
            3316322,
            4566395876,
            178791978,
            1873945663,
            501560581,
            15140511152,
            368819046,
            11799089540,
            1765567412,
            357471788,
            699399462,
            1458114596,
            54171600336,
            28971225414,
            1639579394,
            299780147,
            11733006943,
            2081087985,
            52514272662,
            2419072933,
            20429778926,
            237252255,
            172548511,
            291903248,
            25919637603,
            43495341,
            80065075,
            365871615,
            20770630,
            3755476735,
            479999188,
            586065732,
            225469066,
            1314055,
            8445815504,
            756452312,
            1028528953,
            3768613883,
            3999682724,
            37332483323,
            1081838735
           ],
           "xaxis": "x",
           "y": [
            77.85577878,
            39.52800723,
            -16.65501088,
            47.31333584,
            -45.57492796,
            133.8019919,
            24.33415253,
            42.60026772,
            57.61328914,
            62.57675241,
            138.6742075,
            178.5767226,
            -60.92345296,
            2.407970854,
            -9.002533144,
            35.94403804,
            64.18723419,
            47.18601029,
            89.31326476,
            22.23782987,
            53.60048783,
            8.80873715,
            46.84339797,
            55.08337421,
            11.56855267,
            10.61339129,
            106.78970190000001,
            124.48079140000002,
            -70.60215043,
            68.29968085,
            34.95534146,
            5.40189018,
            -3.743461322,
            59.1770833,
            -9.418403339,
            -16.46832915,
            26.56784345,
            127.49663999999999,
            101.1458704,
            29.07959866,
            36.05113496,
            163.57782780000002
           ],
           "yaxis": "y"
          },
          {
           "hovertemplate": "<b>%{hovertext}</b><br><br>Continent=Oceania<br>Year=2015<br>Trade Value=%{x}<br>Trade Value Growth=%{y}<br>currYearShare=%{marker.size}<extra></extra>",
           "hovertext": [
            "Marshall Islands",
            "Kiribati",
            "Micronesia",
            "Fiji",
            "Cook Islands",
            "Australia",
            "New Caledonia",
            "Norfolk Island",
            "Niue",
            "Nauru",
            "Samoa",
            "Wallis and Futuna",
            "Vanuatu",
            "Tuvalu",
            "Tonga",
            "Solomon Islands",
            "French Polynesia",
            "Papua New Guinea",
            "Palau",
            "New Zealand"
           ],
           "ids": [
            "Marshall Islands",
            "Kiribati",
            "Micronesia",
            "Fiji",
            "Cook Islands",
            "Australia",
            "New Caledonia",
            "Norfolk Island",
            "Niue",
            "Nauru",
            "Samoa",
            "Wallis and Futuna",
            "Vanuatu",
            "Tuvalu",
            "Tonga",
            "Solomon Islands",
            "French Polynesia",
            "Papua New Guinea",
            "Palau",
            "New Zealand"
           ],
           "legendgroup": "Oceania",
           "marker": {
            "color": "#00cc96",
            "size": [
             0.00012339,
             7.970000000000001e-7,
             0.0000259,
             0.000139135,
             0.00000208,
             0.01576229,
             0.0000348,
             0.00000254,
             5.4e-8,
             7.67e-7,
             0.0000252,
             1.51e-8,
             0.00000167,
             2.8300000000000003e-7,
             0.00000946,
             0.00000339,
             0.00006500000000000001,
             0.0000205,
             0.000014000000000000001,
             0.001974967
            ],
            "sizemode": "area",
            "sizeref": 0.0000526570905785124,
            "symbol": "circle"
           },
           "mode": "markers",
           "name": "Oceania",
           "orientation": "v",
           "showlegend": true,
           "type": "scatter",
           "x": [
            44347685,
            5509242,
            33852849,
            62927198,
            3585626,
            22748453442,
            105681453,
            309674,
            67227,
            1299861,
            36369286,
            330455,
            3627823,
            587828,
            11351932,
            4926053,
            145934324,
            177880242,
            51265999,
            3619598679
           ],
           "xaxis": "x",
           "y": [
            353.00331689999996,
            -76.4532943,
            24.75035114,
            259.9902891,
            -5.758074043,
            12.81334848,
            -46.45882187,
            1234.760425,
            30.67368766,
            -3.9603465289999997,
            12.61656333,
            -92.58083551,
            -25.04292519,
            -21.48502623,
            35.67571582,
            11.94556778,
            -27.46774707,
            -81.23834743,
            -55.55727491,
            -11.16326803
           ],
           "yaxis": "y"
          },
          {
           "hovertemplate": "<b>%{hovertext}</b><br><br>Continent=South America<br>Year=2015<br>Trade Value=%{x}<br>Trade Value Growth=%{y}<br>currYearShare=%{marker.size}<extra></extra>",
           "hovertext": [
            "Venezuela",
            "Uruguay",
            "Suriname",
            "Paraguay",
            "Peru",
            "Guyana",
            "Falkland Islands",
            "Ecuador",
            "Colombia",
            "Chile",
            "Brazil",
            "Argentina",
            "Bolivia"
           ],
           "ids": [
            "Venezuela",
            "Uruguay",
            "Suriname",
            "Paraguay",
            "Peru",
            "Guyana",
            "Falkland Islands",
            "Ecuador",
            "Colombia",
            "Chile",
            "Brazil",
            "Argentina",
            "Bolivia"
           ],
           "legendgroup": "South America",
           "marker": {
            "color": "#ab63fa",
            "size": [
             0.0009508489999999999,
             0.00068903,
             0.00019302,
             0.0009533969999999999,
             0.005960269,
             0.000559375,
             1.92e-7,
             0.003172098,
             0.008980617,
             0.009515223,
             0.024144547000000002,
             0.003937414,
             0.00032518
            ],
            "sizemode": "area",
            "sizeref": 0.0000526570905785124,
            "symbol": "circle"
           },
           "mode": "markers",
           "name": "South America",
           "orientation": "v",
           "showlegend": true,
           "type": "scatter",
           "x": [
            8095631468,
            1050974273,
            474579866,
            1274979879,
            7920072890,
            379479416,
            2141997,
            5215344447,
            15673700821,
            11885788473,
            26597912214,
            8249587091,
            929462993
           ],
           "xaxis": "x",
           "y": [
            -80.87708804,
            6.74289931,
            -33.78062672,
            21.74846792,
            22.52641949,
            139.9980066,
            -85.44325692,
            -0.972321378,
            -6.711589241,
            30.34189558,
            47.7966425,
            -22.29089313,
            -43.03813525
           ],
           "yaxis": "y"
          },
          {
           "hovertemplate": "<b>%{hovertext}</b><br><br>Continent=Asia<br>Year=2015<br>Trade Value=%{x}<br>Trade Value Growth=%{y}<br>currYearShare=%{marker.size}<extra></extra>",
           "hovertext": [
            "Chinese Taipei",
            "Kyrgyzstan",
            "Kazakhstan",
            "Japan",
            "Jordan",
            "Israel",
            "Iraq",
            "Iran",
            "British Indian Ocean Territory",
            "India",
            "Indonesia",
            "Hong Kong",
            "Georgia",
            "Cyprus",
            "Christmas Island",
            "China",
            "Cocos (Keeling) Islands",
            "Bhutan",
            "Brunei",
            "Bahrain",
            "Bangladesh",
            "Azerbaijan",
            "Armenia",
            "United Arab Emirates",
            "Cambodia",
            "Afghanistan",
            "South Korea",
            "Laos",
            "Vietnam",
            "Uzbekistan",
            "Turkey",
            "Timor-Leste",
            "Turkmenistan",
            "Tajikistan",
            "Thailand",
            "Syria",
            "Singapore",
            "Saudi Arabia",
            "Qatar",
            "Palestine",
            "Philippines",
            "Pakistan",
            "Oman",
            "Nepal",
            "Malaysia",
            "Mongolia",
            "Burma",
            "Maldives",
            "Macau",
            "Sri Lanka",
            "Lebanon",
            "Kuwait",
            "Yemen"
           ],
           "ids": [
            "Chinese Taipei",
            "Kyrgyzstan",
            "Kazakhstan",
            "Japan",
            "Jordan",
            "Israel",
            "Iraq",
            "Iran",
            "British Indian Ocean Territory",
            "India",
            "Indonesia",
            "Hong Kong",
            "Georgia",
            "Cyprus",
            "Christmas Island",
            "China",
            "Cocos (Keeling) Islands",
            "Bhutan",
            "Brunei",
            "Bahrain",
            "Bangladesh",
            "Azerbaijan",
            "Armenia",
            "United Arab Emirates",
            "Cambodia",
            "Afghanistan",
            "South Korea",
            "Laos",
            "Vietnam",
            "Uzbekistan",
            "Turkey",
            "Timor-Leste",
            "Turkmenistan",
            "Tajikistan",
            "Thailand",
            "Syria",
            "Singapore",
            "Saudi Arabia",
            "Qatar",
            "Palestine",
            "Philippines",
            "Pakistan",
            "Oman",
            "Nepal",
            "Malaysia",
            "Mongolia",
            "Burma",
            "Maldives",
            "Macau",
            "Sri Lanka",
            "Lebanon",
            "Kuwait",
            "Yemen"
           ],
           "legendgroup": "Asia",
           "marker": {
            "color": "#FFA15A",
            "size": [
             0.02148323,
             0.000042499999999999996,
             0.00040201099999999997,
             0.044079228,
             0.000802008,
             0.006472175,
             0.000471126,
             0.0000242,
             0.00000359,
             0.024041596000000002,
             0.005951746999999999,
             0.017375674,
             0.00043067,
             0.0000858,
             4.3600000000000004e-7,
             0.092552767,
             4.49e-7,
             0.00000358,
             0.000107889,
             0.000399251,
             0.0014149070000000002,
             0.000151755,
             0.0000565,
             0.009148063,
             0.00027100299999999997,
             0.00013733,
             0.040779813,
             0.0000446,
             0.0069184830000000004,
             0.000142905,
             0.007607086999999999,
             0.00000671,
             0.0000484,
             0.000019,
             0.007522255,
             6.96e-7,
             0.019979935,
             0.007128654,
             0.00134159,
             0.000059699999999999994,
             0.005013329,
             0.002155074,
             0.000623284,
             0.000152241,
             0.00911381,
             0.000117602,
             0.000118014,
             0.000030799999999999996,
             0.000225146,
             0.000310084,
             0.00050318,
             0.001749273,
             0.00016439599999999998
            ],
            "sizemode": "area",
            "sizeref": 0.0000526570905785124,
            "symbol": "circle"
           },
           "mode": "markers",
           "name": "Asia",
           "orientation": "v",
           "showlegend": true,
           "type": "scatter",
           "x": [
            23011017172,
            92404449,
            985038352,
            59885382951,
            1160369844,
            10426892335,
            1553462351,
            304528649,
            572656,
            20560312983,
            6064283768,
            34513432237,
            346745629,
            100801408,
            1483723,
            118274000000,
            513957,
            2420407,
            262356850,
            1079916975,
            1005718499,
            355058917,
            92372955,
            19421204175,
            437133409,
            389128858,
            41249347177,
            37742262,
            7014855087,
            81136998,
            9619241704,
            2569033,
            78713805,
            17895255,
            11794565031,
            3064304,
            26450357078,
            17807304125,
            2412103491,
            45324129,
            7029964189,
            1975882643,
            2149553616,
            61232837,
            11749021895,
            102817833,
            169058572,
            39986269,
            265653289,
            433075021,
            1330777788,
            2704252736,
            301155776
           ],
           "xaxis": "x",
           "y": [
            52.00463037,
            -25.07182095,
            -33.55265237,
            19.84121738,
            12.53186635,
            1.0621267429999999,
            -50.62244846,
            -87.07349764,
            919.8920469000001,
            90.38232771,
            59.79308686,
            -18.03157977,
            102.2211671,
            38.65804236,
            -52.17779869,
            27.40705439,
            42.37611318,
            140.736496,
            -33.04550386,
            -39.80666106,
            129.05746979999998,
            -30.41177445,
            -0.422587975,
            -23.30870791,
            0.93773981,
            -42.540193200000004,
            60.96120603,
            92.51760268,
            60.57769984,
            186.76193569999998,
            28.75692092,
            325.12093070000003,
            0.13692896699999998,
            72.47962099,
            3.838683248,
            -63.00262637,
            22.98597691,
            -34.82179154,
            -9.444066345,
            114.30266429999999,
            16.10908229,
            77.58001465,
            -52.7903451,
            304.7994657,
            26.29650136,
            86.22562391,
            13.65558145,
            25.3586825,
            37.98823624,
            16.57587751,
            -38.43825585,
            5.3182096880000005,
            -11.122387699999999
           ],
           "yaxis": "y"
          },
          {
           "hovertemplate": "<b>%{hovertext}</b><br><br>Continent=Africa<br>Year=2015<br>Trade Value=%{x}<br>Trade Value Growth=%{y}<br>currYearShare=%{marker.size}<extra></extra>",
           "hovertext": [
            "Zimbabwe",
            "Zambia",
            "Liberia",
            "Kenya",
            "Equatorial Guinea",
            "Guinea-Bissau",
            "Gambia",
            "Guinea",
            "Ghana",
            "Gabon",
            "Ethiopia",
            "Eritrea",
            "Egypt",
            "Algeria",
            "Djibouti",
            "Cape Verde",
            "Comoros",
            "Republic of the Congo",
            "Democratic Republic of the Congo",
            "Cameroon",
            "Cote d'Ivoire",
            "Central African Republic",
            "Botswana",
            "Burkina Faso",
            "Benin",
            "Libya",
            "Lesotho",
            "Morocco",
            "Madagascar",
            "South Africa",
            "Uganda",
            "Tanzania",
            "Tunisia",
            "Togo",
            "Chad",
            "Seychelles",
            "Eswatini",
            "Sao Tome and Principe",
            "South Sudan",
            "Somalia",
            "Sierra Leone",
            "Senegal",
            "Sudan",
            "Rwanda",
            "Nigeria",
            "Niger",
            "Namibia",
            "Malawi",
            "Mauritius",
            "Mauritania",
            "Mozambique",
            "Mali",
            "Saint Helena",
            "Burundi",
            "Angola"
           ],
           "ids": [
            "Zimbabwe",
            "Zambia",
            "Liberia",
            "Kenya",
            "Equatorial Guinea",
            "Guinea-Bissau",
            "Gambia",
            "Guinea",
            "Ghana",
            "Gabon",
            "Ethiopia",
            "Eritrea",
            "Egypt",
            "Algeria",
            "Djibouti",
            "Cape Verde",
            "Comoros",
            "Republic of the Congo",
            "Democratic Republic of the Congo",
            "Cameroon",
            "Cote d'Ivoire",
            "Central African Republic",
            "Botswana",
            "Burkina Faso",
            "Benin",
            "Libya",
            "Lesotho",
            "Morocco",
            "Madagascar",
            "South Africa",
            "Uganda",
            "Tanzania",
            "Tunisia",
            "Togo",
            "Chad",
            "Seychelles",
            "Eswatini",
            "Sao Tome and Principe",
            "South Sudan",
            "Somalia",
            "Sierra Leone",
            "Senegal",
            "Sudan",
            "Rwanda",
            "Nigeria",
            "Niger",
            "Namibia",
            "Malawi",
            "Mauritius",
            "Mauritania",
            "Mozambique",
            "Mali",
            "Saint Helena",
            "Burundi",
            "Angola"
           ],
           "legendgroup": "Africa",
           "marker": {
            "color": "#19d3f3",
            "size": [
             0.0000348,
             0.000100688,
             0.0000832,
             0.000413699,
             0.000028800000000000002,
             0.00000149,
             0.000034899999999999995,
             0.0000823,
             0.000582639,
             0.00005739999999999999,
             0.000490044,
             0.000011400000000000001,
             0.003420497,
             0.00046497300000000004,
             0.00010794799999999999,
             0.00000648,
             0.00000122,
             0.000068,
             0.000132825,
             0.0000913,
             0.00019154599999999999,
             0.00000983,
             0.000029100000000000003,
             0.000159708,
             0.000194533,
             0.000175267,
             0.00000173,
             0.001850488,
             0.000056999999999999996,
             0.0031964859999999997,
             0.00009120000000000001,
             0.000202118,
             0.00031624,
             0.00014165600000000001,
             0.000021600000000000003,
             0.0000126,
             0.0000244,
             0.00000268,
             0.0000354,
             0.0000307,
             0.000067,
             0.000230013,
             0.00008420000000000001,
             0.000052600000000000005,
             0.002716219,
             0.00011386700000000001,
             0.000043200000000000007,
             0.000011599999999999999,
             0.0000878,
             0.00008909999999999998,
             0.00016492900000000002,
             0.0000567,
             0.00000802,
             0.00000684,
             0.00029685
            ],
            "sizemode": "area",
            "sizeref": 0.0000526570905785124,
            "symbol": "circle"
           },
           "mode": "markers",
           "name": "Africa",
           "orientation": "v",
           "showlegend": true,
           "type": "scatter",
           "x": [
            69565707,
            136837381,
            125402745,
            1164539254,
            154397041,
            2060061,
            46710926,
            130323318,
            919732844,
            198931960,
            625963394,
            3328650,
            4805447919,
            2131379421,
            126785914,
            12929939,
            1476637,
            749639192,
            580623026,
            231481470,
            350808277,
            67090512,
            76326556,
            128230485,
            640748710,
            238992359,
            5745341,
            1986766561,
            108760536,
            5742787173,
            74942737,
            259770733,
            655231158,
            321084740,
            54077106,
            23391305,
            34975729,
            1624923,
            16311783,
            43661058,
            86973493,
            212428083,
            80570692,
            37316531,
            3469462846,
            126109025,
            103794943,
            53351302,
            92537322,
            882947506,
            220658893,
            69252780,
            3620546,
            10734619,
            1351842292
           ],
           "xaxis": "x",
           "y": [
            -18.45241794,
            19.80249242,
            8.060479856,
            -42.16067482,
            -69.65271698,
            17.67879689,
            21.532452600000003,
            2.823901399,
            3.1409474160000004,
            -52.98515583,
            27.46165313,
            459.0662881,
            15.89066041,
            -64.48108987,
            38.62323539,
            -18.38264666,
            34.37703376,
            -85.23484642,
            -62.75410218,
            -35.80894358,
            -11.10129736,
            -76.15503218,
            -37.92222723,
            102.7815944,
            -50.56899404,
            19.40145333,
            -50.8736209,
            51.64653453,
            -14.65495628,
            -9.376005915,
            98.13628638,
            26.67970183,
            -21.419397,
            -28.169822399999997,
            -34.85237542,
            -12.53357604,
            13.41260964,
            168.04014709999998,
            252.97821209999998,
            14.56478677,
            25.46703971,
            76.29218544,
            70.14047118,
            129.28486840000002,
            27.46637809,
            47.00873233,
            -32.1624224,
            -64.50827948,
            54.556433999999996,
            -83.5786959,
            21.69386076,
            33.36148527,
            260.5277215,
            3.7062051289999998,
            -64.24770805
           ],
           "yaxis": "y"
          },
          {
           "hovertemplate": "<b>%{hovertext}</b><br><br>Continent=Antarctica<br>Year=2015<br>Trade Value=%{x}<br>Trade Value Growth=%{y}<br>currYearShare=%{marker.size}<extra></extra>",
           "hovertext": [
            "French South Antarctic Territory"
           ],
           "ids": [
            "French South Antarctic Territory"
           ],
           "legendgroup": "Antarctica",
           "marker": {
            "color": "#FF6692",
            "size": [
             0.00000265
            ],
            "sizemode": "area",
            "sizeref": 0.0000526570905785124,
            "symbol": "circle"
           },
           "mode": "markers",
           "name": "Antarctica",
           "orientation": "v",
           "showlegend": true,
           "type": "scatter",
           "x": [
            7090405
           ],
           "xaxis": "x",
           "y": [
            -39.10400041
           ],
           "yaxis": "y"
          }
         ],
         "name": "2015"
        },
        {
         "data": [
          {
           "hovertemplate": "<b>%{hovertext}</b><br><br>Continent=North America<br>Year=2016<br>Trade Value=%{x}<br>Trade Value Growth=%{y}<br>currYearShare=%{marker.size}<extra></extra>",
           "hovertext": [
            "United States",
            "Aruba",
            "Anguilla",
            "Antigua and Barbuda",
            "Bahamas",
            "Belize",
            "Bermuda",
            "Barbados",
            "Canada",
            "Costa Rica",
            "Curaçao",
            "Cayman Islands",
            "Dominican Republic",
            "Grenada",
            "Greenland",
            "Guatemala",
            "Honduras",
            "Haiti",
            "Jamaica",
            "Saint Kitts and Nevis",
            "Saint Lucia",
            "Saint Martin",
            "Mexico",
            "Montserrat",
            "Dominica",
            "Nicaragua",
            "El Salvador",
            "Saint Pierre and Miquelon",
            "Turks and Caicos Islands",
            "Trinidad and Tobago",
            "Saint Vincent and the Grenadines",
            "British Virgin Islands",
            "Panama",
            "Cuba"
           ],
           "ids": [
            "United States",
            "Aruba",
            "Anguilla",
            "Antigua and Barbuda",
            "Bahamas",
            "Belize",
            "Bermuda",
            "Barbados",
            "Canada",
            "Costa Rica",
            "Curaçao",
            "Cayman Islands",
            "Dominican Republic",
            "Grenada",
            "Greenland",
            "Guatemala",
            "Honduras",
            "Haiti",
            "Jamaica",
            "Saint Kitts and Nevis",
            "Saint Lucia",
            "Saint Martin",
            "Mexico",
            "Montserrat",
            "Dominica",
            "Nicaragua",
            "El Salvador",
            "Saint Pierre and Miquelon",
            "Turks and Caicos Islands",
            "Trinidad and Tobago",
            "Saint Vincent and the Grenadines",
            "British Virgin Islands",
            "Panama",
            "Cuba"
           ],
           "legendgroup": "North America",
           "marker": {
            "color": "#636efa",
            "size": [
             0.158855155,
             0.00033858099999999996,
             0.000043200000000000007,
             0.00029637,
             0.0016006360000000001,
             0.00024754299999999997,
             0.000282466,
             0.00043147,
             0.159287699,
             0.004234267,
             0.00020553799999999998,
             0.000555002,
             0.006318868,
             0.000098,
             0.00000734,
             0.0050265629999999995,
             0.0035683409999999996,
             0.0006608460000000001,
             0.001262942,
             0.00008,
             0.000293666,
             0.00021209400000000002,
             0.151504227,
             0.0000044,
             0.000297816,
             0.001230479,
             0.002443899,
             2.27e-9,
             0.000134421,
             0.001467433,
             0.00009549999999999999,
             0.000145597,
             0.004133223,
             0.000189717
            ],
            "sizemode": "area",
            "sizeref": 0.0000526570905785124,
            "symbol": "circle"
           },
           "mode": "markers",
           "name": "North America",
           "orientation": "v",
           "showlegend": true,
           "type": "scatter",
           "x": [
            407786000000,
            759026490,
            36729482,
            230082874,
            1939934447,
            299096227,
            602722248,
            534725710,
            232270000000,
            5696825361,
            824240315,
            572852925,
            7556797592,
            107794194,
            6377574,
            6001683310,
            4151734615,
            702618926,
            1725428633,
            179922477,
            368076326,
            677028122,
            208988000000,
            20371009,
            45879307,
            1561688630,
            2884011930,
            36562,
            172549343,
            2505096906,
            127088111,
            161111339,
            5456921357,
            236035860
           ],
           "xaxis": "x",
           "y": [
            30.03225236,
            -27.37279341,
            91.27726876,
            109.7218574,
            34.33794977,
            34.75099972,
            -23.69698754,
            31.37508256,
            11.65594518,
            21.01476897,
            -59.39954041,
            57.74099067,
            36.14276037,
            48.07159373,
            87.34172273,
            36.36129939,
            39.93610687,
            53.13459902,
            19.17339191,
            -27.59954666,
            29.89999933,
            -48.99475461,
            18.03111135,
            -64.80665243,
            956.8754341,
            28.28409828,
            37.96826413,
            -89.88840873,
            26.83750468,
            -4.626711155,
            22.38736871,
            47.13623912,
            23.32019171,
            30.86413226
           ],
           "yaxis": "y"
          },
          {
           "hovertemplate": "<b>%{hovertext}</b><br><br>Continent=Europe<br>Year=2016<br>Trade Value=%{x}<br>Trade Value Growth=%{y}<br>currYearShare=%{marker.size}<extra></extra>",
           "hovertext": [
            "Malta",
            "Montenegro",
            "Netherlands",
            "Norway",
            "Poland",
            "Portugal",
            "Romania",
            "Russia",
            "San Marino",
            "Serbia",
            "Slovakia",
            "Slovenia",
            "Sweden",
            "Ukraine",
            "North Macedonia",
            "Moldova",
            "Latvia",
            "Luxembourg",
            "Albania",
            "Andorra",
            "Austria",
            "Belgium",
            "Bulgaria",
            "Bosnia and Herzegovina",
            "Belarus",
            "Switzerland",
            "Czechia",
            "Germany",
            "Denmark",
            "Spain",
            "Finland",
            "France",
            "United Kingdom",
            "Gibraltar",
            "Greece",
            "Croatia",
            "Hungary",
            "Ireland",
            "Iceland",
            "Italy",
            "Lithuania",
            "Estonia"
           ],
           "ids": [
            "Malta",
            "Montenegro",
            "Netherlands",
            "Norway",
            "Poland",
            "Portugal",
            "Romania",
            "Russia",
            "San Marino",
            "Serbia",
            "Slovakia",
            "Slovenia",
            "Sweden",
            "Ukraine",
            "North Macedonia",
            "Moldova",
            "Latvia",
            "Luxembourg",
            "Albania",
            "Andorra",
            "Austria",
            "Belgium",
            "Bulgaria",
            "Bosnia and Herzegovina",
            "Belarus",
            "Switzerland",
            "Czechia",
            "Germany",
            "Denmark",
            "Spain",
            "Finland",
            "France",
            "United Kingdom",
            "Gibraltar",
            "Greece",
            "Croatia",
            "Hungary",
            "Ireland",
            "Iceland",
            "Italy",
            "Lithuania",
            "Estonia"
           ],
           "legendgroup": "Europe",
           "marker": {
            "color": "#EF553B",
            "size": [
             0.0000661,
             0.0000215,
             0.03119579,
             0.003170955,
             0.004655858,
             0.001437138,
             0.000588047,
             0.00433311,
             7.31e-7,
             0.000220432,
             0.00034648400000000004,
             0.00031073900000000003,
             0.003112878,
             0.0017513720000000002,
             0.00011039,
             0.00005520000000000001,
             0.00016177,
             0.000626416,
             0.000059,
             0.00000284,
             0.002337545,
             0.01760936,
             0.000200027,
             0.000164355,
             0.00021397900000000002,
             0.013653198,
             0.0022821729999999998,
             0.039426654,
             0.002419794,
             0.010606761000000001,
             0.0013689879999999998,
             0.016192097,
             0.034073156,
             0.00034995699999999997,
             0.001196677,
             0.0005240280000000001,
             0.001762989,
             0.011422161,
             0.000323028,
             0.011562132,
             0.000720242,
             0.000302308
            ],
            "sizemode": "area",
            "sizeref": 0.0000526570905785124,
            "symbol": "circle"
           },
           "mode": "markers",
           "name": "Europe",
           "orientation": "v",
           "showlegend": true,
           "type": "scatter",
           "x": [
            319726470,
            30071587,
            35839357238,
            3585558828,
            4039922617,
            1001271949,
            707969912,
            8146193146,
            2338357,
            234587967,
            545818455,
            498801974,
            3555371028,
            1236173500,
            123667197,
            44736438,
            182526949,
            1692855468,
            79006741,
            2867259,
            4233192802,
            26590186624,
            249834969,
            138484293,
            279164363,
            23719446468,
            2383606196,
            50654964962,
            2193944520,
            12066111679,
            1680103724,
            28964730794,
            49327196256,
            1170496988,
            777193296,
            325845164,
            1843705115,
            14400167711,
            509068232,
            15106713569,
            413328325,
            314548813
           ],
           "xaxis": "x",
           "y": [
            -66.35924858,
            16.24562415,
            41.71924718,
            43.98799896,
            87.63753454,
            133.68963970000001,
            35.23532028,
            -13.39597919,
            -49.0970797,
            52.98955338,
            3.354253201,
            1.428671772,
            42.55098585,
            130.6704551,
            45.33418591,
            101.0528554,
            44.29892596,
            -39.75290293,
            21.6642666,
            61.380538,
            -10.09476005,
            7.823952375,
            30.35494203,
            93.23061641,
            24.79718731,
            -6.282026935,
            55.88597782,
            26.72461094,
            79.57498793,
            43.12269989,
            32.66504938,
            -8.982129226,
            12.46541643,
            -51.32146073,
            150.692345,
            161.83999369999998,
            55.68661912,
            29.14386475,
            3.313645193,
            24.61231983,
            183.7111705,
            56.47833076
           ],
           "yaxis": "y"
          },
          {
           "hovertemplate": "<b>%{hovertext}</b><br><br>Continent=Oceania<br>Year=2016<br>Trade Value=%{x}<br>Trade Value Growth=%{y}<br>currYearShare=%{marker.size}<extra></extra>",
           "hovertext": [
            "Nauru",
            "New Zealand",
            "Palau",
            "Papua New Guinea",
            "French Polynesia",
            "Solomon Islands",
            "Tonga",
            "Tuvalu",
            "Vanuatu",
            "Wallis and Futuna",
            "Samoa",
            "Niue",
            "Norfolk Island",
            "New Caledonia",
            "Marshall Islands",
            "Australia",
            "Cook Islands",
            "Fiji",
            "Micronesia",
            "Kiribati"
           ],
           "ids": [
            "Nauru",
            "New Zealand",
            "Palau",
            "Papua New Guinea",
            "French Polynesia",
            "Solomon Islands",
            "Tonga",
            "Tuvalu",
            "Vanuatu",
            "Wallis and Futuna",
            "Samoa",
            "Niue",
            "Norfolk Island",
            "New Caledonia",
            "Marshall Islands",
            "Australia",
            "Cook Islands",
            "Fiji",
            "Micronesia",
            "Kiribati"
           ],
           "legendgroup": "Oceania",
           "marker": {
            "color": "#00cc96",
            "size": [
             7.67e-7,
             0.001974967,
             0.000014000000000000001,
             0.0000205,
             0.00006500000000000001,
             0.00000339,
             0.00000946,
             2.8300000000000003e-7,
             0.00000167,
             1.51e-8,
             0.0000252,
             5.4e-8,
             0.00000254,
             0.0000348,
             0.00012339,
             0.01576229,
             0.00000208,
             0.000139135,
             0.0000259,
             7.970000000000001e-7
            ],
            "sizemode": "area",
            "sizeref": 0.0000526570905785124,
            "symbol": "circle"
           },
           "mode": "markers",
           "name": "Oceania",
           "orientation": "v",
           "showlegend": true,
           "type": "scatter",
           "x": [
            450681,
            3459099192,
            55985194,
            88069617,
            142801767,
            8867426,
            12333015,
            1080555,
            3872480,
            164563,
            38205984,
            72436,
            111396,
            51782446,
            244930874,
            20901685537,
            3762797,
            62553634,
            36197362,
            3986284
           ],
           "xaxis": "x",
           "y": [
            176.9990304,
            -7.041313402,
            -59.30351335,
            -62.10580432,
            -25.87665039,
            -37.81173928,
            24.88280441,
            -57.28741249,
            -29.778591499999997,
            -85.10175434,
            7.202683223999999,
            21.27671324,
            3610.551546,
            9.270803855,
            -17.97829293,
            22.78096907,
            -10.19544769,
            262.1401148,
            16.67023691,
            -67.45728603
           ],
           "yaxis": "y"
          },
          {
           "hovertemplate": "<b>%{hovertext}</b><br><br>Continent=South America<br>Year=2016<br>Trade Value=%{x}<br>Trade Value Growth=%{y}<br>currYearShare=%{marker.size}<extra></extra>",
           "hovertext": [
            "Uruguay",
            "Argentina",
            "Bolivia",
            "Brazil",
            "Chile",
            "Colombia",
            "Ecuador",
            "Falkland Islands",
            "Guyana",
            "Peru",
            "Paraguay",
            "Suriname",
            "Venezuela"
           ],
           "ids": [
            "Uruguay",
            "Argentina",
            "Bolivia",
            "Brazil",
            "Chile",
            "Colombia",
            "Ecuador",
            "Falkland Islands",
            "Guyana",
            "Peru",
            "Paraguay",
            "Suriname",
            "Venezuela"
           ],
           "legendgroup": "South America",
           "marker": {
            "color": "#ab63fa",
            "size": [
             0.00068903,
             0.003937414,
             0.00032518,
             0.024144547000000002,
             0.009515223,
             0.008980617,
             0.003172098,
             1.92e-7,
             0.000559375,
             0.005960269,
             0.0009533969999999999,
             0.00019302,
             0.0009508489999999999
            ],
            "sizemode": "area",
            "sizeref": 0.0000526570905785124,
            "symbol": "circle"
           },
           "mode": "markers",
           "name": "South America",
           "orientation": "v",
           "showlegend": true,
           "type": "scatter",
           "x": [
            756320490,
            7529790362,
            667128926,
            25593601037,
            10243833344,
            12127869375,
            4013904968,
            1374551,
            416647191,
            7214534739,
            1270079866,
            295902506,
            5041739551
           ],
           "xaxis": "x",
           "y": [
            48.32870785,
            -14.86243121,
            -20.63911002,
            53.59628827,
            51.23403007,
            20.56319169,
            28.66858033,
            -77.31586533,
            118.58854529999999,
            34.50876715,
            22.21817781,
            6.20518807,
            -69.29392202
           ],
           "yaxis": "y"
          },
          {
           "hovertemplate": "<b>%{hovertext}</b><br><br>Continent=Asia<br>Year=2016<br>Trade Value=%{x}<br>Trade Value Growth=%{y}<br>currYearShare=%{marker.size}<extra></extra>",
           "hovertext": [
            "Yemen",
            "Chinese Taipei",
            "Vietnam",
            "Uzbekistan",
            "Kuwait",
            "Laos",
            "Lebanon",
            "Sri Lanka",
            "Macau",
            "Maldives",
            "Burma",
            "Mongolia",
            "Malaysia",
            "Oman",
            "Pakistan",
            "Philippines",
            "Palestine",
            "Qatar",
            "Saudi Arabia",
            "Singapore",
            "Syria",
            "Thailand",
            "Tajikistan",
            "Turkmenistan",
            "Timor-Leste",
            "Turkey",
            "South Korea",
            "Cambodia",
            "Nepal",
            "Kazakhstan",
            "Kyrgyzstan",
            "United Arab Emirates",
            "Armenia",
            "Azerbaijan",
            "Bangladesh",
            "Bahrain",
            "Brunei",
            "Bhutan",
            "Cocos (Keeling) Islands",
            "China",
            "Christmas Island",
            "Afghanistan",
            "Georgia",
            "Cyprus",
            "Jordan",
            "Israel",
            "Iraq",
            "Iran",
            "Japan",
            "India",
            "Indonesia",
            "Hong Kong",
            "British Indian Ocean Territory"
           ],
           "ids": [
            "Yemen",
            "Chinese Taipei",
            "Vietnam",
            "Uzbekistan",
            "Kuwait",
            "Laos",
            "Lebanon",
            "Sri Lanka",
            "Macau",
            "Maldives",
            "Burma",
            "Mongolia",
            "Malaysia",
            "Oman",
            "Pakistan",
            "Philippines",
            "Palestine",
            "Qatar",
            "Saudi Arabia",
            "Singapore",
            "Syria",
            "Thailand",
            "Tajikistan",
            "Turkmenistan",
            "Timor-Leste",
            "Turkey",
            "South Korea",
            "Cambodia",
            "Nepal",
            "Kazakhstan",
            "Kyrgyzstan",
            "United Arab Emirates",
            "Armenia",
            "Azerbaijan",
            "Bangladesh",
            "Bahrain",
            "Brunei",
            "Bhutan",
            "Cocos (Keeling) Islands",
            "China",
            "Christmas Island",
            "Afghanistan",
            "Georgia",
            "Cyprus",
            "Jordan",
            "Israel",
            "Iraq",
            "Iran",
            "Japan",
            "India",
            "Indonesia",
            "Hong Kong",
            "British Indian Ocean Territory"
           ],
           "legendgroup": "Asia",
           "marker": {
            "color": "#FFA15A",
            "size": [
             0.00016439599999999998,
             0.02148323,
             0.0069184830000000004,
             0.000142905,
             0.001749273,
             0.0000446,
             0.00050318,
             0.000310084,
             0.000225146,
             0.000030799999999999996,
             0.000118014,
             0.000117602,
             0.00911381,
             0.000623284,
             0.002155074,
             0.005013329,
             0.000059699999999999994,
             0.00134159,
             0.007128654,
             0.019979935,
             6.96e-7,
             0.007522255,
             0.000019,
             0.0000484,
             0.00000671,
             0.007607086999999999,
             0.040779813,
             0.00027100299999999997,
             0.000152241,
             0.00040201099999999997,
             0.000042499999999999996,
             0.009148063,
             0.0000565,
             0.000151755,
             0.0014149070000000002,
             0.000399251,
             0.000107889,
             0.00000358,
             4.49e-7,
             0.092552767,
             4.3600000000000004e-7,
             0.00013733,
             0.00043067,
             0.0000858,
             0.000802008,
             0.006472175,
             0.000471126,
             0.0000242,
             0.044079228,
             0.024041596000000002,
             0.005951746999999999,
             0.017375674,
             0.00000359
            ],
            "sizemode": "area",
            "sizeref": 0.0000526570905785124,
            "symbol": "circle"
           },
           "mode": "markers",
           "name": "Asia",
           "orientation": "v",
           "showlegend": true,
           "type": "scatter",
           "x": [
            169032377,
            25216996142,
            8623897865,
            42142132,
            2891967647,
            38961351,
            1245497436,
            494284559,
            336695552,
            40777036,
            223159084,
            121578017,
            11681231414,
            1797750931,
            2179152546,
            7382595649,
            51263515,
            3773749496,
            14646085900,
            24216722358,
            3490887,
            10536917010,
            32288713,
            43508171,
            1462039,
            9597102230,
            40266133145,
            382188561,
            67476923,
            1332623206,
            133822528,
            18683849839,
            68847590,
            314219518,
            881334017,
            1134792440,
            190416474,
            1873951,
            722308,
            114384000000,
            1092844,
            865846359,
            270281277,
            166236498,
            1162354654,
            8065316016,
            1184895797,
            243089489,
            61409340690,
            20570879157,
            6181396267,
            32278811851,
            4922003
           ],
           "xaxis": "x",
           "y": [
            58.34839914,
            38.70728852,
            30.61718868,
            452.10786680000007,
            -1.517896649,
            86.49378457,
            -34.22306676,
            2.139748614,
            8.872922681,
            22.92766939,
            -13.89796931,
            57.48994409,
            27.02944639,
            -43.55186659,
            61.01546876,
            10.563104,
            89.47357785,
            -42.1184994,
            -20.75369568,
            34.32961557,
            -67.52366949,
            16.23249012,
            -4.407252157,
            81.1650207,
            647.0044917,
            29.05394917,
            64.89153914,
            15.44892444,
            267.34069359999995,
            -50.88395166,
            -48.26209605,
            -20.28210166,
            33.60322126,
            -21.36732894,
            161.38482150000002,
            -42.71744664,
            -7.749732305,
            210.93678540000002,
            1.307475481,
            31.73986533,
            -35.07316689,
            -74.1764012,
            159.43086619999997,
            -15.92143682,
            12.33970953,
            30.6537664,
            -35.26336451,
            -83.80641501,
            16.86719179,
            90.28453836,
            56.76565311,
            -12.35701208,
            18.66049249
           ],
           "yaxis": "y"
          },
          {
           "hovertemplate": "<b>%{hovertext}</b><br><br>Continent=Africa<br>Year=2016<br>Trade Value=%{x}<br>Trade Value Growth=%{y}<br>currYearShare=%{marker.size}<extra></extra>",
           "hovertext": [
            "Angola",
            "Mali",
            "Mozambique",
            "Mauritania",
            "Mauritius",
            "Malawi",
            "Namibia",
            "Niger",
            "Nigeria",
            "Rwanda",
            "Sudan",
            "Senegal",
            "Saint Helena",
            "Sierra Leone",
            "Somalia",
            "South Sudan",
            "Sao Tome and Principe",
            "Eswatini",
            "Seychelles",
            "Chad",
            "Togo",
            "Tunisia",
            "Tanzania",
            "Uganda",
            "Morocco",
            "Lesotho",
            "Libya",
            "Liberia",
            "Burundi",
            "Benin",
            "Burkina Faso",
            "Botswana",
            "Central African Republic",
            "Cote d'Ivoire",
            "Cameroon",
            "Democratic Republic of the Congo",
            "Republic of the Congo",
            "Comoros",
            "South Africa",
            "Cape Verde",
            "Algeria",
            "Egypt",
            "Eritrea",
            "Ethiopia",
            "Gabon",
            "Ghana",
            "Guinea",
            "Gambia",
            "Guinea-Bissau",
            "Equatorial Guinea",
            "Kenya",
            "Djibouti",
            "Zambia",
            "Madagascar",
            "Zimbabwe"
           ],
           "ids": [
            "Angola",
            "Mali",
            "Mozambique",
            "Mauritania",
            "Mauritius",
            "Malawi",
            "Namibia",
            "Niger",
            "Nigeria",
            "Rwanda",
            "Sudan",
            "Senegal",
            "Saint Helena",
            "Sierra Leone",
            "Somalia",
            "South Sudan",
            "Sao Tome and Principe",
            "Eswatini",
            "Seychelles",
            "Chad",
            "Togo",
            "Tunisia",
            "Tanzania",
            "Uganda",
            "Morocco",
            "Lesotho",
            "Libya",
            "Liberia",
            "Burundi",
            "Benin",
            "Burkina Faso",
            "Botswana",
            "Central African Republic",
            "Cote d'Ivoire",
            "Cameroon",
            "Democratic Republic of the Congo",
            "Republic of the Congo",
            "Comoros",
            "South Africa",
            "Cape Verde",
            "Algeria",
            "Egypt",
            "Eritrea",
            "Ethiopia",
            "Gabon",
            "Ghana",
            "Guinea",
            "Gambia",
            "Guinea-Bissau",
            "Equatorial Guinea",
            "Kenya",
            "Djibouti",
            "Zambia",
            "Madagascar",
            "Zimbabwe"
           ],
           "legendgroup": "Africa",
           "marker": {
            "color": "#19d3f3",
            "size": [
             0.00029685,
             0.0000567,
             0.00016492900000000002,
             0.00008909999999999998,
             0.0000878,
             0.000011599999999999999,
             0.000043200000000000007,
             0.00011386700000000001,
             0.002716219,
             0.000052600000000000005,
             0.00008420000000000001,
             0.000230013,
             0.00000802,
             0.000067,
             0.0000307,
             0.0000354,
             0.00000268,
             0.0000244,
             0.0000126,
             0.000021600000000000003,
             0.00014165600000000001,
             0.00031624,
             0.000202118,
             0.00009120000000000001,
             0.001850488,
             0.00000173,
             0.000175267,
             0.0000832,
             0.00000684,
             0.000194533,
             0.000159708,
             0.000029100000000000003,
             0.00000983,
             0.00019154599999999999,
             0.0000913,
             0.000132825,
             0.000068,
             0.00000122,
             0.0031964859999999997,
             0.00000648,
             0.00046497300000000004,
             0.003420497,
             0.000011400000000000001,
             0.000490044,
             0.00005739999999999999,
             0.000582639,
             0.0000823,
             0.000034899999999999995,
             0.00000149,
             0.000028800000000000002,
             0.000413699,
             0.00010794799999999999,
             0.000100688,
             0.000056999999999999996,
             0.0000348
            ],
            "sizemode": "area",
            "sizeref": 0.0000526570905785124,
            "symbol": "circle"
           },
           "mode": "markers",
           "name": "Africa",
           "orientation": "v",
           "showlegend": true,
           "type": "scatter",
           "x": [
            1047747648,
            111512771,
            188403201,
            256635486,
            90696086,
            48311306,
            150028495,
            132073782,
            2207944424,
            49910936,
            73146111,
            194370925,
            729010,
            86649169,
            35522483,
            8582316,
            3082466,
            26901900,
            17942237,
            27247622,
            235592668,
            624063811,
            203131906,
            68593914,
            2221793909,
            6393700,
            183623044,
            145570998,
            12554692,
            240939214,
            160673344,
            45400159,
            40549193,
            315002642,
            202658439,
            419382224,
            951650489,
            1634934,
            4676157209,
            14113330,
            2360975371,
            3423994440,
            2936878,
            1227118573,
            74861419,
            819177986,
            93573020,
            39047532,
            3402416,
            273751262,
            446129244,
            115462838,
            109259216,
            96436084,
            63510144
           ],
           "xaxis": "x",
           "y": [
            -53.87108681,
            -17.17851223,
            42.52853698,
            -43.5029437,
            57.69410931,
            -60.80566524,
            -53.06759893,
            40.36947848,
            100.2948345,
            71.4276787,
            87.41031222,
            92.66981932,
            1690.520295,
            25.93665728,
            40.81278609,
            570.8799816000001,
            41.2974547,
            47.45013178,
            14.030028699999999,
            29.29550329,
            -2.104025156,
            -17.49488018,
            62.00152722,
            116.4751176,
            35.60495538,
            -55.85532634,
            55.40552198,
            -6.910847723,
            -11.32824286,
            31.45578411,
            61.83631679,
            4.36489,
            -60.5473998,
            -0.996383707,
            -26.67939133,
            -48.43409028,
            -88.36911458,
            21.36642825,
            11.29529816,
            -25.22619396,
            -67.93516992,
            62.64820012,
            533.6442985,
            -34.98075023,
            24.93424817,
            15.80159443,
            43.20743308,
            45.38417947,
            -28.74901247,
            -82.88398502,
            50.97903916,
            52.21757844,
            50.04189029,
            -3.74793008,
            -10.67702193
           ],
           "yaxis": "y"
          },
          {
           "hovertemplate": "<b>%{hovertext}</b><br><br>Continent=Antarctica<br>Year=2016<br>Trade Value=%{x}<br>Trade Value Growth=%{y}<br>currYearShare=%{marker.size}<extra></extra>",
           "hovertext": [
            "French South Antarctic Territory"
           ],
           "ids": [
            "French South Antarctic Territory"
           ],
           "legendgroup": "Antarctica",
           "marker": {
            "color": "#FF6692",
            "size": [
             0.00000265
            ],
            "sizemode": "area",
            "sizeref": 0.0000526570905785124,
            "symbol": "circle"
           },
           "mode": "markers",
           "name": "Antarctica",
           "orientation": "v",
           "showlegend": true,
           "type": "scatter",
           "x": [
            4855579
           ],
           "xaxis": "x",
           "y": [
            -11.07604263
           ],
           "yaxis": "y"
          }
         ],
         "name": "2016"
        },
        {
         "data": [
          {
           "hovertemplate": "<b>%{hovertext}</b><br><br>Continent=North America<br>Year=2017<br>Trade Value=%{x}<br>Trade Value Growth=%{y}<br>currYearShare=%{marker.size}<extra></extra>",
           "hovertext": [
            "United States",
            "British Virgin Islands",
            "Saint Vincent and the Grenadines",
            "Trinidad and Tobago",
            "Turks and Caicos Islands",
            "Saint Pierre and Miquelon",
            "El Salvador",
            "Panama",
            "Nicaragua",
            "Montserrat",
            "Mexico",
            "Saint Martin",
            "Saint Lucia",
            "Saint Kitts and Nevis",
            "Jamaica",
            "Haiti",
            "Honduras",
            "Guatemala",
            "Greenland",
            "Grenada",
            "Dominica",
            "Cayman Islands",
            "Curaçao",
            "Cuba",
            "Costa Rica",
            "Canada",
            "Barbados",
            "Bermuda",
            "Belize",
            "Bahamas",
            "Antigua and Barbuda",
            "Anguilla",
            "Dominican Republic",
            "Aruba"
           ],
           "ids": [
            "United States",
            "British Virgin Islands",
            "Saint Vincent and the Grenadines",
            "Trinidad and Tobago",
            "Turks and Caicos Islands",
            "Saint Pierre and Miquelon",
            "El Salvador",
            "Panama",
            "Nicaragua",
            "Montserrat",
            "Mexico",
            "Saint Martin",
            "Saint Lucia",
            "Saint Kitts and Nevis",
            "Jamaica",
            "Haiti",
            "Honduras",
            "Guatemala",
            "Greenland",
            "Grenada",
            "Dominica",
            "Cayman Islands",
            "Curaçao",
            "Cuba",
            "Costa Rica",
            "Canada",
            "Barbados",
            "Bermuda",
            "Belize",
            "Bahamas",
            "Antigua and Barbuda",
            "Anguilla",
            "Dominican Republic",
            "Aruba"
           ],
           "legendgroup": "North America",
           "marker": {
            "color": "#636efa",
            "size": [
             0.158855155,
             0.000145597,
             0.00009549999999999999,
             0.001467433,
             0.000134421,
             2.27e-9,
             0.002443899,
             0.004133223,
             0.001230479,
             0.0000044,
             0.151504227,
             0.00021209400000000002,
             0.000293666,
             0.00008,
             0.001262942,
             0.0006608460000000001,
             0.0035683409999999996,
             0.0050265629999999995,
             0.00000734,
             0.000098,
             0.000297816,
             0.000555002,
             0.00020553799999999998,
             0.000189717,
             0.004234267,
             0.159287699,
             0.00043147,
             0.000282466,
             0.00024754299999999997,
             0.0016006360000000001,
             0.00029637,
             0.000043200000000000007,
             0.006318868,
             0.00033858099999999996
            ],
            "sizemode": "area",
            "sizeref": 0.0000526570905785124,
            "symbol": "circle"
           },
           "mode": "markers",
           "name": "North America",
           "orientation": "v",
           "showlegend": true,
           "type": "scatter",
           "x": [
            459498000000,
            259838950,
            115492087,
            1762093002,
            206108071,
            354994,
            3085885495,
            5867716446,
            1530151195,
            18913665,
            226460000000,
            516831335,
            413331732,
            193658170,
            2213551366,
            931158884,
            4799269897,
            6918146266,
            9570885,
            136389880,
            131284418,
            657277476,
            651951868,
            282252726,
            5909885802,
            246715000000,
            559039202,
            558941407,
            319610735,
            2859823550,
            404977951,
            48815830,
            7850281858,
            968651102
           ],
           "xaxis": "x",
           "y": [
            15.39840774,
            -8.769195303,
            34.67571592,
            35.5883773,
            6.185691777000001,
            -98.95857395,
            28.9426067,
            14.68662368,
            30.92811897,
            -62.09491920000001,
            8.924544398,
            -33.18519377,
            15.67733808,
            -32.734731,
            -7.106206858999999,
            15.54984799,
            21.05540869,
            18.29720032,
            24.83544625,
            17.02670389,
            269.3409564,
            37.47981819,
            -48.67023588,
            9.436066173,
            16.65200107,
            5.118539715,
            25.6613741,
            -17.72031447,
            26.10188328,
            -8.873113412999999,
            19.15070334,
            43.91878618,
            31.05303762,
            -43.08995924
           ],
           "yaxis": "y"
          },
          {
           "hovertemplate": "<b>%{hovertext}</b><br><br>Continent=Europe<br>Year=2017<br>Trade Value=%{x}<br>Trade Value Growth=%{y}<br>currYearShare=%{marker.size}<extra></extra>",
           "hovertext": [
            "Albania",
            "Austria",
            "Andorra",
            "Latvia",
            "Luxembourg",
            "Lithuania",
            "Italy",
            "Iceland",
            "Ireland",
            "Hungary",
            "Croatia",
            "Greece",
            "Gibraltar",
            "United Kingdom",
            "France",
            "Finland",
            "Estonia",
            "Spain",
            "Denmark",
            "Germany",
            "Czechia",
            "Switzerland",
            "Belarus",
            "Bosnia and Herzegovina",
            "Bulgaria",
            "Belgium",
            "Moldova",
            "North Macedonia",
            "Malta",
            "Montenegro",
            "Sweden",
            "Slovenia",
            "Slovakia",
            "Serbia",
            "San Marino",
            "Russia",
            "Romania",
            "Portugal",
            "Poland",
            "Norway",
            "Netherlands",
            "Ukraine"
           ],
           "ids": [
            "Albania",
            "Austria",
            "Andorra",
            "Latvia",
            "Luxembourg",
            "Lithuania",
            "Italy",
            "Iceland",
            "Ireland",
            "Hungary",
            "Croatia",
            "Greece",
            "Gibraltar",
            "United Kingdom",
            "France",
            "Finland",
            "Estonia",
            "Spain",
            "Denmark",
            "Germany",
            "Czechia",
            "Switzerland",
            "Belarus",
            "Bosnia and Herzegovina",
            "Bulgaria",
            "Belgium",
            "Moldova",
            "North Macedonia",
            "Malta",
            "Montenegro",
            "Sweden",
            "Slovenia",
            "Slovakia",
            "Serbia",
            "San Marino",
            "Russia",
            "Romania",
            "Portugal",
            "Poland",
            "Norway",
            "Netherlands",
            "Ukraine"
           ],
           "legendgroup": "Europe",
           "marker": {
            "color": "#EF553B",
            "size": [
             0.000059,
             0.002337545,
             0.00000284,
             0.00016177,
             0.000626416,
             0.000720242,
             0.011562132,
             0.000323028,
             0.011422161,
             0.001762989,
             0.0005240280000000001,
             0.001196677,
             0.00034995699999999997,
             0.034073156,
             0.016192097,
             0.0013689879999999998,
             0.000302308,
             0.010606761000000001,
             0.002419794,
             0.039426654,
             0.0022821729999999998,
             0.013653198,
             0.00021397900000000002,
             0.000164355,
             0.000200027,
             0.01760936,
             0.00005520000000000001,
             0.00011039,
             0.0000661,
             0.0000215,
             0.003112878,
             0.00031073900000000003,
             0.00034648400000000004,
             0.000220432,
             7.31e-7,
             0.00433311,
             0.000588047,
             0.001437138,
             0.004655858,
             0.003170955,
             0.03119579,
             0.0017513720000000002
            ],
            "sizemode": "area",
            "sizeref": 0.0000526570905785124,
            "symbol": "circle"
           },
           "mode": "markers",
           "name": "Europe",
           "orientation": "v",
           "showlegend": true,
           "type": "scatter",
           "x": [
            61450361,
            4827787956,
            3269252,
            258028839,
            1271216157,
            578864178,
            16628638642,
            362384244,
            16961029173,
            1955943234,
            468981200,
            859972108,
            846124275,
            47444538151,
            30396727380,
            1651427602,
            279509478,
            13576656174,
            2170435877,
            53249190712,
            2912063630,
            20988219805,
            250380881,
            284573900,
            344300150,
            26340705102,
            58989127,
            160888825,
            243235369,
            22297377,
            3644173891,
            652351972,
            681376801,
            212407611,
            2016652,
            8998623655,
            1241570080,
            1132167503,
            4897368802,
            4641073016,
            39552537660,
            1926004172
           ],
           "xaxis": "x",
           "y": [
            56.42377105,
            -21.167578600000002,
            41.53690202,
            2.075577296,
            -19.77003507,
            102.579236,
            13.20726028,
            45.13239902,
            9.645074738,
            46.75283567,
            81.92476735,
            126.56131299999998,
            -32.65991145,
            16.92818361,
            -13.27000136,
            34.96870419,
            76.09446933,
            27.19880791,
            81.52001857,
            20.55076596,
            27.59706854,
            5.91362516,
            39.1437204,
            -5.966761885,
            -5.410372607,
            8.845188658,
            52.47536381,
            11.7111235,
            -55.78012053,
            56.77585754,
            39.07723952,
            -22.44551428,
            -17.20783755,
            68.96526509,
            -40.97682694,
            -21.59989041,
            -22.88591732,
            106.67161029999998,
            54.78538584,
            11.24096497,
            28.41468658,
            48.0519658
           ],
           "yaxis": "y"
          },
          {
           "hovertemplate": "<b>%{hovertext}</b><br><br>Continent=Oceania<br>Year=2017<br>Trade Value=%{x}<br>Trade Value Growth=%{y}<br>currYearShare=%{marker.size}<extra></extra>",
           "hovertext": [
            "Marshall Islands",
            "Kiribati",
            "Micronesia",
            "Fiji",
            "Cook Islands",
            "Australia",
            "New Caledonia",
            "Norfolk Island",
            "Niue",
            "Nauru",
            "Samoa",
            "Wallis and Futuna",
            "Vanuatu",
            "Tuvalu",
            "Tonga",
            "Solomon Islands",
            "French Polynesia",
            "Papua New Guinea",
            "Palau",
            "New Zealand"
           ],
           "ids": [
            "Marshall Islands",
            "Kiribati",
            "Micronesia",
            "Fiji",
            "Cook Islands",
            "Australia",
            "New Caledonia",
            "Norfolk Island",
            "Niue",
            "Nauru",
            "Samoa",
            "Wallis and Futuna",
            "Vanuatu",
            "Tuvalu",
            "Tonga",
            "Solomon Islands",
            "French Polynesia",
            "Papua New Guinea",
            "Palau",
            "New Zealand"
           ],
           "legendgroup": "Oceania",
           "marker": {
            "color": "#00cc96",
            "size": [
             0.00012339,
             7.970000000000001e-7,
             0.0000259,
             0.000139135,
             0.00000208,
             0.01576229,
             0.0000348,
             0.00000254,
             5.4e-8,
             7.67e-7,
             0.0000252,
             1.51e-8,
             0.00000167,
             2.8300000000000003e-7,
             0.00000946,
             0.00000339,
             0.00006500000000000001,
             0.0000205,
             0.000014000000000000001,
             0.001974967
            ],
            "sizemode": "area",
            "sizeref": 0.0000526570905785124,
            "symbol": "circle"
           },
           "mode": "markers",
           "name": "Oceania",
           "orientation": "v",
           "showlegend": true,
           "type": "scatter",
           "x": [
            491886451,
            4129067,
            36144176,
            63958224,
            4282259,
            22788978937,
            45871819,
            125924,
            79898,
            192308,
            48028737,
            137027,
            4682040,
            713910,
            13318903,
            9900635,
            160406702,
            84177096,
            50677955,
            3642197930
           ],
           "xaxis": "x",
           "y": [
            -59.15795534,
            -68.582612,
            16.84191666,
            254.1871363,
            -21.08924285,
            12.61273322,
            23.35044965,
            3182.460849,
            9.950186488,
            549.1576012999999,
            -14.72222141,
            -82.10790574,
            -41.92040222,
            -35.35137482,
            15.63876544,
            -44.30157258,
            -34.01182639,
            -60.35349925,
            -55.04158169,
            -11.71448563
           ],
           "yaxis": "y"
          },
          {
           "hovertemplate": "<b>%{hovertext}</b><br><br>Continent=South America<br>Year=2017<br>Trade Value=%{x}<br>Trade Value Growth=%{y}<br>currYearShare=%{marker.size}<extra></extra>",
           "hovertext": [
            "Venezuela",
            "Uruguay",
            "Suriname",
            "Paraguay",
            "Peru",
            "Guyana",
            "Falkland Islands",
            "Ecuador",
            "Colombia",
            "Chile",
            "Brazil",
            "Argentina",
            "Bolivia"
           ],
           "ids": [
            "Venezuela",
            "Uruguay",
            "Suriname",
            "Paraguay",
            "Peru",
            "Guyana",
            "Falkland Islands",
            "Ecuador",
            "Colombia",
            "Chile",
            "Brazil",
            "Argentina",
            "Bolivia"
           ],
           "legendgroup": "South America",
           "marker": {
            "color": "#ab63fa",
            "size": [
             0.0009508489999999999,
             0.00068903,
             0.00019302,
             0.0009533969999999999,
             0.005960269,
             0.000559375,
             1.92e-7,
             0.003172098,
             0.008980617,
             0.009515223,
             0.024144547000000002,
             0.003937414,
             0.00032518
            ],
            "sizemode": "area",
            "sizeref": 0.0000526570905785124,
            "symbol": "circle"
           },
           "mode": "markers",
           "name": "South America",
           "orientation": "v",
           "showlegend": true,
           "type": "scatter",
           "x": [
            3967611414,
            1114486849,
            377432692,
            1803169816,
            8163372128,
            420277583,
            437315,
            4348859098,
            12588861420,
            11636373403,
            29669853614,
            8403533161,
            652826804
           ],
           "xaxis": "x",
           "y": [
            -60.98104586,
            0.659815861,
            -16.73646198,
            -13.91446023,
            18.87467067,
            116.7003597,
            -28.70013606,
            18.75837827,
            16.14828311,
            33.13565544,
            32.49415295,
            -23.7144624,
            -18.90047257
           ],
           "yaxis": "y"
          },
          {
           "hovertemplate": "<b>%{hovertext}</b><br><br>Continent=Asia<br>Year=2017<br>Trade Value=%{x}<br>Trade Value Growth=%{y}<br>currYearShare=%{marker.size}<extra></extra>",
           "hovertext": [
            "Indonesia",
            "Kazakhstan",
            "Japan",
            "Jordan",
            "Israel",
            "Iraq",
            "Iran",
            "Kyrgyzstan",
            "British Indian Ocean Territory",
            "India",
            "Hong Kong",
            "Bhutan",
            "Cyprus",
            "Christmas Island",
            "China",
            "Cocos (Keeling) Islands",
            "Brunei",
            "Bahrain",
            "Bangladesh",
            "Azerbaijan",
            "Armenia",
            "United Arab Emirates",
            "Cambodia",
            "Georgia",
            "South Korea",
            "Chinese Taipei",
            "Laos",
            "Afghanistan",
            "Vietnam",
            "Uzbekistan",
            "Turkey",
            "Timor-Leste",
            "Turkmenistan",
            "Tajikistan",
            "Thailand",
            "Syria",
            "Singapore",
            "Saudi Arabia",
            "Kuwait",
            "Qatar",
            "Philippines",
            "Pakistan",
            "Oman",
            "Nepal",
            "Malaysia",
            "Mongolia",
            "Burma",
            "Maldives",
            "Macau",
            "Sri Lanka",
            "Lebanon",
            "Palestine",
            "Yemen"
           ],
           "ids": [
            "Indonesia",
            "Kazakhstan",
            "Japan",
            "Jordan",
            "Israel",
            "Iraq",
            "Iran",
            "Kyrgyzstan",
            "British Indian Ocean Territory",
            "India",
            "Hong Kong",
            "Bhutan",
            "Cyprus",
            "Christmas Island",
            "China",
            "Cocos (Keeling) Islands",
            "Brunei",
            "Bahrain",
            "Bangladesh",
            "Azerbaijan",
            "Armenia",
            "United Arab Emirates",
            "Cambodia",
            "Georgia",
            "South Korea",
            "Chinese Taipei",
            "Laos",
            "Afghanistan",
            "Vietnam",
            "Uzbekistan",
            "Turkey",
            "Timor-Leste",
            "Turkmenistan",
            "Tajikistan",
            "Thailand",
            "Syria",
            "Singapore",
            "Saudi Arabia",
            "Kuwait",
            "Qatar",
            "Philippines",
            "Pakistan",
            "Oman",
            "Nepal",
            "Malaysia",
            "Mongolia",
            "Burma",
            "Maldives",
            "Macau",
            "Sri Lanka",
            "Lebanon",
            "Palestine",
            "Yemen"
           ],
           "legendgroup": "Asia",
           "marker": {
            "color": "#FFA15A",
            "size": [
             0.005951746999999999,
             0.00040201099999999997,
             0.044079228,
             0.000802008,
             0.006472175,
             0.000471126,
             0.0000242,
             0.000042499999999999996,
             0.00000359,
             0.024041596000000002,
             0.017375674,
             0.00000358,
             0.0000858,
             4.3600000000000004e-7,
             0.092552767,
             4.49e-7,
             0.000107889,
             0.000399251,
             0.0014149070000000002,
             0.000151755,
             0.0000565,
             0.009148063,
             0.00027100299999999997,
             0.00043067,
             0.040779813,
             0.02148323,
             0.0000446,
             0.00013733,
             0.0069184830000000004,
             0.000142905,
             0.007607086999999999,
             0.00000671,
             0.0000484,
             0.000019,
             0.007522255,
             6.96e-7,
             0.019979935,
             0.007128654,
             0.001749273,
             0.00134159,
             0.005013329,
             0.002155074,
             0.000623284,
             0.000152241,
             0.00911381,
             0.000117602,
             0.000118014,
             0.000030799999999999996,
             0.000225146,
             0.000310084,
             0.00050318,
             0.000059699999999999994,
             0.00016439599999999998
            ],
            "sizemode": "area",
            "sizeref": 0.0000526570905785124,
            "symbol": "circle"
           },
           "mode": "markers",
           "name": "Asia",
           "orientation": "v",
           "showlegend": true,
           "type": "scatter",
           "x": [
            7073958150,
            826607845,
            64955914326,
            1554802057,
            7874544157,
            1038649054,
            186595864,
            121266540,
            35813360,
            24531425638,
            36907089366,
            34826842,
            98202719,
            453330,
            127411000000,
            362557,
            213148853,
            879882997,
            1422506350,
            227072670,
            104926811,
            19535296923,
            419716473,
            401676089,
            47214021095,
            26214337130,
            43145792,
            885123938,
            10690125393,
            153286330,
            10535999658,
            8997409,
            134735371,
            25600994,
            12100669503,
            6780911,
            28330612826,
            13639999142,
            3664066345,
            4292662567,
            8973737721,
            2789498062,
            1301728046,
            62341576,
            11928611672,
            157262740,
            579491525,
            40493256,
            287905529,
            743404301,
            1454270191,
            50087877,
            195222774
           ],
           "xaxis": "x",
           "y": [
            36.98563129,
            -20.81712484,
            10.48627782,
            -16.01594324,
            33.81903685,
            -26.14813733,
            -78.90365726,
            -42.90513195,
            -83.69191553,
            59.56350446,
            -23.34774793,
            -83.26921804,
            42.32728016,
            56.51931264,
            18.27028716,
            101.8308845,
            -17.58824665,
            -26.12221316,
            61.94467933,
            8.810628774,
            -12.33642086,
            -23.75661102,
            5.126343945,
            74.56679081,
            40.62654516,
            33.43008226,
            68.40691672,
            -74.73882691,
            5.371008589,
            51.78785088,
            17.5535292,
            21.38491203,
            -41.49896466,
            20.56433434,
            1.211928976,
            -83.28083056,
            14.82360176,
            -14.90848582,
            -22.27022388,
            -49.11543121,
            -9.040946384,
            25.7850914,
            -22.042330800000002,
            297.6001457,
            24.39505958,
            21.75366587,
            -66.84256892,
            23.7891564,
            27.32311508,
            -32.08796272,
            -43.66590046,
            93.92080842,
            37.10493787
           ],
           "yaxis": "y"
          },
          {
           "hovertemplate": "<b>%{hovertext}</b><br><br>Continent=Africa<br>Year=2017<br>Trade Value=%{x}<br>Trade Value Growth=%{y}<br>currYearShare=%{marker.size}<extra></extra>",
           "hovertext": [
            "Benin",
            "Zambia",
            "Liberia",
            "Kenya",
            "Equatorial Guinea",
            "Guinea-Bissau",
            "Gambia",
            "Guinea",
            "Ghana",
            "Gabon",
            "Ethiopia",
            "Eritrea",
            "Egypt",
            "Algeria",
            "Djibouti",
            "Cape Verde",
            "Comoros",
            "Republic of the Congo",
            "Democratic Republic of the Congo",
            "Cameroon",
            "Cote d'Ivoire",
            "Central African Republic",
            "Botswana",
            "Burkina Faso",
            "Libya",
            "Lesotho",
            "Morocco",
            "Madagascar",
            "South Africa",
            "Uganda",
            "Tanzania",
            "Tunisia",
            "Togo",
            "Chad",
            "Seychelles",
            "Eswatini",
            "Sao Tome and Principe",
            "South Sudan",
            "Somalia",
            "Zimbabwe",
            "Sierra Leone",
            "Senegal",
            "Sudan",
            "Rwanda",
            "Nigeria",
            "Niger",
            "Namibia",
            "Malawi",
            "Mauritius",
            "Mauritania",
            "Mozambique",
            "Mali",
            "Saint Helena",
            "Burundi",
            "Angola"
           ],
           "ids": [
            "Benin",
            "Zambia",
            "Liberia",
            "Kenya",
            "Equatorial Guinea",
            "Guinea-Bissau",
            "Gambia",
            "Guinea",
            "Ghana",
            "Gabon",
            "Ethiopia",
            "Eritrea",
            "Egypt",
            "Algeria",
            "Djibouti",
            "Cape Verde",
            "Comoros",
            "Republic of the Congo",
            "Democratic Republic of the Congo",
            "Cameroon",
            "Cote d'Ivoire",
            "Central African Republic",
            "Botswana",
            "Burkina Faso",
            "Libya",
            "Lesotho",
            "Morocco",
            "Madagascar",
            "South Africa",
            "Uganda",
            "Tanzania",
            "Tunisia",
            "Togo",
            "Chad",
            "Seychelles",
            "Eswatini",
            "Sao Tome and Principe",
            "South Sudan",
            "Somalia",
            "Zimbabwe",
            "Sierra Leone",
            "Senegal",
            "Sudan",
            "Rwanda",
            "Nigeria",
            "Niger",
            "Namibia",
            "Malawi",
            "Mauritius",
            "Mauritania",
            "Mozambique",
            "Mali",
            "Saint Helena",
            "Burundi",
            "Angola"
           ],
           "legendgroup": "Africa",
           "marker": {
            "color": "#19d3f3",
            "size": [
             0.000194533,
             0.000100688,
             0.0000832,
             0.000413699,
             0.000028800000000000002,
             0.00000149,
             0.000034899999999999995,
             0.0000823,
             0.000582639,
             0.00005739999999999999,
             0.000490044,
             0.000011400000000000001,
             0.003420497,
             0.00046497300000000004,
             0.00010794799999999999,
             0.00000648,
             0.00000122,
             0.000068,
             0.000132825,
             0.0000913,
             0.00019154599999999999,
             0.00000983,
             0.000029100000000000003,
             0.000159708,
             0.000175267,
             0.00000173,
             0.001850488,
             0.000056999999999999996,
             0.0031964859999999997,
             0.00009120000000000001,
             0.000202118,
             0.00031624,
             0.00014165600000000001,
             0.000021600000000000003,
             0.0000126,
             0.0000244,
             0.00000268,
             0.0000354,
             0.0000307,
             0.0000348,
             0.000067,
             0.000230013,
             0.00008420000000000001,
             0.000052600000000000005,
             0.002716219,
             0.00011386700000000001,
             0.000043200000000000007,
             0.000011599999999999999,
             0.0000878,
             0.00008909999999999998,
             0.00016492900000000002,
             0.0000567,
             0.00000802,
             0.00000684,
             0.00029685
            ],
            "sizemode": "area",
            "sizeref": 0.0000526570905785124,
            "symbol": "circle"
           },
           "mode": "markers",
           "name": "Africa",
           "orientation": "v",
           "showlegend": true,
           "type": "scatter",
           "x": [
            266656819,
            112231158,
            129528994,
            441686420,
            109217073,
            3673175,
            40210901,
            89806036,
            894319833,
            86834300,
            1074989361,
            4686598,
            3621892938,
            1282886612,
            127594787,
            13022169,
            1530290,
            129574379,
            1411651745,
            186671904,
            380968157,
            19385467,
            75838309,
            166359490,
            127156400,
            8027872,
            2618952673,
            89399080,
            5233750966,
            113927304,
            178866994,
            613349266,
            458272757,
            26079088,
            20867227,
            28456472,
            4316665,
            11387079,
            66651144,
            50072866,
            83961724,
            229534414,
            111497733,
            46369586,
            2557233311,
            209676860,
            114026079,
            53583748,
            122317554,
            145306752,
            193289302,
            105716837,
            563387,
            23610084,
            886949153
           ],
           "xaxis": "x",
           "y": [
            18.77758618,
            46.06869957,
            4.618127428999999,
            52.49770323,
            -57.09891713,
            -34.00110259,
            41.17797062,
            49.2143802,
            6.0718027260000005,
            7.708072732000001,
            -25.77942453,
            297.07608799999997,
            53.76118025,
            -40.98911518,
            37.74444876,
            -18.96070463,
            29.66568428,
            -14.57772836,
            -84.68048088,
            -20.40023281,
            -18.1390882,
            -17.47575129,
            -37.52257055,
            56.30477227,
            124.41682050000001,
            -64.84151715,
            15.04074396,
            3.828503604,
            -0.561888752,
            30.33640821,
            83.97848739,
            -16.05360542,
            -49.67282356,
            35.08888808,
            -1.953728687,
            39.39495732,
            0.8984018909999999,
            405.63485160000005,
            -24.95222888,
            13.29319955,
            29.96763501,
            63.15379619,
            22.94721275,
            84.51999766,
            72.93684585,
            -11.58238491,
            -38.24923595,
            -64.66224236,
            16.92711334,
            -0.216959636,
            38.92560179,
            -12.63781757,
            2216.892651,
            -52.8486811,
            -45.50819499
           ],
           "yaxis": "y"
          },
          {
           "hovertemplate": "<b>%{hovertext}</b><br><br>Continent=Antarctica<br>Year=2017<br>Trade Value=%{x}<br>Trade Value Growth=%{y}<br>currYearShare=%{marker.size}<extra></extra>",
           "hovertext": [
            "French South Antarctic Territory"
           ],
           "ids": [
            "French South Antarctic Territory"
           ],
           "legendgroup": "Antarctica",
           "marker": {
            "color": "#FF6692",
            "size": [
             0.00000265
            ],
            "sizemode": "area",
            "sizeref": 0.0000526570905785124,
            "symbol": "circle"
           },
           "mode": "markers",
           "name": "Antarctica",
           "orientation": "v",
           "showlegend": true,
           "type": "scatter",
           "x": [
            2831658
           ],
           "xaxis": "x",
           "y": [
            52.48215003
           ],
           "yaxis": "y"
          }
         ],
         "name": "2017"
        },
        {
         "data": [
          {
           "hovertemplate": "<b>%{hovertext}</b><br><br>Continent=North America<br>Year=2018<br>Trade Value=%{x}<br>Trade Value Growth=%{y}<br>currYearShare=%{marker.size}<extra></extra>",
           "hovertext": [
            "Aruba",
            "Anguilla",
            "Antigua and Barbuda",
            "Bahamas",
            "Belize",
            "Bermuda",
            "Barbados",
            "Canada",
            "Costa Rica",
            "Cuba",
            "Curaçao",
            "Cayman Islands",
            "Dominica",
            "Dominican Republic",
            "Grenada",
            "Greenland",
            "Guatemala",
            "Honduras",
            "Haiti",
            "Jamaica",
            "Saint Kitts and Nevis",
            "Saint Lucia",
            "Saint Martin",
            "Mexico",
            "Montserrat",
            "Panama",
            "El Salvador",
            "Saint Pierre and Miquelon",
            "Turks and Caicos Islands",
            "Trinidad and Tobago",
            "Saint Vincent and the Grenadines",
            "British Virgin Islands",
            "Nicaragua",
            "United States"
           ],
           "ids": [
            "Aruba",
            "Anguilla",
            "Antigua and Barbuda",
            "Bahamas",
            "Belize",
            "Bermuda",
            "Barbados",
            "Canada",
            "Costa Rica",
            "Cuba",
            "Curaçao",
            "Cayman Islands",
            "Dominica",
            "Dominican Republic",
            "Grenada",
            "Greenland",
            "Guatemala",
            "Honduras",
            "Haiti",
            "Jamaica",
            "Saint Kitts and Nevis",
            "Saint Lucia",
            "Saint Martin",
            "Mexico",
            "Montserrat",
            "Panama",
            "El Salvador",
            "Saint Pierre and Miquelon",
            "Turks and Caicos Islands",
            "Trinidad and Tobago",
            "Saint Vincent and the Grenadines",
            "British Virgin Islands",
            "Nicaragua",
            "United States"
           ],
           "legendgroup": "North America",
           "marker": {
            "color": "#636efa",
            "size": [
             0.00033858099999999996,
             0.000043200000000000007,
             0.00029637,
             0.0016006360000000001,
             0.00024754299999999997,
             0.000282466,
             0.00043147,
             0.159287699,
             0.004234267,
             0.000189717,
             0.00020553799999999998,
             0.000555002,
             0.000297816,
             0.006318868,
             0.000098,
             0.00000734,
             0.0050265629999999995,
             0.0035683409999999996,
             0.0006608460000000001,
             0.001262942,
             0.00008,
             0.000293666,
             0.00021209400000000002,
             0.151504227,
             0.0000044,
             0.004133223,
             0.002443899,
             2.27e-9,
             0.000134421,
             0.001467433,
             0.00009549999999999999,
             0.000145597,
             0.001230479,
             0.158855155
            ],
            "sizemode": "area",
            "sizeref": 0.0000526570905785124,
            "symbol": "circle"
           },
           "mode": "markers",
           "name": "North America",
           "orientation": "v",
           "showlegend": true,
           "type": "scatter",
           "x": [
            632945332,
            99078162,
            478484216,
            2747588575,
            380027799,
            522439875,
            595749206,
            259537000000,
            6245079249,
            254238718,
            647128969,
            627400045,
            129585136,
            8766756439,
            157001272,
            9314401,
            6876469227,
            4942741904,
            966772311,
            2507445281,
            181049357,
            459400170,
            631861005,
            246985000000,
            22998770,
            5994777326,
            3289726147,
            112317,
            203001642,
            1944725141,
            118920697,
            385749736,
            1647942880,
            504085000000
           ],
           "xaxis": "x",
           "y": [
            -12.90563195,
            -29.091185600000003,
            0.846393855,
            -5.150713367,
            6.05412474,
            -11.9716442,
            17.91813332,
            -0.074406532,
            10.39091378,
            21.49458683,
            -48.287687299999995,
            44.02674756,
            274.1842159,
            17.35278502,
            1.663240665,
            28.27295067,
            19.01417831,
            17.54155691,
            11.293286199999999,
            -17.99414956,
            -28.050178600000002,
            4.077267755,
            -45.34876306,
            -0.12735971199999999,
            -68.82772427,
            12.25581057,
            20.95296141,
            -96.70842348,
            7.810596428999999,
            22.85506356,
            30.79287199,
            -38.54742003,
            21.56963699,
            5.191476648
           ],
           "yaxis": "y"
          },
          {
           "hovertemplate": "<b>%{hovertext}</b><br><br>Continent=Europe<br>Year=2018<br>Trade Value=%{x}<br>Trade Value Growth=%{y}<br>currYearShare=%{marker.size}<extra></extra>",
           "hovertext": [
            "Malta",
            "Montenegro",
            "Netherlands",
            "Norway",
            "Poland",
            "Portugal",
            "Romania",
            "Russia",
            "San Marino",
            "Serbia",
            "Slovakia",
            "Slovenia",
            "Sweden",
            "Ukraine",
            "North Macedonia",
            "Moldova",
            "Luxembourg",
            "Andorra",
            "Austria",
            "Belgium",
            "Bulgaria",
            "Bosnia and Herzegovina",
            "Belarus",
            "Switzerland",
            "Czechia",
            "Germany",
            "Denmark",
            "Spain",
            "Estonia",
            "Finland",
            "France",
            "United Kingdom",
            "Gibraltar",
            "Greece",
            "Croatia",
            "Hungary",
            "Ireland",
            "Iceland",
            "Italy",
            "Lithuania",
            "Latvia",
            "Albania"
           ],
           "ids": [
            "Malta",
            "Montenegro",
            "Netherlands",
            "Norway",
            "Poland",
            "Portugal",
            "Romania",
            "Russia",
            "San Marino",
            "Serbia",
            "Slovakia",
            "Slovenia",
            "Sweden",
            "Ukraine",
            "North Macedonia",
            "Moldova",
            "Luxembourg",
            "Andorra",
            "Austria",
            "Belgium",
            "Bulgaria",
            "Bosnia and Herzegovina",
            "Belarus",
            "Switzerland",
            "Czechia",
            "Germany",
            "Denmark",
            "Spain",
            "Estonia",
            "Finland",
            "France",
            "United Kingdom",
            "Gibraltar",
            "Greece",
            "Croatia",
            "Hungary",
            "Ireland",
            "Iceland",
            "Italy",
            "Lithuania",
            "Latvia",
            "Albania"
           ],
           "legendgroup": "Europe",
           "marker": {
            "color": "#EF553B",
            "size": [
             0.0000661,
             0.0000215,
             0.03119579,
             0.003170955,
             0.004655858,
             0.001437138,
             0.000588047,
             0.00433311,
             7.31e-7,
             0.000220432,
             0.00034648400000000004,
             0.00031073900000000003,
             0.003112878,
             0.0017513720000000002,
             0.00011039,
             0.00005520000000000001,
             0.000626416,
             0.00000284,
             0.002337545,
             0.01760936,
             0.000200027,
             0.000164355,
             0.00021397900000000002,
             0.013653198,
             0.0022821729999999998,
             0.039426654,
             0.002419794,
             0.010606761000000001,
             0.000302308,
             0.0013689879999999998,
             0.016192097,
             0.034073156,
             0.00034995699999999997,
             0.001196677,
             0.0005240280000000001,
             0.001762989,
             0.011422161,
             0.000323028,
             0.011562132,
             0.000720242,
             0.00016177,
             0.000059
            ],
            "sizemode": "area",
            "sizeref": 0.0000526570905785124,
            "symbol": "circle"
           },
           "mode": "markers",
           "name": "Europe",
           "orientation": "v",
           "showlegend": true,
           "type": "scatter",
           "x": [
            250869950,
            70784257,
            44768351883,
            5592961727,
            5051661775,
            1649166168,
            1119859670,
            8608686189,
            1539844,
            337833264,
            541201551,
            756010285,
            4484832066,
            2467738750,
            204973629,
            61251982,
            950733137,
            3017682,
            4569624826,
            25883265642,
            364981637,
            255814233,
            311318935,
            21208323110,
            3575418923,
            54010165134,
            2534193440,
            13586982274,
            370458727,
            1939960984,
            26896697142,
            51250132925,
            990254975,
            839244918,
            415687357,
            1835181528,
            19135708319,
            559023763,
            19101415597,
            671365344,
            384647398,
            60021918
           ],
           "xaxis": "x",
           "y": [
            -57.12583871,
            -50.61486059,
            13.45351154,
            -7.691583457999999,
            50.05777373,
            41.88193133,
            -14.50487917,
            -18.04869347,
            -22.70048135,
            6.234382828999999,
            4.235951828999999,
            -33.0791886,
            13.00794269,
            15.55060429,
            -12.31520129,
            46.84240912,
            7.2747164589999995,
            53.33616995,
            -16.71390342,
            10.76882863,
            -10.77024267,
            4.604833696,
            11.9075115,
            4.814436939,
            3.9237053339999997,
            18.85226996,
            55.46467546,
            27.10213687,
            32.86250158,
            14.89460115,
            -1.983945818,
            8.245644483,
            -42.46119935,
            132.15679440000002,
            105.2487146,
            56.40971295,
            -2.8155487999999997,
            -5.918677915,
            -1.448004555,
            74.66773337,
            -31.52574842,
            60.14645183
           ],
           "yaxis": "y"
          },
          {
           "hovertemplate": "<b>%{hovertext}</b><br><br>Continent=Oceania<br>Year=2018<br>Trade Value=%{x}<br>Trade Value Growth=%{y}<br>currYearShare=%{marker.size}<extra></extra>",
           "hovertext": [
            "Niue",
            "Nauru",
            "New Zealand",
            "Palau",
            "Papua New Guinea",
            "French Polynesia",
            "Solomon Islands",
            "Tonga",
            "Tuvalu",
            "Vanuatu",
            "Wallis and Futuna",
            "Samoa",
            "Norfolk Island",
            "New Caledonia",
            "Marshall Islands",
            "Kiribati",
            "Australia",
            "Cook Islands",
            "Fiji",
            "Micronesia"
           ],
           "ids": [
            "Niue",
            "Nauru",
            "New Zealand",
            "Palau",
            "Papua New Guinea",
            "French Polynesia",
            "Solomon Islands",
            "Tonga",
            "Tuvalu",
            "Vanuatu",
            "Wallis and Futuna",
            "Samoa",
            "Norfolk Island",
            "New Caledonia",
            "Marshall Islands",
            "Kiribati",
            "Australia",
            "Cook Islands",
            "Fiji",
            "Micronesia"
           ],
           "legendgroup": "Oceania",
           "marker": {
            "color": "#00cc96",
            "size": [
             5.4e-8,
             7.67e-7,
             0.001974967,
             0.000014000000000000001,
             0.0000205,
             0.00006500000000000001,
             0.00000339,
             0.00000946,
             2.8300000000000003e-7,
             0.00000167,
             1.51e-8,
             0.0000252,
             0.00000254,
             0.0000348,
             0.00012339,
             7.970000000000001e-7,
             0.01576229,
             0.00000208,
             0.000139135,
             0.0000259
            ],
            "sizemode": "area",
            "sizeref": 0.0000526570905785124,
            "symbol": "circle"
           },
           "mode": "markers",
           "name": "Oceania",
           "orientation": "v",
           "showlegend": true,
           "type": "scatter",
           "x": [
            1193223,
            760618,
            3659655597,
            46229234,
            73558068,
            605152698,
            11844410,
            19021106,
            1213006,
            6033390,
            1021123,
            41039586,
            179163,
            50369696,
            258003479,
            3392001,
            23192824758,
            4428794,
            60185716,
            37715119
           ],
           "xaxis": "x",
           "y": [
            -92.63775506,
            64.12732804,
            -12.135634300000001,
            -50.71515353,
            -54.63003052,
            -82.50863735,
            -53.44218918,
            -19.02776316,
            -61.95130115,
            -54.92898685,
            -97.59901599,
            -0.199188169,
            2207.0645170000003,
            12.33558964,
            -22.13419572,
            -61.7557601,
            10.65186032,
            -23.70015404,
            276.38798219999995,
            11.97511534
           ],
           "yaxis": "y"
          },
          {
           "hovertemplate": "<b>%{hovertext}</b><br><br>Continent=South America<br>Year=2018<br>Trade Value=%{x}<br>Trade Value Growth=%{y}<br>currYearShare=%{marker.size}<extra></extra>",
           "hovertext": [
            "Venezuela",
            "Uruguay",
            "Argentina",
            "Bolivia",
            "Brazil",
            "Chile",
            "Colombia",
            "Ecuador",
            "Falkland Islands",
            "Guyana",
            "Peru",
            "Paraguay",
            "Suriname"
           ],
           "ids": [
            "Venezuela",
            "Uruguay",
            "Argentina",
            "Bolivia",
            "Brazil",
            "Chile",
            "Colombia",
            "Ecuador",
            "Falkland Islands",
            "Guyana",
            "Peru",
            "Paraguay",
            "Suriname"
           ],
           "legendgroup": "South America",
           "marker": {
            "color": "#ab63fa",
            "size": [
             0.0009508489999999999,
             0.00068903,
             0.003937414,
             0.00032518,
             0.024144547000000002,
             0.009515223,
             0.008980617,
             0.003172098,
             1.92e-7,
             0.000559375,
             0.005960269,
             0.0009533969999999999,
             0.00019302
            ],
            "sizemode": "area",
            "sizeref": 0.0000526570905785124,
            "symbol": "circle"
           },
           "mode": "markers",
           "name": "South America",
           "orientation": "v",
           "showlegend": true,
           "type": "scatter",
           "x": [
            5973515152,
            945723000,
            8123832049,
            547178345,
            33349578603,
            13871087972,
            13610524527,
            5421977991,
            199770,
            551303596,
            9115482885,
            1597295611,
            370917648
           ],
           "xaxis": "x",
           "y": [
            -74.08359335,
            18.62251526,
            -21.08797412,
            -3.2418848739999997,
            17.87501634,
            11.68671146,
            7.429705402000001,
            -4.746302059,
            56.08199429,
            65.19809423,
            6.458229975,
            -2.818961105,
            -15.27396588
           ],
           "yaxis": "y"
          },
          {
           "hovertemplate": "<b>%{hovertext}</b><br><br>Continent=Asia<br>Year=2018<br>Trade Value=%{x}<br>Trade Value Growth=%{y}<br>currYearShare=%{marker.size}<extra></extra>",
           "hovertext": [
            "Yemen",
            "Vietnam",
            "Laos",
            "Lebanon",
            "Sri Lanka",
            "Macau",
            "Maldives",
            "Burma",
            "Mongolia",
            "Malaysia",
            "Nepal",
            "Oman",
            "Pakistan",
            "Philippines",
            "Palestine",
            "Qatar",
            "Saudi Arabia",
            "Singapore",
            "Syria",
            "Thailand",
            "Tajikistan",
            "Turkmenistan",
            "Timor-Leste",
            "Turkey",
            "Uzbekistan",
            "Kuwait",
            "South Korea",
            "Cambodia",
            "Kyrgyzstan",
            "Afghanistan",
            "United Arab Emirates",
            "Armenia",
            "Azerbaijan",
            "Bangladesh",
            "Bahrain",
            "Brunei",
            "Bhutan",
            "Cocos (Keeling) Islands",
            "China",
            "Chinese Taipei",
            "Christmas Island",
            "Georgia",
            "Hong Kong",
            "Indonesia",
            "India",
            "British Indian Ocean Territory",
            "Iran",
            "Iraq",
            "Israel",
            "Jordan",
            "Japan",
            "Kazakhstan",
            "Cyprus"
           ],
           "ids": [
            "Yemen",
            "Vietnam",
            "Laos",
            "Lebanon",
            "Sri Lanka",
            "Macau",
            "Maldives",
            "Burma",
            "Mongolia",
            "Malaysia",
            "Nepal",
            "Oman",
            "Pakistan",
            "Philippines",
            "Palestine",
            "Qatar",
            "Saudi Arabia",
            "Singapore",
            "Syria",
            "Thailand",
            "Tajikistan",
            "Turkmenistan",
            "Timor-Leste",
            "Turkey",
            "Uzbekistan",
            "Kuwait",
            "South Korea",
            "Cambodia",
            "Kyrgyzstan",
            "Afghanistan",
            "United Arab Emirates",
            "Armenia",
            "Azerbaijan",
            "Bangladesh",
            "Bahrain",
            "Brunei",
            "Bhutan",
            "Cocos (Keeling) Islands",
            "China",
            "Chinese Taipei",
            "Christmas Island",
            "Georgia",
            "Hong Kong",
            "Indonesia",
            "India",
            "British Indian Ocean Territory",
            "Iran",
            "Iraq",
            "Israel",
            "Jordan",
            "Japan",
            "Kazakhstan",
            "Cyprus"
           ],
           "legendgroup": "Asia",
           "marker": {
            "color": "#FFA15A",
            "size": [
             0.00016439599999999998,
             0.0069184830000000004,
             0.0000446,
             0.00050318,
             0.000310084,
             0.000225146,
             0.000030799999999999996,
             0.000118014,
             0.000117602,
             0.00911381,
             0.000152241,
             0.000623284,
             0.002155074,
             0.005013329,
             0.000059699999999999994,
             0.00134159,
             0.007128654,
             0.019979935,
             6.96e-7,
             0.007522255,
             0.000019,
             0.0000484,
             0.00000671,
             0.007607086999999999,
             0.000142905,
             0.001749273,
             0.040779813,
             0.00027100299999999997,
             0.000042499999999999996,
             0.00013733,
             0.009148063,
             0.0000565,
             0.000151755,
             0.0014149070000000002,
             0.000399251,
             0.000107889,
             0.00000358,
             4.49e-7,
             0.092552767,
             0.02148323,
             4.3600000000000004e-7,
             0.00043067,
             0.017375674,
             0.005951746999999999,
             0.024041596000000002,
             0.00000359,
             0.0000242,
             0.000471126,
             0.006472175,
             0.000802008,
             0.044079228,
             0.00040201099999999997,
             0.0000858
            ],
            "sizemode": "area",
            "sizeref": 0.0000526570905785124,
            "symbol": "circle"
           },
           "mode": "markers",
           "name": "Asia",
           "orientation": "v",
           "showlegend": true,
           "type": "scatter",
           "x": [
            239938078,
            9951492851,
            22801811,
            1427702099,
            358566573,
            312400715,
            44872666,
            322713071,
            175805143,
            12551609397,
            76190950,
            1354682445,
            2808355421,
            9064713642,
            55112062,
            5122140723,
            13111780277,
            30103698682,
            5275415,
            12815028552,
            35330650,
            28443507,
            1393660,
            10882587116,
            309857432,
            2974664638,
            55490028967,
            495269149,
            93614771,
            1150636091,
            17086623072,
            104683798,
            449131266,
            1750293532,
            1031058610,
            242785884,
            3334181,
            339713,
            118583000000,
            31267130289,
            736259,
            568673615,
            34516263223,
            8418638443,
            31773045219,
            8935901,
            448692391,
            1261532999,
            9025039334,
            1591831197,
            73228175922,
            990275636,
            114187595
           ],
           "xaxis": "x",
           "y": [
            11.55380806,
            13.19199154,
            218.6610835,
            -42.61757985,
            40.79979675,
            17.33977241,
            11.70778219,
            -40.45964658,
            8.912144282,
            18.22072475,
            225.32761040000003,
            -25.08968816,
            24.940478,
            -9.953836079,
            76.24239137,
            -57.35566524,
            -11.48050411,
            8.060575518,
            -78.50952009999999,
            -4.430013766,
            -12.63770126,
            177.1162747,
            683.6557697000001,
            13.80969711,
            -24.91061954,
            -4.255742627,
            19.65293212,
            -10.91054553,
            -26.04054867,
            -80.56790572,
            -12.83021602,
            -12.1329186,
            -44.98730801,
            31.61640061,
            -36.95430321,
            -27.64830306,
            74.75964862,
            115.4030019,
            27.07499992,
            11.86767469,
            -3.6277994560000004,
            23.30325155,
            -18.03830273,
            15.10538544,
            23.19625699,
            -34.64035692,
            -91.22675049,
            -39.19606751,
            16.76003569,
            -17.9695784,
            -1.994865965,
            -33.90407335,
            22.40319012
           ],
           "yaxis": "y"
          },
          {
           "hovertemplate": "<b>%{hovertext}</b><br><br>Continent=Africa<br>Year=2018<br>Trade Value=%{x}<br>Trade Value Growth=%{y}<br>currYearShare=%{marker.size}<extra></extra>",
           "hovertext": [
            "Madagascar",
            "Mali",
            "Mozambique",
            "Mauritania",
            "Mauritius",
            "Malawi",
            "Namibia",
            "Niger",
            "Nigeria",
            "Rwanda",
            "Sudan",
            "Senegal",
            "Saint Helena",
            "Sierra Leone",
            "Somalia",
            "South Sudan",
            "Sao Tome and Principe",
            "Eswatini",
            "Seychelles",
            "Chad",
            "Togo",
            "Tunisia",
            "Tanzania",
            "Morocco",
            "Uganda",
            "Lesotho",
            "Liberia",
            "Burundi",
            "Benin",
            "Burkina Faso",
            "Botswana",
            "Central African Republic",
            "Cote d'Ivoire",
            "Cameroon",
            "Democratic Republic of the Congo",
            "Republic of the Congo",
            "Comoros",
            "Cape Verde",
            "Djibouti",
            "Algeria",
            "Egypt",
            "Eritrea",
            "Ethiopia",
            "Gabon",
            "Ghana",
            "Guinea",
            "Gambia",
            "Guinea-Bissau",
            "Equatorial Guinea",
            "Kenya",
            "Libya",
            "South Africa",
            "Zambia",
            "Zimbabwe",
            "Angola"
           ],
           "ids": [
            "Madagascar",
            "Mali",
            "Mozambique",
            "Mauritania",
            "Mauritius",
            "Malawi",
            "Namibia",
            "Niger",
            "Nigeria",
            "Rwanda",
            "Sudan",
            "Senegal",
            "Saint Helena",
            "Sierra Leone",
            "Somalia",
            "South Sudan",
            "Sao Tome and Principe",
            "Eswatini",
            "Seychelles",
            "Chad",
            "Togo",
            "Tunisia",
            "Tanzania",
            "Morocco",
            "Uganda",
            "Lesotho",
            "Liberia",
            "Burundi",
            "Benin",
            "Burkina Faso",
            "Botswana",
            "Central African Republic",
            "Cote d'Ivoire",
            "Cameroon",
            "Democratic Republic of the Congo",
            "Republic of the Congo",
            "Comoros",
            "Cape Verde",
            "Djibouti",
            "Algeria",
            "Egypt",
            "Eritrea",
            "Ethiopia",
            "Gabon",
            "Ghana",
            "Guinea",
            "Gambia",
            "Guinea-Bissau",
            "Equatorial Guinea",
            "Kenya",
            "Libya",
            "South Africa",
            "Zambia",
            "Zimbabwe",
            "Angola"
           ],
           "legendgroup": "Africa",
           "marker": {
            "color": "#19d3f3",
            "size": [
             0.000056999999999999996,
             0.0000567,
             0.00016492900000000002,
             0.00008909999999999998,
             0.0000878,
             0.000011599999999999999,
             0.000043200000000000007,
             0.00011386700000000001,
             0.002716219,
             0.000052600000000000005,
             0.00008420000000000001,
             0.000230013,
             0.00000802,
             0.000067,
             0.0000307,
             0.0000354,
             0.00000268,
             0.0000244,
             0.0000126,
             0.000021600000000000003,
             0.00014165600000000001,
             0.00031624,
             0.000202118,
             0.001850488,
             0.00009120000000000001,
             0.00000173,
             0.0000832,
             0.00000684,
             0.000194533,
             0.000159708,
             0.000029100000000000003,
             0.00000983,
             0.00019154599999999999,
             0.0000913,
             0.000132825,
             0.000068,
             0.00000122,
             0.00000648,
             0.00010794799999999999,
             0.00046497300000000004,
             0.003420497,
             0.000011400000000000001,
             0.000490044,
             0.00005739999999999999,
             0.000582639,
             0.0000823,
             0.000034899999999999995,
             0.00000149,
             0.000028800000000000002,
             0.000413699,
             0.000175267,
             0.0031964859999999997,
             0.000100688,
             0.0000348,
             0.00029685
            ],
            "sizemode": "area",
            "sizeref": 0.0000526570905785124,
            "symbol": "circle"
           },
           "mode": "markers",
           "name": "Africa",
           "orientation": "v",
           "showlegend": true,
           "type": "scatter",
           "x": [
            150417847,
            117903902,
            284655838,
            100302563,
            162467253,
            40830897,
            165431682,
            126407766,
            2656775890,
            42251973,
            129319176,
            302217861,
            687587,
            84655523,
            47194855,
            22879672,
            3254835,
            28120693,
            21249600,
            50247724,
            660912921,
            689412091,
            227947076,
            3682314165,
            96938959,
            9059077,
            185617729,
            16245921,
            264728229,
            140801335,
            68005541,
            17998715,
            374223973,
            248719215,
            2045818740,
            104157183,
            940505,
            19071941,
            100060728,
            1066699060,
            5124769602,
            7886001,
            1335489054,
            97679471,
            838854688,
            112082511,
            44249233,
            18230825,
            134919890,
            433224848,
            237061973,
            5359271562,
            174685579,
            46772156,
            642046654
           ],
           "xaxis": "x",
           "y": [
            -38.29074884,
            -21.66795633,
            -5.665617861,
            44.55412769,
            -11.9684845,
            -53.62508201,
            -57.43743027,
            46.66130481,
            66.45734575,
            102.5021624,
            6.003888395,
            23.91528044,
            1798.388422,
            28.90247811,
            5.986548746,
            151.6515097,
            33.81464805,
            41.05942197,
            -3.71800881,
            -29.88747112,
            -65.10346043,
            -25.31540979,
            44.36543595,
            -18.18018496,
            53.17758467,
            -68.84364709999998,
            -26.99468487,
            -31.47531617,
            19.64290102,
            84.67709983,
            -30.32652148,
            -11.11748255,
            -16.66380844,
            -40.2577718,
            -89.42925613,
            6.2676378260000005,
            110.978251,
            -44.66701633,
            75.64806844,
            -29.02939832,
            8.669574663999999,
            135.979681,
            -40.25684541,
            -4.25055537,
            13.08527956,
            19.55792104,
            28.29360003,
            -86.70243941,
            -65.27175719,
            55.47622652,
            20.37373451,
            -2.890849105,
            -6.15447827,
            21.28829811,
            -24.72282193
           ],
           "yaxis": "y"
          },
          {
           "hovertemplate": "<b>%{hovertext}</b><br><br>Continent=Antarctica<br>Year=2018<br>Trade Value=%{x}<br>Trade Value Growth=%{y}<br>currYearShare=%{marker.size}<extra></extra>",
           "hovertext": [
            "French South Antarctic Territory"
           ],
           "ids": [
            "French South Antarctic Territory"
           ],
           "legendgroup": "Antarctica",
           "marker": {
            "color": "#FF6692",
            "size": [
             0.00000265
            ],
            "sizemode": "area",
            "sizeref": 0.0000526570905785124,
            "symbol": "circle"
           },
           "mode": "markers",
           "name": "Antarctica",
           "orientation": "v",
           "showlegend": true,
           "type": "scatter",
           "x": [
            804609
           ],
           "xaxis": "x",
           "y": [
            436.62996560000005
           ],
           "yaxis": "y"
          }
         ],
         "name": "2018"
        },
        {
         "data": [
          {
           "hovertemplate": "<b>%{hovertext}</b><br><br>Continent=North America<br>Year=2019<br>Trade Value=%{x}<br>Trade Value Growth=%{y}<br>currYearShare=%{marker.size}<extra></extra>",
           "hovertext": [
            "Aruba",
            "Anguilla",
            "Antigua and Barbuda",
            "Bahamas",
            "Belize",
            "Bermuda",
            "Barbados",
            "Canada",
            "Costa Rica",
            "Cuba",
            "Curaçao",
            "Cayman Islands",
            "Dominica",
            "Dominican Republic",
            "Grenada",
            "Greenland",
            "Guatemala",
            "Honduras",
            "Haiti",
            "Jamaica",
            "Saint Kitts and Nevis",
            "Saint Lucia",
            "Saint Martin",
            "Mexico",
            "Montserrat",
            "Nicaragua",
            "El Salvador",
            "Saint Pierre and Miquelon",
            "Turks and Caicos Islands",
            "Trinidad and Tobago",
            "Saint Vincent and the Grenadines",
            "British Virgin Islands",
            "Panama",
            "United States"
           ],
           "ids": [
            "Aruba",
            "Anguilla",
            "Antigua and Barbuda",
            "Bahamas",
            "Belize",
            "Bermuda",
            "Barbados",
            "Canada",
            "Costa Rica",
            "Cuba",
            "Curaçao",
            "Cayman Islands",
            "Dominica",
            "Dominican Republic",
            "Grenada",
            "Greenland",
            "Guatemala",
            "Honduras",
            "Haiti",
            "Jamaica",
            "Saint Kitts and Nevis",
            "Saint Lucia",
            "Saint Martin",
            "Mexico",
            "Montserrat",
            "Nicaragua",
            "El Salvador",
            "Saint Pierre and Miquelon",
            "Turks and Caicos Islands",
            "Trinidad and Tobago",
            "Saint Vincent and the Grenadines",
            "British Virgin Islands",
            "Panama",
            "United States"
           ],
           "legendgroup": "North America",
           "marker": {
            "color": "#636efa",
            "size": [
             0.00033858099999999996,
             0.000043200000000000007,
             0.00029637,
             0.0016006360000000001,
             0.00024754299999999997,
             0.000282466,
             0.00043147,
             0.159287699,
             0.004234267,
             0.000189717,
             0.00020553799999999998,
             0.000555002,
             0.000297816,
             0.006318868,
             0.000098,
             0.00000734,
             0.0050265629999999995,
             0.0035683409999999996,
             0.0006608460000000001,
             0.001262942,
             0.00008,
             0.000293666,
             0.00021209400000000002,
             0.151504227,
             0.0000044,
             0.001230479,
             0.002443899,
             2.27e-9,
             0.000134421,
             0.001467433,
             0.00009549999999999999,
             0.000145597,
             0.004133223,
             0.158855155
            ],
            "sizemode": "area",
            "sizeref": 0.0000526570905785124,
            "symbol": "circle"
           },
           "mode": "markers",
           "name": "North America",
           "orientation": "v",
           "showlegend": true,
           "type": "scatter",
           "x": [
            535182997,
            76746777,
            449101578,
            2946986665,
            391956172,
            553482725,
            547468728,
            252594000000,
            6046491041,
            279474239,
            369348116,
            703538485,
            322510364,
            9258955468,
            148652088,
            11039103,
            6900655758,
            5147985130,
            973162302,
            2555990082,
            185171036,
            570649483,
            651863366,
            235487000000,
            22318928,
            1754189660,
            3209455618,
            72789,
            200478709,
            2588289329,
            119977386,
            342251390,
            7192856526,
            430318000000
           ],
           "xaxis": "x",
           "y": [
            3.003970621,
            -8.45850113,
            7.444306731,
            -11.56837613,
            2.826587458,
            -16.90883722,
            28.31716353,
            2.671988206,
            14.01654286,
            10.52406158,
            -9.395678087,
            28.43986481,
            50.34776526,
            11.11440024,
            7.373251965,
            8.232136252,
            18.59703822,
            12.85533352,
            10.56251077,
            -19.55165079,
            -29.65169294,
            -16.21281378,
            -47.025730700000004,
            4.749064273,
            -67.87820634,
            14.20647509,
            23.978072,
            -94.92093586,
            9.167343551,
            -7.692185675,
            29.64092667,
            -30.73712133,
            -6.44209495,
            23.22380665
           ],
           "yaxis": "y"
          },
          {
           "hovertemplate": "<b>%{hovertext}</b><br><br>Continent=Europe<br>Year=2019<br>Trade Value=%{x}<br>Trade Value Growth=%{y}<br>currYearShare=%{marker.size}<extra></extra>",
           "hovertext": [
            "Montenegro",
            "Netherlands",
            "Norway",
            "Poland",
            "Portugal",
            "Romania",
            "Russia",
            "San Marino",
            "Serbia",
            "Slovakia",
            "Slovenia",
            "Sweden",
            "Ukraine",
            "Malta",
            "North Macedonia",
            "Latvia",
            "Austria",
            "Belgium",
            "Bulgaria",
            "Bosnia and Herzegovina",
            "Belarus",
            "Switzerland",
            "Czechia",
            "Germany",
            "Denmark",
            "Spain",
            "Estonia",
            "Finland",
            "France",
            "United Kingdom",
            "Gibraltar",
            "Greece",
            "Croatia",
            "Hungary",
            "Ireland",
            "Iceland",
            "Italy",
            "Lithuania",
            "Luxembourg",
            "Moldova",
            "Andorra",
            "Albania"
           ],
           "ids": [
            "Montenegro",
            "Netherlands",
            "Norway",
            "Poland",
            "Portugal",
            "Romania",
            "Russia",
            "San Marino",
            "Serbia",
            "Slovakia",
            "Slovenia",
            "Sweden",
            "Ukraine",
            "Malta",
            "North Macedonia",
            "Latvia",
            "Austria",
            "Belgium",
            "Bulgaria",
            "Bosnia and Herzegovina",
            "Belarus",
            "Switzerland",
            "Czechia",
            "Germany",
            "Denmark",
            "Spain",
            "Estonia",
            "Finland",
            "France",
            "United Kingdom",
            "Gibraltar",
            "Greece",
            "Croatia",
            "Hungary",
            "Ireland",
            "Iceland",
            "Italy",
            "Lithuania",
            "Luxembourg",
            "Moldova",
            "Andorra",
            "Albania"
           ],
           "legendgroup": "Europe",
           "marker": {
            "color": "#EF553B",
            "size": [
             0.0000215,
             0.03119579,
             0.003170955,
             0.004655858,
             0.001437138,
             0.000588047,
             0.00433311,
             7.31e-7,
             0.000220432,
             0.00034648400000000004,
             0.00031073900000000003,
             0.003112878,
             0.0017513720000000002,
             0.0000661,
             0.00011039,
             0.00016177,
             0.002337545,
             0.01760936,
             0.000200027,
             0.000164355,
             0.00021397900000000002,
             0.013653198,
             0.0022821729999999998,
             0.039426654,
             0.002419794,
             0.010606761000000001,
             0.000302308,
             0.0013689879999999998,
             0.016192097,
             0.034073156,
             0.00034995699999999997,
             0.001196677,
             0.0005240280000000001,
             0.001762989,
             0.011422161,
             0.000323028,
             0.011562132,
             0.000720242,
             0.000626416,
             0.00005520000000000001,
             0.00000284,
             0.000059
            ],
            "sizemode": "area",
            "sizeref": 0.0000526570905785124,
            "symbol": "circle"
           },
           "mode": "markers",
           "name": "Europe",
           "orientation": "v",
           "showlegend": true,
           "type": "scatter",
           "x": [
            34882344,
            47956895788,
            5172727271,
            6514842791,
            1626634138,
            951442776,
            8998752105,
            726689,
            421625996,
            666300125,
            569330981,
            4550933901,
            2783754832,
            156329859,
            279594470,
            282265752,
            6295269823,
            29315974495,
            386938193,
            256108351,
            341498904,
            18101522905,
            3354106465,
            58589292015,
            3001628864,
            14990614193,
            407952147,
            2059415946,
            28210387548,
            50303107561,
            1048530147,
            1198555673,
            560502217,
            2057316925,
            16877470310,
            438532224,
            19685047118,
            821231479,
            1020298844,
            61334740,
            3298945,
            84904778
           ],
           "xaxis": "x",
           "y": [
            0.213747104,
            5.910248018,
            -0.192410357,
            16.35601102,
            43.84727059,
            0.628792624,
            -21.60100951,
            63.79661726,
            -14.87833141,
            -15.33446163,
            -11.13636287,
            11.36651424,
            2.4331239669999998,
            -31.19779696,
            -35.71735736,
            -6.689201529,
            -39.54409814,
            -2.201476649,
            -15.83352719,
            4.48470421,
            2.017684074,
            22.80394621,
            10.78085519,
            9.563206969,
            31.25458828,
            15.20104903,
            20.65158515,
            8.230221259,
            -6.548319482999999,
            10.283517999999999,
            -45.65908881,
            62.55933228,
            52.2193724,
            39.52163253,
            10.18791781,
            19.93119735,
            -4.369920396,
            42.79270327,
            -0.039455792999999996,
            46.64427696,
            40.26296286,
            13.21267691
           ],
           "yaxis": "y"
          },
          {
           "hovertemplate": "<b>%{hovertext}</b><br><br>Continent=Oceania<br>Year=2019<br>Trade Value=%{x}<br>Trade Value Growth=%{y}<br>currYearShare=%{marker.size}<extra></extra>",
           "hovertext": [
            "Nauru",
            "New Zealand",
            "Palau",
            "Papua New Guinea",
            "French Polynesia",
            "Solomon Islands",
            "Tonga",
            "Tuvalu",
            "Vanuatu",
            "Wallis and Futuna",
            "Samoa",
            "Niue",
            "Norfolk Island",
            "New Caledonia",
            "Marshall Islands",
            "Australia",
            "Cook Islands",
            "Fiji",
            "Micronesia",
            "Kiribati"
           ],
           "ids": [
            "Nauru",
            "New Zealand",
            "Palau",
            "Papua New Guinea",
            "French Polynesia",
            "Solomon Islands",
            "Tonga",
            "Tuvalu",
            "Vanuatu",
            "Wallis and Futuna",
            "Samoa",
            "Niue",
            "Norfolk Island",
            "New Caledonia",
            "Marshall Islands",
            "Australia",
            "Cook Islands",
            "Fiji",
            "Micronesia",
            "Kiribati"
           ],
           "legendgroup": "Oceania",
           "marker": {
            "color": "#00cc96",
            "size": [
             7.67e-7,
             0.001974967,
             0.000014000000000000001,
             0.0000205,
             0.00006500000000000001,
             0.00000339,
             0.00000946,
             2.8300000000000003e-7,
             0.00000167,
             1.51e-8,
             0.0000252,
             5.4e-8,
             0.00000254,
             0.0000348,
             0.00012339,
             0.01576229,
             0.00000208,
             0.000139135,
             0.0000259,
             7.970000000000001e-7
            ],
            "sizemode": "area",
            "sizeref": 0.0000526570905785124,
            "symbol": "circle"
           },
           "mode": "markers",
           "name": "Oceania",
           "orientation": "v",
           "showlegend": true,
           "type": "scatter",
           "x": [
            1166496,
            3535021067,
            16886263,
            81518738,
            478811482,
            11010429,
            16241488,
            789444,
            2756951,
            443399,
            51895302,
            239877,
            11710,
            59373562,
            88303608,
            24395385428,
            7444310,
            71854134,
            38204673,
            1357410
           ],
           "xaxis": "x",
           "y": [
            7.0198269,
            -9.037793098,
            34.92628298,
            -59.06061132,
            -77.89329267,
            -49.91568448,
            -5.1699265489999995,
            -41.53695512,
            -1.3653126230000001,
            -94.47066863,
            -21.07601571,
            -63.37789784,
            35198.08711,
            -4.69984772,
            127.50654080000001,
            5.197321562,
            -54.60743843,
            215.26620580000002,
            10.540268199999998,
            -4.432338056
           ],
           "yaxis": "y"
          },
          {
           "hovertemplate": "<b>%{hovertext}</b><br><br>Continent=South America<br>Year=2019<br>Trade Value=%{x}<br>Trade Value Growth=%{y}<br>currYearShare=%{marker.size}<extra></extra>",
           "hovertext": [
            "Venezuela",
            "Argentina",
            "Bolivia",
            "Brazil",
            "Chile",
            "Colombia",
            "Ecuador",
            "Falkland Islands",
            "Guyana",
            "Peru",
            "Paraguay",
            "Suriname",
            "Uruguay"
           ],
           "ids": [
            "Venezuela",
            "Argentina",
            "Bolivia",
            "Brazil",
            "Chile",
            "Colombia",
            "Ecuador",
            "Falkland Islands",
            "Guyana",
            "Peru",
            "Paraguay",
            "Suriname",
            "Uruguay"
           ],
           "legendgroup": "South America",
           "marker": {
            "color": "#ab63fa",
            "size": [
             0.0009508489999999999,
             0.003937414,
             0.00032518,
             0.024144547000000002,
             0.009515223,
             0.008980617,
             0.003172098,
             1.92e-7,
             0.000559375,
             0.005960269,
             0.0009533969999999999,
             0.00019302,
             0.00068903
            ],
            "sizemode": "area",
            "sizeref": 0.0000526570905785124,
            "symbol": "circle"
           },
           "mode": "markers",
           "name": "South America",
           "orientation": "v",
           "showlegend": true,
           "type": "scatter",
           "x": [
            1227237627,
            6777169691,
            521662055,
            34754775330,
            13673678991,
            13752965993,
            5668141351,
            295863,
            727490799,
            8771338789,
            2297002162,
            384842054,
            1025150376
           ],
           "xaxis": "x",
           "y": [
            26.14675788,
            -5.407703491,
            1.490888196,
            13.109122,
            13.29914948,
            6.317040342,
            -8.883102623,
            5.388304722000001,
            25.18962924,
            10.63512614,
            -32.42198485,
            -18.33953443,
            9.431790327
           ],
           "yaxis": "y"
          },
          {
           "hovertemplate": "<b>%{hovertext}</b><br><br>Continent=Asia<br>Year=2019<br>Trade Value=%{x}<br>Trade Value Growth=%{y}<br>currYearShare=%{marker.size}<extra></extra>",
           "hovertext": [
            "Chinese Taipei",
            "Lebanon",
            "Sri Lanka",
            "Macau",
            "Maldives",
            "Burma",
            "Mongolia",
            "Malaysia",
            "Nepal",
            "Oman",
            "Pakistan",
            "Philippines",
            "Palestine",
            "Qatar",
            "Saudi Arabia",
            "Singapore",
            "Syria",
            "Thailand",
            "Tajikistan",
            "Turkmenistan",
            "Timor-Leste",
            "Turkey",
            "Uzbekistan",
            "Vietnam",
            "Laos",
            "Kuwait",
            "South Korea",
            "Cambodia",
            "Afghanistan",
            "United Arab Emirates",
            "Armenia",
            "Azerbaijan",
            "Bangladesh",
            "Bahrain",
            "Brunei",
            "Bhutan",
            "Cocos (Keeling) Islands",
            "China",
            "Christmas Island",
            "Yemen",
            "Cyprus",
            "Hong Kong",
            "Indonesia",
            "India",
            "British Indian Ocean Territory",
            "Iran",
            "Iraq",
            "Israel",
            "Jordan",
            "Japan",
            "Kazakhstan",
            "Kyrgyzstan",
            "Georgia"
           ],
           "ids": [
            "Chinese Taipei",
            "Lebanon",
            "Sri Lanka",
            "Macau",
            "Maldives",
            "Burma",
            "Mongolia",
            "Malaysia",
            "Nepal",
            "Oman",
            "Pakistan",
            "Philippines",
            "Palestine",
            "Qatar",
            "Saudi Arabia",
            "Singapore",
            "Syria",
            "Thailand",
            "Tajikistan",
            "Turkmenistan",
            "Timor-Leste",
            "Turkey",
            "Uzbekistan",
            "Vietnam",
            "Laos",
            "Kuwait",
            "South Korea",
            "Cambodia",
            "Afghanistan",
            "United Arab Emirates",
            "Armenia",
            "Azerbaijan",
            "Bangladesh",
            "Bahrain",
            "Brunei",
            "Bhutan",
            "Cocos (Keeling) Islands",
            "China",
            "Christmas Island",
            "Yemen",
            "Cyprus",
            "Hong Kong",
            "Indonesia",
            "India",
            "British Indian Ocean Territory",
            "Iran",
            "Iraq",
            "Israel",
            "Jordan",
            "Japan",
            "Kazakhstan",
            "Kyrgyzstan",
            "Georgia"
           ],
           "legendgroup": "Asia",
           "marker": {
            "color": "#FFA15A",
            "size": [
             0.02148323,
             0.00050318,
             0.000310084,
             0.000225146,
             0.000030799999999999996,
             0.000118014,
             0.000117602,
             0.00911381,
             0.000152241,
             0.000623284,
             0.002155074,
             0.005013329,
             0.000059699999999999994,
             0.00134159,
             0.007128654,
             0.019979935,
             6.96e-7,
             0.007522255,
             0.000019,
             0.0000484,
             0.00000671,
             0.007607086999999999,
             0.000142905,
             0.0069184830000000004,
             0.0000446,
             0.001749273,
             0.040779813,
             0.00027100299999999997,
             0.00013733,
             0.009148063,
             0.0000565,
             0.000151755,
             0.0014149070000000002,
             0.000399251,
             0.000107889,
             0.00000358,
             4.49e-7,
             0.092552767,
             4.3600000000000004e-7,
             0.00016439599999999998,
             0.0000858,
             0.017375674,
             0.005951746999999999,
             0.024041596000000002,
             0.00000359,
             0.0000242,
             0.000471126,
             0.006472175,
             0.000802008,
             0.044079228,
             0.00040201099999999997,
             0.000042499999999999996,
             0.00043067
            ],
            "sizemode": "area",
            "sizeref": 0.0000526570905785124,
            "symbol": "circle"
           },
           "mode": "markers",
           "name": "Asia",
           "orientation": "v",
           "showlegend": true,
           "type": "scatter",
           "x": [
            30170717833,
            1645470233,
            495329878,
            300572722,
            50313185,
            408180601,
            256491197,
            12823234012,
            138819704,
            1255617518,
            2603121256,
            7881705111,
            60818631,
            4838986647,
            13250796265,
            28493622873,
            4045607,
            12699395088,
            20503125,
            25692818,
            4592774,
            10365679863,
            538050866,
            10744048846,
            54392112,
            3163686187,
            57449163666,
            560748150,
            962004519,
            16565783474,
            125839562,
            300051777,
            1627968391,
            876729752,
            220074911,
            2746827,
            78773,
            102280000000,
            1494545,
            383491541,
            170445851,
            28485047174,
            7862738421,
            33914596859,
            22433598,
            73133366,
            1209440217,
            13165371465,
            1310338489,
            69269199527,
            1125793484,
            62561627,
            808140818
           ],
           "xaxis": "x",
           "y": [
            15.93297776,
            -50.21179961,
            1.92419808,
            21.95727063,
            -0.37152289200000005,
            -52.92659609,
            -25.34903605,
            15.71654688,
            78.55548590000001,
            -19.17946115,
            34.79098136,
            3.56168862,
            59.70569282,
            -54.86032518,
            -12.40917473,
            14.16670387,
            -71.9767145,
            -3.5598078639999997,
            50.54128578,
            206.7845146,
            137.79739650000002,
            19.48506608,
            -56.75687176,
            4.842160599,
            33.58646195,
            -9.976198692,
            15.57252092,
            -21.31359096,
            -76.75762581,
            -10.08953821,
            -26.90486478,
            -17.65447868,
            41.50602429999999,
            -25.85650441,
            -20.18185708,
            112.12850320000001,
            828.9375801,
            47.32954062,
            -52.52407923,
            -30.20444146,
            -17.997851999999998,
            -0.684330982,
            23.24340084,
            15.41697695,
            -73.96550923,
            -46.173812100000006,
            -36.57713195,
            -19.95942405,
            -0.347440531,
            3.6064693310000004,
            -41.86039737,
            10.67002941,
            -13.23380253
           ],
           "yaxis": "y"
          },
          {
           "hovertemplate": "<b>%{hovertext}</b><br><br>Continent=Africa<br>Year=2019<br>Trade Value=%{x}<br>Trade Value Growth=%{y}<br>currYearShare=%{marker.size}<extra></extra>",
           "hovertext": [
            "Burundi",
            "Angola",
            "Mali",
            "Mozambique",
            "Mauritania",
            "Mauritius",
            "Malawi",
            "Namibia",
            "Niger",
            "Nigeria",
            "Rwanda",
            "Sudan",
            "Senegal",
            "Saint Helena",
            "Sierra Leone",
            "Somalia",
            "South Sudan",
            "Sao Tome and Principe",
            "Eswatini",
            "Seychelles",
            "Chad",
            "Togo",
            "Tunisia",
            "Tanzania",
            "Uganda",
            "Madagascar",
            "South Africa",
            "Morocco",
            "Libya",
            "Benin",
            "Burkina Faso",
            "Botswana",
            "Central African Republic",
            "Cote d'Ivoire",
            "Cameroon",
            "Democratic Republic of the Congo",
            "Republic of the Congo",
            "Comoros",
            "Cape Verde",
            "Djibouti",
            "Algeria",
            "Egypt",
            "Eritrea",
            "Ethiopia",
            "Gabon",
            "Ghana",
            "Guinea",
            "Gambia",
            "Guinea-Bissau",
            "Equatorial Guinea",
            "Kenya",
            "Liberia",
            "Lesotho",
            "Zambia",
            "Zimbabwe"
           ],
           "ids": [
            "Burundi",
            "Angola",
            "Mali",
            "Mozambique",
            "Mauritania",
            "Mauritius",
            "Malawi",
            "Namibia",
            "Niger",
            "Nigeria",
            "Rwanda",
            "Sudan",
            "Senegal",
            "Saint Helena",
            "Sierra Leone",
            "Somalia",
            "South Sudan",
            "Sao Tome and Principe",
            "Eswatini",
            "Seychelles",
            "Chad",
            "Togo",
            "Tunisia",
            "Tanzania",
            "Uganda",
            "Madagascar",
            "South Africa",
            "Morocco",
            "Libya",
            "Benin",
            "Burkina Faso",
            "Botswana",
            "Central African Republic",
            "Cote d'Ivoire",
            "Cameroon",
            "Democratic Republic of the Congo",
            "Republic of the Congo",
            "Comoros",
            "Cape Verde",
            "Djibouti",
            "Algeria",
            "Egypt",
            "Eritrea",
            "Ethiopia",
            "Gabon",
            "Ghana",
            "Guinea",
            "Gambia",
            "Guinea-Bissau",
            "Equatorial Guinea",
            "Kenya",
            "Liberia",
            "Lesotho",
            "Zambia",
            "Zimbabwe"
           ],
           "legendgroup": "Africa",
           "marker": {
            "color": "#19d3f3",
            "size": [
             0.00000684,
             0.00029685,
             0.0000567,
             0.00016492900000000002,
             0.00008909999999999998,
             0.0000878,
             0.000011599999999999999,
             0.000043200000000000007,
             0.00011386700000000001,
             0.002716219,
             0.000052600000000000005,
             0.00008420000000000001,
             0.000230013,
             0.00000802,
             0.000067,
             0.0000307,
             0.0000354,
             0.00000268,
             0.0000244,
             0.0000126,
             0.000021600000000000003,
             0.00014165600000000001,
             0.00031624,
             0.000202118,
             0.00009120000000000001,
             0.000056999999999999996,
             0.0031964859999999997,
             0.001850488,
             0.000175267,
             0.000194533,
             0.000159708,
             0.000029100000000000003,
             0.00000983,
             0.00019154599999999999,
             0.0000913,
             0.000132825,
             0.000068,
             0.00000122,
             0.00000648,
             0.00010794799999999999,
             0.00046497300000000004,
             0.003420497,
             0.000011400000000000001,
             0.000490044,
             0.00005739999999999999,
             0.000582639,
             0.0000823,
             0.000034899999999999995,
             0.00000149,
             0.000028800000000000002,
             0.000413699,
             0.0000832,
             0.00000173,
             0.000100688,
             0.0000348
            ],
            "sizemode": "area",
            "sizeref": 0.0000526570905785124,
            "symbol": "circle"
           },
           "mode": "markers",
           "name": "Africa",
           "orientation": "v",
           "showlegend": true,
           "type": "scatter",
           "x": [
            11357015,
            598196003,
            128816287,
            226986275,
            109986116,
            116661812,
            36443675,
            188930598,
            128863274,
            3203139727,
            36984427,
            73368521,
            229680438,
            560061,
            73925292,
            102243071,
            21783654,
            4033979,
            34106999,
            20104250,
            77638193,
            444789015,
            553404939,
            231534660,
            101485108,
            63536079,
            5442102134,
            3664462310,
            399712784,
            262356404,
            181155067,
            113966386,
            165095547,
            397387480,
            190864391,
            1989350734,
            108942570,
            1452925,
            14746998,
            140385892,
            975288842,
            5044621444,
            13790124,
            405737454,
            126904880,
            906967643,
            112254731,
            48877269,
            1179612,
            210727810,
            446985676,
            107284141,
            1918767,
            149524030,
            51662797
           ],
           "xaxis": "x",
           "y": [
            -1.977183265,
            -19.20464186,
            -28.30368104,
            18.30156956,
            31.82708898,
            22.5957171,
            -48.04230089,
            -62.73130147,
            43.86665281,
            38.06449315,
            131.34374640000001,
            86.8421949,
            63.05006785,
            2230.65184,
            47.61262898,
            -51.07717568,
            164.3130487,
            7.968980502999999,
            16.30131106,
            1.7672283219999998,
            -54.62291349,
            -48.14715939,
            -6.960607195,
            42.12852192,
            46.31580823,
            46.09294193,
            -4.3688820999999995,
            -17.7815902,
            -28.60865066,
            20.72452899,
            43.538807,
            -58.42473587,
            -90.31002877,
            -21.52143117,
            -22.14870452,
            -89.12920405,
            1.599749299,
            36.57009137,
            -28.43917115,
            25.19401593,
            -22.37758617,
            10.396099900000001,
            34.9470099,
            96.64521531,
            -26.30106029,
            4.592614337,
            19.37449656,
            16.14587959,
            105.51291440000001,
            -77.76501023,
            50.68976081,
            26.31019528,
            47.09852734,
            9.637623463999999,
            9.806582869
           ],
           "yaxis": "y"
          },
          {
           "hovertemplate": "<b>%{hovertext}</b><br><br>Continent=Antarctica<br>Year=2019<br>Trade Value=%{x}<br>Trade Value Growth=%{y}<br>currYearShare=%{marker.size}<extra></extra>",
           "hovertext": [
            "French South Antarctic Territory"
           ],
           "ids": [
            "French South Antarctic Territory"
           ],
           "legendgroup": "Antarctica",
           "marker": {
            "color": "#FF6692",
            "size": [
             0.00000265
            ],
            "sizemode": "area",
            "sizeref": 0.0000526570905785124,
            "symbol": "circle"
           },
           "mode": "markers",
           "name": "Antarctica",
           "orientation": "v",
           "showlegend": true,
           "type": "scatter",
           "x": [
            1691560
           ],
           "xaxis": "x",
           "y": [
            155.2539076
           ],
           "yaxis": "y"
          }
         ],
         "name": "2019"
        },
        {
         "data": [
          {
           "hovertemplate": "<b>%{hovertext}</b><br><br>Continent=North America<br>Year=2020<br>Trade Value=%{x}<br>Trade Value Growth=%{y}<br>currYearShare=%{marker.size}<extra></extra>",
           "hovertext": [
            "Aruba",
            "Anguilla",
            "Antigua and Barbuda",
            "Bahamas",
            "Belize",
            "Bermuda",
            "Barbados",
            "Canada",
            "Costa Rica",
            "Cuba",
            "Curaçao",
            "Cayman Islands",
            "Dominica",
            "Dominican Republic",
            "Grenada",
            "Greenland",
            "Guatemala",
            "Honduras",
            "Haiti",
            "Jamaica",
            "Saint Kitts and Nevis",
            "Saint Lucia",
            "Saint Martin",
            "Mexico",
            "Montserrat",
            "Nicaragua",
            "El Salvador",
            "Saint Pierre and Miquelon",
            "Turks and Caicos Islands",
            "Trinidad and Tobago",
            "Saint Vincent and the Grenadines",
            "British Virgin Islands",
            "Panama",
            "United States"
           ],
           "ids": [
            "Aruba",
            "Anguilla",
            "Antigua and Barbuda",
            "Bahamas",
            "Belize",
            "Bermuda",
            "Barbados",
            "Canada",
            "Costa Rica",
            "Cuba",
            "Curaçao",
            "Cayman Islands",
            "Dominica",
            "Dominican Republic",
            "Grenada",
            "Greenland",
            "Guatemala",
            "Honduras",
            "Haiti",
            "Jamaica",
            "Saint Kitts and Nevis",
            "Saint Lucia",
            "Saint Martin",
            "Mexico",
            "Montserrat",
            "Nicaragua",
            "El Salvador",
            "Saint Pierre and Miquelon",
            "Turks and Caicos Islands",
            "Trinidad and Tobago",
            "Saint Vincent and the Grenadines",
            "British Virgin Islands",
            "Panama",
            "United States"
           ],
           "legendgroup": "North America",
           "marker": {
            "color": "#636efa",
            "size": [
             0.00033858099999999996,
             0.000043200000000000007,
             0.00029637,
             0.0016006360000000001,
             0.00024754299999999997,
             0.000282466,
             0.00043147,
             0.159287699,
             0.004234267,
             0.000189717,
             0.00020553799999999998,
             0.000555002,
             0.000297816,
             0.006318868,
             0.000098,
             0.00000734,
             0.0050265629999999995,
             0.0035683409999999996,
             0.0006608460000000001,
             0.001262942,
             0.00008,
             0.000293666,
             0.00021209400000000002,
             0.151504227,
             0.0000044,
             0.001230479,
             0.002443899,
             2.27e-9,
             0.000134421,
             0.001467433,
             0.00009549999999999999,
             0.000145597,
             0.004133223,
             0.158855155
            ],
            "sizemode": "area",
            "sizeref": 0.0000526570905785124,
            "symbol": "circle"
           },
           "mode": "markers",
           "name": "North America",
           "orientation": "v",
           "showlegend": true,
           "type": "scatter",
           "x": [
            350894411,
            41245960,
            268632344,
            2576975859,
            358043630,
            405024553,
            561640816,
            218511000000,
            5377561793,
            172059133,
            298192880,
            640977415,
            106080889,
            7385017706,
            123469745,
            6370520,
            5925446094,
            3934790125,
            976019809,
            1770514130,
            119965946,
            436267622,
            318379861,
            197521000000,
            19476431,
            1458374363,
            2615843770,
            231405,
            150711086,
            2170662786,
            115694302,
            176025525,
            5112798346,
            437941000000
           ],
           "xaxis": "x",
           "y": [
            57.10131587,
            70.33219738,
            79.62620205,
            1.128931957,
            12.56593393,
            13.54749449,
            25.07928964,
            18.68695071,
            28.19936459,
            79.52332702,
            12.22446223,
            40.97593111,
            357.0918754,
            39.30952161,
            29.27262545,
            87.54916396,
            38.11573369,
            47.65147831,
            10.23881535,
            16.13868493,
            8.584722034,
            9.59583542,
            8.461588593,
            24.88365403,
            -63.19017586,
            37.37201008,
            52.11234106,
            -98.40236814,
            45.21644479,
            10.06745605,
            34.44032447,
            34.66976735,
            31.62040479,
            21.07877203
           ],
           "yaxis": "y"
          },
          {
           "hovertemplate": "<b>%{hovertext}</b><br><br>Continent=Europe<br>Year=2020<br>Trade Value=%{x}<br>Trade Value Growth=%{y}<br>currYearShare=%{marker.size}<extra></extra>",
           "hovertext": [
            "Montenegro",
            "Netherlands",
            "Norway",
            "Poland",
            "Portugal",
            "Romania",
            "Russia",
            "San Marino",
            "Serbia",
            "Slovakia",
            "Slovenia",
            "Sweden",
            "Ukraine",
            "Malta",
            "North Macedonia",
            "Latvia",
            "Austria",
            "Belgium",
            "Bulgaria",
            "Bosnia and Herzegovina",
            "Belarus",
            "Switzerland",
            "Czechia",
            "Germany",
            "Denmark",
            "Spain",
            "Estonia",
            "Finland",
            "France",
            "United Kingdom",
            "Gibraltar",
            "Greece",
            "Croatia",
            "Hungary",
            "Ireland",
            "Iceland",
            "Italy",
            "Lithuania",
            "Luxembourg",
            "Moldova",
            "Andorra",
            "Albania"
           ],
           "ids": [
            "Montenegro",
            "Netherlands",
            "Norway",
            "Poland",
            "Portugal",
            "Romania",
            "Russia",
            "San Marino",
            "Serbia",
            "Slovakia",
            "Slovenia",
            "Sweden",
            "Ukraine",
            "Malta",
            "North Macedonia",
            "Latvia",
            "Austria",
            "Belgium",
            "Bulgaria",
            "Bosnia and Herzegovina",
            "Belarus",
            "Switzerland",
            "Czechia",
            "Germany",
            "Denmark",
            "Spain",
            "Estonia",
            "Finland",
            "France",
            "United Kingdom",
            "Gibraltar",
            "Greece",
            "Croatia",
            "Hungary",
            "Ireland",
            "Iceland",
            "Italy",
            "Lithuania",
            "Luxembourg",
            "Moldova",
            "Andorra",
            "Albania"
           ],
           "legendgroup": "Europe",
           "marker": {
            "color": "#EF553B",
            "size": [
             0.0000215,
             0.03119579,
             0.003170955,
             0.004655858,
             0.001437138,
             0.000588047,
             0.00433311,
             7.31e-7,
             0.000220432,
             0.00034648400000000004,
             0.00031073900000000003,
             0.003112878,
             0.0017513720000000002,
             0.0000661,
             0.00011039,
             0.00016177,
             0.002337545,
             0.01760936,
             0.000200027,
             0.000164355,
             0.00021397900000000002,
             0.013653198,
             0.0022821729999999998,
             0.039426654,
             0.002419794,
             0.010606761000000001,
             0.000302308,
             0.0013689879999999998,
             0.016192097,
             0.034073156,
             0.00034995699999999997,
             0.001196677,
             0.0005240280000000001,
             0.001762989,
             0.011422161,
             0.000323028,
             0.011562132,
             0.000720242,
             0.000626416,
             0.00005520000000000001,
             0.00000284,
             0.000059
            ],
            "sizemode": "area",
            "sizeref": 0.0000526570905785124,
            "symbol": "circle"
           },
           "mode": "markers",
           "name": "Europe",
           "orientation": "v",
           "showlegend": true,
           "type": "scatter",
           "x": [
            42106148,
            42715558481,
            4099582785,
            5523140691,
            1478115340,
            946913696,
            5490960189,
            2009485,
            360755414,
            605472284,
            505685300,
            4307955729,
            2438408293,
            135280872,
            210620100,
            218177633,
            4246649053,
            22624257559,
            444887324,
            196631281,
            343437552,
            19700636821,
            3261011685,
            59086141841,
            2787149548,
            13646241442,
            424841425,
            1928896932,
            23653215863,
            47936301241,
            790164902,
            1142087251,
            333087400,
            2120008453,
            13106560687,
            324295627,
            18268334925,
            817449706,
            775895163,
            55797571,
            3616156,
            72626027
           ],
           "xaxis": "x",
           "y": [
            -16.97909768,
            18.90577831,
            25.93414205,
            37.24820026,
            58.30082719,
            1.110099267,
            28.48264355,
            -40.76631575,
            -0.51567653,
            -6.828668642999999,
            0.048037188,
            17.64783043,
            16.94050772,
            -20.49253866,
            -14.66592505,
            20.72017804,
            -10.37964055,
            26.72499898,
            -26.79669403,
            36.08925886,
            1.4418111740000001,
            12.83586746,
            13.94340729,
            8.641900236,
            41.35501304,
            26.55019245,
            15.85516455,
            15.55363058,
            11.45664673,
            15.728654999999998,
            -27.89089536,
            70.5967821,
            156.1468723,
            35.39578844,
            41.89026059,
            62.17824208,
            3.046207037,
            43.4533061,
            31.44769108,
            61.19677683,
            27.9590261,
            32.35333939
           ],
           "yaxis": "y"
          },
          {
           "hovertemplate": "<b>%{hovertext}</b><br><br>Continent=Oceania<br>Year=2020<br>Trade Value=%{x}<br>Trade Value Growth=%{y}<br>currYearShare=%{marker.size}<extra></extra>",
           "hovertext": [
            "Nauru",
            "New Zealand",
            "Palau",
            "Papua New Guinea",
            "French Polynesia",
            "Solomon Islands",
            "Tonga",
            "Tuvalu",
            "Vanuatu",
            "Wallis and Futuna",
            "Samoa",
            "Niue",
            "Norfolk Island",
            "New Caledonia",
            "Marshall Islands",
            "Australia",
            "Cook Islands",
            "Fiji",
            "Micronesia",
            "Kiribati"
           ],
           "ids": [
            "Nauru",
            "New Zealand",
            "Palau",
            "Papua New Guinea",
            "French Polynesia",
            "Solomon Islands",
            "Tonga",
            "Tuvalu",
            "Vanuatu",
            "Wallis and Futuna",
            "Samoa",
            "Niue",
            "Norfolk Island",
            "New Caledonia",
            "Marshall Islands",
            "Australia",
            "Cook Islands",
            "Fiji",
            "Micronesia",
            "Kiribati"
           ],
           "legendgroup": "Oceania",
           "marker": {
            "color": "#00cc96",
            "size": [
             7.67e-7,
             0.001974967,
             0.000014000000000000001,
             0.0000205,
             0.00006500000000000001,
             0.00000339,
             0.00000946,
             2.8300000000000003e-7,
             0.00000167,
             1.51e-8,
             0.0000252,
             5.4e-8,
             0.00000254,
             0.0000348,
             0.00012339,
             0.01576229,
             0.00000208,
             0.000139135,
             0.0000259,
             7.970000000000001e-7
            ],
            "sizemode": "area",
            "sizeref": 0.0000526570905785124,
            "symbol": "circle"
           },
           "mode": "markers",
           "name": "Oceania",
           "orientation": "v",
           "showlegend": true,
           "type": "scatter",
           "x": [
            575641,
            2934499842,
            18058467,
            54668161,
            149656398,
            2873123,
            11903877,
            1592087,
            4058326,
            122726,
            24773962,
            165570,
            10656141,
            46462725,
            128960565,
            24230072372,
            2707705,
            56175959,
            50129095,
            1956108
           ],
           "xaxis": "x",
           "y": [
            116.86815220000001,
            9.576873407,
            26.16800197,
            -38.95299862,
            -29.27168206,
            91.93393391,
            29.38486344,
            -71.01081788,
            -32.99429371,
            -80.02297802,
            65.32615978,
            -46.94207888,
            -61.21104253,
            21.78169705,
            55.78133052,
            5.915044994,
            24.79804853,
            303.25400049999996,
            -15.75441767,
            -33.68234269
           ],
           "yaxis": "y"
          },
          {
           "hovertemplate": "<b>%{hovertext}</b><br><br>Continent=South America<br>Year=2020<br>Trade Value=%{x}<br>Trade Value Growth=%{y}<br>currYearShare=%{marker.size}<extra></extra>",
           "hovertext": [
            "Argentina",
            "Bolivia",
            "Brazil",
            "Chile",
            "Colombia",
            "Ecuador",
            "Falkland Islands",
            "Guyana",
            "Peru",
            "Paraguay",
            "Suriname",
            "Uruguay",
            "Venezuela"
           ],
           "ids": [
            "Argentina",
            "Bolivia",
            "Brazil",
            "Chile",
            "Colombia",
            "Ecuador",
            "Falkland Islands",
            "Guyana",
            "Peru",
            "Paraguay",
            "Suriname",
            "Uruguay",
            "Venezuela"
           ],
           "legendgroup": "South America",
           "marker": {
            "color": "#ab63fa",
            "size": [
             0.003937414,
             0.00032518,
             0.024144547000000002,
             0.009515223,
             0.008980617,
             0.003172098,
             1.92e-7,
             0.000559375,
             0.005960269,
             0.0009533969999999999,
             0.00019302,
             0.00068903,
             0.0009508489999999999
            ],
            "sizemode": "area",
            "sizeref": 0.0000526570905785124,
            "symbol": "circle"
           },
           "mode": "markers",
           "name": "South America",
           "orientation": "v",
           "showlegend": true,
           "type": "scatter",
           "x": [
            4860699059,
            472242912,
            29324801003,
            10576273750,
            11055291193,
            4113814907,
            280492,
            678564823,
            6775356329,
            1026646935,
            292572908,
            1024790699,
            1090562760
           ],
           "xaxis": "x",
           "y": [
            31.88803444,
            12.11167803,
            34.05315598,
            46.48034238,
            32.26016527,
            25.54367794,
            11.16359825,
            34.21606944,
            43.22762172,
            51.19788664,
            7.413846056000001,
            9.470198265,
            41.95611062
           ],
           "yaxis": "y"
          },
          {
           "hovertemplate": "<b>%{hovertext}</b><br><br>Continent=Asia<br>Year=2020<br>Trade Value=%{x}<br>Trade Value Growth=%{y}<br>currYearShare=%{marker.size}<extra></extra>",
           "hovertext": [
            "Chinese Taipei",
            "Lebanon",
            "Sri Lanka",
            "Macau",
            "Maldives",
            "Burma",
            "Mongolia",
            "Malaysia",
            "Nepal",
            "Oman",
            "Pakistan",
            "Philippines",
            "Palestine",
            "Qatar",
            "Saudi Arabia",
            "Singapore",
            "Syria",
            "Thailand",
            "Tajikistan",
            "Turkmenistan",
            "Timor-Leste",
            "Turkey",
            "Uzbekistan",
            "Vietnam",
            "Laos",
            "Kuwait",
            "South Korea",
            "Cambodia",
            "Afghanistan",
            "United Arab Emirates",
            "Armenia",
            "Azerbaijan",
            "Bangladesh",
            "Bahrain",
            "Brunei",
            "Bhutan",
            "Cocos (Keeling) Islands",
            "China",
            "Christmas Island",
            "Yemen",
            "Cyprus",
            "Hong Kong",
            "Indonesia",
            "India",
            "British Indian Ocean Territory",
            "Iran",
            "Iraq",
            "Israel",
            "Jordan",
            "Japan",
            "Kazakhstan",
            "Kyrgyzstan",
            "Georgia"
           ],
           "ids": [
            "Chinese Taipei",
            "Lebanon",
            "Sri Lanka",
            "Macau",
            "Maldives",
            "Burma",
            "Mongolia",
            "Malaysia",
            "Nepal",
            "Oman",
            "Pakistan",
            "Philippines",
            "Palestine",
            "Qatar",
            "Saudi Arabia",
            "Singapore",
            "Syria",
            "Thailand",
            "Tajikistan",
            "Turkmenistan",
            "Timor-Leste",
            "Turkey",
            "Uzbekistan",
            "Vietnam",
            "Laos",
            "Kuwait",
            "South Korea",
            "Cambodia",
            "Afghanistan",
            "United Arab Emirates",
            "Armenia",
            "Azerbaijan",
            "Bangladesh",
            "Bahrain",
            "Brunei",
            "Bhutan",
            "Cocos (Keeling) Islands",
            "China",
            "Christmas Island",
            "Yemen",
            "Cyprus",
            "Hong Kong",
            "Indonesia",
            "India",
            "British Indian Ocean Territory",
            "Iran",
            "Iraq",
            "Israel",
            "Jordan",
            "Japan",
            "Kazakhstan",
            "Kyrgyzstan",
            "Georgia"
           ],
           "legendgroup": "Asia",
           "marker": {
            "color": "#FFA15A",
            "size": [
             0.02148323,
             0.00050318,
             0.000310084,
             0.000225146,
             0.000030799999999999996,
             0.000118014,
             0.000117602,
             0.00911381,
             0.000152241,
             0.000623284,
             0.002155074,
             0.005013329,
             0.000059699999999999994,
             0.00134159,
             0.007128654,
             0.019979935,
             6.96e-7,
             0.007522255,
             0.000019,
             0.0000484,
             0.00000671,
             0.007607086999999999,
             0.000142905,
             0.0069184830000000004,
             0.0000446,
             0.001749273,
             0.040779813,
             0.00027100299999999997,
             0.00013733,
             0.009148063,
             0.0000565,
             0.000151755,
             0.0014149070000000002,
             0.000399251,
             0.000107889,
             0.00000358,
             4.49e-7,
             0.092552767,
             4.3600000000000004e-7,
             0.00016439599999999998,
             0.0000858,
             0.017375674,
             0.005951746999999999,
             0.024041596000000002,
             0.00000359,
             0.0000242,
             0.000471126,
             0.006472175,
             0.000802008,
             0.044079228,
             0.00040201099999999997,
             0.000042499999999999996,
             0.00043067
            ],
            "sizemode": "area",
            "sizeref": 0.0000526570905785124,
            "symbol": "circle"
           },
           "mode": "markers",
           "name": "Asia",
           "orientation": "v",
           "showlegend": true,
           "type": "scatter",
           "x": [
            28717967243,
            868709459,
            454721114,
            269688404,
            19263318,
            381089228,
            219022214,
            12440733494,
            129875544,
            955624174,
            2778901416,
            6891305838,
            67207985,
            3007347066,
            10944257081,
            25575400818,
            2051141,
            11246629987,
            14489748,
            32618756,
            9036955,
            10531480217,
            246718643,
            10155644771,
            89100451,
            2214815240,
            53533315030,
            396040437,
            602882905,
            13708486148,
            58070332,
            274053221,
            1790733154,
            795197992,
            201624313,
            2791777,
            113950,
            122200000000,
            1870855,
            308731699,
            93735454,
            22149516055,
            7559141177,
            26693947011,
            6521073,
            36277981,
            729347336,
            8896461966,
            1345765926,
            63096545400,
            829481727,
            85931906,
            611637818
           ],
           "xaxis": "x",
           "y": [
            21.79765824,
            -5.6934388689999995,
            11.02651503,
            35.92363727,
            160.2161268,
            -49.58017995,
            -12.57820497,
            19.27434668,
            90.8520953,
            6.19204407,
            26.26474141,
            18.44528594,
            44.52273193,
            -27.36778333,
            6.0508878589999995,
            27.193432,
            -44.72773934,
            8.897696796,
            113.0172864,
            141.6449818,
            20.85372783,
            17.60397569,
            -5.694185421,
            10.91657103,
            -18.45103231,
            28.59179021,
            24.02640609,
            11.41099286,
            -62.91275003,
            8.650745678,
            58.39860878,
            -9.842621408,
            28.64414454,
            -18.25456156,
            -12.87771579,
            108.7130527,
            542.1693725,
            23.31328128,
            -62.07354391,
            -13.30334272,
            49.11034516,
            27.72340082,
            28.19321669,
            46.63699761,
            -10.43693269,
            8.509078827,
            5.170970694,
            18.44752653,
            -2.970805192,
            13.74215737,
            -21.09146752,
            -19.428098100000003,
            14.64187422
           ],
           "yaxis": "y"
          },
          {
           "hovertemplate": "<b>%{hovertext}</b><br><br>Continent=Africa<br>Year=2020<br>Trade Value=%{x}<br>Trade Value Growth=%{y}<br>currYearShare=%{marker.size}<extra></extra>",
           "hovertext": [
            "Burundi",
            "Angola",
            "Mali",
            "Mozambique",
            "Mauritania",
            "Mauritius",
            "Malawi",
            "Namibia",
            "Niger",
            "Nigeria",
            "Rwanda",
            "Sudan",
            "Senegal",
            "Saint Helena",
            "Sierra Leone",
            "Somalia",
            "South Sudan",
            "Sao Tome and Principe",
            "Eswatini",
            "Seychelles",
            "Chad",
            "Togo",
            "Tunisia",
            "Tanzania",
            "Uganda",
            "Madagascar",
            "South Africa",
            "Morocco",
            "Libya",
            "Benin",
            "Burkina Faso",
            "Botswana",
            "Central African Republic",
            "Cote d'Ivoire",
            "Cameroon",
            "Democratic Republic of the Congo",
            "Republic of the Congo",
            "Comoros",
            "Cape Verde",
            "Djibouti",
            "Algeria",
            "Egypt",
            "Eritrea",
            "Ethiopia",
            "Gabon",
            "Ghana",
            "Guinea",
            "Gambia",
            "Guinea-Bissau",
            "Equatorial Guinea",
            "Kenya",
            "Liberia",
            "Lesotho",
            "Zambia",
            "Zimbabwe"
           ],
           "ids": [
            "Burundi",
            "Angola",
            "Mali",
            "Mozambique",
            "Mauritania",
            "Mauritius",
            "Malawi",
            "Namibia",
            "Niger",
            "Nigeria",
            "Rwanda",
            "Sudan",
            "Senegal",
            "Saint Helena",
            "Sierra Leone",
            "Somalia",
            "South Sudan",
            "Sao Tome and Principe",
            "Eswatini",
            "Seychelles",
            "Chad",
            "Togo",
            "Tunisia",
            "Tanzania",
            "Uganda",
            "Madagascar",
            "South Africa",
            "Morocco",
            "Libya",
            "Benin",
            "Burkina Faso",
            "Botswana",
            "Central African Republic",
            "Cote d'Ivoire",
            "Cameroon",
            "Democratic Republic of the Congo",
            "Republic of the Congo",
            "Comoros",
            "Cape Verde",
            "Djibouti",
            "Algeria",
            "Egypt",
            "Eritrea",
            "Ethiopia",
            "Gabon",
            "Ghana",
            "Guinea",
            "Gambia",
            "Guinea-Bissau",
            "Equatorial Guinea",
            "Kenya",
            "Liberia",
            "Lesotho",
            "Zambia",
            "Zimbabwe"
           ],
           "legendgroup": "Africa",
           "marker": {
            "color": "#19d3f3",
            "size": [
             0.00000684,
             0.00029685,
             0.0000567,
             0.00016492900000000002,
             0.00008909999999999998,
             0.0000878,
             0.000011599999999999999,
             0.000043200000000000007,
             0.00011386700000000001,
             0.002716219,
             0.000052600000000000005,
             0.00008420000000000001,
             0.000230013,
             0.00000802,
             0.000067,
             0.0000307,
             0.0000354,
             0.00000268,
             0.0000244,
             0.0000126,
             0.000021600000000000003,
             0.00014165600000000001,
             0.00031624,
             0.000202118,
             0.00009120000000000001,
             0.000056999999999999996,
             0.0031964859999999997,
             0.001850488,
             0.000175267,
             0.000194533,
             0.000159708,
             0.000029100000000000003,
             0.00000983,
             0.00019154599999999999,
             0.0000913,
             0.000132825,
             0.000068,
             0.00000122,
             0.00000648,
             0.00010794799999999999,
             0.00046497300000000004,
             0.003420497,
             0.000011400000000000001,
             0.000490044,
             0.00005739999999999999,
             0.000582639,
             0.0000823,
             0.000034899999999999995,
             0.00000149,
             0.000028800000000000002,
             0.000413699,
             0.0000832,
             0.00000173,
             0.000100688,
             0.0000348
            ],
            "sizemode": "area",
            "sizeref": 0.0000526570905785124,
            "symbol": "circle"
           },
           "mode": "markers",
           "name": "Africa",
           "orientation": "v",
           "showlegend": true,
           "type": "scatter",
           "x": [
            11999050,
            519893904,
            94209955,
            162423808,
            135031348,
            74107738,
            25323456,
            134302627,
            268448753,
            4488044743,
            72273470,
            66891436,
            284868395,
            4757955,
            69094954,
            56387460,
            38946414,
            1290842,
            36506145,
            19704049,
            43905582,
            327929640,
            493924639,
            278631364,
            119877275,
            63305608,
            4232067697,
            2241479248,
            291968864,
            212587208,
            212133315,
            39377436,
            35408445,
            317325907,
            189814326,
            1374462546,
            145453120,
            2373559,
            35169061,
            167463420,
            705817183,
            4512773674,
            17987742,
            552108163,
            89542159,
            787197513,
            120419469,
            42239074,
            1784598,
            94832296,
            407591426,
            88467637,
            3826548,
            105549376,
            59264654
           ],
           "xaxis": "x",
           "y": [
            -7.222105083,
            -7.035916505,
            -1.967328187,
            65.32571752,
            7.376173864,
            92.99251179,
            -25.22626059,
            -47.5721536,
            -30.9397876,
            -1.4626884930000001,
            18.38529269,
            104.93408899999999,
            31.46214763,
            174.342065,
            57.93203509,
            -11.2919823,
            47.83656334,
            237.41124010000001,
            8.658109477,
            3.834181492,
            -19.75974718,
            -29.66913909,
            4.243553438,
            18.10471918,
            23.86731013,
            46.62480929,
            22.97400421,
            34.41403224,
            -2.263431076,
            48.98757831,
            22.57755082,
            20.32735194,
            -54.81950422,
            -1.721227255,
            -21.71802617,
            -84.26597657,
            -23.90305687,
            -16.4014461,
            -69.99330178,
            4.951120669,
            7.2576241029999995,
            23.40670575,
            3.4557867239999998,
            44.5121343,
            4.450855379,
            20.50611865,
            11.28061028,
            34.39909691,
            35.8431983,
            -50.59140295,
            65.25412534,
            53.17557086,
            -26.23957677,
            55.31554919,
            -4.278270147
           ],
           "yaxis": "y"
          },
          {
           "hovertemplate": "<b>%{hovertext}</b><br><br>Continent=Antarctica<br>Year=2020<br>Trade Value=%{x}<br>Trade Value Growth=%{y}<br>currYearShare=%{marker.size}<extra></extra>",
           "hovertext": [
            "French South Antarctic Territory"
           ],
           "ids": [
            "French South Antarctic Territory"
           ],
           "legendgroup": "Antarctica",
           "marker": {
            "color": "#FF6692",
            "size": [
             0.00000265
            ],
            "sizemode": "area",
            "sizeref": 0.0000526570905785124,
            "symbol": "circle"
           },
           "mode": "markers",
           "name": "Antarctica",
           "orientation": "v",
           "showlegend": true,
           "type": "scatter",
           "x": [
            803256
           ],
           "xaxis": "x",
           "y": [
            437.53386219999993
           ],
           "yaxis": "y"
          }
         ],
         "name": "2020"
        }
       ],
       "layout": {
        "legend": {
         "itemsizing": "constant",
         "title": {
          "text": "Continent"
         },
         "tracegroupgap": 0
        },
        "sliders": [
         {
          "active": 0,
          "currentvalue": {
           "prefix": "Year="
          },
          "len": 0.9,
          "pad": {
           "b": 10,
           "t": 60
          },
          "steps": [
           {
            "args": [
             [
              "2011"
             ],
             {
              "frame": {
               "duration": 0,
               "redraw": false
              },
              "fromcurrent": true,
              "mode": "immediate",
              "transition": {
               "duration": 0,
               "easing": "linear"
              }
             }
            ],
            "label": "2011",
            "method": "animate"
           },
           {
            "args": [
             [
              "2012"
             ],
             {
              "frame": {
               "duration": 0,
               "redraw": false
              },
              "fromcurrent": true,
              "mode": "immediate",
              "transition": {
               "duration": 0,
               "easing": "linear"
              }
             }
            ],
            "label": "2012",
            "method": "animate"
           },
           {
            "args": [
             [
              "2013"
             ],
             {
              "frame": {
               "duration": 0,
               "redraw": false
              },
              "fromcurrent": true,
              "mode": "immediate",
              "transition": {
               "duration": 0,
               "easing": "linear"
              }
             }
            ],
            "label": "2013",
            "method": "animate"
           },
           {
            "args": [
             [
              "2014"
             ],
             {
              "frame": {
               "duration": 0,
               "redraw": false
              },
              "fromcurrent": true,
              "mode": "immediate",
              "transition": {
               "duration": 0,
               "easing": "linear"
              }
             }
            ],
            "label": "2014",
            "method": "animate"
           },
           {
            "args": [
             [
              "2015"
             ],
             {
              "frame": {
               "duration": 0,
               "redraw": false
              },
              "fromcurrent": true,
              "mode": "immediate",
              "transition": {
               "duration": 0,
               "easing": "linear"
              }
             }
            ],
            "label": "2015",
            "method": "animate"
           },
           {
            "args": [
             [
              "2016"
             ],
             {
              "frame": {
               "duration": 0,
               "redraw": false
              },
              "fromcurrent": true,
              "mode": "immediate",
              "transition": {
               "duration": 0,
               "easing": "linear"
              }
             }
            ],
            "label": "2016",
            "method": "animate"
           },
           {
            "args": [
             [
              "2017"
             ],
             {
              "frame": {
               "duration": 0,
               "redraw": false
              },
              "fromcurrent": true,
              "mode": "immediate",
              "transition": {
               "duration": 0,
               "easing": "linear"
              }
             }
            ],
            "label": "2017",
            "method": "animate"
           },
           {
            "args": [
             [
              "2018"
             ],
             {
              "frame": {
               "duration": 0,
               "redraw": false
              },
              "fromcurrent": true,
              "mode": "immediate",
              "transition": {
               "duration": 0,
               "easing": "linear"
              }
             }
            ],
            "label": "2018",
            "method": "animate"
           },
           {
            "args": [
             [
              "2019"
             ],
             {
              "frame": {
               "duration": 0,
               "redraw": false
              },
              "fromcurrent": true,
              "mode": "immediate",
              "transition": {
               "duration": 0,
               "easing": "linear"
              }
             }
            ],
            "label": "2019",
            "method": "animate"
           },
           {
            "args": [
             [
              "2020"
             ],
             {
              "frame": {
               "duration": 0,
               "redraw": false
              },
              "fromcurrent": true,
              "mode": "immediate",
              "transition": {
               "duration": 0,
               "easing": "linear"
              }
             }
            ],
            "label": "2020",
            "method": "animate"
           }
          ],
          "x": 0.1,
          "xanchor": "left",
          "y": 0,
          "yanchor": "top"
         }
        ],
        "template": {
         "data": {
          "bar": [
           {
            "error_x": {
             "color": "#2a3f5f"
            },
            "error_y": {
             "color": "#2a3f5f"
            },
            "marker": {
             "line": {
              "color": "#E5ECF6",
              "width": 0.5
             },
             "pattern": {
              "fillmode": "overlay",
              "size": 10,
              "solidity": 0.2
             }
            },
            "type": "bar"
           }
          ],
          "barpolar": [
           {
            "marker": {
             "line": {
              "color": "#E5ECF6",
              "width": 0.5
             },
             "pattern": {
              "fillmode": "overlay",
              "size": 10,
              "solidity": 0.2
             }
            },
            "type": "barpolar"
           }
          ],
          "carpet": [
           {
            "aaxis": {
             "endlinecolor": "#2a3f5f",
             "gridcolor": "white",
             "linecolor": "white",
             "minorgridcolor": "white",
             "startlinecolor": "#2a3f5f"
            },
            "baxis": {
             "endlinecolor": "#2a3f5f",
             "gridcolor": "white",
             "linecolor": "white",
             "minorgridcolor": "white",
             "startlinecolor": "#2a3f5f"
            },
            "type": "carpet"
           }
          ],
          "choropleth": [
           {
            "colorbar": {
             "outlinewidth": 0,
             "ticks": ""
            },
            "type": "choropleth"
           }
          ],
          "contour": [
           {
            "colorbar": {
             "outlinewidth": 0,
             "ticks": ""
            },
            "colorscale": [
             [
              0,
              "#0d0887"
             ],
             [
              0.1111111111111111,
              "#46039f"
             ],
             [
              0.2222222222222222,
              "#7201a8"
             ],
             [
              0.3333333333333333,
              "#9c179e"
             ],
             [
              0.4444444444444444,
              "#bd3786"
             ],
             [
              0.5555555555555556,
              "#d8576b"
             ],
             [
              0.6666666666666666,
              "#ed7953"
             ],
             [
              0.7777777777777778,
              "#fb9f3a"
             ],
             [
              0.8888888888888888,
              "#fdca26"
             ],
             [
              1,
              "#f0f921"
             ]
            ],
            "type": "contour"
           }
          ],
          "contourcarpet": [
           {
            "colorbar": {
             "outlinewidth": 0,
             "ticks": ""
            },
            "type": "contourcarpet"
           }
          ],
          "heatmap": [
           {
            "colorbar": {
             "outlinewidth": 0,
             "ticks": ""
            },
            "colorscale": [
             [
              0,
              "#0d0887"
             ],
             [
              0.1111111111111111,
              "#46039f"
             ],
             [
              0.2222222222222222,
              "#7201a8"
             ],
             [
              0.3333333333333333,
              "#9c179e"
             ],
             [
              0.4444444444444444,
              "#bd3786"
             ],
             [
              0.5555555555555556,
              "#d8576b"
             ],
             [
              0.6666666666666666,
              "#ed7953"
             ],
             [
              0.7777777777777778,
              "#fb9f3a"
             ],
             [
              0.8888888888888888,
              "#fdca26"
             ],
             [
              1,
              "#f0f921"
             ]
            ],
            "type": "heatmap"
           }
          ],
          "heatmapgl": [
           {
            "colorbar": {
             "outlinewidth": 0,
             "ticks": ""
            },
            "colorscale": [
             [
              0,
              "#0d0887"
             ],
             [
              0.1111111111111111,
              "#46039f"
             ],
             [
              0.2222222222222222,
              "#7201a8"
             ],
             [
              0.3333333333333333,
              "#9c179e"
             ],
             [
              0.4444444444444444,
              "#bd3786"
             ],
             [
              0.5555555555555556,
              "#d8576b"
             ],
             [
              0.6666666666666666,
              "#ed7953"
             ],
             [
              0.7777777777777778,
              "#fb9f3a"
             ],
             [
              0.8888888888888888,
              "#fdca26"
             ],
             [
              1,
              "#f0f921"
             ]
            ],
            "type": "heatmapgl"
           }
          ],
          "histogram": [
           {
            "marker": {
             "pattern": {
              "fillmode": "overlay",
              "size": 10,
              "solidity": 0.2
             }
            },
            "type": "histogram"
           }
          ],
          "histogram2d": [
           {
            "colorbar": {
             "outlinewidth": 0,
             "ticks": ""
            },
            "colorscale": [
             [
              0,
              "#0d0887"
             ],
             [
              0.1111111111111111,
              "#46039f"
             ],
             [
              0.2222222222222222,
              "#7201a8"
             ],
             [
              0.3333333333333333,
              "#9c179e"
             ],
             [
              0.4444444444444444,
              "#bd3786"
             ],
             [
              0.5555555555555556,
              "#d8576b"
             ],
             [
              0.6666666666666666,
              "#ed7953"
             ],
             [
              0.7777777777777778,
              "#fb9f3a"
             ],
             [
              0.8888888888888888,
              "#fdca26"
             ],
             [
              1,
              "#f0f921"
             ]
            ],
            "type": "histogram2d"
           }
          ],
          "histogram2dcontour": [
           {
            "colorbar": {
             "outlinewidth": 0,
             "ticks": ""
            },
            "colorscale": [
             [
              0,
              "#0d0887"
             ],
             [
              0.1111111111111111,
              "#46039f"
             ],
             [
              0.2222222222222222,
              "#7201a8"
             ],
             [
              0.3333333333333333,
              "#9c179e"
             ],
             [
              0.4444444444444444,
              "#bd3786"
             ],
             [
              0.5555555555555556,
              "#d8576b"
             ],
             [
              0.6666666666666666,
              "#ed7953"
             ],
             [
              0.7777777777777778,
              "#fb9f3a"
             ],
             [
              0.8888888888888888,
              "#fdca26"
             ],
             [
              1,
              "#f0f921"
             ]
            ],
            "type": "histogram2dcontour"
           }
          ],
          "mesh3d": [
           {
            "colorbar": {
             "outlinewidth": 0,
             "ticks": ""
            },
            "type": "mesh3d"
           }
          ],
          "parcoords": [
           {
            "line": {
             "colorbar": {
              "outlinewidth": 0,
              "ticks": ""
             }
            },
            "type": "parcoords"
           }
          ],
          "pie": [
           {
            "automargin": true,
            "type": "pie"
           }
          ],
          "scatter": [
           {
            "fillpattern": {
             "fillmode": "overlay",
             "size": 10,
             "solidity": 0.2
            },
            "type": "scatter"
           }
          ],
          "scatter3d": [
           {
            "line": {
             "colorbar": {
              "outlinewidth": 0,
              "ticks": ""
             }
            },
            "marker": {
             "colorbar": {
              "outlinewidth": 0,
              "ticks": ""
             }
            },
            "type": "scatter3d"
           }
          ],
          "scattercarpet": [
           {
            "marker": {
             "colorbar": {
              "outlinewidth": 0,
              "ticks": ""
             }
            },
            "type": "scattercarpet"
           }
          ],
          "scattergeo": [
           {
            "marker": {
             "colorbar": {
              "outlinewidth": 0,
              "ticks": ""
             }
            },
            "type": "scattergeo"
           }
          ],
          "scattergl": [
           {
            "marker": {
             "colorbar": {
              "outlinewidth": 0,
              "ticks": ""
             }
            },
            "type": "scattergl"
           }
          ],
          "scattermapbox": [
           {
            "marker": {
             "colorbar": {
              "outlinewidth": 0,
              "ticks": ""
             }
            },
            "type": "scattermapbox"
           }
          ],
          "scatterpolar": [
           {
            "marker": {
             "colorbar": {
              "outlinewidth": 0,
              "ticks": ""
             }
            },
            "type": "scatterpolar"
           }
          ],
          "scatterpolargl": [
           {
            "marker": {
             "colorbar": {
              "outlinewidth": 0,
              "ticks": ""
             }
            },
            "type": "scatterpolargl"
           }
          ],
          "scatterternary": [
           {
            "marker": {
             "colorbar": {
              "outlinewidth": 0,
              "ticks": ""
             }
            },
            "type": "scatterternary"
           }
          ],
          "surface": [
           {
            "colorbar": {
             "outlinewidth": 0,
             "ticks": ""
            },
            "colorscale": [
             [
              0,
              "#0d0887"
             ],
             [
              0.1111111111111111,
              "#46039f"
             ],
             [
              0.2222222222222222,
              "#7201a8"
             ],
             [
              0.3333333333333333,
              "#9c179e"
             ],
             [
              0.4444444444444444,
              "#bd3786"
             ],
             [
              0.5555555555555556,
              "#d8576b"
             ],
             [
              0.6666666666666666,
              "#ed7953"
             ],
             [
              0.7777777777777778,
              "#fb9f3a"
             ],
             [
              0.8888888888888888,
              "#fdca26"
             ],
             [
              1,
              "#f0f921"
             ]
            ],
            "type": "surface"
           }
          ],
          "table": [
           {
            "cells": {
             "fill": {
              "color": "#EBF0F8"
             },
             "line": {
              "color": "white"
             }
            },
            "header": {
             "fill": {
              "color": "#C8D4E3"
             },
             "line": {
              "color": "white"
             }
            },
            "type": "table"
           }
          ]
         },
         "layout": {
          "annotationdefaults": {
           "arrowcolor": "#2a3f5f",
           "arrowhead": 0,
           "arrowwidth": 1
          },
          "autotypenumbers": "strict",
          "coloraxis": {
           "colorbar": {
            "outlinewidth": 0,
            "ticks": ""
           }
          },
          "colorscale": {
           "diverging": [
            [
             0,
             "#8e0152"
            ],
            [
             0.1,
             "#c51b7d"
            ],
            [
             0.2,
             "#de77ae"
            ],
            [
             0.3,
             "#f1b6da"
            ],
            [
             0.4,
             "#fde0ef"
            ],
            [
             0.5,
             "#f7f7f7"
            ],
            [
             0.6,
             "#e6f5d0"
            ],
            [
             0.7,
             "#b8e186"
            ],
            [
             0.8,
             "#7fbc41"
            ],
            [
             0.9,
             "#4d9221"
            ],
            [
             1,
             "#276419"
            ]
           ],
           "sequential": [
            [
             0,
             "#0d0887"
            ],
            [
             0.1111111111111111,
             "#46039f"
            ],
            [
             0.2222222222222222,
             "#7201a8"
            ],
            [
             0.3333333333333333,
             "#9c179e"
            ],
            [
             0.4444444444444444,
             "#bd3786"
            ],
            [
             0.5555555555555556,
             "#d8576b"
            ],
            [
             0.6666666666666666,
             "#ed7953"
            ],
            [
             0.7777777777777778,
             "#fb9f3a"
            ],
            [
             0.8888888888888888,
             "#fdca26"
            ],
            [
             1,
             "#f0f921"
            ]
           ],
           "sequentialminus": [
            [
             0,
             "#0d0887"
            ],
            [
             0.1111111111111111,
             "#46039f"
            ],
            [
             0.2222222222222222,
             "#7201a8"
            ],
            [
             0.3333333333333333,
             "#9c179e"
            ],
            [
             0.4444444444444444,
             "#bd3786"
            ],
            [
             0.5555555555555556,
             "#d8576b"
            ],
            [
             0.6666666666666666,
             "#ed7953"
            ],
            [
             0.7777777777777778,
             "#fb9f3a"
            ],
            [
             0.8888888888888888,
             "#fdca26"
            ],
            [
             1,
             "#f0f921"
            ]
           ]
          },
          "colorway": [
           "#636efa",
           "#EF553B",
           "#00cc96",
           "#ab63fa",
           "#FFA15A",
           "#19d3f3",
           "#FF6692",
           "#B6E880",
           "#FF97FF",
           "#FECB52"
          ],
          "font": {
           "color": "#2a3f5f"
          },
          "geo": {
           "bgcolor": "white",
           "lakecolor": "white",
           "landcolor": "#E5ECF6",
           "showlakes": true,
           "showland": true,
           "subunitcolor": "white"
          },
          "hoverlabel": {
           "align": "left"
          },
          "hovermode": "closest",
          "mapbox": {
           "style": "light"
          },
          "paper_bgcolor": "white",
          "plot_bgcolor": "#E5ECF6",
          "polar": {
           "angularaxis": {
            "gridcolor": "white",
            "linecolor": "white",
            "ticks": ""
           },
           "bgcolor": "#E5ECF6",
           "radialaxis": {
            "gridcolor": "white",
            "linecolor": "white",
            "ticks": ""
           }
          },
          "scene": {
           "xaxis": {
            "backgroundcolor": "#E5ECF6",
            "gridcolor": "white",
            "gridwidth": 2,
            "linecolor": "white",
            "showbackground": true,
            "ticks": "",
            "zerolinecolor": "white"
           },
           "yaxis": {
            "backgroundcolor": "#E5ECF6",
            "gridcolor": "white",
            "gridwidth": 2,
            "linecolor": "white",
            "showbackground": true,
            "ticks": "",
            "zerolinecolor": "white"
           },
           "zaxis": {
            "backgroundcolor": "#E5ECF6",
            "gridcolor": "white",
            "gridwidth": 2,
            "linecolor": "white",
            "showbackground": true,
            "ticks": "",
            "zerolinecolor": "white"
           }
          },
          "shapedefaults": {
           "line": {
            "color": "#2a3f5f"
           }
          },
          "ternary": {
           "aaxis": {
            "gridcolor": "white",
            "linecolor": "white",
            "ticks": ""
           },
           "baxis": {
            "gridcolor": "white",
            "linecolor": "white",
            "ticks": ""
           },
           "bgcolor": "#E5ECF6",
           "caxis": {
            "gridcolor": "white",
            "linecolor": "white",
            "ticks": ""
           }
          },
          "title": {
           "x": 0.05
          },
          "xaxis": {
           "automargin": true,
           "gridcolor": "white",
           "linecolor": "white",
           "ticks": "",
           "title": {
            "standoff": 15
           },
           "zerolinecolor": "white",
           "zerolinewidth": 2
          },
          "yaxis": {
           "automargin": true,
           "gridcolor": "white",
           "linecolor": "white",
           "ticks": "",
           "title": {
            "standoff": 15
           },
           "zerolinecolor": "white",
           "zerolinewidth": 2
          }
         }
        },
        "title": {
         "text": "Trade Growth vs Trade Value by Continents and Countries over Time"
        },
        "updatemenus": [
         {
          "buttons": [
           {
            "args": [
             null,
             {
              "frame": {
               "duration": 500,
               "redraw": false
              },
              "fromcurrent": true,
              "mode": "immediate",
              "transition": {
               "duration": 500,
               "easing": "linear"
              }
             }
            ],
            "label": "&#9654;",
            "method": "animate"
           },
           {
            "args": [
             [
              null
             ],
             {
              "frame": {
               "duration": 0,
               "redraw": false
              },
              "fromcurrent": true,
              "mode": "immediate",
              "transition": {
               "duration": 0,
               "easing": "linear"
              }
             }
            ],
            "label": "&#9724;",
            "method": "animate"
           }
          ],
          "direction": "left",
          "pad": {
           "r": 10,
           "t": 70
          },
          "showactive": false,
          "type": "buttons",
          "x": 0.1,
          "xanchor": "right",
          "y": 0,
          "yanchor": "top"
         }
        ],
        "xaxis": {
         "anchor": "y",
         "domain": [
          0,
          1
         ],
         "range": [
          8,
          12.999999999999998
         ],
         "title": {
          "text": "Trade Value"
         },
         "type": "log"
        },
        "yaxis": {
         "anchor": "x",
         "domain": [
          0,
          1
         ],
         "title": {
          "text": "Trade Value Growth"
         }
        }
       }
      }
     },
     "metadata": {},
     "output_type": "display_data"
    }
   ],
   "source": [
    " fig = px.scatter(df, x=\"Trade Value\", y=\"Trade Value Growth\", animation_frame=\"Year\", \t\n",
    "          animation_group=\"Country\",\n",
    "            size=\"currYearShare\", color=\"Continent\", hover_name=\"Country\",\n",
    "       log_x=True, size_max=55, range_x=[100000000,10000000000000],\n",
    "       title='Trade Growth vs Trade Value by Continents and Countries over Time')\n",
    " \n",
    " fig.show()\n",
    " "
   ]
  },
  {
   "cell_type": "code",
   "execution_count": null,
   "metadata": {},
   "outputs": [],
   "source": [
    "# #Tree map US\n",
    "# df['World'] = 'World'\n",
    "# fig = px.treemap(df, \n",
    "#                  path=['World','Continent', 'Country'], \n",
    "#                  values='Trade Value',\n",
    "#                  color='Trade Value',\n",
    "#                  color_continuous_scale=px.colors.sequential.Plasma,\n",
    "#                  title='US Export Trade Value to Different Countries and Continents',\n",
    "#                  hover_data={'Continent': True,'Continent': True, 'Country': True, 'Trade Value': ':,.2f'})\n",
    "\n",
    "# fig.show()"
   ]
  },
  {
   "cell_type": "code",
   "execution_count": null,
   "metadata": {},
   "outputs": [
    {
     "data": {
      "application/vnd.plotly.v1+json": {
       "config": {
        "plotlyServerURL": "https://plot.ly"
       },
       "data": [
        {
         "branchvalues": "total",
         "labels": [
          "Africa",
          "Antarctica",
          "Asia",
          "Europe",
          "North America",
          "Oceania",
          "South America",
          "Angola",
          "Burundi",
          "Benin",
          "Burkina Faso",
          "Botswana",
          "Central African Republic",
          "Cote d'Ivoire",
          "Cameroon",
          "Democratic Republic of the Congo",
          "Republic of the Congo",
          "Comoros",
          "Cape Verde",
          "Djibouti",
          "Algeria",
          "Egypt",
          "Eritrea",
          "Ethiopia",
          "Gabon",
          "Ghana",
          "Guinea",
          "Gambia",
          "Guinea-Bissau",
          "Equatorial Guinea",
          "Kenya",
          "Liberia",
          "Libya",
          "Lesotho",
          "Morocco",
          "Madagascar",
          "Mali",
          "Mozambique",
          "Mauritania",
          "Mauritius",
          "Malawi",
          "Namibia",
          "Niger",
          "Nigeria",
          "Rwanda",
          "Sudan",
          "Senegal",
          "Saint Helena",
          "Sierra Leone",
          "Somalia",
          "South Sudan",
          "Sao Tome and Principe",
          "Eswatini",
          "Seychelles",
          "Chad",
          "Togo",
          "Tunisia",
          "Tanzania",
          "Uganda",
          "South Africa",
          "Zambia",
          "Zimbabwe",
          "French South Antarctic Territory",
          "Afghanistan",
          "United Arab Emirates",
          "Armenia",
          "Azerbaijan",
          "Bangladesh",
          "Bahrain",
          "Brunei",
          "Bhutan",
          "Cocos (Keeling) Islands",
          "China",
          "Christmas Island",
          "Cyprus",
          "Georgia",
          "Hong Kong",
          "Indonesia",
          "India",
          "British Indian Ocean Territory",
          "Iran",
          "Iraq",
          "Israel",
          "Jordan",
          "Japan",
          "Kazakhstan",
          "Kyrgyzstan",
          "Cambodia",
          "South Korea",
          "Kuwait",
          "Laos",
          "Lebanon",
          "Sri Lanka",
          "Macau",
          "Maldives",
          "Burma",
          "Mongolia",
          "Malaysia",
          "Nepal",
          "Oman",
          "Pakistan",
          "Philippines",
          "Palestine",
          "Qatar",
          "Saudi Arabia",
          "Singapore",
          "Syria",
          "Thailand",
          "Tajikistan",
          "Turkmenistan",
          "Timor-Leste",
          "Turkey",
          "Uzbekistan",
          "Vietnam",
          "Chinese Taipei",
          "Yemen",
          "Albania",
          "Andorra",
          "Austria",
          "Belgium",
          "Bulgaria",
          "Bosnia and Herzegovina",
          "Belarus",
          "Switzerland",
          "Czechia",
          "Germany",
          "Denmark",
          "Spain",
          "Estonia",
          "Finland",
          "France",
          "United Kingdom",
          "Gibraltar",
          "Greece",
          "Croatia",
          "Hungary",
          "Ireland",
          "Iceland",
          "Italy",
          "Lithuania",
          "Luxembourg",
          "Latvia",
          "Moldova",
          "North Macedonia",
          "Malta",
          "Montenegro",
          "Netherlands",
          "Norway",
          "Poland",
          "Portugal",
          "Romania",
          "Russia",
          "San Marino",
          "Serbia",
          "Slovakia",
          "Slovenia",
          "Sweden",
          "Ukraine",
          "Aruba",
          "Anguilla",
          "Antigua and Barbuda",
          "Bahamas",
          "Belize",
          "Bermuda",
          "Barbados",
          "Canada",
          "Costa Rica",
          "Cuba",
          "Curaçao",
          "Cayman Islands",
          "Dominica",
          "Dominican Republic",
          "Grenada",
          "Greenland",
          "Guatemala",
          "Honduras",
          "Haiti",
          "Jamaica",
          "Saint Kitts and Nevis",
          "Saint Lucia",
          "Saint Martin",
          "Mexico",
          "Montserrat",
          "Nicaragua",
          "Panama",
          "El Salvador",
          "Saint Pierre and Miquelon",
          "Turks and Caicos Islands",
          "Trinidad and Tobago",
          "Saint Vincent and the Grenadines",
          "British Virgin Islands",
          "Australia",
          "Cook Islands",
          "Fiji",
          "Micronesia",
          "Kiribati",
          "Marshall Islands",
          "New Caledonia",
          "Norfolk Island",
          "Niue",
          "Nauru",
          "New Zealand",
          "Palau",
          "Papua New Guinea",
          "French Polynesia",
          "Solomon Islands",
          "Tonga",
          "Tuvalu",
          "Vanuatu",
          "Wallis and Futuna",
          "Samoa",
          "Argentina",
          "Bolivia",
          "Brazil",
          "Chile",
          "Colombia",
          "Ecuador",
          "Falkland Islands",
          "Guyana",
          "Peru",
          "Paraguay",
          "Suriname",
          "Uruguay",
          "Venezuela"
         ],
         "parents": [
          "world",
          "world",
          "world",
          "world",
          "world",
          "world",
          "world",
          "Africa",
          "Africa",
          "Africa",
          "Africa",
          "Africa",
          "Africa",
          "Africa",
          "Africa",
          "Africa",
          "Africa",
          "Africa",
          "Africa",
          "Africa",
          "Africa",
          "Africa",
          "Africa",
          "Africa",
          "Africa",
          "Africa",
          "Africa",
          "Africa",
          "Africa",
          "Africa",
          "Africa",
          "Africa",
          "Africa",
          "Africa",
          "Africa",
          "Africa",
          "Africa",
          "Africa",
          "Africa",
          "Africa",
          "Africa",
          "Africa",
          "Africa",
          "Africa",
          "Africa",
          "Africa",
          "Africa",
          "Africa",
          "Africa",
          "Africa",
          "Africa",
          "Africa",
          "Africa",
          "Africa",
          "Africa",
          "Africa",
          "Africa",
          "Africa",
          "Africa",
          "Africa",
          "Africa",
          "Africa",
          "Antarctica",
          "Asia",
          "Asia",
          "Asia",
          "Asia",
          "Asia",
          "Asia",
          "Asia",
          "Asia",
          "Asia",
          "Asia",
          "Asia",
          "Asia",
          "Asia",
          "Asia",
          "Asia",
          "Asia",
          "Asia",
          "Asia",
          "Asia",
          "Asia",
          "Asia",
          "Asia",
          "Asia",
          "Asia",
          "Asia",
          "Asia",
          "Asia",
          "Asia",
          "Asia",
          "Asia",
          "Asia",
          "Asia",
          "Asia",
          "Asia",
          "Asia",
          "Asia",
          "Asia",
          "Asia",
          "Asia",
          "Asia",
          "Asia",
          "Asia",
          "Asia",
          "Asia",
          "Asia",
          "Asia",
          "Asia",
          "Asia",
          "Asia",
          "Asia",
          "Asia",
          "Asia",
          "Asia",
          "Europe",
          "Europe",
          "Europe",
          "Europe",
          "Europe",
          "Europe",
          "Europe",
          "Europe",
          "Europe",
          "Europe",
          "Europe",
          "Europe",
          "Europe",
          "Europe",
          "Europe",
          "Europe",
          "Europe",
          "Europe",
          "Europe",
          "Europe",
          "Europe",
          "Europe",
          "Europe",
          "Europe",
          "Europe",
          "Europe",
          "Europe",
          "Europe",
          "Europe",
          "Europe",
          "Europe",
          "Europe",
          "Europe",
          "Europe",
          "Europe",
          "Europe",
          "Europe",
          "Europe",
          "Europe",
          "Europe",
          "Europe",
          "Europe",
          "North America",
          "North America",
          "North America",
          "North America",
          "North America",
          "North America",
          "North America",
          "North America",
          "North America",
          "North America",
          "North America",
          "North America",
          "North America",
          "North America",
          "North America",
          "North America",
          "North America",
          "North America",
          "North America",
          "North America",
          "North America",
          "North America",
          "North America",
          "North America",
          "North America",
          "North America",
          "North America",
          "North America",
          "North America",
          "North America",
          "North America",
          "North America",
          "North America",
          "Oceania",
          "Oceania",
          "Oceania",
          "Oceania",
          "Oceania",
          "Oceania",
          "Oceania",
          "Oceania",
          "Oceania",
          "Oceania",
          "Oceania",
          "Oceania",
          "Oceania",
          "Oceania",
          "Oceania",
          "Oceania",
          "Oceania",
          "Oceania",
          "Oceania",
          "Oceania",
          "South America",
          "South America",
          "South America",
          "South America",
          "South America",
          "South America",
          "South America",
          "South America",
          "South America",
          "South America",
          "South America",
          "South America",
          "South America"
         ],
         "pathbar": {
          "textfont": {
           "size": 15
          }
         },
         "root": {
          "color": "lightgrey"
         },
         "texttemplate": "%{label} <br> %{value} <br> %{percentRoot}",
         "type": "treemap",
         "values": [
          24978566274,
          803256,
          454272320587,
          307170965875,
          460004417659,
          27730068850,
          71291897770,
          519893904,
          11999050,
          212587208,
          212133315,
          39377436,
          35408445,
          317325907,
          189814326,
          1374462546.0000002,
          145453120,
          2373559,
          35169061,
          167463420,
          705817183,
          4512773674,
          17987742,
          552108163,
          89542159,
          787197513,
          120419469,
          42239074,
          1784598,
          94832296,
          407591426,
          88467637,
          291968864,
          3826548,
          2241479248,
          63305608,
          94209955,
          162423808,
          135031348,
          74107738,
          25323456,
          134302627,
          268448753,
          4488044743,
          72273470,
          66891436,
          284868395,
          4757955,
          69094954,
          56387460,
          38946414,
          1290842,
          36506145,
          19704049,
          43905582,
          327929640,
          493924639,
          278631364,
          119877275,
          4232067697,
          105549376,
          59264654,
          803256,
          602882905,
          13708486148,
          58070332,
          274053221,
          1790733154,
          795197992,
          201624313,
          2791777,
          113950,
          122200397639,
          1870855,
          93735454,
          611637818,
          22149516055,
          7559141177,
          26693947011,
          6521073,
          36277981,
          729347336,
          8896461966,
          1345765926,
          63096545400,
          829481727,
          85931906,
          396040437,
          53533315030,
          2214815240,
          89100451,
          868709459,
          454721114,
          269688404,
          19263318,
          381089228,
          219022214,
          12440733494,
          129875544,
          955624174,
          2778901416,
          6891305838,
          67207985,
          3007347066,
          10944257081,
          25575400818,
          2051141,
          11246629987,
          14489748,
          32618756,
          9036955,
          10531480217,
          246718643,
          10155644771,
          28717967243,
          308731699,
          72626027,
          3616156,
          4246649053,
          22624257559,
          444887324,
          196631281,
          343437552,
          19700636821,
          3261011685,
          59086141841,
          2787149548,
          13646241442,
          424841425,
          1928896932,
          23653215863,
          47936301241,
          790164902,
          1142087251,
          333087400,
          2120008453,
          13106560687,
          324295627,
          18268334925,
          817449706,
          775895163,
          218177633,
          55797571,
          210620100,
          135280872,
          42106148,
          42715558481,
          4099582785,
          5523140691,
          1478115340,
          946913696,
          5490960189,
          2009485,
          360755414,
          605472284,
          505685300,
          4307955729,
          2438408293,
          350894411,
          41245960,
          268632344,
          2576975859,
          358043630,
          405024553,
          561640816,
          218510509583,
          5377561793,
          172059133,
          298192880,
          640977415,
          106080889,
          7385017706,
          123469745,
          6370520,
          5925446094,
          3934790125,
          976019809,
          1770514130,
          119965946,
          436267622,
          318379861,
          197520518821,
          19476431,
          1458374363,
          5112798346,
          2615843770,
          231405,
          150711086,
          2170662786,
          115694302,
          176025525,
          24230072372,
          2707705,
          56175959,
          50129095,
          1956108,
          128960565,
          46462725,
          10656141,
          165570,
          575641,
          2934499842,
          18058467,
          54668161,
          149656398,
          2873123,
          11903877,
          1592087,
          4058326,
          122726,
          24773962,
          4860699059,
          472242912,
          29324801003,
          10576273750,
          11055291193,
          4113814907,
          280492,
          678564823,
          6775356329,
          1026646935,
          292572908,
          1024790699,
          1090562760
         ]
        }
       ],
       "layout": {
        "template": {
         "data": {
          "bar": [
           {
            "error_x": {
             "color": "#2a3f5f"
            },
            "error_y": {
             "color": "#2a3f5f"
            },
            "marker": {
             "line": {
              "color": "#E5ECF6",
              "width": 0.5
             },
             "pattern": {
              "fillmode": "overlay",
              "size": 10,
              "solidity": 0.2
             }
            },
            "type": "bar"
           }
          ],
          "barpolar": [
           {
            "marker": {
             "line": {
              "color": "#E5ECF6",
              "width": 0.5
             },
             "pattern": {
              "fillmode": "overlay",
              "size": 10,
              "solidity": 0.2
             }
            },
            "type": "barpolar"
           }
          ],
          "carpet": [
           {
            "aaxis": {
             "endlinecolor": "#2a3f5f",
             "gridcolor": "white",
             "linecolor": "white",
             "minorgridcolor": "white",
             "startlinecolor": "#2a3f5f"
            },
            "baxis": {
             "endlinecolor": "#2a3f5f",
             "gridcolor": "white",
             "linecolor": "white",
             "minorgridcolor": "white",
             "startlinecolor": "#2a3f5f"
            },
            "type": "carpet"
           }
          ],
          "choropleth": [
           {
            "colorbar": {
             "outlinewidth": 0,
             "ticks": ""
            },
            "type": "choropleth"
           }
          ],
          "contour": [
           {
            "colorbar": {
             "outlinewidth": 0,
             "ticks": ""
            },
            "colorscale": [
             [
              0,
              "#0d0887"
             ],
             [
              0.1111111111111111,
              "#46039f"
             ],
             [
              0.2222222222222222,
              "#7201a8"
             ],
             [
              0.3333333333333333,
              "#9c179e"
             ],
             [
              0.4444444444444444,
              "#bd3786"
             ],
             [
              0.5555555555555556,
              "#d8576b"
             ],
             [
              0.6666666666666666,
              "#ed7953"
             ],
             [
              0.7777777777777778,
              "#fb9f3a"
             ],
             [
              0.8888888888888888,
              "#fdca26"
             ],
             [
              1,
              "#f0f921"
             ]
            ],
            "type": "contour"
           }
          ],
          "contourcarpet": [
           {
            "colorbar": {
             "outlinewidth": 0,
             "ticks": ""
            },
            "type": "contourcarpet"
           }
          ],
          "heatmap": [
           {
            "colorbar": {
             "outlinewidth": 0,
             "ticks": ""
            },
            "colorscale": [
             [
              0,
              "#0d0887"
             ],
             [
              0.1111111111111111,
              "#46039f"
             ],
             [
              0.2222222222222222,
              "#7201a8"
             ],
             [
              0.3333333333333333,
              "#9c179e"
             ],
             [
              0.4444444444444444,
              "#bd3786"
             ],
             [
              0.5555555555555556,
              "#d8576b"
             ],
             [
              0.6666666666666666,
              "#ed7953"
             ],
             [
              0.7777777777777778,
              "#fb9f3a"
             ],
             [
              0.8888888888888888,
              "#fdca26"
             ],
             [
              1,
              "#f0f921"
             ]
            ],
            "type": "heatmap"
           }
          ],
          "heatmapgl": [
           {
            "colorbar": {
             "outlinewidth": 0,
             "ticks": ""
            },
            "colorscale": [
             [
              0,
              "#0d0887"
             ],
             [
              0.1111111111111111,
              "#46039f"
             ],
             [
              0.2222222222222222,
              "#7201a8"
             ],
             [
              0.3333333333333333,
              "#9c179e"
             ],
             [
              0.4444444444444444,
              "#bd3786"
             ],
             [
              0.5555555555555556,
              "#d8576b"
             ],
             [
              0.6666666666666666,
              "#ed7953"
             ],
             [
              0.7777777777777778,
              "#fb9f3a"
             ],
             [
              0.8888888888888888,
              "#fdca26"
             ],
             [
              1,
              "#f0f921"
             ]
            ],
            "type": "heatmapgl"
           }
          ],
          "histogram": [
           {
            "marker": {
             "pattern": {
              "fillmode": "overlay",
              "size": 10,
              "solidity": 0.2
             }
            },
            "type": "histogram"
           }
          ],
          "histogram2d": [
           {
            "colorbar": {
             "outlinewidth": 0,
             "ticks": ""
            },
            "colorscale": [
             [
              0,
              "#0d0887"
             ],
             [
              0.1111111111111111,
              "#46039f"
             ],
             [
              0.2222222222222222,
              "#7201a8"
             ],
             [
              0.3333333333333333,
              "#9c179e"
             ],
             [
              0.4444444444444444,
              "#bd3786"
             ],
             [
              0.5555555555555556,
              "#d8576b"
             ],
             [
              0.6666666666666666,
              "#ed7953"
             ],
             [
              0.7777777777777778,
              "#fb9f3a"
             ],
             [
              0.8888888888888888,
              "#fdca26"
             ],
             [
              1,
              "#f0f921"
             ]
            ],
            "type": "histogram2d"
           }
          ],
          "histogram2dcontour": [
           {
            "colorbar": {
             "outlinewidth": 0,
             "ticks": ""
            },
            "colorscale": [
             [
              0,
              "#0d0887"
             ],
             [
              0.1111111111111111,
              "#46039f"
             ],
             [
              0.2222222222222222,
              "#7201a8"
             ],
             [
              0.3333333333333333,
              "#9c179e"
             ],
             [
              0.4444444444444444,
              "#bd3786"
             ],
             [
              0.5555555555555556,
              "#d8576b"
             ],
             [
              0.6666666666666666,
              "#ed7953"
             ],
             [
              0.7777777777777778,
              "#fb9f3a"
             ],
             [
              0.8888888888888888,
              "#fdca26"
             ],
             [
              1,
              "#f0f921"
             ]
            ],
            "type": "histogram2dcontour"
           }
          ],
          "mesh3d": [
           {
            "colorbar": {
             "outlinewidth": 0,
             "ticks": ""
            },
            "type": "mesh3d"
           }
          ],
          "parcoords": [
           {
            "line": {
             "colorbar": {
              "outlinewidth": 0,
              "ticks": ""
             }
            },
            "type": "parcoords"
           }
          ],
          "pie": [
           {
            "automargin": true,
            "type": "pie"
           }
          ],
          "scatter": [
           {
            "fillpattern": {
             "fillmode": "overlay",
             "size": 10,
             "solidity": 0.2
            },
            "type": "scatter"
           }
          ],
          "scatter3d": [
           {
            "line": {
             "colorbar": {
              "outlinewidth": 0,
              "ticks": ""
             }
            },
            "marker": {
             "colorbar": {
              "outlinewidth": 0,
              "ticks": ""
             }
            },
            "type": "scatter3d"
           }
          ],
          "scattercarpet": [
           {
            "marker": {
             "colorbar": {
              "outlinewidth": 0,
              "ticks": ""
             }
            },
            "type": "scattercarpet"
           }
          ],
          "scattergeo": [
           {
            "marker": {
             "colorbar": {
              "outlinewidth": 0,
              "ticks": ""
             }
            },
            "type": "scattergeo"
           }
          ],
          "scattergl": [
           {
            "marker": {
             "colorbar": {
              "outlinewidth": 0,
              "ticks": ""
             }
            },
            "type": "scattergl"
           }
          ],
          "scattermapbox": [
           {
            "marker": {
             "colorbar": {
              "outlinewidth": 0,
              "ticks": ""
             }
            },
            "type": "scattermapbox"
           }
          ],
          "scatterpolar": [
           {
            "marker": {
             "colorbar": {
              "outlinewidth": 0,
              "ticks": ""
             }
            },
            "type": "scatterpolar"
           }
          ],
          "scatterpolargl": [
           {
            "marker": {
             "colorbar": {
              "outlinewidth": 0,
              "ticks": ""
             }
            },
            "type": "scatterpolargl"
           }
          ],
          "scatterternary": [
           {
            "marker": {
             "colorbar": {
              "outlinewidth": 0,
              "ticks": ""
             }
            },
            "type": "scatterternary"
           }
          ],
          "surface": [
           {
            "colorbar": {
             "outlinewidth": 0,
             "ticks": ""
            },
            "colorscale": [
             [
              0,
              "#0d0887"
             ],
             [
              0.1111111111111111,
              "#46039f"
             ],
             [
              0.2222222222222222,
              "#7201a8"
             ],
             [
              0.3333333333333333,
              "#9c179e"
             ],
             [
              0.4444444444444444,
              "#bd3786"
             ],
             [
              0.5555555555555556,
              "#d8576b"
             ],
             [
              0.6666666666666666,
              "#ed7953"
             ],
             [
              0.7777777777777778,
              "#fb9f3a"
             ],
             [
              0.8888888888888888,
              "#fdca26"
             ],
             [
              1,
              "#f0f921"
             ]
            ],
            "type": "surface"
           }
          ],
          "table": [
           {
            "cells": {
             "fill": {
              "color": "#EBF0F8"
             },
             "line": {
              "color": "white"
             }
            },
            "header": {
             "fill": {
              "color": "#C8D4E3"
             },
             "line": {
              "color": "white"
             }
            },
            "type": "table"
           }
          ]
         },
         "layout": {
          "annotationdefaults": {
           "arrowcolor": "#2a3f5f",
           "arrowhead": 0,
           "arrowwidth": 1
          },
          "autotypenumbers": "strict",
          "coloraxis": {
           "colorbar": {
            "outlinewidth": 0,
            "ticks": ""
           }
          },
          "colorscale": {
           "diverging": [
            [
             0,
             "#8e0152"
            ],
            [
             0.1,
             "#c51b7d"
            ],
            [
             0.2,
             "#de77ae"
            ],
            [
             0.3,
             "#f1b6da"
            ],
            [
             0.4,
             "#fde0ef"
            ],
            [
             0.5,
             "#f7f7f7"
            ],
            [
             0.6,
             "#e6f5d0"
            ],
            [
             0.7,
             "#b8e186"
            ],
            [
             0.8,
             "#7fbc41"
            ],
            [
             0.9,
             "#4d9221"
            ],
            [
             1,
             "#276419"
            ]
           ],
           "sequential": [
            [
             0,
             "#0d0887"
            ],
            [
             0.1111111111111111,
             "#46039f"
            ],
            [
             0.2222222222222222,
             "#7201a8"
            ],
            [
             0.3333333333333333,
             "#9c179e"
            ],
            [
             0.4444444444444444,
             "#bd3786"
            ],
            [
             0.5555555555555556,
             "#d8576b"
            ],
            [
             0.6666666666666666,
             "#ed7953"
            ],
            [
             0.7777777777777778,
             "#fb9f3a"
            ],
            [
             0.8888888888888888,
             "#fdca26"
            ],
            [
             1,
             "#f0f921"
            ]
           ],
           "sequentialminus": [
            [
             0,
             "#0d0887"
            ],
            [
             0.1111111111111111,
             "#46039f"
            ],
            [
             0.2222222222222222,
             "#7201a8"
            ],
            [
             0.3333333333333333,
             "#9c179e"
            ],
            [
             0.4444444444444444,
             "#bd3786"
            ],
            [
             0.5555555555555556,
             "#d8576b"
            ],
            [
             0.6666666666666666,
             "#ed7953"
            ],
            [
             0.7777777777777778,
             "#fb9f3a"
            ],
            [
             0.8888888888888888,
             "#fdca26"
            ],
            [
             1,
             "#f0f921"
            ]
           ]
          },
          "colorway": [
           "#636efa",
           "#EF553B",
           "#00cc96",
           "#ab63fa",
           "#FFA15A",
           "#19d3f3",
           "#FF6692",
           "#B6E880",
           "#FF97FF",
           "#FECB52"
          ],
          "font": {
           "color": "#2a3f5f"
          },
          "geo": {
           "bgcolor": "white",
           "lakecolor": "white",
           "landcolor": "#E5ECF6",
           "showlakes": true,
           "showland": true,
           "subunitcolor": "white"
          },
          "hoverlabel": {
           "align": "left"
          },
          "hovermode": "closest",
          "mapbox": {
           "style": "light"
          },
          "paper_bgcolor": "white",
          "plot_bgcolor": "#E5ECF6",
          "polar": {
           "angularaxis": {
            "gridcolor": "white",
            "linecolor": "white",
            "ticks": ""
           },
           "bgcolor": "#E5ECF6",
           "radialaxis": {
            "gridcolor": "white",
            "linecolor": "white",
            "ticks": ""
           }
          },
          "scene": {
           "xaxis": {
            "backgroundcolor": "#E5ECF6",
            "gridcolor": "white",
            "gridwidth": 2,
            "linecolor": "white",
            "showbackground": true,
            "ticks": "",
            "zerolinecolor": "white"
           },
           "yaxis": {
            "backgroundcolor": "#E5ECF6",
            "gridcolor": "white",
            "gridwidth": 2,
            "linecolor": "white",
            "showbackground": true,
            "ticks": "",
            "zerolinecolor": "white"
           },
           "zaxis": {
            "backgroundcolor": "#E5ECF6",
            "gridcolor": "white",
            "gridwidth": 2,
            "linecolor": "white",
            "showbackground": true,
            "ticks": "",
            "zerolinecolor": "white"
           }
          },
          "shapedefaults": {
           "line": {
            "color": "#2a3f5f"
           }
          },
          "ternary": {
           "aaxis": {
            "gridcolor": "white",
            "linecolor": "white",
            "ticks": ""
           },
           "baxis": {
            "gridcolor": "white",
            "linecolor": "white",
            "ticks": ""
           },
           "bgcolor": "#E5ECF6",
           "caxis": {
            "gridcolor": "white",
            "linecolor": "white",
            "ticks": ""
           }
          },
          "title": {
           "x": 0.05
          },
          "xaxis": {
           "automargin": true,
           "gridcolor": "white",
           "linecolor": "white",
           "ticks": "",
           "title": {
            "standoff": 15
           },
           "zerolinecolor": "white",
           "zerolinewidth": 2
          },
          "yaxis": {
           "automargin": true,
           "gridcolor": "white",
           "linecolor": "white",
           "ticks": "",
           "title": {
            "standoff": 15
           },
           "zerolinecolor": "white",
           "zerolinewidth": 2
          }
         }
        },
        "title": {
         "text": "US Export Trade Value by Continents and Countries"
        }
       }
      }
     },
     "metadata": {},
     "output_type": "display_data"
    }
   ],
   "source": [
    "df_2020 =pd.read_csv(\"Total-Export-Growth-by-Market-2020.csv\")\n",
    "\n",
    "df_continent = (\n",
    "    df_2020.groupby([\"Continent\", \"Year\"], as_index=False)[\n",
    "        [\"Trade Value\"]\n",
    "    ]\n",
    "    .sum())\n",
    "\n",
    "df_continent[\"Country\"] = df_continent[\"Continent\"]\n",
    "df_continent[\"Continent\"] = \"world\"\n",
    "\n",
    "df_world = (\n",
    "    df_2020.groupby([ \"Year\"], as_index=False)\n",
    "    [[\"Trade Value\"]]\n",
    "    .sum()\n",
    ")\n",
    "df_world['Country']='world'\n",
    "df_world['Continent']=''\n",
    "\n",
    "df_total = df_continent.append(\n",
    "    df_2020[\n",
    "        [\"Year\",\"Country\",\"Continent\",\"Trade Value\",]\n",
    "    ]\n",
    ")\n",
    "\n",
    "mask = df_total.Year == 2020\n",
    "df_tmp = (df_total[mask])\n",
    "\n",
    "fig3 = go.Figure(\n",
    "    go.Treemap(\n",
    "        labels=df_tmp[\"Country\"],\n",
    "        values=df_tmp[\"Trade Value\"],\n",
    "        parents=df_tmp[\"Continent\"],\n",
    "        branchvalues='total',\n",
    "        root_color=\"lightgrey\",\n",
    "        # textinfo = \"label+ percent parent\",\n",
    "        texttemplate='%{label} <br> %{value} <br> %{percentRoot}',\n",
    "        pathbar_textfont_size=15,\n",
    "    )\n",
    ")\n",
    "\n",
    "fig3.update_layout(title='US Export Trade Value by Continents and Countries')\n",
    "\n",
    "fig3.show()\n"
   ]
  },
  {
   "cell_type": "code",
   "execution_count": null,
   "metadata": {},
   "outputs": [],
   "source": [
    "df_node =pd.read_csv(\"Product-Space.csv\")"
   ]
  },
  {
   "cell_type": "code",
   "execution_count": null,
   "metadata": {},
   "outputs": [
    {
     "data": {
      "text/html": [
       "<div>\n",
       "<style scoped>\n",
       "    .dataframe tbody tr th:only-of-type {\n",
       "        vertical-align: middle;\n",
       "    }\n",
       "\n",
       "    .dataframe tbody tr th {\n",
       "        vertical-align: top;\n",
       "    }\n",
       "\n",
       "    .dataframe thead th {\n",
       "        text-align: right;\n",
       "    }\n",
       "</style>\n",
       "<table border=\"1\" class=\"dataframe\">\n",
       "  <thead>\n",
       "    <tr style=\"text-align: right;\">\n",
       "      <th></th>\n",
       "      <th>id</th>\n",
       "      <th>Section ID</th>\n",
       "      <th>Section</th>\n",
       "      <th>HS2 ID</th>\n",
       "      <th>HS2</th>\n",
       "      <th>HS4 ID</th>\n",
       "      <th>HS4</th>\n",
       "      <th>Year</th>\n",
       "      <th>Trade Value</th>\n",
       "      <th>Trade Value RCA</th>\n",
       "    </tr>\n",
       "  </thead>\n",
       "  <tbody>\n",
       "    <tr>\n",
       "      <th>0</th>\n",
       "      <td>10101</td>\n",
       "      <td>1</td>\n",
       "      <td>Animal Products</td>\n",
       "      <td>101</td>\n",
       "      <td>Live animals</td>\n",
       "      <td>10101</td>\n",
       "      <td>Horses</td>\n",
       "      <td>2021</td>\n",
       "      <td>291395769.0</td>\n",
       "      <td>0.820292</td>\n",
       "    </tr>\n",
       "    <tr>\n",
       "      <th>1</th>\n",
       "      <td>10102</td>\n",
       "      <td>1</td>\n",
       "      <td>Animal Products</td>\n",
       "      <td>101</td>\n",
       "      <td>Live animals</td>\n",
       "      <td>10102</td>\n",
       "      <td>Bovine</td>\n",
       "      <td>2021</td>\n",
       "      <td>530716435.0</td>\n",
       "      <td>0.717595</td>\n",
       "    </tr>\n",
       "    <tr>\n",
       "      <th>2</th>\n",
       "      <td>10103</td>\n",
       "      <td>1</td>\n",
       "      <td>Animal Products</td>\n",
       "      <td>101</td>\n",
       "      <td>Live animals</td>\n",
       "      <td>10103</td>\n",
       "      <td>Pigs</td>\n",
       "      <td>2021</td>\n",
       "      <td>34725907.0</td>\n",
       "      <td>0.111995</td>\n",
       "    </tr>\n",
       "    <tr>\n",
       "      <th>3</th>\n",
       "      <td>10104</td>\n",
       "      <td>1</td>\n",
       "      <td>Animal Products</td>\n",
       "      <td>101</td>\n",
       "      <td>Live animals</td>\n",
       "      <td>10104</td>\n",
       "      <td>Sheep and Goats</td>\n",
       "      <td>2021</td>\n",
       "      <td>4033580.0</td>\n",
       "      <td>0.026377</td>\n",
       "    </tr>\n",
       "    <tr>\n",
       "      <th>4</th>\n",
       "      <td>10105</td>\n",
       "      <td>1</td>\n",
       "      <td>Animal Products</td>\n",
       "      <td>101</td>\n",
       "      <td>Live animals</td>\n",
       "      <td>10105</td>\n",
       "      <td>Poultry</td>\n",
       "      <td>2021</td>\n",
       "      <td>281912451.0</td>\n",
       "      <td>1.082019</td>\n",
       "    </tr>\n",
       "  </tbody>\n",
       "</table>\n",
       "</div>"
      ],
      "text/plain": [
       "      id  Section ID          Section  HS2 ID           HS2  HS4 ID  \\\n",
       "0  10101           1  Animal Products     101  Live animals   10101   \n",
       "1  10102           1  Animal Products     101  Live animals   10102   \n",
       "2  10103           1  Animal Products     101  Live animals   10103   \n",
       "3  10104           1  Animal Products     101  Live animals   10104   \n",
       "4  10105           1  Animal Products     101  Live animals   10105   \n",
       "\n",
       "               HS4  Year  Trade Value  Trade Value RCA  \n",
       "0           Horses  2021  291395769.0         0.820292  \n",
       "1           Bovine  2021  530716435.0         0.717595  \n",
       "2             Pigs  2021   34725907.0         0.111995  \n",
       "3  Sheep and Goats  2021    4033580.0         0.026377  \n",
       "4          Poultry  2021  281912451.0         1.082019  "
      ]
     },
     "execution_count": 245,
     "metadata": {},
     "output_type": "execute_result"
    }
   ],
   "source": [
    "df_node.head()"
   ]
  },
  {
   "cell_type": "code",
   "execution_count": null,
   "metadata": {},
   "outputs": [],
   "source": [
    "#Code reference:\n",
    "#Title:Plotly Sankey with Filters\n",
    "#Source: https://www.kaggle.com/code/iyadavvaibhav/plotly-sankey-with-filters, \n",
    "#Author: Vaibhav Yadav\n",
    "#Code version: Python\n",
    "#Year: 2020\n",
    "\n",
    "#Yadav, V (2020) Plotly Sankey with Filters [Python]. https://www.kaggle.com/code/iyadavvaibhav/plotly-sankey-with-filters\n",
    "\n",
    "df = df_node[[\"HS2\", \"Section\", \"HS4\",\"Trade Value\"]]\n",
    "def genSankey(df,category_column=[],value_column='',title='Sankey Diagram'):\n",
    "    # maximum of 6 value cols -> 6 colors\n",
    "    color = ['#4B8BBE','#306998','#FFE873','#FFD43B','#646464']\n",
    "    label_lst = []\n",
    "    color_using = []\n",
    "    for cat_col in category_column:\n",
    "        label_lstTemp =  list(set(df[cat_col].values))\n",
    "        color_using.append(len(label_lstTemp))\n",
    "        label_lst = label_lst + label_lstTemp\n",
    "        \n",
    "    # remove duplicates from label_lst\n",
    "    label_lst = list(dict.fromkeys(label_lst))\n",
    "    \n",
    "    # define colors based on number of levels\n",
    "    color_lists = []\n",
    "    for idx, colorNum in enumerate(color_using):\n",
    "        color_lists = color_lists + [color[idx]]*colorNum\n",
    "        \n",
    "    # transform df into a source-target pair\n",
    "    for i in range(len(category_column)-1):\n",
    "        if i==0:\n",
    "            source_targ_DF = df[[category_column[i],category_column[i+1],value_column]]\n",
    "            source_targ_DF.columns = ['source','target','count']\n",
    "        else:\n",
    "            temp_DF = df[[category_column[i],category_column[i+1],value_column]]\n",
    "            temp_DF.columns = ['source','target','count']\n",
    "            source_targ_DF = pd.concat([source_targ_DF,temp_DF])\n",
    "        source_targ_DF = source_targ_DF.groupby(['source','target']).agg({'count':'sum'}).reset_index()\n",
    "        \n",
    "    # add index for source-target pair\n",
    "    source_targ_DF['sourceID'] = source_targ_DF['source'].apply(lambda x: label_lst.index(x))\n",
    "    source_targ_DF['targetID'] = source_targ_DF['target'].apply(lambda x: label_lst.index(x))\n",
    "    \n",
    "    # creating the sankey diagram\n",
    "    data = dict(\n",
    "        type='sankey',\n",
    "        node = dict(\n",
    "          pad = 15,\n",
    "          thickness = 20,\n",
    "          line = dict(\n",
    "            color = \"black\",\n",
    "            width = 0.5),\n",
    "          label = label_lst,\n",
    "          color = color_lists),\n",
    "        link = dict(\n",
    "          source = source_targ_DF['sourceID'],\n",
    "          target = source_targ_DF['targetID'],\n",
    "          value = source_targ_DF['count']))\n",
    "    \n",
    "    layout =  dict(\n",
    "        title = title,\n",
    "        font = dict(\n",
    "          size = 10))\n",
    "       \n",
    "    fig = dict(data=[data], layout=layout)\n",
    "    return fig\n",
    "\n"
   ]
  },
  {
   "cell_type": "code",
   "execution_count": null,
   "metadata": {},
   "outputs": [
    {
     "data": {
      "text/html": [
       "        <script type=\"text/javascript\">\n",
       "        window.PlotlyConfig = {MathJaxConfig: 'local'};\n",
       "        if (window.MathJax && window.MathJax.Hub && window.MathJax.Hub.Config) {window.MathJax.Hub.Config({SVG: {font: \"STIX-Web\"}});}\n",
       "        if (typeof require !== 'undefined') {\n",
       "        require.undef(\"plotly\");\n",
       "        requirejs.config({\n",
       "            paths: {\n",
       "                'plotly': ['https://cdn.plot.ly/plotly-2.16.1.min']\n",
       "            }\n",
       "        });\n",
       "        require(['plotly'], function(Plotly) {\n",
       "            window._Plotly = Plotly;\n",
       "        });\n",
       "        }\n",
       "        </script>\n",
       "        "
      ]
     },
     "metadata": {},
     "output_type": "display_data"
    },
    {
     "data": {
      "application/vnd.plotly.v1+json": {
       "config": {
        "linkText": "Export to plot.ly",
        "plotlyServerURL": "https://plot.ly",
        "showLink": false
       },
       "data": [
        {
         "link": {
          "source": [
           1,
           1,
           1,
           1,
           1,
           0,
           5,
           7,
           7,
           7,
           7,
           7,
           7,
           7,
           7,
           7,
           10,
           10,
           10,
           10,
           10,
           10,
           10,
           10,
           12,
           12,
           12,
           12,
           12,
           12,
           12,
           12,
           12,
           12,
           14,
           14,
           14,
           14,
           14,
           14,
           14,
           14,
           14,
           14,
           14,
           14,
           14,
           14,
           4,
           4,
           4,
           4,
           4,
           4,
           4,
           4,
           4,
           4,
           13,
           13,
           13,
           13,
           13,
           13,
           13,
           13,
           13,
           13,
           13,
           13,
           13,
           13,
           17,
           17,
           17,
           17,
           17,
           17,
           17,
           15,
           15,
           15,
           15,
           15,
           15,
           11,
           11,
           11,
           11,
           6,
           6,
           6,
           6,
           6,
           6,
           6,
           6,
           6,
           6,
           3,
           3,
           8,
           8,
           8,
           8,
           8,
           8,
           8,
           8,
           8,
           8,
           8,
           8,
           8,
           8,
           16,
           16,
           16,
           16,
           16,
           16,
           16,
           16,
           16,
           2,
           2,
           2,
           2,
           2,
           2,
           2,
           2,
           2,
           9,
           9
          ],
          "target": [
           7,
           4,
           17,
           15,
           6,
           5,
           46,
           92,
           73,
           31,
           45,
           58,
           34,
           32,
           65,
           77,
           43,
           36,
           131,
           117,
           39,
           111,
           44,
           101,
           69,
           116,
           133,
           93,
           102,
           35,
           113,
           53,
           126,
           30,
           75,
           59,
           38,
           27,
           109,
           23,
           61,
           66,
           96,
           83,
           22,
           104,
           71,
           82,
           19,
           114,
           18,
           70,
           81,
           80,
           41,
           51,
           76,
           54,
           28,
           105,
           50,
           29,
           64,
           130,
           121,
           89,
           91,
           110,
           24,
           94,
           106,
           68,
           100,
           107,
           127,
           98,
           122,
           129,
           21,
           123,
           86,
           56,
           42,
           72,
           79,
           62,
           40,
           52,
           20,
           99,
           88,
           26,
           135,
           118,
           134,
           49,
           47,
           57,
           112,
           124,
           85,
           33,
           115,
           67,
           119,
           78,
           60,
           48,
           74,
           84,
           37,
           103,
           120,
           87,
           95,
           97,
           63,
           25,
           55,
           137,
           108,
           136,
           90,
           128,
           10,
           12,
           14,
           13,
           11,
           3,
           8,
           16,
           9,
           132,
           125
          ],
          "value": [
           1278403666,
           6020599674,
           4825047657,
           1264109335,
           21847515740,
           385865693,
           385865693,
           584007461,
           95502252,
           3361701,
           3250111,
           534141407,
           18885111,
           744493,
           36334537,
           2176593,
           76143327,
           75125814,
           18840091208,
           16682687,
           1955912095,
           4837546,
           2077383738,
           7829120670,
           14734570,
           1016997,
           776879275,
           2210977,
           5411562,
           67564265,
           8048906,
           62950596,
           89505902,
           11431370,
           1014762683,
           268205727.00000003,
           902894409,
           2729409,
           30836865,
           254428818,
           254963964,
           966466628,
           243958468,
           1069924697,
           8178389680,
           723183776,
           4680173,
           350733276,
           214651646,
           1849745919,
           2143951974,
           595586073,
           107651250,
           29610707,
           136802641,
           6869510,
           100871544,
           834858410,
           496252215,
           218489353,
           48429240,
           931138173,
           219686975,
           258594267,
           72610903,
           537199972,
           250392920,
           815385010,
           270761990,
           6907533,
           137115504,
           224379688.00000003,
           987801658,
           1458989744,
           38584824,
           50147685,
           321214323,
           213796885,
           1754512538,
           530716435,
           291395769,
           121325193,
           34725907,
           281912451,
           4033580,
           13136214,
           22421585,
           368947898,
           104055145,
           51198078,
           4558786046,
           1881004640,
           4397862423,
           670437,
           5911921,
           5837263265,
           4804118781,
           296968507,
           13731642,
           26579282,
           612849153,
           13793148,
           14030,
           1686711914.0000002,
           473691193,
           275130249,
           16286707,
           8465326,
           411569783,
           187637258,
           169406643,
           88904464.00000001,
           1003857434,
           27832459631,
           214749489,
           92756666,
           123250332,
           93900156,
           248918839,
           112242355,
           123552275,
           141263023,
           144972738,
           10278837,
           30875297085,
           1039754420,
           14266158573,
           4487343743,
           508560842,
           639428435,
           32382677269,
           1091135221,
           37618799,
           35714108,
           1904691
          ]
         },
         "node": {
          "color": [
           "#4B8BBE",
           "#4B8BBE",
           "#4B8BBE",
           "#306998",
           "#306998",
           "#306998",
           "#306998",
           "#306998",
           "#306998",
           "#306998",
           "#306998",
           "#306998",
           "#306998",
           "#306998",
           "#306998",
           "#306998",
           "#306998",
           "#306998",
           "#FFE873",
           "#FFE873",
           "#FFE873",
           "#FFE873",
           "#FFE873",
           "#FFE873",
           "#FFE873",
           "#FFE873",
           "#FFE873",
           "#FFE873",
           "#FFE873",
           "#FFE873",
           "#FFE873",
           "#FFE873",
           "#FFE873",
           "#FFE873",
           "#FFE873",
           "#FFE873",
           "#FFE873",
           "#FFE873",
           "#FFE873",
           "#FFE873",
           "#FFE873",
           "#FFE873",
           "#FFE873",
           "#FFE873",
           "#FFE873",
           "#FFE873",
           "#FFE873",
           "#FFE873",
           "#FFE873",
           "#FFE873",
           "#FFE873",
           "#FFE873",
           "#FFE873",
           "#FFE873",
           "#FFE873",
           "#FFE873",
           "#FFE873",
           "#FFE873",
           "#FFE873",
           "#FFE873",
           "#FFE873",
           "#FFE873",
           "#FFE873",
           "#FFE873",
           "#FFE873",
           "#FFE873",
           "#FFE873",
           "#FFE873",
           "#FFE873",
           "#FFE873",
           "#FFE873",
           "#FFE873",
           "#FFE873",
           "#FFE873",
           "#FFE873",
           "#FFE873",
           "#FFE873",
           "#FFE873",
           "#FFE873",
           "#FFE873",
           "#FFE873",
           "#FFE873",
           "#FFE873",
           "#FFE873",
           "#FFE873",
           "#FFE873",
           "#FFE873",
           "#FFE873",
           "#FFE873",
           "#FFE873",
           "#FFE873",
           "#FFE873",
           "#FFE873",
           "#FFE873",
           "#FFE873",
           "#FFE873",
           "#FFE873",
           "#FFE873",
           "#FFE873",
           "#FFE873",
           "#FFE873",
           "#FFE873",
           "#FFE873",
           "#FFE873",
           "#FFE873",
           "#FFE873",
           "#FFE873",
           "#FFE873",
           "#FFE873",
           "#FFE873",
           "#FFE873",
           "#FFE873",
           "#FFE873",
           "#FFE873",
           "#FFE873",
           "#FFE873",
           "#FFE873",
           "#FFE873",
           "#FFE873",
           "#FFE873",
           "#FFE873",
           "#FFE873",
           "#FFE873",
           "#FFE873",
           "#FFE873",
           "#FFE873",
           "#FFE873",
           "#FFE873",
           "#FFE873",
           "#FFE873",
           "#FFE873",
           "#FFE873",
           "#FFE873",
           "#FFE873",
           "#FFE873",
           "#FFE873",
           "#FFE873",
           "#FFE873"
          ],
          "label": [
           "Animal and Vegetable Bi-Products",
           "Animal Products",
           "Vegetable Products",
           "Natural gums, resins & other vegetable extracts",
           "Edible products of animal origin, n.e.s.",
           "Animal or vegetable fats, oils, & waxes",
           "Meat & edible offal",
           "Animal originated products, n.e.s.",
           "Oils seeds, oleaginous fruits, grains, straw & fodder",
           "Vegetable plaiting materials & products, n.e.s.",
           "Cereals",
           "Live trees, plants, bulbs, cut flowers, & ornamental foliage",
           "Coffee, tea, mate & spices",
           "Edible vegetables, roots, & tubers",
           "Edible fruits, nuts & fruit peels",
           "Live animals",
           "Products of the milling industry",
           "Fish, crustaceans, & molluscs",
           "Concentrated Milk",
           "Butter",
           "Plant foliage",
           "Non-fillet Frozen Fish",
           "Other Nuts",
           "Dried Fruits",
           "Potatoes",
           "Legume Flours",
           "Edible Offal",
           "Citrus and Melon Peels",
           "Cabbages",
           "Dried Legumes",
           "Vanilla",
           "Coral and Shells",
           "Pig Hair",
           "Cereal Straws",
           "Pharmaceutical Animal Products",
           "Pepper",
           "Buckwheat",
           "Perfume Plants",
           "Citrus",
           "Rice",
           "Cut Flowers",
           "Milk",
           "Pigs",
           "Barley",
           "Sorghum",
           "Human Hair",
           "Pig and Poultry Fat",
           "Poultry Meat",
           "Locust beans, seaweed, sugar beet, cane, for food",
           "Pig Meat",
           "Cucumbers",
           "Other Edible Animal Products",
           "Other live plants, cuttings and slips;\nmushroom spawn",
           "Spices",
           "Whey and other milk products",
           "Malt",
           "Other Animals",
           "Preserved Meat",
           "Other Inedible Animal Products",
           "Bananas",
           "Linseed",
           "Frozen Fruits and Nuts",
           "Bulbs and Roots",
           "Cereal Meal and Pellets",
           "Dried Vegetables",
           "Processed Bones",
           "Grapes",
           "Forage Crops",
           "Tomatoes",
           "Cinnamon",
           "Eggs",
           "Preserved Fruits and Nuts",
           "Poultry",
           "Bird Feathers and Skins",
           "Oil Seed Flower",
           "Apples and Pears",
           "Processed Egg Products",
           "Raw Bones",
           "Hops",
           "Sheep and Goats",
           "Honey",
           "Fermented Milk Products",
           "Tropical Fruits",
           "Other Fruits",
           "Other Oily Seeds",
           "Vegetable Saps",
           "Horses",
           "Soybeans",
           "Bovine Meat",
           "Lettuce",
           "Wheat Flours",
           "Onions",
           "Animal Organs",
           "Maté",
           "Preserved Vegetables",
           "Sunflower Seeds",
           "Melons",
           "Cereal Flours",
           "Live Fish",
           "Animal Fat",
           "Crustaceans",
           "Wheat",
           "Nutmeg, mace and cardamons",
           "Rapeseed",
           "Pitted Fruits",
           "Cassava",
           "Root Vegetables",
           "Fish Fillets",
           "Processed Cereals",
           "Coconuts, Brazil Nuts, and Cashews",
           "Other Vegetables",
           "Rye",
           "Sheep and Goat Meat",
           "Spice Seeds",
           "Cheese",
           "Copra",
           "Cloves",
           "Oats",
           "Horse Meat",
           "Ground Nuts",
           "Sowing Seeds",
           "Legumes",
           "Molluscs",
           "Bovine",
           "Insect Resins",
           "Vegetable Plaiting Materials",
           "Tea",
           "Fish: dried, salted, smoked or in brine",
           "Wheat Gluten",
           "Non-fillet Fresh Fish",
           "Frozen Vegetables",
           "Corn",
           "Other Vegetable Products",
           "Coffee",
           "Other Meat",
           "Frozen Bovine Meat",
           "Starches",
           "Potato Flours"
          ],
          "line": {
           "color": "black",
           "width": 0.5
          },
          "pad": 15,
          "thickness": 20
         },
         "type": "sankey"
        }
       ],
       "layout": {
        "font": {
         "size": 10
        },
        "template": {
         "data": {
          "bar": [
           {
            "error_x": {
             "color": "#2a3f5f"
            },
            "error_y": {
             "color": "#2a3f5f"
            },
            "marker": {
             "line": {
              "color": "#E5ECF6",
              "width": 0.5
             },
             "pattern": {
              "fillmode": "overlay",
              "size": 10,
              "solidity": 0.2
             }
            },
            "type": "bar"
           }
          ],
          "barpolar": [
           {
            "marker": {
             "line": {
              "color": "#E5ECF6",
              "width": 0.5
             },
             "pattern": {
              "fillmode": "overlay",
              "size": 10,
              "solidity": 0.2
             }
            },
            "type": "barpolar"
           }
          ],
          "carpet": [
           {
            "aaxis": {
             "endlinecolor": "#2a3f5f",
             "gridcolor": "white",
             "linecolor": "white",
             "minorgridcolor": "white",
             "startlinecolor": "#2a3f5f"
            },
            "baxis": {
             "endlinecolor": "#2a3f5f",
             "gridcolor": "white",
             "linecolor": "white",
             "minorgridcolor": "white",
             "startlinecolor": "#2a3f5f"
            },
            "type": "carpet"
           }
          ],
          "choropleth": [
           {
            "colorbar": {
             "outlinewidth": 0,
             "ticks": ""
            },
            "type": "choropleth"
           }
          ],
          "contour": [
           {
            "colorbar": {
             "outlinewidth": 0,
             "ticks": ""
            },
            "colorscale": [
             [
              0,
              "#0d0887"
             ],
             [
              0.1111111111111111,
              "#46039f"
             ],
             [
              0.2222222222222222,
              "#7201a8"
             ],
             [
              0.3333333333333333,
              "#9c179e"
             ],
             [
              0.4444444444444444,
              "#bd3786"
             ],
             [
              0.5555555555555556,
              "#d8576b"
             ],
             [
              0.6666666666666666,
              "#ed7953"
             ],
             [
              0.7777777777777778,
              "#fb9f3a"
             ],
             [
              0.8888888888888888,
              "#fdca26"
             ],
             [
              1,
              "#f0f921"
             ]
            ],
            "type": "contour"
           }
          ],
          "contourcarpet": [
           {
            "colorbar": {
             "outlinewidth": 0,
             "ticks": ""
            },
            "type": "contourcarpet"
           }
          ],
          "heatmap": [
           {
            "colorbar": {
             "outlinewidth": 0,
             "ticks": ""
            },
            "colorscale": [
             [
              0,
              "#0d0887"
             ],
             [
              0.1111111111111111,
              "#46039f"
             ],
             [
              0.2222222222222222,
              "#7201a8"
             ],
             [
              0.3333333333333333,
              "#9c179e"
             ],
             [
              0.4444444444444444,
              "#bd3786"
             ],
             [
              0.5555555555555556,
              "#d8576b"
             ],
             [
              0.6666666666666666,
              "#ed7953"
             ],
             [
              0.7777777777777778,
              "#fb9f3a"
             ],
             [
              0.8888888888888888,
              "#fdca26"
             ],
             [
              1,
              "#f0f921"
             ]
            ],
            "type": "heatmap"
           }
          ],
          "heatmapgl": [
           {
            "colorbar": {
             "outlinewidth": 0,
             "ticks": ""
            },
            "colorscale": [
             [
              0,
              "#0d0887"
             ],
             [
              0.1111111111111111,
              "#46039f"
             ],
             [
              0.2222222222222222,
              "#7201a8"
             ],
             [
              0.3333333333333333,
              "#9c179e"
             ],
             [
              0.4444444444444444,
              "#bd3786"
             ],
             [
              0.5555555555555556,
              "#d8576b"
             ],
             [
              0.6666666666666666,
              "#ed7953"
             ],
             [
              0.7777777777777778,
              "#fb9f3a"
             ],
             [
              0.8888888888888888,
              "#fdca26"
             ],
             [
              1,
              "#f0f921"
             ]
            ],
            "type": "heatmapgl"
           }
          ],
          "histogram": [
           {
            "marker": {
             "pattern": {
              "fillmode": "overlay",
              "size": 10,
              "solidity": 0.2
             }
            },
            "type": "histogram"
           }
          ],
          "histogram2d": [
           {
            "colorbar": {
             "outlinewidth": 0,
             "ticks": ""
            },
            "colorscale": [
             [
              0,
              "#0d0887"
             ],
             [
              0.1111111111111111,
              "#46039f"
             ],
             [
              0.2222222222222222,
              "#7201a8"
             ],
             [
              0.3333333333333333,
              "#9c179e"
             ],
             [
              0.4444444444444444,
              "#bd3786"
             ],
             [
              0.5555555555555556,
              "#d8576b"
             ],
             [
              0.6666666666666666,
              "#ed7953"
             ],
             [
              0.7777777777777778,
              "#fb9f3a"
             ],
             [
              0.8888888888888888,
              "#fdca26"
             ],
             [
              1,
              "#f0f921"
             ]
            ],
            "type": "histogram2d"
           }
          ],
          "histogram2dcontour": [
           {
            "colorbar": {
             "outlinewidth": 0,
             "ticks": ""
            },
            "colorscale": [
             [
              0,
              "#0d0887"
             ],
             [
              0.1111111111111111,
              "#46039f"
             ],
             [
              0.2222222222222222,
              "#7201a8"
             ],
             [
              0.3333333333333333,
              "#9c179e"
             ],
             [
              0.4444444444444444,
              "#bd3786"
             ],
             [
              0.5555555555555556,
              "#d8576b"
             ],
             [
              0.6666666666666666,
              "#ed7953"
             ],
             [
              0.7777777777777778,
              "#fb9f3a"
             ],
             [
              0.8888888888888888,
              "#fdca26"
             ],
             [
              1,
              "#f0f921"
             ]
            ],
            "type": "histogram2dcontour"
           }
          ],
          "mesh3d": [
           {
            "colorbar": {
             "outlinewidth": 0,
             "ticks": ""
            },
            "type": "mesh3d"
           }
          ],
          "parcoords": [
           {
            "line": {
             "colorbar": {
              "outlinewidth": 0,
              "ticks": ""
             }
            },
            "type": "parcoords"
           }
          ],
          "pie": [
           {
            "automargin": true,
            "type": "pie"
           }
          ],
          "scatter": [
           {
            "fillpattern": {
             "fillmode": "overlay",
             "size": 10,
             "solidity": 0.2
            },
            "type": "scatter"
           }
          ],
          "scatter3d": [
           {
            "line": {
             "colorbar": {
              "outlinewidth": 0,
              "ticks": ""
             }
            },
            "marker": {
             "colorbar": {
              "outlinewidth": 0,
              "ticks": ""
             }
            },
            "type": "scatter3d"
           }
          ],
          "scattercarpet": [
           {
            "marker": {
             "colorbar": {
              "outlinewidth": 0,
              "ticks": ""
             }
            },
            "type": "scattercarpet"
           }
          ],
          "scattergeo": [
           {
            "marker": {
             "colorbar": {
              "outlinewidth": 0,
              "ticks": ""
             }
            },
            "type": "scattergeo"
           }
          ],
          "scattergl": [
           {
            "marker": {
             "colorbar": {
              "outlinewidth": 0,
              "ticks": ""
             }
            },
            "type": "scattergl"
           }
          ],
          "scattermapbox": [
           {
            "marker": {
             "colorbar": {
              "outlinewidth": 0,
              "ticks": ""
             }
            },
            "type": "scattermapbox"
           }
          ],
          "scatterpolar": [
           {
            "marker": {
             "colorbar": {
              "outlinewidth": 0,
              "ticks": ""
             }
            },
            "type": "scatterpolar"
           }
          ],
          "scatterpolargl": [
           {
            "marker": {
             "colorbar": {
              "outlinewidth": 0,
              "ticks": ""
             }
            },
            "type": "scatterpolargl"
           }
          ],
          "scatterternary": [
           {
            "marker": {
             "colorbar": {
              "outlinewidth": 0,
              "ticks": ""
             }
            },
            "type": "scatterternary"
           }
          ],
          "surface": [
           {
            "colorbar": {
             "outlinewidth": 0,
             "ticks": ""
            },
            "colorscale": [
             [
              0,
              "#0d0887"
             ],
             [
              0.1111111111111111,
              "#46039f"
             ],
             [
              0.2222222222222222,
              "#7201a8"
             ],
             [
              0.3333333333333333,
              "#9c179e"
             ],
             [
              0.4444444444444444,
              "#bd3786"
             ],
             [
              0.5555555555555556,
              "#d8576b"
             ],
             [
              0.6666666666666666,
              "#ed7953"
             ],
             [
              0.7777777777777778,
              "#fb9f3a"
             ],
             [
              0.8888888888888888,
              "#fdca26"
             ],
             [
              1,
              "#f0f921"
             ]
            ],
            "type": "surface"
           }
          ],
          "table": [
           {
            "cells": {
             "fill": {
              "color": "#EBF0F8"
             },
             "line": {
              "color": "white"
             }
            },
            "header": {
             "fill": {
              "color": "#C8D4E3"
             },
             "line": {
              "color": "white"
             }
            },
            "type": "table"
           }
          ]
         },
         "layout": {
          "annotationdefaults": {
           "arrowcolor": "#2a3f5f",
           "arrowhead": 0,
           "arrowwidth": 1
          },
          "autotypenumbers": "strict",
          "coloraxis": {
           "colorbar": {
            "outlinewidth": 0,
            "ticks": ""
           }
          },
          "colorscale": {
           "diverging": [
            [
             0,
             "#8e0152"
            ],
            [
             0.1,
             "#c51b7d"
            ],
            [
             0.2,
             "#de77ae"
            ],
            [
             0.3,
             "#f1b6da"
            ],
            [
             0.4,
             "#fde0ef"
            ],
            [
             0.5,
             "#f7f7f7"
            ],
            [
             0.6,
             "#e6f5d0"
            ],
            [
             0.7,
             "#b8e186"
            ],
            [
             0.8,
             "#7fbc41"
            ],
            [
             0.9,
             "#4d9221"
            ],
            [
             1,
             "#276419"
            ]
           ],
           "sequential": [
            [
             0,
             "#0d0887"
            ],
            [
             0.1111111111111111,
             "#46039f"
            ],
            [
             0.2222222222222222,
             "#7201a8"
            ],
            [
             0.3333333333333333,
             "#9c179e"
            ],
            [
             0.4444444444444444,
             "#bd3786"
            ],
            [
             0.5555555555555556,
             "#d8576b"
            ],
            [
             0.6666666666666666,
             "#ed7953"
            ],
            [
             0.7777777777777778,
             "#fb9f3a"
            ],
            [
             0.8888888888888888,
             "#fdca26"
            ],
            [
             1,
             "#f0f921"
            ]
           ],
           "sequentialminus": [
            [
             0,
             "#0d0887"
            ],
            [
             0.1111111111111111,
             "#46039f"
            ],
            [
             0.2222222222222222,
             "#7201a8"
            ],
            [
             0.3333333333333333,
             "#9c179e"
            ],
            [
             0.4444444444444444,
             "#bd3786"
            ],
            [
             0.5555555555555556,
             "#d8576b"
            ],
            [
             0.6666666666666666,
             "#ed7953"
            ],
            [
             0.7777777777777778,
             "#fb9f3a"
            ],
            [
             0.8888888888888888,
             "#fdca26"
            ],
            [
             1,
             "#f0f921"
            ]
           ]
          },
          "colorway": [
           "#636efa",
           "#EF553B",
           "#00cc96",
           "#ab63fa",
           "#FFA15A",
           "#19d3f3",
           "#FF6692",
           "#B6E880",
           "#FF97FF",
           "#FECB52"
          ],
          "font": {
           "color": "#2a3f5f"
          },
          "geo": {
           "bgcolor": "white",
           "lakecolor": "white",
           "landcolor": "#E5ECF6",
           "showlakes": true,
           "showland": true,
           "subunitcolor": "white"
          },
          "hoverlabel": {
           "align": "left"
          },
          "hovermode": "closest",
          "mapbox": {
           "style": "light"
          },
          "paper_bgcolor": "white",
          "plot_bgcolor": "#E5ECF6",
          "polar": {
           "angularaxis": {
            "gridcolor": "white",
            "linecolor": "white",
            "ticks": ""
           },
           "bgcolor": "#E5ECF6",
           "radialaxis": {
            "gridcolor": "white",
            "linecolor": "white",
            "ticks": ""
           }
          },
          "scene": {
           "xaxis": {
            "backgroundcolor": "#E5ECF6",
            "gridcolor": "white",
            "gridwidth": 2,
            "linecolor": "white",
            "showbackground": true,
            "ticks": "",
            "zerolinecolor": "white"
           },
           "yaxis": {
            "backgroundcolor": "#E5ECF6",
            "gridcolor": "white",
            "gridwidth": 2,
            "linecolor": "white",
            "showbackground": true,
            "ticks": "",
            "zerolinecolor": "white"
           },
           "zaxis": {
            "backgroundcolor": "#E5ECF6",
            "gridcolor": "white",
            "gridwidth": 2,
            "linecolor": "white",
            "showbackground": true,
            "ticks": "",
            "zerolinecolor": "white"
           }
          },
          "shapedefaults": {
           "line": {
            "color": "#2a3f5f"
           }
          },
          "ternary": {
           "aaxis": {
            "gridcolor": "white",
            "linecolor": "white",
            "ticks": ""
           },
           "baxis": {
            "gridcolor": "white",
            "linecolor": "white",
            "ticks": ""
           },
           "bgcolor": "#E5ECF6",
           "caxis": {
            "gridcolor": "white",
            "linecolor": "white",
            "ticks": ""
           }
          },
          "title": {
           "x": 0.05
          },
          "xaxis": {
           "automargin": true,
           "gridcolor": "white",
           "linecolor": "white",
           "ticks": "",
           "title": {
            "standoff": 15
           },
           "zerolinecolor": "white",
           "zerolinewidth": 2
          },
          "yaxis": {
           "automargin": true,
           "gridcolor": "white",
           "linecolor": "white",
           "ticks": "",
           "title": {
            "standoff": 15
           },
           "zerolinecolor": "white",
           "zerolinewidth": 2
          }
         }
        },
        "title": {
         "text": "Aniaml and vegetable products"
        }
       }
      },
      "text/html": [
       "<div>                            <div id=\"f0c2ba7a-a36d-4b23-a6f5-b2a3274e24e7\" class=\"plotly-graph-div\" style=\"height:525px; width:100%;\"></div>            <script type=\"text/javascript\">                require([\"plotly\"], function(Plotly) {                    window.PLOTLYENV=window.PLOTLYENV || {};                                    if (document.getElementById(\"f0c2ba7a-a36d-4b23-a6f5-b2a3274e24e7\")) {                    Plotly.newPlot(                        \"f0c2ba7a-a36d-4b23-a6f5-b2a3274e24e7\",                        [{\"link\":{\"source\":[1,1,1,1,1,0,5,7,7,7,7,7,7,7,7,7,10,10,10,10,10,10,10,10,12,12,12,12,12,12,12,12,12,12,14,14,14,14,14,14,14,14,14,14,14,14,14,14,4,4,4,4,4,4,4,4,4,4,13,13,13,13,13,13,13,13,13,13,13,13,13,13,17,17,17,17,17,17,17,15,15,15,15,15,15,11,11,11,11,6,6,6,6,6,6,6,6,6,6,3,3,8,8,8,8,8,8,8,8,8,8,8,8,8,8,16,16,16,16,16,16,16,16,16,2,2,2,2,2,2,2,2,2,9,9],\"target\":[7,4,17,15,6,5,46,92,73,31,45,58,34,32,65,77,43,36,131,117,39,111,44,101,69,116,133,93,102,35,113,53,126,30,75,59,38,27,109,23,61,66,96,83,22,104,71,82,19,114,18,70,81,80,41,51,76,54,28,105,50,29,64,130,121,89,91,110,24,94,106,68,100,107,127,98,122,129,21,123,86,56,42,72,79,62,40,52,20,99,88,26,135,118,134,49,47,57,112,124,85,33,115,67,119,78,60,48,74,84,37,103,120,87,95,97,63,25,55,137,108,136,90,128,10,12,14,13,11,3,8,16,9,132,125],\"value\":[1278403666.0,6020599674.0,4825047657.0,1264109335.0,21847515740.0,385865693.0,385865693.0,584007461.0,95502252.0,3361701.0,3250111.0,534141407.0,18885111.0,744493.0,36334537.0,2176593.0,76143327.0,75125814.0,18840091208.0,16682687.0,1955912095.0,4837546.0,2077383738.0,7829120670.0,14734570.0,1016997.0,776879275.0,2210977.0,5411562.0,67564265.0,8048906.0,62950596.0,89505902.0,11431370.0,1014762683.0,268205727.00000003,902894409.0,2729409.0,30836865.0,254428818.0,254963964.0,966466628.0,243958468.0,1069924697.0,8178389680.0,723183776.0,4680173.0,350733276.0,214651646.0,1849745919.0,2143951974.0,595586073.0,107651250.0,29610707.0,136802641.0,6869510.0,100871544.0,834858410.0,496252215.0,218489353.0,48429240.0,931138173.0,219686975.0,258594267.0,72610903.0,537199972.0,250392920.0,815385010.0,270761990.0,6907533.0,137115504.0,224379688.00000003,987801658.0,1458989744.0,38584824.0,50147685.0,321214323.0,213796885.0,1754512538.0,530716435.0,291395769.0,121325193.0,34725907.0,281912451.0,4033580.0,13136214.0,22421585.0,368947898.0,104055145.0,51198078.0,4558786046.0,1881004640.0,4397862423.0,670437.0,5911921.0,5837263265.0,4804118781.0,296968507.0,13731642.0,26579282.0,612849153.0,13793148.0,14030.0,1686711914.0000002,473691193.0,275130249.0,16286707.0,8465326.0,411569783.0,187637258.0,169406643.0,88904464.00000001,1003857434.0,27832459631.0,214749489.0,92756666.0,123250332.0,93900156.0,248918839.0,112242355.0,123552275.0,141263023.0,144972738.0,10278837.0,30875297085.0,1039754420.0,14266158573.0,4487343743.0,508560842.0,639428435.0,32382677269.0,1091135221.0,37618799.0,35714108.0,1904691.0]},\"node\":{\"color\":[\"#4B8BBE\",\"#4B8BBE\",\"#4B8BBE\",\"#306998\",\"#306998\",\"#306998\",\"#306998\",\"#306998\",\"#306998\",\"#306998\",\"#306998\",\"#306998\",\"#306998\",\"#306998\",\"#306998\",\"#306998\",\"#306998\",\"#306998\",\"#FFE873\",\"#FFE873\",\"#FFE873\",\"#FFE873\",\"#FFE873\",\"#FFE873\",\"#FFE873\",\"#FFE873\",\"#FFE873\",\"#FFE873\",\"#FFE873\",\"#FFE873\",\"#FFE873\",\"#FFE873\",\"#FFE873\",\"#FFE873\",\"#FFE873\",\"#FFE873\",\"#FFE873\",\"#FFE873\",\"#FFE873\",\"#FFE873\",\"#FFE873\",\"#FFE873\",\"#FFE873\",\"#FFE873\",\"#FFE873\",\"#FFE873\",\"#FFE873\",\"#FFE873\",\"#FFE873\",\"#FFE873\",\"#FFE873\",\"#FFE873\",\"#FFE873\",\"#FFE873\",\"#FFE873\",\"#FFE873\",\"#FFE873\",\"#FFE873\",\"#FFE873\",\"#FFE873\",\"#FFE873\",\"#FFE873\",\"#FFE873\",\"#FFE873\",\"#FFE873\",\"#FFE873\",\"#FFE873\",\"#FFE873\",\"#FFE873\",\"#FFE873\",\"#FFE873\",\"#FFE873\",\"#FFE873\",\"#FFE873\",\"#FFE873\",\"#FFE873\",\"#FFE873\",\"#FFE873\",\"#FFE873\",\"#FFE873\",\"#FFE873\",\"#FFE873\",\"#FFE873\",\"#FFE873\",\"#FFE873\",\"#FFE873\",\"#FFE873\",\"#FFE873\",\"#FFE873\",\"#FFE873\",\"#FFE873\",\"#FFE873\",\"#FFE873\",\"#FFE873\",\"#FFE873\",\"#FFE873\",\"#FFE873\",\"#FFE873\",\"#FFE873\",\"#FFE873\",\"#FFE873\",\"#FFE873\",\"#FFE873\",\"#FFE873\",\"#FFE873\",\"#FFE873\",\"#FFE873\",\"#FFE873\",\"#FFE873\",\"#FFE873\",\"#FFE873\",\"#FFE873\",\"#FFE873\",\"#FFE873\",\"#FFE873\",\"#FFE873\",\"#FFE873\",\"#FFE873\",\"#FFE873\",\"#FFE873\",\"#FFE873\",\"#FFE873\",\"#FFE873\",\"#FFE873\",\"#FFE873\",\"#FFE873\",\"#FFE873\",\"#FFE873\",\"#FFE873\",\"#FFE873\",\"#FFE873\",\"#FFE873\",\"#FFE873\",\"#FFE873\",\"#FFE873\",\"#FFE873\",\"#FFE873\",\"#FFE873\"],\"label\":[\"Animal and Vegetable Bi-Products\",\"Animal Products\",\"Vegetable Products\",\"Natural gums, resins & other vegetable extracts\",\"Edible products of animal origin, n.e.s.\",\"Animal or vegetable fats, oils, & waxes\",\"Meat & edible offal\",\"Animal originated products, n.e.s.\",\"Oils seeds, oleaginous fruits, grains, straw & fodder\",\"Vegetable plaiting materials & products, n.e.s.\",\"Cereals\",\"Live trees, plants, bulbs, cut flowers, & ornamental foliage\",\"Coffee, tea, mate & spices\",\"Edible vegetables, roots, & tubers\",\"Edible fruits, nuts & fruit peels\",\"Live animals\",\"Products of the milling industry\",\"Fish, crustaceans, & molluscs\",\"Concentrated Milk\",\"Butter\",\"Plant foliage\",\"Non-fillet Frozen Fish\",\"Other Nuts\",\"Dried Fruits\",\"Potatoes\",\"Legume Flours\",\"Edible Offal\",\"Citrus and Melon Peels\",\"Cabbages\",\"Dried Legumes\",\"Vanilla\",\"Coral and Shells\",\"Pig Hair\",\"Cereal Straws\",\"Pharmaceutical Animal Products\",\"Pepper\",\"Buckwheat\",\"Perfume Plants\",\"Citrus\",\"Rice\",\"Cut Flowers\",\"Milk\",\"Pigs\",\"Barley\",\"Sorghum\",\"Human Hair\",\"Pig and Poultry Fat\",\"Poultry Meat\",\"Locust beans, seaweed, sugar beet, cane, for food\",\"Pig Meat\",\"Cucumbers\",\"Other Edible Animal Products\",\"Other live plants, cuttings and slips;\\nmushroom spawn\",\"Spices\",\"Whey and other milk products\",\"Malt\",\"Other Animals\",\"Preserved Meat\",\"Other Inedible Animal Products\",\"Bananas\",\"Linseed\",\"Frozen Fruits and Nuts\",\"Bulbs and Roots\",\"Cereal Meal and Pellets\",\"Dried Vegetables\",\"Processed Bones\",\"Grapes\",\"Forage Crops\",\"Tomatoes\",\"Cinnamon\",\"Eggs\",\"Preserved Fruits and Nuts\",\"Poultry\",\"Bird Feathers and Skins\",\"Oil Seed Flower\",\"Apples and Pears\",\"Processed Egg Products\",\"Raw Bones\",\"Hops\",\"Sheep and Goats\",\"Honey\",\"Fermented Milk Products\",\"Tropical Fruits\",\"Other Fruits\",\"Other Oily Seeds\",\"Vegetable Saps\",\"Horses\",\"Soybeans\",\"Bovine Meat\",\"Lettuce\",\"Wheat Flours\",\"Onions\",\"Animal Organs\",\"Mat\\u00e9\",\"Preserved Vegetables\",\"Sunflower Seeds\",\"Melons\",\"Cereal Flours\",\"Live Fish\",\"Animal Fat\",\"Crustaceans\",\"Wheat\",\"Nutmeg, mace and cardamons\",\"Rapeseed\",\"Pitted Fruits\",\"Cassava\",\"Root Vegetables\",\"Fish Fillets\",\"Processed Cereals\",\"Coconuts, Brazil Nuts, and Cashews\",\"Other Vegetables\",\"Rye\",\"Sheep and Goat Meat\",\"Spice Seeds\",\"Cheese\",\"Copra\",\"Cloves\",\"Oats\",\"Horse Meat\",\"Ground Nuts\",\"Sowing Seeds\",\"Legumes\",\"Molluscs\",\"Bovine\",\"Insect Resins\",\"Vegetable Plaiting Materials\",\"Tea\",\"Fish: dried, salted, smoked or in brine\",\"Wheat Gluten\",\"Non-fillet Fresh Fish\",\"Frozen Vegetables\",\"Corn\",\"Other Vegetable Products\",\"Coffee\",\"Other Meat\",\"Frozen Bovine Meat\",\"Starches\",\"Potato Flours\"],\"line\":{\"color\":\"black\",\"width\":0.5},\"pad\":15,\"thickness\":20},\"type\":\"sankey\"}],                        {\"font\":{\"size\":10},\"template\":{\"data\":{\"barpolar\":[{\"marker\":{\"line\":{\"color\":\"#E5ECF6\",\"width\":0.5},\"pattern\":{\"fillmode\":\"overlay\",\"size\":10,\"solidity\":0.2}},\"type\":\"barpolar\"}],\"bar\":[{\"error_x\":{\"color\":\"#2a3f5f\"},\"error_y\":{\"color\":\"#2a3f5f\"},\"marker\":{\"line\":{\"color\":\"#E5ECF6\",\"width\":0.5},\"pattern\":{\"fillmode\":\"overlay\",\"size\":10,\"solidity\":0.2}},\"type\":\"bar\"}],\"carpet\":[{\"aaxis\":{\"endlinecolor\":\"#2a3f5f\",\"gridcolor\":\"white\",\"linecolor\":\"white\",\"minorgridcolor\":\"white\",\"startlinecolor\":\"#2a3f5f\"},\"baxis\":{\"endlinecolor\":\"#2a3f5f\",\"gridcolor\":\"white\",\"linecolor\":\"white\",\"minorgridcolor\":\"white\",\"startlinecolor\":\"#2a3f5f\"},\"type\":\"carpet\"}],\"choropleth\":[{\"colorbar\":{\"outlinewidth\":0,\"ticks\":\"\"},\"type\":\"choropleth\"}],\"contourcarpet\":[{\"colorbar\":{\"outlinewidth\":0,\"ticks\":\"\"},\"type\":\"contourcarpet\"}],\"contour\":[{\"colorbar\":{\"outlinewidth\":0,\"ticks\":\"\"},\"colorscale\":[[0.0,\"#0d0887\"],[0.1111111111111111,\"#46039f\"],[0.2222222222222222,\"#7201a8\"],[0.3333333333333333,\"#9c179e\"],[0.4444444444444444,\"#bd3786\"],[0.5555555555555556,\"#d8576b\"],[0.6666666666666666,\"#ed7953\"],[0.7777777777777778,\"#fb9f3a\"],[0.8888888888888888,\"#fdca26\"],[1.0,\"#f0f921\"]],\"type\":\"contour\"}],\"heatmapgl\":[{\"colorbar\":{\"outlinewidth\":0,\"ticks\":\"\"},\"colorscale\":[[0.0,\"#0d0887\"],[0.1111111111111111,\"#46039f\"],[0.2222222222222222,\"#7201a8\"],[0.3333333333333333,\"#9c179e\"],[0.4444444444444444,\"#bd3786\"],[0.5555555555555556,\"#d8576b\"],[0.6666666666666666,\"#ed7953\"],[0.7777777777777778,\"#fb9f3a\"],[0.8888888888888888,\"#fdca26\"],[1.0,\"#f0f921\"]],\"type\":\"heatmapgl\"}],\"heatmap\":[{\"colorbar\":{\"outlinewidth\":0,\"ticks\":\"\"},\"colorscale\":[[0.0,\"#0d0887\"],[0.1111111111111111,\"#46039f\"],[0.2222222222222222,\"#7201a8\"],[0.3333333333333333,\"#9c179e\"],[0.4444444444444444,\"#bd3786\"],[0.5555555555555556,\"#d8576b\"],[0.6666666666666666,\"#ed7953\"],[0.7777777777777778,\"#fb9f3a\"],[0.8888888888888888,\"#fdca26\"],[1.0,\"#f0f921\"]],\"type\":\"heatmap\"}],\"histogram2dcontour\":[{\"colorbar\":{\"outlinewidth\":0,\"ticks\":\"\"},\"colorscale\":[[0.0,\"#0d0887\"],[0.1111111111111111,\"#46039f\"],[0.2222222222222222,\"#7201a8\"],[0.3333333333333333,\"#9c179e\"],[0.4444444444444444,\"#bd3786\"],[0.5555555555555556,\"#d8576b\"],[0.6666666666666666,\"#ed7953\"],[0.7777777777777778,\"#fb9f3a\"],[0.8888888888888888,\"#fdca26\"],[1.0,\"#f0f921\"]],\"type\":\"histogram2dcontour\"}],\"histogram2d\":[{\"colorbar\":{\"outlinewidth\":0,\"ticks\":\"\"},\"colorscale\":[[0.0,\"#0d0887\"],[0.1111111111111111,\"#46039f\"],[0.2222222222222222,\"#7201a8\"],[0.3333333333333333,\"#9c179e\"],[0.4444444444444444,\"#bd3786\"],[0.5555555555555556,\"#d8576b\"],[0.6666666666666666,\"#ed7953\"],[0.7777777777777778,\"#fb9f3a\"],[0.8888888888888888,\"#fdca26\"],[1.0,\"#f0f921\"]],\"type\":\"histogram2d\"}],\"histogram\":[{\"marker\":{\"pattern\":{\"fillmode\":\"overlay\",\"size\":10,\"solidity\":0.2}},\"type\":\"histogram\"}],\"mesh3d\":[{\"colorbar\":{\"outlinewidth\":0,\"ticks\":\"\"},\"type\":\"mesh3d\"}],\"parcoords\":[{\"line\":{\"colorbar\":{\"outlinewidth\":0,\"ticks\":\"\"}},\"type\":\"parcoords\"}],\"pie\":[{\"automargin\":true,\"type\":\"pie\"}],\"scatter3d\":[{\"line\":{\"colorbar\":{\"outlinewidth\":0,\"ticks\":\"\"}},\"marker\":{\"colorbar\":{\"outlinewidth\":0,\"ticks\":\"\"}},\"type\":\"scatter3d\"}],\"scattercarpet\":[{\"marker\":{\"colorbar\":{\"outlinewidth\":0,\"ticks\":\"\"}},\"type\":\"scattercarpet\"}],\"scattergeo\":[{\"marker\":{\"colorbar\":{\"outlinewidth\":0,\"ticks\":\"\"}},\"type\":\"scattergeo\"}],\"scattergl\":[{\"marker\":{\"colorbar\":{\"outlinewidth\":0,\"ticks\":\"\"}},\"type\":\"scattergl\"}],\"scattermapbox\":[{\"marker\":{\"colorbar\":{\"outlinewidth\":0,\"ticks\":\"\"}},\"type\":\"scattermapbox\"}],\"scatterpolargl\":[{\"marker\":{\"colorbar\":{\"outlinewidth\":0,\"ticks\":\"\"}},\"type\":\"scatterpolargl\"}],\"scatterpolar\":[{\"marker\":{\"colorbar\":{\"outlinewidth\":0,\"ticks\":\"\"}},\"type\":\"scatterpolar\"}],\"scatter\":[{\"fillpattern\":{\"fillmode\":\"overlay\",\"size\":10,\"solidity\":0.2},\"type\":\"scatter\"}],\"scatterternary\":[{\"marker\":{\"colorbar\":{\"outlinewidth\":0,\"ticks\":\"\"}},\"type\":\"scatterternary\"}],\"surface\":[{\"colorbar\":{\"outlinewidth\":0,\"ticks\":\"\"},\"colorscale\":[[0.0,\"#0d0887\"],[0.1111111111111111,\"#46039f\"],[0.2222222222222222,\"#7201a8\"],[0.3333333333333333,\"#9c179e\"],[0.4444444444444444,\"#bd3786\"],[0.5555555555555556,\"#d8576b\"],[0.6666666666666666,\"#ed7953\"],[0.7777777777777778,\"#fb9f3a\"],[0.8888888888888888,\"#fdca26\"],[1.0,\"#f0f921\"]],\"type\":\"surface\"}],\"table\":[{\"cells\":{\"fill\":{\"color\":\"#EBF0F8\"},\"line\":{\"color\":\"white\"}},\"header\":{\"fill\":{\"color\":\"#C8D4E3\"},\"line\":{\"color\":\"white\"}},\"type\":\"table\"}]},\"layout\":{\"annotationdefaults\":{\"arrowcolor\":\"#2a3f5f\",\"arrowhead\":0,\"arrowwidth\":1},\"autotypenumbers\":\"strict\",\"coloraxis\":{\"colorbar\":{\"outlinewidth\":0,\"ticks\":\"\"}},\"colorscale\":{\"diverging\":[[0,\"#8e0152\"],[0.1,\"#c51b7d\"],[0.2,\"#de77ae\"],[0.3,\"#f1b6da\"],[0.4,\"#fde0ef\"],[0.5,\"#f7f7f7\"],[0.6,\"#e6f5d0\"],[0.7,\"#b8e186\"],[0.8,\"#7fbc41\"],[0.9,\"#4d9221\"],[1,\"#276419\"]],\"sequential\":[[0.0,\"#0d0887\"],[0.1111111111111111,\"#46039f\"],[0.2222222222222222,\"#7201a8\"],[0.3333333333333333,\"#9c179e\"],[0.4444444444444444,\"#bd3786\"],[0.5555555555555556,\"#d8576b\"],[0.6666666666666666,\"#ed7953\"],[0.7777777777777778,\"#fb9f3a\"],[0.8888888888888888,\"#fdca26\"],[1.0,\"#f0f921\"]],\"sequentialminus\":[[0.0,\"#0d0887\"],[0.1111111111111111,\"#46039f\"],[0.2222222222222222,\"#7201a8\"],[0.3333333333333333,\"#9c179e\"],[0.4444444444444444,\"#bd3786\"],[0.5555555555555556,\"#d8576b\"],[0.6666666666666666,\"#ed7953\"],[0.7777777777777778,\"#fb9f3a\"],[0.8888888888888888,\"#fdca26\"],[1.0,\"#f0f921\"]]},\"colorway\":[\"#636efa\",\"#EF553B\",\"#00cc96\",\"#ab63fa\",\"#FFA15A\",\"#19d3f3\",\"#FF6692\",\"#B6E880\",\"#FF97FF\",\"#FECB52\"],\"font\":{\"color\":\"#2a3f5f\"},\"geo\":{\"bgcolor\":\"white\",\"lakecolor\":\"white\",\"landcolor\":\"#E5ECF6\",\"showlakes\":true,\"showland\":true,\"subunitcolor\":\"white\"},\"hoverlabel\":{\"align\":\"left\"},\"hovermode\":\"closest\",\"mapbox\":{\"style\":\"light\"},\"paper_bgcolor\":\"white\",\"plot_bgcolor\":\"#E5ECF6\",\"polar\":{\"angularaxis\":{\"gridcolor\":\"white\",\"linecolor\":\"white\",\"ticks\":\"\"},\"bgcolor\":\"#E5ECF6\",\"radialaxis\":{\"gridcolor\":\"white\",\"linecolor\":\"white\",\"ticks\":\"\"}},\"scene\":{\"xaxis\":{\"backgroundcolor\":\"#E5ECF6\",\"gridcolor\":\"white\",\"gridwidth\":2,\"linecolor\":\"white\",\"showbackground\":true,\"ticks\":\"\",\"zerolinecolor\":\"white\"},\"yaxis\":{\"backgroundcolor\":\"#E5ECF6\",\"gridcolor\":\"white\",\"gridwidth\":2,\"linecolor\":\"white\",\"showbackground\":true,\"ticks\":\"\",\"zerolinecolor\":\"white\"},\"zaxis\":{\"backgroundcolor\":\"#E5ECF6\",\"gridcolor\":\"white\",\"gridwidth\":2,\"linecolor\":\"white\",\"showbackground\":true,\"ticks\":\"\",\"zerolinecolor\":\"white\"}},\"shapedefaults\":{\"line\":{\"color\":\"#2a3f5f\"}},\"ternary\":{\"aaxis\":{\"gridcolor\":\"white\",\"linecolor\":\"white\",\"ticks\":\"\"},\"baxis\":{\"gridcolor\":\"white\",\"linecolor\":\"white\",\"ticks\":\"\"},\"bgcolor\":\"#E5ECF6\",\"caxis\":{\"gridcolor\":\"white\",\"linecolor\":\"white\",\"ticks\":\"\"}},\"title\":{\"x\":0.05},\"xaxis\":{\"automargin\":true,\"gridcolor\":\"white\",\"linecolor\":\"white\",\"ticks\":\"\",\"title\":{\"standoff\":15},\"zerolinecolor\":\"white\",\"zerolinewidth\":2},\"yaxis\":{\"automargin\":true,\"gridcolor\":\"white\",\"linecolor\":\"white\",\"ticks\":\"\",\"title\":{\"standoff\":15},\"zerolinecolor\":\"white\",\"zerolinewidth\":2}}},\"title\":{\"text\":\"Aniaml and vegetable products\"}},                        {\"responsive\": true}                    ).then(function(){\n",
       "                            \n",
       "var gd = document.getElementById('f0c2ba7a-a36d-4b23-a6f5-b2a3274e24e7');\n",
       "var x = new MutationObserver(function (mutations, observer) {{\n",
       "        var display = window.getComputedStyle(gd).display;\n",
       "        if (!display || display === 'none') {{\n",
       "            console.log([gd, 'removed!']);\n",
       "            Plotly.purge(gd);\n",
       "            observer.disconnect();\n",
       "        }}\n",
       "}});\n",
       "\n",
       "// Listen for the removal of the full notebook cells\n",
       "var notebookContainer = gd.closest('#notebook-container');\n",
       "if (notebookContainer) {{\n",
       "    x.observe(notebookContainer, {childList: true});\n",
       "}}\n",
       "\n",
       "// Listen for the clearing of the current output cell\n",
       "var outputEl = gd.closest('.output');\n",
       "if (outputEl) {{\n",
       "    x.observe(outputEl, {childList: true});\n",
       "}}\n",
       "\n",
       "                        })                };                });            </script>        </div>"
      ]
     },
     "metadata": {},
     "output_type": "display_data"
    }
   ],
   "source": [
    "# to make notebook work offline\n",
    "from plotly.offline import iplot, init_notebook_mode\n",
    "init_notebook_mode(connected=True)\n",
    "sank = genSankey(df[:120],category_column=['Section','HS2','HS4'],value_column='Trade Value',title='Aniaml and vegetable products')\n",
    "\n",
    "fig4 = go.Figure(sank)\n",
    "iplot(fig4)"
   ]
  }
 ],
 "metadata": {
  "kernelspec": {
   "display_name": "base",
   "language": "python",
   "name": "python3"
  },
  "language_info": {
   "codemirror_mode": {
    "name": "ipython",
    "version": 3
   },
   "file_extension": ".py",
   "mimetype": "text/x-python",
   "name": "python",
   "nbconvert_exporter": "python",
   "pygments_lexer": "ipython3",
   "version": "3.8.5"
  },
  "orig_nbformat": 4,
  "vscode": {
   "interpreter": {
    "hash": "b8852bf7065d92db2f6966151132ba1e50ca41e9ca611ed28eb0949d6b1a3ee4"
   }
  }
 },
 "nbformat": 4,
 "nbformat_minor": 2
}
